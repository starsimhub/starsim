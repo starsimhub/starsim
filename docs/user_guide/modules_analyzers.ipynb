{
 "cells": [
  {
   "cell_type": "markdown",
   "id": "2b9940bf",
   "metadata": {},
   "source": [
    "# Analyzers"
   ]
  },
  {
   "cell_type": "markdown",
   "id": "17f9cc01",
   "metadata": {},
   "source": [
    "Each Starsim module can have its own results, which get added to the full list of results in the Sim object. For example, the `ss.Pregnancy` module adds results like `sim.results.pregnancy.pregnant`, and the `ss.HIV` module adds results like `sim.results.hiv.new_infections`. If you are writing your own module, you can add whatever custom results you want. However, another option is to create an `Analyzer` to store results that you might need for one particular analysis but won't need all the time. An `Analyzer` is very similar to other Starsim modules in its structure, but the general idea of an analyzer is that it gets called at the end of a timestep, and reports of the state of things after everything else has been updated without changing any of the module states itself.\n"
   ]
  },
  {
   "cell_type": "markdown",
   "id": "9c34dcc8",
   "metadata": {},
   "source": [
    "## Simple usage\n",
    "\n",
    "For simple reporting, it's possible to use a single function as an analyzer. In this case, the function receives a single argument, `sim`, which it has full access to. For example, if you wanted to know the number of connections in the network on each timestep, you could write a small analyzer as follows:"
   ]
  },
  {
   "cell_type": "code",
   "execution_count": null,
   "id": "306a385e",
   "metadata": {},
   "outputs": [],
   "source": [
    "import numpy as np\n",
    "import starsim as ss\n",
    "import matplotlib.pyplot as plt\n",
    "ss.options(jupyter=True)\n",
    "\n",
    "# Store the number of edges\n",
    "n_edges = []\n",
    "\n",
    "def count_edges(sim):\n",
    "    \"\"\" Print out the number of edges in the network on each timestep \"\"\"\n",
    "    network = sim.networks[0] # Get the first network\n",
    "    n = len(network)\n",
    "    n_edges.append(n)\n",
    "    print(f'Number of edges for network {network.name} on step {sim.ti}: {n}')\n",
    "    return\n",
    "\n",
    "# Create the sim\n",
    "pars = dict(\n",
    "    diseases = 'sis',\n",
    "    networks = 'mf',\n",
    "    analyzers = count_edges,\n",
    "    demographics = True,\n",
    ")\n",
    "\n",
    "# Run the sim\n",
    "sim = ss.Sim(pars).run()\n",
    "sim.plot()\n",
    "\n",
    "# Plot the number of edges\n",
    "plt.figure()\n",
    "plt.plot(sim.timevec, n_edges)\n",
    "plt.title('Number of edges over time')\n",
    "plt.ylim(bottom=0)\n",
    "plt.show()"
   ]
  },
  {
   "cell_type": "markdown",
   "id": "79869fb8",
   "metadata": {},
   "source": [
    "## Advanced usage\n",
    "\n",
    "Suppose we wanted to create an analyzer that would report on the number of new HIV infections in pregnant women:\n"
   ]
  },
  {
   "cell_type": "code",
   "execution_count": null,
   "id": "639d87f1",
   "metadata": {},
   "outputs": [],
   "source": [
    "import starsim as ss\n",
    "import starsim_examples as sse\n",
    "import pandas as pd\n",
    "\n",
    "class HIV_preg(ss.Analyzer):\n",
    "    def __init__(self, *args, **kwargs):\n",
    "        super().__init__(*args, **kwargs)\n",
    "        return\n",
    "    \n",
    "    def init_results(self):\n",
    "        super().init_results()\n",
    "        self.define_results(\n",
    "            ss.Result('new_infections_pregnancy'),\n",
    "        )\n",
    "        return\n",
    "\n",
    "    def step(self):\n",
    "        sim = self.sim\n",
    "        ti = sim.ti\n",
    "        hiv = sim.diseases.hiv\n",
    "        pregnant = sim.demographics.pregnancy.pregnant\n",
    "        newly_infected = hiv.ti_infected == ti\n",
    "        self.results['new_infections_pregnancy'][ti] = len((newly_infected & pregnant).uids)\n",
    "        return\n",
    "\n",
    "pregnancy = ss.Pregnancy(fertility_rate=pd.read_csv('test_data/nigeria_asfr.csv'))\n",
    "hiv = sse.HIV(beta={'mfnet':[0.5,0.25]})\n",
    "sim = ss.Sim(diseases=hiv, networks='mfnet', demographics=pregnancy, analyzers=HIV_preg())\n",
    "sim.run()\n",
    "print(f'Total infections among pregnant women: {sim.results.hiv_preg.new_infections_pregnancy.sum()}')"
   ]
  },
  {
   "cell_type": "markdown",
   "id": "69d050f3",
   "metadata": {},
   "source": [
    "Analyzers are ideal for adding custom results, and because they get added to the sim in the same way as any other result, they also get automatically exported in the same format, e.g. using `sim.to_df()`.\n",
    "\n",
    "Here's a plot of the results from our HIV in pregnancy analyzer:"
   ]
  },
  {
   "cell_type": "code",
   "execution_count": null,
   "id": "29072323",
   "metadata": {},
   "outputs": [],
   "source": [
    "import matplotlib.pyplot as plt\n",
    "\n",
    "res = sim.results.hiv_preg\n",
    "\n",
    "plt.figure()\n",
    "plt.bar(res.timevec.years, res.new_infections_pregnancy)\n",
    "plt.title('HIV infections acquired during pregnancy')\n",
    "plt.show()"
   ]
  },
  {
   "cell_type": "markdown",
   "id": "a72caa92",
   "metadata": {},
   "source": [
    "## Built-in analyzers\n",
    "\n",
    "Starsim comes with two built-in analyzers, an infection log and an age analyzer.\n"
   ]
  },
  {
   "cell_type": "markdown",
   "id": "f92ea1a4",
   "metadata": {},
   "source": [
    "### Infection log\n",
    "\n",
    "The infection log produces a line list of infections. It's integrated into the logic of `ss.Disease` in order to track infection sources and targets, which are not kept beyond this (for memory reasons)."
   ]
  },
  {
   "cell_type": "code",
   "execution_count": null,
   "id": "3833d9bc",
   "metadata": {},
   "outputs": [],
   "source": [
    "# Demonstrate infection log\n",
    "sim = ss.Sim(n_agents=1000, dt=0.2, dur=15, diseases='sir', networks='random', analyzers='infection_log')\n",
    "sim.run()\n",
    "infection_log = sim.analyzers[0]\n",
    "infection_log.plot()"
   ]
  },
  {
   "cell_type": "markdown",
   "id": "04c23d1d",
   "metadata": {},
   "source": [
    "You can see how this raster plot aligns with the peak of infections:"
   ]
  },
  {
   "cell_type": "code",
   "execution_count": null,
   "id": "5842768b",
   "metadata": {},
   "outputs": [],
   "source": [
    "sim.diseases.sir.plot()"
   ]
  },
  {
   "cell_type": "markdown",
   "id": "ba23d1a3",
   "metadata": {},
   "source": [
    "(Note: `ss.infection_log()` also has an `.animate()` method, which we will leave for you to try out!)"
   ]
  },
  {
   "cell_type": "markdown",
   "id": "4f953981",
   "metadata": {},
   "source": [
    "### Dynamics by age\n",
    "\n",
    "This analyzer illustrates how you could track infections by age. Since it illustrates some additional key principles of building analyzers, here it is in full:"
   ]
  },
  {
   "cell_type": "code",
   "execution_count": null,
   "id": "7d104b43",
   "metadata": {},
   "outputs": [],
   "source": [
    "class dynamics_by_age(ss.Analyzer):\n",
    "    def __init__(self, state, age_bins=(0, 20, 40, 100)):\n",
    "        super().__init__()\n",
    "        self.state = state\n",
    "        self.age_bins = age_bins\n",
    "        self.mins = age_bins[:-1]\n",
    "        self.maxes = age_bins[1:]\n",
    "        self.hist = {k: [] for k in self.mins}\n",
    "        return\n",
    "\n",
    "    def step(self):\n",
    "        people = self.sim.people\n",
    "        for min, max in zip(self.mins, self.maxes):\n",
    "            mask = (people.age >= min) & (people.age < max)\n",
    "            self.hist[min].append(people.states[self.state][mask].sum())\n",
    "        return\n",
    "\n",
    "    def finalize_results(self):\n",
    "        \"\"\" Convert to an array \"\"\"\n",
    "        super().finalize_results()\n",
    "        for k,hist in self.hist.items():\n",
    "            self.hist[k] = np.array(hist)\n",
    "        return\n",
    "\n",
    "    def plot(self, **kwargs):\n",
    "        kw = ss.plot_args(kwargs)\n",
    "        with ss.style(**kw.style):\n",
    "            fig = plt.figure(**kw.fig)\n",
    "            for minage, maxage in zip(self.mins, self.maxes):\n",
    "                plt.plot(self.sim.t.timevec, self.hist[minage], label=f'Age {minage}-{maxage}', **kw.plot)\n",
    "            plt.legend(**kw.legend)\n",
    "            plt.xlabel('Model time')\n",
    "            plt.ylabel('Count')\n",
    "            plt.ylim(bottom=0)\n",
    "        return ss.return_fig(fig, **kw.return_fig)\n",
    "\n",
    "# Demonstrate\n",
    "by_age = dynamics_by_age('sis.infected', age_bins=(0, 10, 30, 100))\n",
    "sim = ss.Sim(diseases='sis', networks='random', analyzers=by_age, copy_inputs=False)\n",
    "sim.run()\n",
    "by_age.plot()"
   ]
  },
  {
   "cell_type": "markdown",
   "id": "bbae26da",
   "metadata": {},
   "source": [
    "Since we are using a random network, we wouldn't expect any differences in transission by age, so what you're seeing here is the difference in age bin size."
   ]
  }
 ],
 "metadata": {
  "kernelspec": {
   "display_name": "base",
   "language": "python",
   "name": "python3"
  },
  "language_info": {
   "codemirror_mode": {
    "name": "ipython",
    "version": 3
   },
   "file_extension": ".py",
   "mimetype": "text/x-python",
   "name": "python",
   "nbconvert_exporter": "python",
   "pygments_lexer": "ipython3",
   "version": "3.12.10"
  }
 },
 "nbformat": 4,
 "nbformat_minor": 5
}
