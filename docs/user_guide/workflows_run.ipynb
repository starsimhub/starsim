{
 "cells": [
  {
   "cell_type": "markdown",
   "id": "dd65a1f9",
   "metadata": {},
   "source": [
    "# Multiple runs\n",
    "\n",
    "Let's be honest, there isn't much you can do with a single sim run. So 99.9% of the time, you'll be wanting to run multiple simulations and compare them.\n",
    "\n",
    "The easiest way to do this is with `ss.parallel()`, which, as the name suggests, runs the sim in parallel on your computer using all available cores. Let's say we want to see what difference swapping the network makes:"
   ]
  },
  {
   "cell_type": "code",
   "execution_count": null,
   "id": "483cc98f",
   "metadata": {},
   "outputs": [],
   "source": [
    "import starsim as ss\n",
    "ss.options(jupyter=True) # Improve plot resolution\n",
    "\n",
    "sim1 = ss.Sim(label='random', diseases='sis', networks='random')\n",
    "sim2 = ss.Sim(label='randomsafe', diseases='sis', networks='randomsafe')\n",
    "msim = ss.parallel(sim1, sim2)\n",
    "msim.plot()"
   ]
  },
  {
   "cell_type": "markdown",
   "id": "e4e60e9f",
   "metadata": {},
   "source": [
    "`ss.parallel()` is just a wrapper for `ss.MultiSim().run()` (and note how we can pass arguments to all of the sims, e.g. `verbose=0` here):"
   ]
  },
  {
   "cell_type": "code",
   "execution_count": null,
   "id": "c1b72b99",
   "metadata": {},
   "outputs": [],
   "source": [
    "sim1 = ss.Sim(diseases='sis', networks='random')\n",
    "sim2 = ss.Sim(diseases='sis', networks='randomsafe')\n",
    "msim = ss.MultiSim(sims=[sim1, sim2]).run(verbose=0)\n",
    "msim.plot()"
   ]
  },
  {
   "cell_type": "markdown",
   "id": "d4f43f69",
   "metadata": {},
   "source": [
    "In most cases, this is the most efficient workflow: make some sims (potentially via a loop), and then run them. But there are some other common workflows as well. One is to run the same simulation with different random seeds. This is what happens by default if you call `ss.MultiSim()` with a single sim:"
   ]
  },
  {
   "cell_type": "code",
   "execution_count": null,
   "id": "b8ecfddd",
   "metadata": {},
   "outputs": [],
   "source": [
    "sim = ss.Sim(n_agents=2000, diseases='sir', networks='random', verbose=0)\n",
    "msim = ss.MultiSim(sim).run()\n",
    "msim.plot()"
   ]
  },
  {
   "cell_type": "markdown",
   "id": "d7975cb6",
   "metadata": {},
   "source": [
    "In addition to plotting the individual sims, we can quickly compute stats on the sim by calling `msim.mean()` or `msim.median()` (or more generally, `msim.reduce()` if we want to specify e.g. quantiles):"
   ]
  },
  {
   "cell_type": "code",
   "execution_count": null,
   "id": "7c306b79",
   "metadata": {},
   "outputs": [],
   "source": [
    "msim.mean()\n",
    "msim.plot()"
   ]
  },
  {
   "cell_type": "markdown",
   "id": "a2eaceae",
   "metadata": {},
   "source": [
    "This looks a little wonky because the error bounds shown are ±2 standard deviations, but we know things like deaths can't go negative. In cases like this, we get more reasonable results with `median()`, which by default shows the 10th and 90th quantiles:"
   ]
  },
  {
   "cell_type": "code",
   "execution_count": null,
   "id": "c0c6f8a9",
   "metadata": {},
   "outputs": [],
   "source": [
    "msim.median()\n",
    "msim.plot()"
   ]
  },
  {
   "cell_type": "markdown",
   "id": "235bcd0c",
   "metadata": {},
   "source": [
    "## Copies\n",
    "\n",
    "Both `ss.Sim` and `ss.MultiSim` objects let you control whether or not the objects passed into them are copied. By default, sims _do_ copy inputs and multisims _don't_. Let's look at a few examples.\n",
    "\n",
    "Sims copy inputs by default because it's common to want to reuse a module between sims, which wouldn't be allowed if it wasn't copied (since it's modified in place during run). For example:"
   ]
  },
  {
   "cell_type": "code",
   "execution_count": null,
   "id": "43b84dc4",
   "metadata": {},
   "outputs": [],
   "source": [
    "sis = ss.SIS(beta=0.1)\n",
    "\n",
    "s1 = ss.Sim(label='Low contacts', diseases=sis, networks=ss.RandomNet(n_contacts=5))\n",
    "s2 = ss.Sim(label='High contacts', diseases=sis, networks=ss.RandomNet(n_contacts=10))\n",
    "ss.parallel(s1, s2).plot()"
   ]
  },
  {
   "cell_type": "markdown",
   "id": "72272ed2",
   "metadata": {},
   "source": [
    "But this can be confusing, because it means the `sis` in the simulation is a different object than the `sis` you created. If you want to keep it the same, set `copy_inputs=False`, for example, to use it directly afterwards:"
   ]
  },
  {
   "cell_type": "code",
   "execution_count": null,
   "id": "ed9e5cb6",
   "metadata": {},
   "outputs": [],
   "source": [
    "sir = ss.SIR(beta=0.035)\n",
    "sim = ss.Sim(diseases=sir, networks='random', copy_inputs=False)\n",
    "sim.run()\n",
    "sir.plot() # This wouldn't work without copy_inputs=False"
   ]
  },
  {
   "cell_type": "markdown",
   "id": "8e0c9a8e",
   "metadata": {},
   "source": [
    "Conversely, `ss.MultiSim()` by default does _not_ copy the input sims, so they are modified in place:"
   ]
  },
  {
   "cell_type": "code",
   "execution_count": null,
   "id": "00198aa8",
   "metadata": {},
   "outputs": [],
   "source": [
    "s1 = ss.Sim(diseases='sis', networks='random')\n",
    "s2 = ss.Sim(diseases='sir', networks='random')\n",
    "ss.parallel(s1, s2, verbose=0)\n",
    "\n",
    "s1.plot() # This also works, because it was run in place"
   ]
  },
  {
   "cell_type": "markdown",
   "id": "ad1710a5",
   "metadata": {},
   "source": [
    "If you want to copy the sims before run, then set `inplace=False`:"
   ]
  },
  {
   "cell_type": "code",
   "execution_count": null,
   "id": "1258e25b",
   "metadata": {},
   "outputs": [],
   "source": [
    "s1 = ss.Sim(diseases='sis', networks='random')\n",
    "s2 = ss.Sim(diseases='sir', networks='random')\n",
    "ss.parallel(s1, s2, verbose=0, inplace=False)\n",
    "\n",
    "s1.run().plot() # This now works, because the sim was *not* run in place"
   ]
  },
  {
   "cell_type": "markdown",
   "id": "e09e7773",
   "metadata": {},
   "source": [
    "## Advanced workflows\n",
    "\n",
    "A common pattern for more complex workflows is to write `make_sim()`. The example below, based on an STIsim application, shows how complex a `make_sim()` function can get (this is, after all, where most of the science happens!):\n",
    "\n",
    "```py\n",
    "def make_sim(seed=1, n_agents=None, start=1990, stop=2030, debug=False, add_stis=True, scenario='treat'):\n",
    "\n",
    "    total_pop = {1970: 5.203e6, 1980: 7.05e6, 1985: 8.691e6, 1990: 9980999, 2000: 11.83e6}[start]\n",
    "    if n_agents is None: n_agents = [int(10e3), int(5e2)][debug]\n",
    "    if dt is None: dt = [1/12, 1][debug]\n",
    "\n",
    "    # Demographic modules\n",
    "    fertility_data = pd.read_csv(f'data/asfr.csv')\n",
    "    pregnancy = ss.Pregnancy(dt='month', fertility_rate=fertility_data)\n",
    "    death_data = pd.read_csv(f'data/deaths.csv')\n",
    "    death = ss.Deaths(death_rate=death_data, rate_units=1)\n",
    "\n",
    "    # People and networks\n",
    "    ppl = ss.People(n_agents, age_data=pd.read_csv(f'data/age_dist_{start}.csv', index_col='age')['value'])\n",
    "    sexual = sti.FastStructuredSexual(\n",
    "        prop_f0=0.79,\n",
    "        prop_m0=0.83,\n",
    "        f1_conc=0.16,\n",
    "        m1_conc=0.11,\n",
    "        p_pair_form=0.58,\n",
    "        condom_data=pd.read_csv(f'data/condom_use.csv'),\n",
    "    )\n",
    "    maternal = ss.MaternalNet(dt='month')\n",
    "\n",
    "    # Diseases\n",
    "    hiv = make_hiv()\n",
    "    diseases = [hiv]\n",
    "    if add_stis:\n",
    "        ng, ct, tv, bv = make_stis()\n",
    "        stis = [ng, ct, tv, bv]\n",
    "        diseases += stis  # Add the STIs to the list of diseases\n",
    "\n",
    "    # Interventions and analyzers\n",
    "    intvs = make_hiv_intvs()\n",
    "    if add_stis:\n",
    "        intvs += make_testing(ng, ct, tv, bv, scenario=scenario, poc=poc, stop=stop)\n",
    "        connectors = [sti.hiv_ng(hiv, ng), sti.hiv_ct(hiv, ct), sti.hiv_tv(hiv, tv)]\n",
    "    else:\n",
    "        connectors = []\n",
    "\n",
    "    if analyzers is None:\n",
    "        analyzers = [sti.sw_stats(diseases=['ng', 'ct', 'tv']), ts()]\n",
    "\n",
    "    # Actually create the sim\n",
    "    sim = ss.Sim(\n",
    "        dt=dt,\n",
    "        rand_seed=seed,\n",
    "        total_pop=total_pop,\n",
    "        start=start,\n",
    "        stop=stop,\n",
    "        people=ppl,\n",
    "        diseases=diseases,\n",
    "        networks=[sexual, maternal],\n",
    "        demographics=[pregnancy, death],\n",
    "        interventions=intvs,\n",
    "        analyzers=analyzers,\n",
    "        connectors=connectors,\n",
    "    )\n",
    "\n",
    "    # Store scenario\n",
    "    sim.scenario = scenario\n",
    "    return sim\n",
    "```\n",
    "\n",
    "If your `make_sim()` function is computationally expensive, you can parallelize it using `sc.parallelize()`, e.g.\n",
    "\n",
    "```py\n",
    "# Make the arguments\n",
    "iterkwargs = []\n",
    "for seed in range(100):\n",
    "    for n_agents in [1e3, 2e3, 5e3, 10e3]:\n",
    "        iterkwargs.append(dict(seed=seed, n_agents=n_agents))\n",
    "\n",
    "# Make the sims\n",
    "sims = sc.parallelize(make_sim, iterkwargs=iterkwargs)\n",
    "```"
   ]
  }
 ],
 "metadata": {
  "kernelspec": {
   "display_name": "base",
   "language": "python",
   "name": "python3"
  },
  "language_info": {
   "codemirror_mode": {
    "name": "ipython",
    "version": 3
   },
   "file_extension": ".py",
   "mimetype": "text/x-python",
   "name": "python",
   "nbconvert_exporter": "python",
   "pygments_lexer": "ipython3",
   "version": "3.12.10"
  }
 },
 "nbformat": 4,
 "nbformat_minor": 5
}
