{
 "cells": [
  {
   "cell_type": "markdown",
   "id": "dd65a1f9",
   "metadata": {},
   "source": [
    "# Multiple runs\n",
    "\n",
    "Let's be honest, there isn't much you can do with a single sim run. So 99.9% of the time, you'll be wanting to run multiple simulations and compare them.\n",
    "\n",
    "The easiest way to do this is with `ss.parallel()`. Let's say we want to see what difference swapping the network makes:"
   ]
  },
  {
   "cell_type": "code",
   "execution_count": null,
   "id": "483cc98f",
   "metadata": {},
   "outputs": [],
   "source": [
    "import starsim as ss\n",
    "ss.options(jupyter=True) # Improve plot resolution\n",
    "\n",
    "sim1 = ss.Sim(diseases='sis', networks='random')\n",
    "sim2 = ss.Sim(diseases='sis', networks='randomsafe')\n",
    "msim = ss.parallel(sim1, sim2)\n",
    "msim.plot()"
   ]
  },
  {
   "cell_type": "markdown",
   "id": "e4e60e9f",
   "metadata": {},
   "source": [
    "`ss.parallel()` is just a wrapper for `ss.MultiSim().run()`:"
   ]
  },
  {
   "cell_type": "code",
   "execution_count": null,
   "id": "c1b72b99",
   "metadata": {},
   "outputs": [],
   "source": [
    "sim1 = ss.Sim(diseases='sis', networks='random')\n",
    "sim2 = ss.Sim(diseases='sis', networks='randomsafe')\n",
    "msim = ss.MultiSim(sims=[sim1, sim2]).run()\n",
    "msim.plot()"
   ]
  },
  {
   "cell_type": "markdown",
   "id": "d4f43f69",
   "metadata": {},
   "source": [
    "In most cases, this is the most efficient workflow: make some sims (potentially via a loop), and then run them. But there are some other common workflows as well. One is to run the same simulation with different random seeds. This is what happens by default if you call `ss.MultiSim()` with a single sim:"
   ]
  },
  {
   "cell_type": "code",
   "execution_count": null,
   "id": "b8ecfddd",
   "metadata": {},
   "outputs": [],
   "source": [
    "sim = ss.Sim(n_agents=2000, diseases='sir', networks='random', verbose=-1)\n",
    "msim = ss.MultiSim(sim).run()\n",
    "msim.plot()"
   ]
  },
  {
   "cell_type": "markdown",
   "id": "d7975cb6",
   "metadata": {},
   "source": [
    "In addition to plotting the individual sims, we can quickly compute stats on the sim by calling `msim.mean()` or `msim.median()` (or more generally, `msim.reduce()` if we want to specify e.g. quantiles):"
   ]
  },
  {
   "cell_type": "code",
   "execution_count": null,
   "id": "7c306b79",
   "metadata": {},
   "outputs": [],
   "source": [
    "msim.mean()\n",
    "msim.plot()"
   ]
  },
  {
   "cell_type": "markdown",
   "id": "a2eaceae",
   "metadata": {},
   "source": [
    "This looks a little wonky because the error bounds shown are ±2 standard deviations, but we know things like deaths can't go negative. In cases like this, we get more reasonable results with `median()`, which by default shows the 10th and 90th quantiles:"
   ]
  },
  {
   "cell_type": "code",
   "execution_count": null,
   "id": "c0c6f8a9",
   "metadata": {},
   "outputs": [],
   "source": [
    "msim.median()\n",
    "msim.plot()"
   ]
  },
  {
   "cell_type": "markdown",
   "id": "235bcd0c",
   "metadata": {},
   "source": [
    "## Copies\n",
    "\n",
    "Both `ss.Sim` and `ss.MultiSim` objects let you control whether or not the objects passed into them are copied. By default, sims _do_ copy inputs and multisims _don't_. Let's look at a few examples.\n",
    "\n",
    "Sims copy inputs by default because it's common to want to reuse a module between sims, which wouldn't be allowed if it wasn't copied (since it's modified in place during run). For example:"
   ]
  },
  {
   "cell_type": "code",
   "execution_count": null,
   "id": "43b84dc4",
   "metadata": {},
   "outputs": [],
   "source": [
    "sis = ss.SIS(beta=0.1)\n",
    "\n",
    "s1 = ss.Sim(label='Low contacts', diseases=sis, networks=ss.RandomNet(n_contacts=5))\n",
    "s2 = ss.Sim(label='High contacts', diseases=sis, networks=ss.RandomNet(n_contacts=10))\n",
    "ss.parallel(s1, s2).plot()"
   ]
  },
  {
   "cell_type": "code",
   "execution_count": null,
   "id": "72272ed2",
   "metadata": {},
   "outputs": [],
   "source": []
  }
 ],
 "metadata": {
  "kernelspec": {
   "display_name": "base",
   "language": "python",
   "name": "python3"
  },
  "language_info": {
   "codemirror_mode": {
    "name": "ipython",
    "version": 3
   },
   "file_extension": ".py",
   "mimetype": "text/x-python",
   "name": "python",
   "nbconvert_exporter": "python",
   "pygments_lexer": "ipython3",
   "version": "3.12.10"
  }
 },
 "nbformat": 4,
 "nbformat_minor": 5
}
