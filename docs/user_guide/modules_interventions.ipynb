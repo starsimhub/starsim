{
 "cells": [
  {
   "cell_type": "markdown",
   "id": "dd65a1f9",
   "metadata": {},
   "source": [
    "# Interventions\n",
    "\n",
    "TBC"
   ]
  },
  {
   "cell_type": "code",
   "execution_count": null,
   "id": "2fc638c3",
   "metadata": {},
   "outputs": [],
   "source": [
    "import starsim as ss\n",
    "\n",
    "def sis_vaccine(sim, start=2030, eff=0.9):\n",
    "    if sim.now == start:\n",
    "        sim.diseases.sis.rel_trans[:] *= 1-eff\n",
    "    return\n",
    "\n",
    "pars = dict(\n",
    "    start=2000,\n",
    "    stop=2050,\n",
    "    diseases='sis',\n",
    "    networks='random',\n",
    "    interventions=sis_vaccine,\n",
    ")\n",
    "\n",
    "sim = ss.Sim(pars)\n",
    "sim.run()\n",
    "sim.plot()\n",
    "ss.show()"
   ]
  }
 ],
 "metadata": {
  "kernelspec": {
   "display_name": "base",
   "language": "python",
   "name": "python3"
  },
  "language_info": {
   "codemirror_mode": {
    "name": "ipython",
    "version": 3
   },
   "file_extension": ".py",
   "mimetype": "text/x-python",
   "name": "python",
   "nbconvert_exporter": "python",
   "pygments_lexer": "ipython3",
   "version": "3.12.10"
  }
 },
 "nbformat": 4,
 "nbformat_minor": 5
}
