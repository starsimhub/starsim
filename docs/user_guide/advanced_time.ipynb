{
 "cells": [
  {
   "cell_type": "markdown",
   "id": "dd65a1f9",
   "metadata": {},
   "source": [
    "# Time\n",
    "\n",
    "## On the philosophy of time\n",
    "\n",
    "Starsim's implementation of time is complex, because, well, time is complex. Some questions we've had to wrestle with:\n",
    "\n",
    "1. If you run a simulation from 2000 to 2020 with monthly timesteps, would you expect the same average result (say, number of infections) in 2004 (leap year) and 2005 (not a leap year)? What about February 2012 vs. March 2012?\n",
    "2. Is a year 365 days, 365.25 days, or either 365 or 366 days depending on the year?\n",
    "3. Usually years and dates are interchangeable, e.g. `float(2000) == ss.date('2000-01-01')`. So `start=2000, stop=2020` is equivalent to `start='2000-01-01', stop='2020-01-01'`. But what if someone wants to simply run for a number of years, e.g. `start=0, stop=20`, given that there is no year 0?\n",
    "4. If the user has scheduled an event to happen at fractional year `2025.7`, do they mean the nearest day (`2025-09-12`) or do they mean that exact timestamp (`2025-09-11 16:48:00`)? Will users ever want to worry about hours and minutes? What about microseconds and nanoseconds?\n",
    "5. Should units be strict, e.g. `ss.days(5) != 5`, or permissive, e.g. `ss.days(5) == 5`?\n",
    "6. If a mortality rate is specified as \"100 deaths per 1000 people per year\", at the end of a year, should 100 people die (\"100 deaths per 1000 people counted from the beginning to the end of a year\"), or should 95 die (\"100 deaths per 1000 **person**-years\", since people stop accruing person-years after they die)?\n",
    "7. What does it mean to multiply a probability? Is `ss.prob(0.1)*2 == ss.prob(0.2)`? If so, what is `ss.prob(0.5)*2` or `ss.prob(0.9)*2`?\n",
    "\n",
    "Why are we telling you all this? Because although time seems intuitive, there are many corner cases where intuition breaks down (and, worse, it might not seem like it has broken down, leading you astray!). Thus, perhaps more than any other part of Starsim, be sure to *check your assumptions* about time. For example, in answer to the questions above (which are some but not all of the thorny issues we encountered!), we've made the following decisions – but we recognize that different decisions would also be valid:\n",
    "\n",
    "1. A month is defined as exactly 1/12th of a year, so there are the same number of infections in 2004 and 2005, and in February vs. March.\n",
    "2. A year is equal to 365 days (although some stretching happens to make integer years and calendar dates line up where needed).\n",
    "3. Because there is no way to represent year 0 with a date object (e.g. `ss.date()`, which is based on `pd.Timestamp`), for this (important) special case we need to switch to a different object, `ss.datedur()` (more on that below).\n",
    "4. We assume the user means integer days, unless they have _explicitly_ requested otherwise (e.g. `dt=ss.days(0.1)`).\n",
    "5. Units are loose when comparing to unitless quantities (`ss.days(5) == 5`), but are strict when comparing with other units (e.g. `ss.years(1) == ss.days(365)`).\n",
    "6. In Starsim v2, we chose the former by default. In Starsim v3, we decided we were wrong to do that and now choose the latter.\n",
    "7. Probabilities are always constrained to `[0, 1]`, so `ss.prob(0.5)*2 == ss.prob(0.75)`, but this also means that `ss.prob(0.1)*2 ≈ ss.prob(0.19)`.\n",
    "\n",
    "*More information about the philosophy of time is available [here](https://archive.org/details/being-and-time-martin-heidegger-1962).*\n"
   ]
  },
  {
   "cell_type": "markdown",
   "id": "b93a0ab3",
   "metadata": {},
   "source": [
    "## Dates\n",
    "\n",
    "Starsim defines a custom date object, `ss.date`, which is based on `pd.Timestamp`. It is quite flexible in terms of input:\n"
   ]
  },
  {
   "cell_type": "code",
   "execution_count": null,
   "id": "e3562cd0",
   "metadata": {},
   "outputs": [],
   "source": [
    "import pandas as pd\n",
    "import datetime as dt\n",
    "import starsim as ss\n",
    "import matplotlib.pyplot as plt\n",
    "ss.options(jupyter=True)\n",
    "\n",
    "d1 = ss.date(2020)\n",
    "d2 = ss.date(2020, 1, 1)\n",
    "d3 = ss.date('2020-01-01')\n",
    "d4 = ss.date(pd.Timestamp('2020-01-01'))\n",
    "d5 = ss.date(dt.datetime(2020, 1, 1))\n",
    "\n",
    "assert d1 == d2 == d3 == d4 == d5\n",
    "print(d1)"
   ]
  },
  {
   "cell_type": "markdown",
   "id": "f0568659",
   "metadata": {},
   "source": [
    "Dates are interchangeable with floating point years (although be careful, as despite our best efforts, some rounding errors can still occur):"
   ]
  },
  {
   "cell_type": "code",
   "execution_count": null,
   "id": "a9c2830a",
   "metadata": {},
   "outputs": [],
   "source": [
    "d = ss.date('2025.08.02')\n",
    "print(d)\n",
    "print(d.years)\n",
    "print(float(d)) # Alias to d.years"
   ]
  },
  {
   "cell_type": "markdown",
   "id": "65915ffa",
   "metadata": {},
   "source": [
    "Like many Starsim objects, you can get all the properties of an `ss.date` object with `.disp()`:"
   ]
  },
  {
   "cell_type": "code",
   "execution_count": null,
   "id": "b91f5bee",
   "metadata": {},
   "outputs": [],
   "source": [
    "d.disp()"
   ]
  },
  {
   "cell_type": "markdown",
   "id": "1257fb08",
   "metadata": {},
   "source": [
    "You can do some kinds of arithmetic on date, mostly addition or subtraction:"
   ]
  },
  {
   "cell_type": "code",
   "execution_count": null,
   "id": "5feefdae",
   "metadata": {},
   "outputs": [],
   "source": [
    "d = ss.date('2015.8.10')\n",
    "print(d)\n",
    "print(d + ss.years(10))\n",
    "print(d + ss.datedur(months=3, days=-5))"
   ]
  },
  {
   "cell_type": "markdown",
   "id": "305acdc7",
   "metadata": {},
   "source": [
    "There is also an `ss.DateArray()` object, which you are unlikely to need to work with directly, but which is used to handle timelines (more on those later):"
   ]
  },
  {
   "cell_type": "code",
   "execution_count": null,
   "id": "e531c00a",
   "metadata": {},
   "outputs": [],
   "source": [
    "import numpy as np\n",
    "datearr = ss.date.from_array(np.arange(1990, 2020))\n",
    "print('From an array:\\n', datearr)\n",
    "\n",
    "weekarr = ss.date.arange(start='2025-07-01', stop='2025-09-18', step=ss.week)\n",
    "print('Using arange:\\n', weekarr)"
   ]
  },
  {
   "cell_type": "markdown",
   "id": "ff441d9c",
   "metadata": {},
   "source": [
    "## Timeline\n",
    "\n",
    "Since different modules are allowed to have their own start, stop, and timestep, we need to coordinate their events with each other and with the sim. The class that does this is called `ss.Timeline`. You will rarely (if ever) need to invoke it directly, but it's important to understand how it works.\n",
    "\n",
    "It's so important, it's stored as `.t` in the sim and each module, e.g. `sim.t`. Let's start with a simple example:"
   ]
  },
  {
   "cell_type": "code",
   "execution_count": null,
   "id": "b74b8d28",
   "metadata": {},
   "outputs": [],
   "source": [
    "sim = ss.Sim(verbose=False).run() # Can use an empty sim\n",
    "print(sim.t)"
   ]
  },
  {
   "cell_type": "markdown",
   "id": "7ab2d693",
   "metadata": {},
   "source": [
    "The `ss.Timeline` object has several different ways of representing (the same) time; each is useful for a different purpose. We can see each of these with the `.to_dict()` method:"
   ]
  },
  {
   "cell_type": "code",
   "execution_count": null,
   "id": "b4cdd2fd",
   "metadata": {},
   "outputs": [],
   "source": [
    "t = ss.Timeline(start=2020, stop=2022, dt=ss.month)\n",
    "print(t.to_dict())"
   ]
  },
  {
   "cell_type": "markdown",
   "id": "ea133429",
   "metadata": {},
   "source": [
    "We have four different vectors that represent the time:\n",
    "\n",
    "- `datevec`: calendar dates;\n",
    "- `yearvec`: floating-point years;\n",
    "- `relvec`: relative times since the start of the sim;\n",
    "- `tivec`: timesteps.\n",
    "\n",
    "The other two, `tvec` and `timevec`, match one of these four, but which one they match depends on what the user's inputs are. For example, if we use a duration-based timeline, we get different results:"
   ]
  },
  {
   "cell_type": "code",
   "execution_count": null,
   "id": "3f91e3db",
   "metadata": {},
   "outputs": [],
   "source": [
    "t = ss.Timeline(start=ss.days(0), stop=ss.days(10), dt=ss.day)\n",
    "print(t.to_dict())"
   ]
  },
  {
   "cell_type": "markdown",
   "id": "40d2073d",
   "metadata": {},
   "source": [
    "`tvec` is what the `ss.Timeline` object uses internally as \"canonical\" simulation time. `timevec` is the \"most-human-friendly\" representation of the time, and is what is e.g. stored in results to help with plotting."
   ]
  },
  {
   "cell_type": "markdown",
   "id": "23c33cfe",
   "metadata": {},
   "source": [
    "### Plotting with dates\n",
    "\n",
    "Plotting with dates is hard. Consider this example (from the interventions tutorial):"
   ]
  },
  {
   "cell_type": "code",
   "execution_count": null,
   "id": "6f7f55cf",
   "metadata": {},
   "outputs": [],
   "source": [
    "# Define the parameters\n",
    "start = 2015\n",
    "vax = ss.routine_vx(start_year=start, prob=0.8, product=ss.simple_vx(efficacy=0.9))\n",
    "pars = dict(diseases='sis', networks='random', n_agents=5000)\n",
    "\n",
    "# Create and run the sims\n",
    "s1 = ss.Sim(pars)\n",
    "s2 = ss.Sim(pars, interventions=vax)\n",
    "ss.parallel(s1, s2) # Run the sims\n",
    "r1 = s1.results\n",
    "r2 = s2.results\n",
    "\n",
    "# Use Matplotlib to plot the results\n",
    "plt.figure()\n",
    "plt.plot(r1.timevec, r1.sis.prevalence, label='Baseline')\n",
    "plt.plot(r2.timevec, r2.sis.prevalence, label='With vaccine')\n",
    "plt.axvline(start, color='k', label='Intervention')\n",
    "plt.legend()"
   ]
  },
  {
   "cell_type": "markdown",
   "id": "a0d656a5",
   "metadata": {},
   "source": [
    "What the heck! The vertical line is in totally the wrong place. That's because the x-axis is plotting using `ss.date`, which underneath is `pd.Timestamp`, and underneath _that_ is `np.datetime64[ns]`, which interprets \"2015\" as `'1970-01-01T00:00:00.000002015'` (i.e., 2,015 _nanoseconds_ after the \"start of the epoch\", which is defined as January 1st, 1970).\n",
    "\n",
    "We have two ways of fixing this. The first is to simply remember to convert to a date:"
   ]
  },
  {
   "cell_type": "code",
   "execution_count": null,
   "id": "1dadc110",
   "metadata": {},
   "outputs": [],
   "source": [
    "plt.figure()\n",
    "plt.plot(r1.timevec, r1.sis.prevalence, label='Baseline')\n",
    "plt.plot(r2.timevec, r2.sis.prevalence, label='With vaccine')\n",
    "plt.axvline(ss.date(start), color='k', label='Intervention')  # Fix by converting to a date\n",
    "plt.legend()"
   ]
  },
  {
   "cell_type": "markdown",
   "id": "4ee516c5",
   "metadata": {},
   "source": [
    "(Are you wondering why the lines diverge _before_ the intervention starts? It's because the vaccine takes effect immediately, so by the start year there's already a difference in the number of infections, and Matplotlib is interpolating the lines.)\n",
    "\n",
    "The second is by using the `.years` property of `timevec`, so we don't have to worry about dates at all:"
   ]
  },
  {
   "cell_type": "code",
   "execution_count": null,
   "id": "a84a2630",
   "metadata": {},
   "outputs": [],
   "source": [
    "plt.figure()\n",
    "years = r1.timevec.years # Fix by using floating-point years\n",
    "plt.scatter(years, r1.sis.prevalence, label='Baseline')\n",
    "plt.scatter(years, r2.sis.prevalence, label='With vaccine')\n",
    "plt.axvline(start, color='k', label='Intervention')\n",
    "plt.legend()"
   ]
  },
  {
   "cell_type": "markdown",
   "id": "78bfe185",
   "metadata": {},
   "source": [
    "## Timepars\n",
    "\n",
    "Dates say _when_ things happen, but disease modeling is really mostly about durations and rates: how may days from infection to recovery? What is the probability of transmission per week? In Starsim, we call these unit-aware quantities *time parameters* (or timepars for short), represented by the class `ss.TimePar`. Timepars are all available in four base units: days, weeks, months, or years (noting that a week is defined as exactly 7 days, and a month is defined as exactly 1/12th of a year). The full class hierarchy of the time parameters is:\n",
    "\n",
    "```\n",
    "TimePar  # All time parameters\n",
    "├── dur  # All durations, units of *time*\n",
    "│   ├── days  # Duration with units of days\n",
    "│   ├── weeks\n",
    "│   ├── months\n",
    "│   ├── years\n",
    "│   └── datedur  # Calendar durations\n",
    "└── Rate  # All rates, units of *per* (e.g. per time or per event)\n",
    "    ├── per  # Probability rates over time (e.g., death rate per year)\n",
    "    │   ├── perday\n",
    "    │   ├── perweek\n",
    "    │   ├── permonth\n",
    "    │   └── peryear\n",
    "    ├── prob  # Unitless probability (e.g., probability of death per infection)\n",
    "    │   ├── probperday\n",
    "    │   ├── probperweek\n",
    "    │   ├── probpermonth\n",
    "    │   └── probperyear\n",
    "    └── freq  # Number of events (e.g., number of acts per year)\n",
    "        ├── freqperday\n",
    "        ├── freqperweek\n",
    "        ├── freqpermonth\n",
    "        └── freqperyear\n",
    "```\n"
   ]
  },
  {
   "cell_type": "markdown",
   "id": "088e89a6",
   "metadata": {},
   "source": [
    "### Durations\n",
    "\n",
    "Durations are relatively straightforward. The base class for durations is `ss.dur()`, but in almost all cases you'll want to use `ss.days()`, `ss.weeks()`, `ss.months()`, or `ss.years()` instead. (In fact, if you type `ss.dur(3, 'years')`, it will return `ss.years(3)`.)\n",
    "\n",
    "Durations operate more or less how you would expect, with the left hand operator taking precedence:\n"
   ]
  },
  {
   "cell_type": "code",
   "execution_count": null,
   "id": "365b9e46",
   "metadata": {},
   "outputs": [],
   "source": [
    "d1 = ss.years(2)\n",
    "d2 = ss.days(3)\n",
    "print(d1 + d2)\n",
    "print(d2 + d1)"
   ]
  },
  {
   "cell_type": "markdown",
   "id": "1665e9b1",
   "metadata": {},
   "source": [
    "You can also easily convert durations:"
   ]
  },
  {
   "cell_type": "code",
   "execution_count": null,
   "id": "21e089f7",
   "metadata": {},
   "outputs": [],
   "source": [
    "d1 = ss.years(10)\n",
    "print(d1.days) # Represent as days, but keep as years internally\n",
    "d2 = d1.to('days')\n",
    "print(d2)"
   ]
  },
  {
   "cell_type": "markdown",
   "id": "e969ab7b",
   "metadata": {},
   "source": [
    "Note: in almost all cases, you can use either with or without the 's', i.e. `ss.years(1).to('day')` or `ss.years(1).to('days')` both work.\n",
    "\n",
    "Also, there are shortcut classes for unit values:"
   ]
  },
  {
   "cell_type": "code",
   "execution_count": null,
   "id": "3d9a5556",
   "metadata": {},
   "outputs": [],
   "source": [
    "print(ss.weeks(1))\n",
    "print(ss.week)\n",
    "assert ss.weeks(1.0) == ss.weeks(1) == ss.week"
   ]
  },
  {
   "cell_type": "markdown",
   "id": "02c20703",
   "metadata": {},
   "source": [
    "#### Date durations\n",
    "\n",
    "In most cases, the durations above can be used for arithmetic with dates. But sometimes we need precise date arithmetic that keeps track of each unit separately. For this we can use `ss.datedur`. For example:"
   ]
  },
  {
   "cell_type": "code",
   "execution_count": null,
   "id": "58932f9d",
   "metadata": {},
   "outputs": [],
   "source": [
    "d = ss.date('2025.1.1')\n",
    "years = ss.years(0.5)\n",
    "datedur = ss.datedur(months=6)\n",
    "\n",
    "print(d + years)\n",
    "print(d + datedur)"
   ]
  },
  {
   "cell_type": "markdown",
   "id": "09b16893",
   "metadata": {},
   "source": [
    "Why is this happening? Because 2025.5 is closer to July 2nd than July 1st. There are fewer days from the start of the year to July 1st than there are days from July 1st to the end of the year:"
   ]
  },
  {
   "cell_type": "code",
   "execution_count": null,
   "id": "9c6800de",
   "metadata": {},
   "outputs": [],
   "source": [
    "print(ss.date('2025.7.1') - ss.date('2025.1.1'))\n",
    "print(ss.date('2025.12.31') - ss.date('2025.7.1'))"
   ]
  },
  {
   "cell_type": "markdown",
   "id": "7abf8a80",
   "metadata": {},
   "source": [
    "So even though a month is \"usually\" 1/12th of a year exactly, and although 6/12ths is certainly 0.5, this is an example where we get a different answer depending on whether we do date-based arithmetic or float-based arithmetic."
   ]
  },
  {
   "cell_type": "markdown",
   "id": "eafbcac2",
   "metadata": {},
   "source": [
    "### Rates\n",
    "\n",
    "Rates are more complicated than durations since there are three different meanings of the term \"rate\", each reflected by a different class.\n",
    "\n",
    "#### Frequencies\n",
    "We define a \"frequency\", or `ss.freq`, as the \"number of events happening in a given amount of time\". Frequencies are the simplest type of rate to understand, since arithmetic operators work the same as they would for a float, with the caveat that the numerator and denominator of a frequency are stored separately:"
   ]
  },
  {
   "cell_type": "code",
   "execution_count": null,
   "id": "628b34c6",
   "metadata": {},
   "outputs": [],
   "source": [
    "# Construct directly\n",
    "f1 = ss.freqperday(0.5)\n",
    "\n",
    "# Construct as the inverse of a duration\n",
    "d = ss.days(2)\n",
    "f2 = 1/d\n",
    "\n",
    "print(f1)\n",
    "print(f2)\n",
    "assert f1 == f2\n",
    "\n",
    "# Can multiply by a float\n",
    "print(f1*10)"
   ]
  },
  {
   "cell_type": "markdown",
   "id": "645399df",
   "metadata": {},
   "source": [
    "#### Probabilities\n",
    "\n",
    "Probabilities, called `ss.prob()` in Starsim, can either have units or be unitless. A unitless probability is fairly straightforward, with the caveat about multiplication above (i.e., `ss.prob(0.5)*2 == ss.prob(0.75)`).\n",
    "\n",
    "With a unit, e.g. `ss.probperday(0.5)`, it represents the probability of an event occurring during a specified period of time. This allows the probability of an event over one time period to be converted to the probability of an event over a different time period. To do this, the underlying rate (see \"Probability rates\" below for more information) is first calculated:\n",
    "```py\n",
    "rate = -np.log(1 - prob)\n",
    "```\n",
    "\n",
    "Then, the probability over the new duration is\n",
    "```py\n",
    "p = 1 - np.exp(-rate/factor)\n",
    "```\n",
    "\n",
    "where `factor` is the ratio of the new duration to the original duration.\n",
    "\n",
    "For example,\n",
    "```py\n",
    "p = ss.prob(0.8, ss.years(1))\n",
    "```\n",
    "\n",
    "indicates a 80% chance of an event occurring in one year.\n",
    "\n",
    "When multiplied by the original denominator, 1 year in this case, the\n",
    "probability remains unchanged, 80%:\n",
    "```py\n",
    "p*ss.years(1) == 0.8\n",
    "```\n",
    "\n",
    "Multiplying `p` by `ss.years(2)` does not simply double the\n",
    "probability to 160% (which is not possible), but rather returns a new\n",
    "probability of 96% representing the chance of the event occurring at least\n",
    "once over the new duration of two years:\n",
    "```py\n",
    "p * ss.years(2) == 0.96\n",
    "```"
   ]
  },
  {
   "cell_type": "markdown",
   "id": "4c412e23",
   "metadata": {},
   "source": [
    "#### Probability rates\n",
    "\n",
    "This quantity is often simply called a \"rate\", but this is confusing because \"rate\" as ambiguous. A \"probability rate\", which in Starsim is simply `ss.per()`, represents the rate at which a _single_ event happens. For example, death rate and birth rates are examples of probability rates, since you can't die (or be born) more than once. Since this is the \"normal\" definition of the term \"rate\", it's called `ss.per()` so that its unit-specific versions (`ss.perday`, `ss.peryear`, etc.) are as concise as possible.\n",
    "\n",
    "Probability rates must be non-negative, but need not be less than 1. Thus, `ss.perday(2)` is a valid rate (whereas `ss.probperday(2)` is not valid).\n",
    "\n",
    "When a `per` is multiplied by a scalar or array, the rate is simply scaled. Such multiplication occurs frequently in epidemiological models, where the base rate is multiplied by \"rate ratio\" or \"relative rate\" to represent agents experiencing higher (multiplier > 1) or lower (multiplier < 1) event rates.\n",
    "\n",
    "Alternatively, when a `per` is multiplied by a duration (type `ss.dur`), a probability is calculated. The conversion from rate to probability on multiplication by a duration is exactly the same as for `ss.prob`:\n",
    "```py\n",
    "p = 1 - np.exp(-rate/factor)\n",
    "```\n",
    "\n",
    "The only difference is that we are using the rate directly, rather than back-calculating it first.\n",
    "\n",
    "For example, consider\n",
    "```py\n",
    "p = ss.peryear(0.8)\n",
    "```\n",
    "\n",
    "When multiplied by a duration of 1 year, the calculated probability is `1 - np.exp(-0.8)`, which is approximately 55%:\n",
    "```py\n",
    "p*ss.years(1) ≈ 0.55\n",
    "```\n",
    "\n",
    "When multiplied by a scalar, the rate is simply scaled.\n",
    "```py\n",
    "p*2 == 1.6\n",
    "```\n",
    "\n",
    "The difference between `ss.prob` and `ss.per` is subtle, but important. `per` works directly with the instantaneous rate of an event occurring. In contrast, `ss.prob` starts with a probability and a duration, and the underlying rate is calculated. On multiplication by a duration:\n",
    "\n",
    "- `ss.freq`: rate → number of events\n",
    "- `ss.per`: rate → probability\n",
    "- `ss.prob`: probability →  underlying rate → probability"
   ]
  },
  {
   "cell_type": "markdown",
   "id": "4678f777",
   "metadata": {},
   "source": [
    "#### Using rates\n",
    "\n",
    "Each of these quantities has `.to_prob()` and `.to_events()` methods; in fact, the only difference between `ss.freq` and `ss.per` is that multiplying `ss.freq` by a duration calls `.to_events()`, while multiplying `ss.per` by a duration calls `.to_prob()`.\n",
    "\n",
    "In most cases, you will be using `ss.per()` together with the simulation (or module) timestep `dt`. In order to convert your rate into a probability of an event happening, simply call `.to_prob()` – remember to do this as the _last_ step of the calculation, so that the probability is scaled correctly:\n",
    "\n",
    "```py\n",
    "# Define the death rate\n",
    "death_rate = ss.peryear(0.1)\n",
    "rel_death_age = 3.4 # Older age, higher risk\n",
    "rel_death_ses = 5.7 # Lower SES, higher risk\n",
    "\n",
    "# ✓ Right -- multiply first, and then convert to probability\n",
    "p_death = (death_rate * rel_death_age * rel_death_ses).to_prob()\n",
    "\n",
    "# × WRONG -- will produce an invalid probability\n",
    "p_death = death_rate.to_prob() * rel_death_age * rel_death_ses\n",
    "```\n",
    "\n",
    "How does a rate know how to convert itself to a probability? When a sim is initialized, it finds all the timepars, and adds a `default_dur` property to them that's equal to module `dt`. This means that `death_rate.to_prob()` is simply a shortcut for `death_rate * self.dt`, but both are equivalent.\n",
    "\n",
    "#### Summary\n",
    "Here is a quick summary of when you should use each type of quantity:\n",
    "\n",
    "- `ss.freq`: Use when you want a number of events, e.g. sexual acts per year: `acts = ss.freqperyear(80)`.\n",
    "- `ss.per`: Use when you want to calculate the probability of an event, e.g. death: `death_rate = ss.peryear(0.01)`.\n",
    "- `ss.prob`: Use when you are sure you want to convert a probability from one time period to another, e.g. if after a 1 year period, 10 out of 1000 people had died: `death_prob = ss.probperyear(0.01)`.\n",
    "\n",
    "Confused? That's OK. As we said, time is complex."
   ]
  }
 ],
 "metadata": {
  "kernelspec": {
   "display_name": "base",
   "language": "python",
   "name": "python3"
  },
  "language_info": {
   "codemirror_mode": {
    "name": "ipython",
    "version": 3
   },
   "file_extension": ".py",
   "mimetype": "text/x-python",
   "name": "python",
   "nbconvert_exporter": "python",
   "pygments_lexer": "ipython3",
   "version": "3.12.10"
  }
 },
 "nbformat": 4,
 "nbformat_minor": 5
}
