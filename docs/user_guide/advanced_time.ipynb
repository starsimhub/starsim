{
 "cells": [
  {
   "cell_type": "markdown",
   "id": "dd65a1f9",
   "metadata": {},
   "source": [
    "# Time\n",
    "\n",
    "## On the philosophy of time\n",
    "\n",
    "Starsim's implementation of time is complex, because, well, time is complex. Some questions we've had to wrestle with:\n",
    "\n",
    "1. If you run a simulation from 2000 to 2020 with monthly timesteps, would you expect the same average result (say, number of infections) in 2004 (leap year) and 2005 (not a leap year)? What about February 2012 vs. March 2012?\n",
    "2. Is a year 365 days, 365.25 days, or either 365 or 366 days depending on the year?\n",
    "3. Usually years and dates are interchangeable, e.g. `float(2000) == ss.date('2000-01-01')`. So `start=2000, stop=2020` is equivalent to `start='2000-01-01', stop='2020-01-01'`. But what if someone wants to simply run for a number of years, e.g. `start=0, stop=20`, given that there is no year 0?\n",
    "4. If the user has scheduled an event to happen at fractional year `2025.7`, do they mean the nearest day (`2025-09-12`) or do they mean that exact timestamp (`2025-09-11 16:48:00`)? Will users ever want to worry about hours and minutes? What about microseconds and nanoseconds?\n",
    "5. Should units be strict, e.g. `ss.days(5) != 5`, or permissive, e.g. `ss.days(5) == 5`?\n",
    "6. If a mortality rate is specified as \"100 deaths per 1000 people per year\", at the end of a year, should 100 people die (\"100 deaths per 1000 people counted from the beginning to the end of a year\"), or should 95 die (\"100 deaths per 1000 **person**-years\", since people stop accruing person-years after they die)?\n",
    "7. What does it mean to multiply a probability? Is `ss.prob(0.1)*2 == ss.prob(0.2)`? If so, what is `ss.prob(0.5)*2` or `ss.prob(0.9)*2`?\n",
    "\n",
    "Why are we telling you all this? Because although time seems intuitive, there are many corner cases where intuition breaks down (and, worse, it might not seem like it has broken down, leading you astray!). Thus, perhaps more than any other part of Starsim, be sure to *check your assumptions* about time. For example, in answer to the questions above (which are some but not all of the thorny issues we encountered!), we've made the following decisions – but we recognize that different decisions would also be valid:\n",
    "\n",
    "1. A month is defined as exactly 1/12th of a year, so there are the same number of infections in 2004 and 2005, and in February vs. March.\n",
    "2. A year is equal to 365 days (although some stretching happens to make integer years and calendar dates line up where needed).\n",
    "3. Because there is no way to represent year 0 with a date object (e.g. `ss.date()`, which is based on `pd.Timestamp`), for this (important) special case we need to switch to a different object, `ss.datedur()` (more on that below).\n",
    "4. We assume the user means integer days, unless they have _explicitly_ requested otherwise (e.g. `dt=ss.days(0.1)`).\n",
    "5. Units are loose when comparing to unitless quantities (`ss.days(5) == 5`), but are strict when comparing with other units (e.g. `ss.years(1) == ss.days(365)`).\n",
    "6. In Starsim v2, we chose the former by default. In Starsim v3, we decided we were wrong to do that and now choose the latter.\n",
    "7. Probabilities are always constrained to `[0, 1]`, so `ss.prob(0.5)*2 == ss.prob(0.75)`, but this also means that `ss.prob(0.1)*2 ≈ ss.prob(0.19)`.\n",
    "\n",
    "*More information about the philosophy of time is available [here](https://archive.org/details/being-and-time-martin-heidegger-1962).*\n"
   ]
  },
  {
   "cell_type": "markdown",
   "id": "b93a0ab3",
   "metadata": {},
   "source": [
    "## Dates\n",
    "\n",
    "Starsim defines a custom date object, `ss.date`, which is based on `pd.Timestamp`. It is quite flexible in terms of input:\n"
   ]
  },
  {
   "cell_type": "code",
   "execution_count": null,
   "id": "e3562cd0",
   "metadata": {},
   "outputs": [],
   "source": [
    "import pandas as pd\n",
    "import datetime as dt\n",
    "import starsim as ss\n",
    "\n",
    "d1 = ss.date(2020)\n",
    "d2 = ss.date(2020, 1, 1)\n",
    "d3 = ss.date('2020-01-01')\n",
    "d4 = ss.date(pd.Timestamp('2020-01-01'))\n",
    "d5 = ss.date(dt.datetime(2020, 1, 1))\n",
    "\n",
    "assert d1 == d2 == d3 == d4 == d5\n",
    "print(d1)"
   ]
  },
  {
   "cell_type": "markdown",
   "id": "f0568659",
   "metadata": {},
   "source": [
    "Dates are interchangeable with floating point years (although be careful, as despite our best efforts, some rounding errors can still occur):"
   ]
  },
  {
   "cell_type": "code",
   "execution_count": null,
   "id": "a9c2830a",
   "metadata": {},
   "outputs": [],
   "source": [
    "d = ss.date('2025.08.02')\n",
    "print(d)\n",
    "print(d.years)\n",
    "print(float(d)) # Alias to d.years"
   ]
  },
  {
   "cell_type": "markdown",
   "id": "65915ffa",
   "metadata": {},
   "source": [
    "Like many Starsim objects, you can get all the properties of an `ss.date` object with `.disp()`:"
   ]
  },
  {
   "cell_type": "code",
   "execution_count": null,
   "id": "b91f5bee",
   "metadata": {},
   "outputs": [],
   "source": [
    "d.disp()"
   ]
  },
  {
   "cell_type": "markdown",
   "id": "1257fb08",
   "metadata": {},
   "source": [
    "You can do some kinds of arithmetic on date, mostly addition or subtraction:"
   ]
  },
  {
   "cell_type": "code",
   "execution_count": null,
   "id": "5feefdae",
   "metadata": {},
   "outputs": [],
   "source": [
    "d = ss.date('2015.8.10')\n",
    "print(d)\n",
    "print(d + ss.years(10))\n",
    "print(d + ss.datedur(months=3, days=-5))"
   ]
  },
  {
   "cell_type": "markdown",
   "id": "305acdc7",
   "metadata": {},
   "source": [
    "There is also an `ss.DateArray()` object, which you are unlikely to need to work with directly, but which is used to handle timelines (more on those later):"
   ]
  },
  {
   "cell_type": "code",
   "execution_count": null,
   "id": "e531c00a",
   "metadata": {},
   "outputs": [],
   "source": [
    "import numpy as np\n",
    "datearr = ss.date.from_array(np.arange(1990, 2020))\n",
    "print('From an array:\\n', datearr)\n",
    "\n",
    "weekarr = ss.date.arange(start='2025-07-01', stop='2025-09-18', step=ss.week)\n",
    "print('Using arange:\\n', weekarr)"
   ]
  },
  {
   "cell_type": "markdown",
   "id": "78bfe185",
   "metadata": {},
   "source": [
    "## Timepars\n",
    "\n",
    "Dates say _when_ things happen, but disease modeling is really mostly about durations and rates: how may days from infection to recovery? What is the probability of transmission per week? In Starsim, we call these unit-aware quantities *time parameters* (or timepars for short), represented by the class `ss.TimePar`. Timepars are all available in four base units: days, weeks, months, or years (noting that a week is defined as exactly 7 days, and a month is defined as exactly 1/12th of a year). The full class hierarchy of the time parameters is:\n",
    "\n",
    "```\n",
    "TimePar  # All time parameters\n",
    "├── dur  # All durations, units of *time*\n",
    "│   ├── days  # Duration with units of days\n",
    "│   ├── weeks\n",
    "│   ├── months\n",
    "│   ├── years\n",
    "│   └── datedur  # Calendar durations\n",
    "└── Rate  # All rates, units of *per* (e.g. per time or per event)\n",
    "    ├── per  # Probability rates over time (e.g., death rate per year)\n",
    "    │   ├── perday\n",
    "    │   ├── perweek\n",
    "    │   ├── permonth\n",
    "    │   └── peryear\n",
    "    ├── prob  # Unitless probability (e.g., probability of death per infection)\n",
    "    │   ├── probperday\n",
    "    │   ├── probperweek\n",
    "    │   ├── probpermonth\n",
    "    │   └── probperyear\n",
    "    └── freq  # Number of events (e.g., number of acts per year)\n",
    "        ├── freqperday\n",
    "        ├── freqperweek\n",
    "        ├── freqpermonth\n",
    "        └── freqperyear\n",
    "```\n"
   ]
  },
  {
   "cell_type": "markdown",
   "id": "088e89a6",
   "metadata": {},
   "source": [
    "### Durations\n",
    "\n",
    "Durations are relatively straightforward. The base class for durations is `ss.dur()`, but in almost all cases you'll want to use `ss.days()`, `ss.weeks()`, `ss.months()`, or `ss.years()` instead. (In fact, if you type `ss.dur(3, 'years')`, it will return `ss.years(3)`.)\n",
    "\n",
    "Durations operate more or less how you would expect, with the left hand operator taking precedence:\n"
   ]
  },
  {
   "cell_type": "code",
   "execution_count": null,
   "id": "365b9e46",
   "metadata": {},
   "outputs": [],
   "source": [
    "d1 = ss.years(2)\n",
    "d2 = ss.days(3)\n",
    "print(d1 + d2)\n",
    "print(d2 + d1)"
   ]
  },
  {
   "cell_type": "markdown",
   "id": "1665e9b1",
   "metadata": {},
   "source": [
    "You can also easily convert durations:"
   ]
  },
  {
   "cell_type": "code",
   "execution_count": null,
   "id": "21e089f7",
   "metadata": {},
   "outputs": [],
   "source": [
    "d1 = ss.years(10)\n",
    "print(d1.days) # Represent as days, but keep as years internally\n",
    "d2 = d1.to('days')\n",
    "print(d2)"
   ]
  },
  {
   "cell_type": "markdown",
   "id": "e969ab7b",
   "metadata": {},
   "source": [
    "Note: in almost all cases, you can use either with or without the 's', i.e. `ss.years(1).to('day')` or `ss.years(1).to('days')` both work.\n",
    "\n",
    "Also, there are shortcut classes for unit values:"
   ]
  },
  {
   "cell_type": "code",
   "execution_count": null,
   "id": "3d9a5556",
   "metadata": {},
   "outputs": [],
   "source": [
    "print(ss.weeks(1))\n",
    "print(ss.week)\n",
    "assert ss.weeks(1.0) == ss.weeks(1) == ss.week"
   ]
  },
  {
   "cell_type": "markdown",
   "id": "02c20703",
   "metadata": {},
   "source": [
    "#### Date durations\n",
    "\n",
    "In most cases, the durations above can be used for arithmetic with dates. But sometimes we need precise date arithmetic that keeps track of each unit separately. For this we can use `ss.datedur`. For example:"
   ]
  },
  {
   "cell_type": "code",
   "execution_count": null,
   "id": "58932f9d",
   "metadata": {},
   "outputs": [],
   "source": [
    "d = ss.date('2025.1.1')\n",
    "years = ss.years(0.5)\n",
    "datedur = ss.datedur(months=6)\n",
    "\n",
    "print(d + years)\n",
    "print(d + datedur)"
   ]
  },
  {
   "cell_type": "markdown",
   "id": "09b16893",
   "metadata": {},
   "source": [
    "Why is this happening? Because 2025.5 is closer to July 2nd than July 1st. There are fewer days from the start of the year to July 1st than there are days from July 1st to the end of the year:"
   ]
  },
  {
   "cell_type": "code",
   "execution_count": null,
   "id": "9c6800de",
   "metadata": {},
   "outputs": [],
   "source": [
    "print(ss.date('2025.7.1') - ss.date('2025.1.1'))\n",
    "print(ss.date('2025.12.31') - ss.date('2025.7.1'))"
   ]
  },
  {
   "cell_type": "markdown",
   "id": "7abf8a80",
   "metadata": {},
   "source": [
    "So even though a month is \"usually\" 1/12th of a year exactly, and although 6/12ths is certainly 0.5, this is an example where we get a different answer depending on whether we do date-based arithmetic or float-based arithmetic."
   ]
  },
  {
   "cell_type": "markdown",
   "id": "eafbcac2",
   "metadata": {},
   "source": [
    "\n",
    "### Rates\n",
    "\n",
    "#### Events vs. probabilities\n",
    "\n",
    "TBC\n",
    "\n",
    "## Timeline\n"
   ]
  },
  {
   "cell_type": "code",
   "execution_count": null,
   "id": "198b39e0",
   "metadata": {},
   "outputs": [],
   "source": [
    "\"\"\"\n",
    "Sanity check of TimeProb vs InstProb\n",
    "\"\"\"\n",
    "import numpy as np\n",
    "\n",
    "# Probability of an event happening over a year -- \"TimeProb\"\n",
    "timeprob = 0.1\n",
    "\n",
    "# \"InstProb\" -- \"Instantaneous probability per year\" (which makes no sense)\n",
    "instprob = -np.log(1-timeprob)\n",
    "\n",
    "year = 365\n",
    "iprob_per_day = timeprob/year # Convert to instantaneous probability per day\n",
    "did_not_happen = 1\n",
    "for day in range(year):\n",
    "    did_not_happen *= 1-iprob_per_day\n",
    "happened = 1 - did_not_happen\n",
    "\n",
    "print(f'{timeprob = }')\n",
    "print(f'{instprob = }')\n",
    "print(f'{happened*1000 = }')\n",
    "# assert np.isclose(happened, timeprob, atol=1e-3)"
   ]
  },
  {
   "cell_type": "code",
   "execution_count": null,
   "id": "1adb23c9",
   "metadata": {},
   "outputs": [],
   "source": []
  }
 ],
 "metadata": {
  "kernelspec": {
   "display_name": "base",
   "language": "python",
   "name": "python3"
  },
  "language_info": {
   "codemirror_mode": {
    "name": "ipython",
    "version": 3
   },
   "file_extension": ".py",
   "mimetype": "text/x-python",
   "name": "python",
   "nbconvert_exporter": "python",
   "pygments_lexer": "ipython3",
   "version": "3.12.10"
  }
 },
 "nbformat": 4,
 "nbformat_minor": 5
}
