{
 "cells": [
  {
   "cell_type": "markdown",
   "id": "dd65a1f9",
   "metadata": {},
   "source": [
    "# Time units\n",
    "\n",
    "TBC"
   ]
  },
  {
   "cell_type": "code",
   "execution_count": null,
   "id": "198b39e0",
   "metadata": {
    "vscode": {
     "languageId": "plaintext"
    }
   },
   "outputs": [],
   "source": [
    "\"\"\"\n",
    "Sanity check of TimeProb vs InstProb\n",
    "\"\"\"\n",
    "import numpy as np\n",
    "\n",
    "# Probability of an event happening over a year -- \"TimeProb\"\n",
    "timeprob = 0.2\n",
    "\n",
    "# \"InstProb\" -- \"Instantaneous probability per year\" (which makes no sense)\n",
    "instprob = -np.log(1-timeprob)\n",
    "\n",
    "year = 365\n",
    "iprob_per_day = instprob/year # Convert to instantaneous probability per day\n",
    "did_not_happen = 1\n",
    "for day in range(year):\n",
    "    did_not_happen *= 1-iprob_per_day\n",
    "happened = 1 - did_not_happen\n",
    "\n",
    "print(f'{timeprob = }')\n",
    "print(f'{instprob = }')\n",
    "print(f'{happened = }')\n",
    "assert np.isclose(happened, timeprob, atol=1e-3)"
   ]
  }
 ],
 "metadata": {
  "kernelspec": {
   "display_name": "base",
   "language": "python",
   "name": "python3"
  },
  "language_info": {
   "codemirror_mode": {
    "name": "ipython",
    "version": 3
   },
   "file_extension": ".py",
   "mimetype": "text/x-python",
   "name": "python",
   "nbconvert_exporter": "python",
   "pygments_lexer": "ipython3",
   "version": "3.12.10"
  }
 },
 "nbformat": 4,
 "nbformat_minor": 5
}
