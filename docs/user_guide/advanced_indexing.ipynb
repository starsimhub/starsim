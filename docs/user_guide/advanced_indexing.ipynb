{
 "cells": [
  {
   "cell_type": "markdown",
   "id": "dd65a1f9",
   "metadata": {},
   "source": [
    "# Advanced indexing\n",
    "\n",
    "This guide covers advanced indexing concepts in Starsim, including universal identifiers (UIDs), active UIDs (auids), and proper array operations.\n",
    "\n",
    "## Overview\n",
    "\n",
    "Starsim uses an indexing system built on NumPy arrays to efficiently manage agents throughout their lifecycle, including when they die or are removed from the simulation. Understanding this system is crucial for writing correct and efficient code.\n",
    "\n",
    "## Key concepts\n",
    "\n",
    "### Universal identifiers (UIDs)\n",
    "\n",
    "Every agent in Starsim has a unique identifier called a **universal identifier** or **UID**. UIDs are integers that:\n",
    "\n",
    "- Are assigned sequentially starting from 0\n",
    "- Never change during an agent's lifetime\n",
    "- Are not reused when agents die\n",
    "- Can be used to index any agent, whether alive or dead\n",
    "\n",
    "### Active UIDs (auids)\n",
    "\n",
    "The simulation also maintains a list of **active UIDs** (auids), which are the UIDs of agents who are currently alive and active in the simulation. This is a dynamic subset of all UIDs.\n",
    "\n",
    "### Array structure\n",
    "\n",
    "Starsim arrays have two main components:\n",
    "\n",
    "- `raw`: Contains data for all agents ever created (indexed by UID)\n",
    "- `values`: Contains data for active agents only (indexed by position in auids)\n",
    "\n",
    "Let's see this in action:"
   ]
  },
  {
   "cell_type": "code",
   "execution_count": null,
   "id": "7agla6ao1iu",
   "metadata": {},
   "outputs": [],
   "source": [
    "import starsim as ss\n",
    "\n",
    "# Create a simple simulation to demonstrate indexing\n",
    "pars = dict(\n",
    "    n_agents=10,\n",
    "    diseases=dict(type='sir', init_prev=0.5, p_death=0.2),\n",
    "    networks='random',\n",
    ")\n",
    "\n",
    "sim = ss.Sim(pars)\n",
    "sim.run()\n",
    "\n",
    "print(f\"Number of agents: {len(sim.people)}\")\n",
    "print(f\"UIDs: {sim.people.uid}\")\n",
    "print(f\"Active UIDs (auids): {sim.people.auids}\")\n",
    "print(f\"All UIDs: {sim.people.uid.raw}\")\n",
    "print(f\"Alive: {sim.people.alive.raw}\")\n",
    "print(f\"Ages (values): {sim.people.age}\")\n",
    "print(f\"Ages (raw): {sim.people.age.raw}\")"
   ]
  },
  {
   "cell_type": "markdown",
   "id": "xewct8bg0zq",
   "metadata": {},
   "source": [
    "## Operations on active vs all agents\n",
    "\n",
    "This is a crucial distinction in Starsim:\n",
    "\n",
    "- **Statistical operations** (like `.mean()`, `.sum()`, `.std()`) operate on **active agents only**\n",
    "- **Indexing operations** depend on what type of index you use:\n",
    "  - `int` or `slice`: operates on active agents (`values`)\n",
    "  - `ss.uids()`: operates on all agents (`raw`)\n",
    "\n",
    "Let's demonstrate this:"
   ]
  },
  {
   "cell_type": "code",
   "execution_count": null,
   "id": "q2b7sb0xewr",
   "metadata": {},
   "outputs": [],
   "source": [
    "print(f\"After simulation:\")\n",
    "print(f\"Total agents ever created: {len(sim.people.uid.raw)}\")\n",
    "print(f\"Active agents: {len(sim.people.auids)}\")\n",
    "print(f\"Active UIDs: {sim.people.auids}\")\n",
    "\n",
    "# Statistical operations work on active agents only\n",
    "print(f\"\\nMean age (active agents): {sim.people.age.mean():.2f}\")\n",
    "print(f\"Mean age (manual calculation): {sim.people.age.values.mean():.2f}\")\n",
    "\n",
    "# This would be different if we included all agents (including dead ones)\n",
    "print(f\"Mean age (all agents, including dead): {sim.people.age.raw[sim.people.age.raw != sim.people.age.nan].mean():.2f}\")"
   ]
  },
  {
   "cell_type": "markdown",
   "id": "ltahaqclf49",
   "metadata": {},
   "source": [
    "## Proper indexing examples\n",
    "\n",
    "Here are examples of correct and incorrect ways to index Starsim arrays:\n",
    "\n",
    "### Correct indexing patterns"
   ]
  },
  {
   "cell_type": "code",
   "execution_count": null,
   "id": "4owgvspvnmx",
   "metadata": {},
   "outputs": [],
   "source": [
    "# ✅ Using integer indices (works on active agents)\n",
    "age_of_first_active = sim.people.age[0]\n",
    "print(f\"Age of first active agent: {age_of_first_active}\")\n",
    "\n",
    "# ✅ Using ss.uids() for specific UIDs\n",
    "specific_uids = ss.uids([0, 1, 2])\n",
    "ages_by_uid = sim.people.age[specific_uids]\n",
    "print(f\"Ages of UIDs {specific_uids}: {ages_by_uid}\")\n",
    "\n",
    "# ✅ Using boolean arrays from states\n",
    "female_uids = sim.people.female.uids  # This gets UIDs of female agents\n",
    "female_ages = sim.people.age[female_uids]\n",
    "print(f\"Ages of female agents: {female_ages}\")\n",
    "\n",
    "# ✅ Using .true() and .false() methods\n",
    "alive_uids = sim.people.alive.true()\n",
    "dead_uids = sim.people.alive.false()\n",
    "print(f\"Alive UIDs: {alive_uids}\")\n",
    "print(f\"Dead UIDs: {dead_uids}\")"
   ]
  },
  {
   "cell_type": "markdown",
   "id": "paacgzq8sst",
   "metadata": {},
   "source": [
    "### Incorrect indexing patterns\n",
    "\n",
    "These examples show what **NOT** to do:"
   ]
  },
  {
   "cell_type": "code",
   "execution_count": null,
   "id": "2pxcnpsmrgh",
   "metadata": {},
   "outputs": [],
   "source": [
    "import sciris as sc\n",
    "\n",
    "# ❌ Don't index with raw lists of integers - this is ambiguous!\n",
    "with sc.tryexcept() as tc:\n",
    "    print('This raises an error:')\n",
    "    sim.people.age[[0, 1, 2]]  # This would raise an error\n",
    "\n",
    "# ❌ Don't mix up .values and .raw\n",
    "age = sim.people.age\n",
    "print('Mean age:', age.mean())\n",
    "print('Mean age (values):', age.values.mean()) # <- same as above\n",
    "print('Mean age (raw):', age.raw.mean()) # <- different since includes dead agents"
   ]
  },
  {
   "cell_type": "markdown",
   "id": "h5cq6bc3vpl",
   "metadata": {},
   "source": [
    "## Best practices and common pitfalls\n",
    "\n",
    "### Do:\n",
    "\n",
    "1. **Use `ss.uids()` when you need to index by specific UIDs**\n",
    "2. **Use statistical methods (`.mean()`, `.sum()`, etc.) directly on arrays** - they automatically work on active agents\n",
    "3. **Use `.uids` property of boolean arrays** to get UIDs of agents matching criteria\n",
    "4. **Use `.true()` and `.false()` methods** for cleaner boolean array handling\n",
    "5. **Remember that integer indexing works on active agents**, not UIDs\n",
    "\n",
    "### Don't:\n",
    "\n",
    "1. **Don't index with raw lists of integers** - use `ss.uids()` instead\n",
    "2. **Don't use `.raw` arrays for statistics** unless you specifically need to include dead agents\n",
    "3. **Don't use boolean operators (`&`, `|`) on non-boolean arrays** - use comparison operators instead\n",
    "4. **Don't forget to check if UID arrays are empty** before performing operations on them\n",
    "\n",
    "### Performance tips:\n",
    "\n",
    "1. **Boolean indexing is efficient** - use it to filter large populations\n",
    "2. **UID operations are optimized** - use set operations like `.intersect()` and `.union()` when appropriate\n",
    "3. **Statistical operations on arrays are fast** - they use NumPy under the hood\n",
    "4. **Avoid loops when possible** - vectorized operations are much faster"
   ]
  }
 ],
 "metadata": {
  "kernelspec": {
   "display_name": "base",
   "language": "python",
   "name": "python3"
  },
  "language_info": {
   "codemirror_mode": {
    "name": "ipython",
    "version": 3
   },
   "file_extension": ".py",
   "mimetype": "text/x-python",
   "name": "python",
   "nbconvert_exporter": "python",
   "pygments_lexer": "ipython3",
   "version": "3.12.10"
  }
 },
 "nbformat": 4,
 "nbformat_minor": 5
}
