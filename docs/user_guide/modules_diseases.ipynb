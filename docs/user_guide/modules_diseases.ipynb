{
 "cells": [
  {
   "cell_type": "markdown",
   "id": "397b7212",
   "metadata": {},
   "source": [
    "# Diseases"
   ]
  },
  {
   "cell_type": "markdown",
   "id": "6adf65fe",
   "metadata": {},
   "source": [
    "## Disease class architecture\n",
    "\n",
    "Starsim has a two-tier disease class hierarchy:\n",
    "\n",
    "### `ss.Disease`\n",
    "- Base class for all diseases\n",
    "- Defines step methods and basic disease structure\n",
    "- Does **not** include transmission logic\n",
    "- Used for non-communicable diseases (NCDs)\n",
    "- Key methods: `define_states()`, `set_prognoses()`\n",
    "\n",
    "### `ss.Infection`\n",
    "- Inherits from `ss.Disease`\n",
    "- Includes transmission logic via the `infect()` method\n",
    "- Used for all communicable diseases\n",
    "- Handles network-based transmission automatically\n",
    "- Applies network-specific betas and agent susceptibility/transmissibility\n",
    "\n",
    "**Important:** Almost all diseases should inherit from `ss.Infection`. Do **not** write your own `infect()` method unless you have very specific requirements - the built-in method correctly handles:\n",
    "\n",
    "- Looping over agents in each network\n",
    "- Applying network- and disease-specific transmission probabilities\n",
    "- Managing agent transmissibility and susceptibility\n",
    "- Mixing pool logic\n",
    "\n",
    "## Key implementation methods\n",
    "\n",
    "| Method | Purpose | When to override |\n",
    "|--------|---------|------------------|\n",
    "| `define_states()` | Initialize disease states (S, I, R, etc.) | Always for custom diseases |\n",
    "| `set_prognoses()` | Set outcomes for newly infected people | (Almost) always for custom diseases |\n",
    "| `step_state()` | Update states each timestep | When adding new state transitions |\n",
    "| `step_die()` | Handle deaths | When disease has custom states |\n",
    "| `infect()` | Handle transmission | **Rarely** - use built-in version |"
   ]
  },
  {
   "cell_type": "markdown",
   "id": "03077b6c",
   "metadata": {
    "collapsed": false,
    "jupyter": {
     "outputs_hidden": false
    }
   },
   "source": [
    "## Implementation patterns\n",
    "\n",
    "### Pattern 1: Extending existing diseases\n",
    "When you need to modify an existing disease model, inherit from it and override specific methods:"
   ]
  },
  {
   "cell_type": "code",
   "execution_count": null,
   "id": "7adf75f1",
   "metadata": {},
   "outputs": [],
   "source": [
    "import starsim as ss\n",
    "\n",
    "class MyCustomSIR(ss.SIR):\n",
    "    def __init__(self, **kwargs):\n",
    "        super().__init__()\n",
    "        # Add custom parameters\n",
    "        self.define_pars(my_param=0.5)\n",
    "        self.update_pars(**kwargs)\n",
    "        \n",
    "    def set_prognoses(self, uids, sources=None):\n",
    "        # Custom progression logic\n",
    "        super().set_prognoses(uids, sources)\n",
    "        # Additional custom logic here"
   ]
  },
  {
   "cell_type": "markdown",
   "id": "ee7b0841",
   "metadata": {},
   "source": [
    "### Pattern 2: Adding new states\n",
    "To add states to an existing disease:"
   ]
  },
  {
   "cell_type": "code",
   "execution_count": null,
   "id": "572ec8fe",
   "metadata": {
    "jupyter": {
     "outputs_hidden": false
    }
   },
   "outputs": [],
   "source": [
    "class MySEIR(ss.SIR):\n",
    "    def __init__(self, **kwargs):\n",
    "        super().__init__()\n",
    "        # Add new parameters\n",
    "        self.define_pars(dur_exp=ss.lognorm_ex(0.5))\n",
    "        self.update_pars(**kwargs)\n",
    "        \n",
    "        # Add new states\n",
    "        self.define_states(\n",
    "            ss.BoolState('exposed', label='Exposed'),\n",
    "            ss.FloatArr('ti_exposed', label='Time of exposure'),\n",
    "        )\n",
    "\n",
    "    @property\n",
    "    def infectious(self):\n",
    "        # Define who can transmit (both infected and exposed)\n",
    "        return self.infected | self.exposed\n",
    "\n",
    "    def step_state(self):\n",
    "        # Call parent state updates first\n",
    "        super().step_state()\n",
    "        \n",
    "        # Add custom state transitions\n",
    "        transitioning = self.exposed & (self.ti_infected <= self.ti)\n",
    "        self.exposed[transitioning] = False\n",
    "        self.infected[transitioning] = True"
   ]
  }
 ],
 "metadata": {
  "kernelspec": {
   "display_name": "base",
   "language": "python",
   "name": "python3"
  },
  "language_info": {
   "codemirror_mode": {
    "name": "ipython",
    "version": 3
   },
   "file_extension": ".py",
   "mimetype": "text/x-python",
   "name": "python",
   "nbconvert_exporter": "python",
   "pygments_lexer": "ipython3",
   "version": "3.12.10"
  }
 },
 "nbformat": 4,
 "nbformat_minor": 5
}
