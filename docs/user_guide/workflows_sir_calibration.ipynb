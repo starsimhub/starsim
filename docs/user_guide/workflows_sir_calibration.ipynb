{
 "cells": [
  {
   "cell_type": "markdown",
   "metadata": {},
   "source": [
    "# Fit stochastic SIR models to synthetic data"
   ]
  },
  {
   "cell_type": "markdown",
   "metadata": {},
   "source": [
    "The Starsim framework includes a built-in susceptible-infected-recovered (SIR) within-host progression module that can be used as a building block to developing more realistic agent-based models. Here, we use that SIR within-host module in combination with mixing pool transmission to create a simple SIR disease model. \n",
    "\n",
    "Then, we validate an optimization-based (Optuna) calibration workflow by fitting the model to synthetic data generated from the same model using known parameter values. Re-identifying the known parameter values from synthetic data provides reassurance that the calibration workflow is functioning as expected. For a more realistic Starsim calibration example, please see [Calibration](workflows_calibration.ipynb).\n",
    "\n",
    "[TODO]: <> (Add link to ModelingHub deterministic example once the URL is live.)\n",
    "\n",
    "This notebook includes the following two examples:\n",
    "1. [Agent-based SIR using Optuna](#ex1): Calibrate a stochastic agent-based SIR model implemented using Starsim to data.\n",
    "2. [Agent-based SIR using Starsim-Optuna integration](#ex2): Use the Calibration class built into the Starsim framework to calibrate a stochastic agent-based SIR model implemented using Starsim to data."
   ]
  },
  {
   "cell_type": "code",
   "execution_count": null,
   "metadata": {},
   "outputs": [],
   "source": [
    "# Configure notebook autoreloading and inline plotting\n",
    "%load_ext autoreload\n",
    "%autoreload 2\n",
    "%matplotlib inline\n",
    "\n",
    "##%% Imports and settings\n",
    "import optuna\n",
    "optuna.logging.set_verbosity(optuna.logging.CRITICAL)\n",
    "import starsim as ss\n",
    "import numpy as np\n",
    "import pandas as pd\n",
    "import sciris as sc\n",
    "import matplotlib.dates as mdates\n",
    "import seaborn as sns\n",
    "from IPython.display import display\n",
    "\n",
    "import warnings\n",
    "warnings.simplefilter(action='ignore', category=FutureWarning)\n",
    "warnings.filterwarnings('ignore', category=optuna.exceptions.ExperimentalWarning)"
   ]
  },
  {
   "cell_type": "markdown",
   "metadata": {},
   "source": [
    "### Stochastic SIR using Optuna outside of Starsim\n",
    "<a id=\"ex1\"></a>"
   ]
  },
  {
   "cell_type": "markdown",
   "metadata": {},
   "source": [
    "First, we create a simple agent-based SIR simulation using Starsim."
   ]
  },
  {
   "cell_type": "code",
   "execution_count": null,
   "metadata": {},
   "outputs": [],
   "source": [
    "def make_sim():\n",
    "    \"\"\"\n",
    "    Make a simple SIR simulation using Starsim.\n",
    "\n",
    "    Returns\n",
    "    -------\n",
    "    Sim\n",
    "        A single simulation that has been configured, but not initialized or run.\n",
    "    \"\"\"\n",
    "    sir_pars = dict(\n",
    "        init_prev = 0.01,\n",
    "        p_death = 0,\n",
    "    )\n",
    "    sir = ss.SIR(pars=sir_pars)\n",
    "\n",
    "    net = ss.MixingPool(\n",
    "        beta = 1, # This is a multiplier on the disease beta\n",
    "        n_contacts = 1,\n",
    "    )\n",
    "\n",
    "    sim_pars = dict(\n",
    "        n_agents = 1000,\n",
    "        dt = ss.days(1),\n",
    "        start = '2025-01-01',\n",
    "        dur = 100,\n",
    "        verbose = 0,\n",
    "    )\n",
    "    sim = ss.Sim(pars=sim_pars, diseases=sir, networks=net)\n",
    "    return sim\n",
    "\n",
    "def modify_sim(sim, calib_pars, rand_seed=0):\n",
    "    \"\"\"\n",
    "    Modify the given simulation with the calibration parameters and random seed.\n",
    "    \n",
    "    Parameters\n",
    "    ----------\n",
    "    sim : Sim\n",
    "        The simulation to modify.\n",
    "    calib_pars : dict\n",
    "        The calibration parameters to apply; note that the parameter values to use are stored in \"value.\"\n",
    "    rand_seed : int\n",
    "        The random seed to use for the simulation.\n",
    "\n",
    "    Returns\n",
    "    -------\n",
    "    Sim\n",
    "        The modified simulation.\n",
    "    \"\"\"\n",
    "\n",
    "    # Explicitly look for each of the calibration parameters and set the appropriate values\n",
    "    if 'beta' in calib_pars:\n",
    "        β = ss.perday(calib_pars['beta']['value'])\n",
    "        sim.pars.diseases.pars['beta'] = β\n",
    "\n",
    "    if 'gamma' in calib_pars:\n",
    "        γ = calib_pars['gamma']['value']\n",
    "        sim.pars.diseases.pars['dur_inf'].set(1/γ)\n",
    "\n",
    "    sim.pars['rand_seed'] = rand_seed\n",
    "\n",
    "    return sim\n",
    "\n",
    "\n",
    "def run_starsim(pars, rand_seed=0):\n",
    "    \"\"\"\n",
    "    Run a Starsim SIR model with given parameters and random seed, returning results.\n",
    "    \n",
    "    Parameters\n",
    "    ----------\n",
    "    pars : dict\n",
    "        The parameters dictionary with Optuna a values stored in \"value.\"\n",
    "    rand_seed : int\n",
    "        The random seed to use for the simulation.\n",
    "\n",
    "    Returns\n",
    "    -------\n",
    "    dataframe\n",
    "        The results of the SIR model with columns of S, I, and R and index of Time.\n",
    "    \"\"\"\n",
    "    # Make and modify the simulation\n",
    "    sim = make_sim()\n",
    "    sim = modify_sim(sim, pars, rand_seed)\n",
    "\n",
    "    sim.run() # Run the simulation\n",
    "\n",
    "    # Extract the results\n",
    "    results = pd.DataFrame(dict(\n",
    "        S = sim.results.sir.n_susceptible,\n",
    "        I = sim.results.sir.n_infected,\n",
    "        R = sim.results.sir.n_recovered,\n",
    "    ), index=pd.Index(sim.results.timevec, name='Time'))\n",
    "    results['rand_seed'] = rand_seed # Store the random seed for later reference\n",
    "\n",
    "    return results"
   ]
  },
  {
   "cell_type": "markdown",
   "metadata": {},
   "source": [
    "That set the basic machinery of the SIR simulation model. Next, we'll create some synthetic data to use as calibration targets. Because the model is stochastic, we'll average over several replicates."
   ]
  },
  {
   "cell_type": "code",
   "execution_count": null,
   "metadata": {},
   "outputs": [],
   "source": [
    "n_reps = 10 # Number of repetitions to run\n",
    "\n",
    "# These are the true parameters the optimizer will later try to identify\n",
    "true_pars = dict(\n",
    "    beta = dict(value=0.12),\n",
    "    gamma = dict(value=0.03),\n",
    ")\n",
    "\n",
    "# Run the starsim SIR simulations in parallel. If you need to run in serial, for example when debugging, simply set serial=True\n",
    "results_list = sc.parallelize(run_starsim, pars=true_pars, iterkwargs=dict(rand_seed=np.arange(n_reps)), serial=False)\n",
    "results = pd.concat(results_list) # Combine the results into a single DataFrame\n",
    "ave = results.groupby('Time').mean().drop(columns='rand_seed') # Average the results over the repetitions\n",
    "\n",
    "# Extract synthetic data for calibration\n",
    "observation_times = np.array([pd.Timestamp('2025-01-01')+pd.DateOffset(days=d) for d in [20, 40, 80]])\n",
    "starsim_data = pd.DataFrame({\n",
    "    'x': ave.loc[observation_times, 'I'].astype(int),\n",
    "    'n': ave.loc[observation_times].sum(axis=1),\n",
    "    'Prevalence': ave.loc[observation_times, 'I'] / ave.loc[observation_times].sum(axis=1)\n",
    "}, index=pd.Index(observation_times, name='t'))\n",
    "\n",
    "print('Here is the data extracted from the average simulation to be used during calibration:\\n')\n",
    "display(starsim_data)\n",
    "\n",
    "# Plot the results, vertical dashed lines indicate the observation times where prevalence is measured\n",
    "df = results.reset_index().melt(id_vars=['Time', 'rand_seed'], value_vars=['S', 'I', 'R'], var_name='State', value_name='Count')\n",
    "ax = sns.lineplot(data=df, hue='State', x='Time', y='Count', units='rand_seed', estimator=None, alpha=0.5, lw=0.5, legend=False)\n",
    "sns.lineplot(data=df, hue='State', x='Time', y='Count', errorbar=('pi', 50), ax=ax, legend=True)\n",
    "ax.xaxis.set_major_formatter(mdates.ConciseDateFormatter(ax.xaxis.get_major_locator()))\n",
    "for ot in observation_times:\n",
    "    ax.axvline(ot, ls='--', color='black')\n",
    "ax.scatter(starsim_data.index, starsim_data['x'], marker='o', color='black', label='Observed data');"
   ]
  },
  {
   "cell_type": "markdown",
   "metadata": {},
   "source": [
    "Now we'll set about trying to calibrate to this data using the [Optuna](optuna.org) hyperparameter optimization library."
   ]
  },
  {
   "cell_type": "code",
   "execution_count": null,
   "metadata": {},
   "outputs": [],
   "source": [
    "# We will calibrate two parameters, beta and gamma, each allowed to take on values between 0 and 1.\n",
    "calib_pars = dict(\n",
    "    beta = {'low': 0, 'high': 1},\n",
    "    gamma = {'low': 0, 'high': 1},\n",
    ")\n",
    "\n",
    "def evaluate(results, calib_data):\n",
    "    \"\"\"\n",
    "    Evaluate the results of a simulation against calibration data.\n",
    "\n",
    "    Parameters\n",
    "    ----------\n",
    "    results: DataFrame\n",
    "        The results of a simulation.\n",
    "    calib_data: DataFrame\n",
    "        The calibration data to compare against.\n",
    "\n",
    "    Returns\n",
    "    -------\n",
    "    float\n",
    "        The squared error between the simulation results and the calibration data.\n",
    "    \"\"\"\n",
    "    squared_error = 0\n",
    "    for step, expected in calib_data.iterrows():\n",
    "        observed = results.loc[step, 'I'] / results.loc[step].sum()\n",
    "        squared_error += (observed - expected)**2\n",
    "    return squared_error\n",
    "\n",
    "def trial_to_pars(trial):\n",
    "    \"\"\"\n",
    "    Map an Optuna trial to a parameter spec.\n",
    "\n",
    "    Parameters\n",
    "    ----------\n",
    "    trial: optuna.Trial\n",
    "        The trial to map.\n",
    "\n",
    "    Returns\n",
    "    -------\n",
    "    dict\n",
    "        The parameters dictionary with Optuna a values stored in \"value.\"\n",
    "    \"\"\"\n",
    "    pars = sc.dcp(calib_pars)\n",
    "    for name, spec in pars.items():\n",
    "        spec['value'] = trial.suggest_float(name=name, **spec)\n",
    "    return pars"
   ]
  },
  {
   "cell_type": "code",
   "execution_count": null,
   "metadata": {},
   "outputs": [],
   "source": [
    "def objective(trial):\n",
    "    \"\"\"\n",
    "    Evaluate a trial by running the Starsim model and comparing the results to the calibration data.\n",
    "\n",
    "    Parameters\n",
    "    ----------\n",
    "    trial: optuna.Trial\n",
    "        The trial to map.\n",
    "\n",
    "    Returns\n",
    "    -------\n",
    "    float\n",
    "        The objective value of the trial\n",
    "    \"\"\"\n",
    "    pars = trial_to_pars(trial)\n",
    "    result = run_starsim(pars, rand_seed=0)\n",
    "    objective = evaluate(result[['S', 'I', 'R']], starsim_data[['Prevalence']])\n",
    "    return objective\n",
    "\n",
    "def callback_on_threshold(study, trial):\n",
    "    # Assuming we want to minimize the objective\n",
    "    if study.best_value is not None and study.best_value < 1e-2:\n",
    "        print(f\"Objective value threshold reached: {study.best_value}. Stopping study.\")\n",
    "        study.stop()\n",
    "\n",
    "\n",
    "# The following two lines create an Optuna study and optimize the objective function - easy!\n",
    "study = optuna.create_study()\n",
    "study.optimize(objective, n_trials=2500, callbacks=[callback_on_threshold]) # We'll run up to 2,500 total trials. This may take a few minutes, depending on your computer. Consider reducing this number if you like.\n",
    "\n",
    "# Print a summary\n",
    "sc.colorize(color='blue', string=f'The best parameters identified by the optimization are:\\n\\\n",
    "    * {study.best_params}\\n\\\n",
    "    These parameters should be close to the true parameters:\\n\\\n",
    "    * {true_pars}\\n\\\n",
    "    The best parameters resulted in a loss of {study.best_value}.')\n",
    "\n",
    "# Plot the results\n",
    "fig = optuna.visualization.matplotlib.plot_optimization_history(study);\n",
    "fig.axes.set_yscale('log')\n",
    "\n",
    "ax = optuna.visualization.matplotlib.plot_contour(study);\n",
    "ax.axvline(true_pars['beta']['value'], ls='--', color='black')\n",
    "ax.axhline(true_pars['gamma']['value'], ls='--', color='black')\n",
    "ax.scatter(study.best_params['beta'], study.best_params['gamma'], 100, marker='x', color='red', zorder=10);"
   ]
  },
  {
   "cell_type": "markdown",
   "metadata": {},
   "source": [
    "The parameters seem pretty good! Let's see what simulation look like using the best parameters."
   ]
  },
  {
   "cell_type": "code",
   "execution_count": null,
   "metadata": {},
   "outputs": [],
   "source": [
    "n_reps = 10 # Number of repetitions to run\n",
    "\n",
    "# These are the true parameters the optimizer will later try to identify.\n",
    "best_pars = dict(\n",
    "    beta = dict(value=study.best_params['beta']),\n",
    "    gamma = dict(value=study.best_params['gamma']),\n",
    ")\n",
    "\n",
    "# Run the starsim SIR simulations in parallel. If you need to run in serial, for example when debugging, simply set serial=True\n",
    "results_list = sc.parallelize(run_starsim, pars=best_pars, iterkwargs=dict(rand_seed=np.arange(n_reps)), serial=False)\n",
    "results = pd.concat(results_list) # Combine the results into a single DataFrame\n",
    "\n",
    "# Plot the results, vertical dashed lines indicate the observation times where prevalence is measured\n",
    "df = results.reset_index().melt(id_vars=['Time', 'rand_seed'], value_vars=['S', 'I', 'R'], var_name='State', value_name='Count')\n",
    "ax = sns.lineplot(data=df, hue='State', x='Time', y='Count', units='rand_seed', estimator=None, alpha=0.5, lw=0.5, legend=False)\n",
    "sns.lineplot(data=df, hue='State', x='Time', y='Count', errorbar=('pi', 50), ax=ax, legend=True)\n",
    "ax.xaxis.set_major_formatter(mdates.ConciseDateFormatter(ax.xaxis.get_major_locator()))\n",
    "for ot in observation_times:\n",
    "    ax.axvline(ot, ls='--', color='black')\n",
    "ax.scatter(starsim_data.index, starsim_data['x'], marker='o', color='black', label='Observed data')"
   ]
  },
  {
   "cell_type": "markdown",
   "metadata": {},
   "source": [
    "The fit looks great! Onto the next example."
   ]
  },
  {
   "cell_type": "markdown",
   "metadata": {},
   "source": [
    "### Stochastic SIR using Optuna integrated within Starsim\n",
    "<a id=\"ex2\"></a>"
   ]
  },
  {
   "cell_type": "markdown",
   "metadata": {},
   "source": [
    "The previous example used the Optuna Bayesian optimization algorithm as a \"wrapper\" around a stochastic disease model. Starsim provides built-in integration with Optuna to make advanced model calibration easier. We demonstrate that linkage below."
   ]
  },
  {
   "cell_type": "markdown",
   "metadata": {},
   "source": [
    "In this example, we use a Beta-binomial likelihood function; however, results shouldn't be too different from the simple example above that used a squared error metric."
   ]
  },
  {
   "cell_type": "code",
   "execution_count": null,
   "metadata": {},
   "outputs": [],
   "source": [
    "sim = make_sim() # Begin by making a single \"base\" simulation with default parameters\n",
    "\n",
    "# This example will use a single calibration component\n",
    "# We choose a Beta-binomial functional form to represent the \"prevalence survey\" data, taking advantage of both the numerator (x) and denominator (n) data.\n",
    "prevalence_component = ss.BetaBinomial(\n",
    "    name = 'SIR Disease Prevalence',\n",
    "    conform = 'step_containing', # The starsim_data data has a date for each observation. The \"step_containing\" conform method will extract simulation results on the time step containing the observation date.\n",
    "\n",
    "    # Here is the data we are trying to match, using the \"x\" and \"n\" columns from the starsim_data DataFrame.\n",
    "    expected = starsim_data[['x', 'n']],\n",
    "\n",
    "    # And here is how we will extract the relevant data from the simulation results\n",
    "    extract_fn = lambda sim: pd.DataFrame({\n",
    "        'x': sim.results.sir.n_infected, # Numerator\n",
    "        'n': sim.results.n_alive, # Denominator\n",
    "    }, index=pd.Index(sim.results.timevec, name='t')),\n",
    ")\n",
    "\n",
    "# Make the calibration\n",
    "calib = ss.Calibration(\n",
    "    sim = sim,                              # The base simulation\n",
    "    calib_pars = calib_pars,                # The calibration parameters\n",
    "    build_fn = modify_sim,                  # The function to modify the base simulation with the calibration parameters\n",
    "    reseed = False,                         # In this example, we will not reseed the simulation for each calibration trial\n",
    "    components = [prevalence_component],    # The calibration components\n",
    "    total_trials = 500,                     # We will run 500 total trials, as before. This might take some time, depending on your computer.\n",
    "    verbose = False,                        # Shh...\n",
    "\n",
    "    sampler = optuna.samplers.TPESampler(n_startup_trials=100)\n",
    ")\n",
    "\n",
    "calib.calibrate() # Let's go!\n",
    "\n",
    "# Print out a summary\n",
    "sc.colorize(color='blue', string=f'The best parameters identified by the optimization are:\\n\\\n",
    "    * {calib.best_pars}\\n\\\n",
    "    These parameters should be close to the true parameters:\\n\\\n",
    "    * {true_pars}\\n\\\n",
    "    The best parameters resulted in a loss of {calib.study.best_value}.')"
   ]
  },
  {
   "cell_type": "markdown",
   "metadata": {},
   "source": [
    "It seems like the best parameter values are pretty close to the right values, so that's good. We can look at all the results and easily create a DataFrame containing the top K runs."
   ]
  },
  {
   "cell_type": "code",
   "execution_count": null,
   "metadata": {},
   "outputs": [],
   "source": [
    "df = calib.to_df(top_k=10)\n",
    "display(df)"
   ]
  },
  {
   "cell_type": "code",
   "execution_count": null,
   "metadata": {},
   "outputs": [],
   "source": [
    "# Plot the results\n",
    "figs = calib.plot_optuna(['plot_optimization_history', 'plot_contour']);\n",
    "figs[0].axes.set_yscale('log')\n",
    "\n",
    "figs[1].axvline(true_pars['beta']['value'], ls='--', color='black');\n",
    "figs[1].axhline(true_pars['gamma']['value'], ls='--', color='black');\n",
    "figs[1].scatter(calib.study.best_params['beta'], calib.study.best_params['gamma'], 100, marker='x', color='red', zorder=10);"
   ]
  },
  {
   "cell_type": "markdown",
   "metadata": {},
   "source": [
    "Finally, let's run some simulations with the best parameters and compare to the calibration data."
   ]
  },
  {
   "cell_type": "code",
   "execution_count": null,
   "metadata": {},
   "outputs": [],
   "source": [
    "n_reps = 10 # Number of repetitions to run\n",
    "\n",
    "# These are the true parameters! Shhh, don't tell the optimizer.\n",
    "best_pars = dict(\n",
    "    beta = dict(value=calib.study.best_params['beta']),\n",
    "    gamma = dict(value=calib.study.best_params['gamma']),\n",
    ")\n",
    "\n",
    "# Run the starsim SIR simulations in parallel, cool! If you need to run in serial, for example when debugging, simply set serial=True\n",
    "results_list = sc.parallelize(run_starsim, pars=best_pars, iterkwargs=dict(rand_seed=np.arange(n_reps)), serial=False)\n",
    "results = pd.concat(results_list) # Combine the results into a single DataFrame\n",
    "\n",
    "# Plot the results, vertical dashed lines indicate the observation times where prevalence is measured\n",
    "df = results.reset_index().melt(id_vars=['Time', 'rand_seed'], value_vars=['S', 'I', 'R'], var_name='State', value_name='Count')\n",
    "ax = sns.lineplot(data=df, hue='State', x='Time', y='Count', units='rand_seed', estimator=None, alpha=0.5, lw=0.5, legend=False)\n",
    "sns.lineplot(data=df, hue='State', x='Time', y='Count', errorbar=('pi', 50), ax=ax, legend=True)\n",
    "ax.xaxis.set_major_formatter(mdates.ConciseDateFormatter(ax.xaxis.get_major_locator()))\n",
    "for ot in observation_times:\n",
    "    ax.axvline(ot, ls='--', color='black')\n",
    "ax.scatter(starsim_data.index, starsim_data['x'], marker='o', color='black', label='Observed data');"
   ]
  },
  {
   "cell_type": "markdown",
   "metadata": {},
   "source": [
    "These results also look great."
   ]
  }
 ],
 "metadata": {
  "kernelspec": {
   "display_name": "starsim",
   "language": "python",
   "name": "python3"
  },
  "language_info": {
   "codemirror_mode": {
    "name": "ipython",
    "version": 3
   },
   "file_extension": ".py",
   "mimetype": "text/x-python",
   "name": "python",
   "nbconvert_exporter": "python",
   "pygments_lexer": "ipython3",
   "version": "3.13.2"
  }
 },
 "nbformat": 4,
 "nbformat_minor": 4
}
