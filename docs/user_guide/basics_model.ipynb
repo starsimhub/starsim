{
 "cells": [
  {
   "cell_type": "markdown",
   "id": "dd65a1f9",
   "metadata": {},
   "source": [
    "# Model structure\n",
    "Starsim models are designed to capture disease dynamics within a population of agents, which typically represent people (but may represent animals or other things). In keeping with this, the basic ingredients of a Starsim model are the `People` class, which store all the relevant attributes about people, a collection of `Modules` that determine what happens to people on each time step, and the `Sim` class, which pulls all the components together, runs the simulation, and stores the `Results`. \n",
    "\n",
    "## Overview of People\n",
    "More details on the `People` class are in the separate user guide page, but we give a basic introduction here since people are so central to the model structure. When people are created, by default they come with basic states that are stored for each person. These basic states include age, sex, and whether the person is alive. All of these states are stored as arrays, so the basic structure of the `People` class can be easily exported to a dataframe, e.g. "
   ]
  },
  {
   "cell_type": "code",
   "execution_count": null,
   "id": "d6fcbe2a",
   "metadata": {},
   "outputs": [],
   "source": [
    "import starsim as ss\n",
    "\n",
    "sim = ss.Sim(n_agents=10)\n",
    "sim.init()\n",
    "df = sim.people.to_df()\n",
    "print(df)"
   ]
  },
  {
   "cell_type": "markdown",
   "id": "a383ebed",
   "metadata": {},
   "source": [
    " When a module is added to a sim, this can add additional states to people. Tracking and updating the states of people is one of the main ways in which Starsim models disease dynamics. For example:"
   ]
  },
  {
   "cell_type": "code",
   "execution_count": 3,
   "id": "8c10c01b",
   "metadata": {},
   "outputs": [
    {
     "name": "stdout",
     "output_type": "stream",
     "text": [
      "Initializing sim with 20 agents\n",
      "  Running 2000.0 ( 0/51) (0.00 s)  ———————————————————— 2%\n",
      "  Running 2010.0 (10/51) (0.01 s)  ••••———————————————— 22%\n",
      "  Running 2020.0 (20/51) (0.03 s)  ••••••••———————————— 41%\n",
      "  Running 2030.0 (30/51) (0.04 s)  ••••••••••••———————— 61%\n",
      "  Running 2040.0 (40/51) (0.05 s)  ••••••••••••••••———— 80%\n",
      "  Running 2050.0 (50/51) (0.06 s)  •••••••••••••••••••• 100%\n",
      "\n",
      "    alive  female      age  ti_dead  scale  randomnet.participant  sis.susceptible  sis.infected  sis.rel_sus  sis.rel_trans  sis.ti_infected  sis.ti_recovered  sis.immunity\n",
      "0    True   False  41.9206      NaN    1.0                  False            False          True       0.0000            1.0             43.0           54.5615        1.2211\n",
      "1    True    True   8.3138      NaN    1.0                  False             True         False       0.4265            1.0             35.0           44.2277        0.5735\n",
      "2    True   False  96.9157      NaN    1.0                  False             True         False       0.8953            1.0              6.0           15.3785        0.1047\n",
      "3    True   False   0.2171      NaN    1.0                  False             True         False       0.3510            1.0             32.0           41.8182        0.6490\n",
      "4    True   False  73.0331      NaN    1.0                  False             True         False       0.3437            1.0             38.0           46.3415        0.6563\n",
      "5    True   False  71.1516      NaN    1.0                  False            False          True       0.7521            1.0             50.0           59.0825        1.2479\n",
      "6    True    True  90.4872      NaN    1.0                  False             True         False       0.7165            1.0             18.0           26.3401        0.2835\n",
      "7    True   False  87.6734      NaN    1.0                  False             True         False       0.0649            1.0             39.0           49.8239        0.9351\n",
      "8    True   False  11.7948      NaN    1.0                  False             True         False       0.7307            1.0             16.0           25.0191        0.2693\n",
      "9    True   False  45.3820      NaN    1.0                  False             True         False       0.8840            1.0              8.0           20.4187        0.1160\n",
      "10   True    True   6.7500      NaN    1.0                  False             True         False       0.5435            1.0             29.0           40.1188        0.4565\n",
      "11   True   False  71.1641      NaN    1.0                  False             True         False       0.7807            1.0             12.0           22.9505        0.2193\n",
      "12   True    True  42.1380      NaN    1.0                  False            False          True       0.0000            1.0             49.0           59.2219        1.1975\n",
      "13   True    True  46.0443      NaN    1.0                  False             True         False       0.3624            1.0             36.0           46.3830        0.6376\n",
      "14   True   False  41.0121      NaN    1.0                  False            False          True       0.1464            1.0             41.0           52.7203        0.8536\n",
      "15   True   False  81.3710      NaN    1.0                  False            False          True       0.2022            1.0             43.0           53.1190        0.7978\n",
      "16   True   False  28.2476      NaN    1.0                  False             True         False       0.2293            1.0             34.0           43.9819        0.7707\n",
      "17   True    True  32.6988      NaN    1.0                  False             True         False       0.7215            1.0             17.0           27.5078        0.2785\n",
      "18   True    True  68.0754      NaN    1.0                  False             True         False       0.6232            1.0             25.0           37.4196        0.3768\n",
      "19   True   False  41.7816      NaN    1.0                  False             True         False       0.6914            1.0             19.0           28.9135        0.3086\n"
     ]
    }
   ],
   "source": [
    "import starsim as ss\n",
    "\n",
    "sim = ss.Sim(n_agents=20, diseases=dict(type='sis', init_prev=0.2), networks='random')\n",
    "sim.run()\n",
    "df = sim.people.to_df()\n",
    "df.disp()"
   ]
  },
  {
   "cell_type": "markdown",
   "id": "3e847a51",
   "metadata": {},
   "source": [
    "We can see even in this very simple example with only one disease and 20 agents, a lot of data is generated!"
   ]
  },
  {
   "cell_type": "markdown",
   "id": "f05aa4ce",
   "metadata": {},
   "source": [
    "\n",
    "## Overview of Modules\n",
    "Starsim contains the following kinds of modules, listed below in the order that they are typically updated:\n",
    "* Demographics\n",
    "* Diseases\n",
    "* Connectors\n",
    "* Networks\n",
    "* Interventions\n",
    "* Analyzers\n",
    "\n",
    "Modules typically store _parameters_ (e.g. the transmission probability), _states_ of people (e.g. whether they are susceptible, infected, or recovered), and _results_ (e.g. the number of people infected at each point in time). \n",
    "\n",
    "## Overview of a Sim\n",
    "The `Sim` object is responsible for storing assembling, initializing, and running the model. The `Sim` class contains some top-level parameters (including the number of agents in the simulation, the start and stop times, and the random seed) and results (e.g. the population size over time), but almost all other parameters and results are specific to modules and stored within them. There are more details on the `Sim` on the linked page.\n",
    "\n",
    "## What happens when you add a module?\n",
    "When you add a module to a `Sim`, the module's parameters, states, and results will be added to the centralized collections of parameters, states, and results that are maintained within the `Sim`. To illustrate this, let's create a `Sim` with an SIR disease module and a random contact network:"
   ]
  },
  {
   "cell_type": "code",
   "execution_count": null,
   "id": "c1095542",
   "metadata": {},
   "outputs": [],
   "source": [
    "import starsim as ss \n",
    "sir = ss.SIR(dur_inf=10, beta=0.2, init_prev=0.4, p_death=0.2)\n",
    "sim = ss.Sim(diseases=sir, networks='random')\n",
    "sim.init()  # Initialize the sim to create "
   ]
  },
  {
   "cell_type": "markdown",
   "id": "62331b8c",
   "metadata": {},
   "source": [
    "The call to `sim.init()` means that the `SIR` module gets added to `sim.diseases` and the `RandomNet` network gets added to `sim.networks`. In addition, the following updates are made:\n",
    "* the parameters of the modules are added to the sim's centralized parameter dictionary, so you can access them via either `sim.pars.sir.init_prev` or `sim.diseases.sir.pars.init_prev`\n",
    "* the states specific to each module are added to `People`, so you can access them via `sim.diseases.sir.infected` or `sim.people.sir.infected`\n",
    "* the results specific to each module are added to the centralized Results dictionary of the `Sim`, so you can access them via `sim.diseases.sir.results.n_infected` or `sim.results.sir.n_infected`."
   ]
  },
  {
   "cell_type": "markdown",
   "id": "65cdff20",
   "metadata": {},
   "source": [
    "## Overview of Results\n",
    "Once you've run a `Sim`, all the results are stored under `sim.results`. This is structured similarly to a nested dictionary, with results specific to each module stored in their own dictionaries, like the `sim.results.sir.n_infected` example above. "
   ]
  }
 ],
 "metadata": {
  "kernelspec": {
   "display_name": "base",
   "language": "python",
   "name": "python3"
  },
  "language_info": {
   "codemirror_mode": {
    "name": "ipython",
    "version": 3
   },
   "file_extension": ".py",
   "mimetype": "text/x-python",
   "name": "python",
   "nbconvert_exporter": "python",
   "pygments_lexer": "ipython3",
   "version": "3.12.10"
  }
 },
 "nbformat": 4,
 "nbformat_minor": 5
}
