{
 "cells": [
  {
   "cell_type": "markdown",
   "id": "dd65a1f9",
   "metadata": {},
   "source": [
    "# People, States, and Arrays\n",
    "Starsim is a framework for creating agent-based models, and the `People` class is where we store the agents, so it should come as no surprise that this class serves as the fundamental heart of any Starsim model. In this page we provide alternative pathways for creating people and some guidance on how to adapt these workflows depending on your needs. \n",
    "\n",
    "We start by giving an overview on this page of Starsim's custom `Arr` (array) classes, which are a separate but related Starsim class designed to neatly track data about people. \n",
    "\n",
    "## Starsim States and Arrays\n",
    "Starsim has a set of custom array classes for recording information about each agent in the population. The two fundamental types of array for storing such infomation are the `State` class, which is a Boolean array, and the `FloatArr` class, which stores numbers (we don't distinguish between floats and integers, so all numbers are stored in these arrays). Each of these is a subclass of the Starsim `Arr` class.\n",
    "\n",
    "The `Arr` class in Starsim is optimized for three key tasks that are common to almost all Starsim models: \n",
    "1. dynamic growth: as the population grows over time, the size of the arrays dynamically update in a way that avoids costly concatenation operations;\n",
    "2. indexing: over time, there are agents in the population who die. It is desirable for these agents to remain in the arrays so that we can continue to access data about them, but the indexing is set up so that dead agents are automatically excluded from most operations.\n",
    "3. stochastic states: we often want to set the values of a state by sampling from a random variable (e.g. sex might be drawn as a Bernoulli random variable). Starsim's `Arr` class can be initialized with a random variables; we will provide examples of this below.\n",
    "\n",
    "## Creating default people\n",
    "When you create a sim, it automatically creates `People`, and you can use the `n_agents` argument to control the population size:"
   ]
  },
  {
   "cell_type": "code",
   "execution_count": null,
   "id": "f7abc0ec",
   "metadata": {},
   "outputs": [],
   "source": [
    "import numpy as np\n",
    "import pandas as pd\n",
    "import starsim as ss \n",
    "sim = ss.Sim(n_agents=1000)  # Create a sim with default people\n",
    "sim.init()"
   ]
  },
  {
   "cell_type": "markdown",
   "id": "d363f3e6",
   "metadata": {},
   "source": [
    "The `People` that are added to the `Sim` come with the following default states and arrays:\n",
    "* 'alive', a `State` that records whether each agent is alive\n",
    "* 'female', a `State` that records whether each agent is female\n",
    "* 'age', a `FloatArr` that records agent ages\n",
    "* `ti_dead`, a `FloatArr` that records the time of death, NaN by default\n",
    "* `scale`, a `FloatArr` that records the number of people that each agent represents; 1 by default."
   ]
  },
  {
   "cell_type": "markdown",
   "id": "26a17b4f",
   "metadata": {},
   "source": [
    "## Creating custom people\n",
    "Rather than relying on the `Sim` to create people, you can create your own `People` and add them to the `Sim` as a separate argument. The example below is equivalent to the one immediately above:"
   ]
  },
  {
   "cell_type": "code",
   "execution_count": null,
   "id": "816a2125",
   "metadata": {},
   "outputs": [],
   "source": [
    "people = ss.People(1000)\n",
    "sim = ss.Sim(people=people)"
   ]
  },
  {
   "cell_type": "markdown",
   "id": "26686df2",
   "metadata": {},
   "source": [
    "The main reason to create custom people is if you want to specify a particular age/sex distribution. The following example creates a population with the age distribution of Nigeria:"
   ]
  },
  {
   "cell_type": "code",
   "execution_count": null,
   "id": "355d126c",
   "metadata": {},
   "outputs": [],
   "source": [
    "age_data = pd.read_csv('test_data/nigeria_age.csv')\n",
    "ppl = ss.People(n_agents=10e3, age_data=age_data)  "
   ]
  },
  {
   "cell_type": "markdown",
   "id": "156472dd",
   "metadata": {},
   "source": [
    "Another reason to create custom people is if there are additional attributes that you want to track. Let's say we want to add a state to track urban/rural status. The example below also illustrates how you can add a stochastic state whose values are sampled from a distribution."
   ]
  },
  {
   "cell_type": "code",
   "execution_count": null,
   "id": "090f4d02",
   "metadata": {},
   "outputs": [],
   "source": [
    "def urban_function(n):\n",
    "    \"\"\" Make a function to randomly assign people to urban/rural locations \"\"\" \n",
    "    return np.random.choice(a=[True, False], p=[0.5, 0.5], size=n)\n",
    "\n",
    "urban = ss.State('urban', default=urban_function)\n",
    "ppl = ss.People(10, extra_states=urban)  # Create 10 people with this state\n",
    "sim = ss.Sim(people=ppl)\n",
    "sim.init()  # Initialize the sim --> essential step to create the people and sample states\n",
    "print(f'Number of urban people: {np.count_nonzero(sim.people.urban)}')"
   ]
  },
  {
   "cell_type": "markdown",
   "id": "85c0cf80",
   "metadata": {},
   "source": [
    "## Modifying people with modules\n",
    "We saw an example above of adding a custom state to people. However, a far more common way to add states to people is by adding a module to the `Sim`. All the states of the modules will automatically get added to the main `People` instance. "
   ]
  },
  {
   "cell_type": "code",
   "execution_count": null,
   "id": "4ecd3e3a",
   "metadata": {},
   "outputs": [],
   "source": [
    "ppl = ss.People(10)\n",
    "ppl.add_module(ss.HIV())\n",
    "sim = ss.Sim(people=ppl)\n",
    "sim.init()\n",
    "print(f'Number of HIV-infected people: {np.count_nonzero(sim.people.hiv.infected)}')"
   ]
  },
  {
   "cell_type": "markdown",
   "id": "4d711486",
   "metadata": {},
   "source": [
    "When states or arrays are added by modules, they are stored as dictionaries under the name of that module.\n",
    "\n",
    "Note that the Starsim `Arr` class can be used like a Numpy array, with all the standard arithmetic operations like sums, mean, counting, etc."
   ]
  }
 ],
 "metadata": {
  "kernelspec": {
   "display_name": "base",
   "language": "python",
   "name": "python3"
  },
  "language_info": {
   "codemirror_mode": {
    "name": "ipython",
    "version": 3
   },
   "file_extension": ".py",
   "mimetype": "text/x-python",
   "name": "python",
   "nbconvert_exporter": "python",
   "pygments_lexer": "ipython3",
   "version": "3.12.10"
  }
 },
 "nbformat": 4,
 "nbformat_minor": 5
}
