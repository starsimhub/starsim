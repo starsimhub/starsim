{
 "cells": [
  {
   "cell_type": "markdown",
   "id": "dd65a1f9",
   "metadata": {},
   "source": [
    "# Distributions\n",
    "\n",
    "Agent-based models draw random numbers from distributions to simulate various phenomena. Realizations (also called draws or samples) from distributions are used to model everything from the duration of each infection to the number of contacts each individual has in a network to the outcomes of individual diagnostic tests. The Starsim framework includes state of the art functionality for specifying and sampling from statistical distributions.\n",
    "\n",
    "In this guide, you will:\n",
    "\n",
    "- Learn which distributions are available in Starsim.\n",
    "- See how to use Starsim framework functionality to create a frozen distribution, generate samples, visualize the distribution, and extract statistics.\n",
    "- Set or update model parameters that are distributions.\n",
    "- Use distributions with \"dynamic parameters\" that depend on agent attributes, the simulation time, or other factors.\n",
    "- Build an example Starsim intervention that uses a distribution with dynamic parameters.\n",
    "\n",
    "One key advantage of Starsim distributions is that they enable low-variance comparison between simulations through a technique called \"common random numbers\" (CRN). To learn more about CRN, see the [Common Random Numbers](advanced_random.ipynb) guide."
   ]
  },
  {
   "cell_type": "markdown",
   "id": "82d94202",
   "metadata": {},
   "source": [
    "## Available distributions\n",
    "\n",
    "The starsim framework includes a wide range of distributions that can be used to model various phenomena. The following distributions are available:"
   ]
  },
  {
   "cell_type": "markdown",
   "id": "7431a39b",
   "metadata": {},
   "source": [
    "| Distribution         | Starsim Dist   | Parameters                                               | Description                                                                                                                                           |\n",
    "|----------------------|----------------|----------------------------------------------------------|-------------------------------------------------------------------------------------------------------------------------------------------------------|\n",
    "| Random               | random         | None                                                     | Random number between 0 and 1.                                                                                                                        |\n",
    "| Uniform              | uniform        | low, high                                                | Random number between a specified minimum and maximum.                                                                                                |\n",
    "| Normal               | normal         | loc (mean), scale (standard deviation)                   | Random number from a normal (Gaussian) distribution with specified mean and standard deviation.                                                        |\n",
    "| Lognormal (implicit) | lognormal_im   | mean, sigma (of the underlying normal distribution) | Random number from a lognormal distribution specified by the mean and standard deviation of the underlying normal distribution.                        |\n",
    "| Lognormal (explicit) | lognormal_ex   | mean, std (of the distribution itself; mean must be positive) | Random number from a lognormal distribution specified by the mean and standard deviation of the distribution itself.                                   |\n",
    "| Exponential          | expon          | scale (mean of the distribution, equivalent to 1/λ)                                                    | Random number from an exponential distribution with specified scale parameter.                                                                          |\n",
    "| Poisson              | poisson        | lam                                                     | Random number from a Poisson distribution with specified rate parameter.                                                                               |\n",
    "| Negative Binomial    | nbinom         | n, p (number of successes, probability of success)        | Random number from a negative binomial distribution with specified parameters.                                                                         |\n",
    "| Weibull              | weibull        | c (shape parameter, sometimes called \"k\"), loc (shifts the distribution), scale (sometimes called \"λ\")                                            | Random number from a Weibull distribution with specified parameters, uses scipy's `weibull_min`.                                       |\n",
    "| Gamma                | gamma          | a (shape parameter, sometimes called \"k\"), loc (shifts the distribution), scale (sometimes called \"θ\")                                            | Random number from a gamma distribution with specified shape and scale parameters.                                                                     |\n",
    "| Beta                 | beta_dist      | a (shape parameter, must be > 0), b (shape parameter, must be > 0)                                                                                | Random number from a beta distribution with specified shape parameters.                                                                                 |\n",
    "| Constant             | constant       | v                                                    | Constant value, useful for fixed parameters and testing.                                                                                              |\n",
    "| Random Integer       | randint        | low, high                                                | Random integer between a specified minimum and maximum.                                                                                               |\n",
    "| Bernoulli            | bernoulli      | p                               | Random number from a Bernoulli distribution with specified probability of success. Bernoulli distributions are used frequently to determine binary outcomes, such as whether an agent is infected or not. |\n",
    "| Choice               | choice         | a (int or list of choices), p (probability of each choice)                                          | Randomly select from a list of values. This distribution only supports fixed parameters.                                                              |\n",
    "| Histogram            | histogram      | values, bins, density, data                            | Random number from a histogram distribution specified by a list of values and their corresponding probabilities.                                       |\n",
    "\n",
    "See the [API reference](https://docs.idmod.org/projects/starsim/en/latest/api/_autosummary/starsim.distributions.html) for more details.\n",
    "\n",
    "You can also create a custom distribution by extending the `Dist` class from Starsim."
   ]
  },
  {
   "cell_type": "markdown",
   "id": "03bf8113",
   "metadata": {},
   "source": [
    "## How to use Starsim distributions\n",
    "\n",
    "Parameters for Starsim distributions can have fixed parameters (the same for all agents) or vary dynamically. We will start with a simple normal distribution with fixed parameters:"
   ]
  },
  {
   "cell_type": "code",
   "execution_count": null,
   "id": "e2cdacfe",
   "metadata": {},
   "outputs": [],
   "source": [
    "import starsim as ss\n",
    "import numpy as np\n",
    "\n",
    "# Create a Normal distribution with mean 0 and standard deviation 1\n",
    "# The \"strict\" flag is needed only for this example to avoid warnings\n",
    "d = ss.normal(name=\"Normal with fixed parameters\", loc=0, scale=1, strict=False)\n",
    "# ^^^ The above \"d\" object is the \"frozen\" distribution.\n",
    "\n",
    "print(d)"
   ]
  },
  {
   "cell_type": "markdown",
   "id": "d1d68d9f",
   "metadata": {},
   "source": [
    "### Drawing samples\n",
    "Samples from a distribution can be drawn using the `rvs` method.\n",
    "\n",
    "While possible to request a specific number of samples, as shown below, please know that this is not the preferred way to use distribution in Starsim:"
   ]
  },
  {
   "cell_type": "code",
   "execution_count": null,
   "id": "6f73ac94",
   "metadata": {},
   "outputs": [],
   "source": [
    "draws = d.rvs(5)\n",
    "print(draws)"
   ]
  },
  {
   "cell_type": "markdown",
   "id": "1a5537b5",
   "metadata": {},
   "source": [
    "The above approach is better than calling `numpy.random` directly, but still not ideal because it does not allow for dynamic parameter nor low-noise sampling. Therefore, please instead call the `rvs` method with the unique identifiers (uids) of the agents for which you need samples. Alternatively, you can pass a boolean mask of length equal to the number of agents in the simulation:"
   ]
  },
  {
   "cell_type": "code",
   "execution_count": null,
   "id": "91f5f842",
   "metadata": {},
   "outputs": [],
   "source": [
    " # Create a simulation for context\n",
    " # [you will not need to do this when working within the framework]\n",
    "sim = ss.Sim(n_agents=10).init()\n",
    "\n",
    "# Specify the distribution, here a random integer between -10 and 10\n",
    "d_sim = ss.randint(name=\"Random integer with fixed parameters\", low=-10, high=10)\n",
    "d_sim.init(sim=sim) # Initialize the distribution [done automatically in the framework]\n",
    "\n",
    "# Instead of requesting 5 random numbers, the preferred pattern is to request\n",
    "# random numbers for specific agents by passing a list of agent IDs. Doing so\n",
    "# enable the powerful dynamic parameters to be used while also supporting the\n",
    "# low-noise common random number sampling.\n",
    "draws = d_sim.rvs([3, 5, 2, 9, 4]) # Draw samples for specific agents by UID\n",
    "print(f\"Draws for agents 3, 5, 2, 9, and 4: {draws}\")\n",
    "\n",
    "mask = sim.people.age < 25\n",
    "draws_mask = d_sim.rvs(mask) # Draw samples for agents under 25 from a boolean mask\n",
    "print(f\"Draws for agents under 25: {draws_mask}\")\n",
    "\n",
    "draws_all = d_sim.rvs(sim.people.uid) # Draw samples for all agents\n",
    "print(f\"Draws for all agents (0, 1, 2, ..., n_agents): {draws_all}\")"
   ]
  },
  {
   "cell_type": "markdown",
   "id": "cbaa4701",
   "metadata": {},
   "source": [
    "### Visualizing distributions\n",
    "Let's take a look at the distribution by plotting a histogram of samples:"
   ]
  },
  {
   "cell_type": "code",
   "execution_count": null,
   "id": "5d5f54e6",
   "metadata": {},
   "outputs": [],
   "source": [
    "rvs = d.plot_hist(n=1000, bins=30)"
   ]
  },
  {
   "cell_type": "markdown",
   "id": "83eb1cf8",
   "metadata": {},
   "source": [
    "### Extracting distribution statistics\n",
    "\n",
    "We can quickly calculate statistics of the distribution by accessing the underlying \"dist\" property of the distribution:"
   ]
  },
  {
   "cell_type": "code",
   "execution_count": null,
   "id": "642620e2",
   "metadata": {},
   "outputs": [],
   "source": [
    "underlying_dist = d.dist\n",
    "print(\"Mean:\", underlying_dist.mean())\n",
    "print(\"Standard Deviation:\", underlying_dist.std())\n",
    "print(\"95% Interval:\", underlying_dist.ppf([0.025, 0.975]))"
   ]
  },
  {
   "cell_type": "markdown",
   "id": "8c52d58c",
   "metadata": {},
   "source": [
    "## Setting model parameters that are distributions"
   ]
  },
  {
   "cell_type": "markdown",
   "id": "aa2642ce",
   "metadata": {},
   "source": [
    "Many Starsim modules directly expose distributions as parameters for user customization. For example, the `SIR` disease module has three parameters are distributions:\n",
    "\n",
    "| Parameter  | Meaning | Default Value |\n",
    "|------------|---------|------|\n",
    "| `init_prev`  | Initial prevalence of infection | `ss.bernoulli(p=0.01)` |\n",
    "| `dur_inf`    | Duration of infection | `ss.lognorm_ex(mean=ss.dur(6))` |\n",
    "| `p_death`    | Probability of death given infection | `ss.bernoulli(p=0.01)` |\n",
    "\n",
    "You can change these parameters away from their defaults by passing in a different distribution, as demonstrated below:"
   ]
  },
  {
   "cell_type": "code",
   "execution_count": null,
   "id": "eee1019c",
   "metadata": {},
   "outputs": [],
   "source": [
    "sir = ss.SIR(\n",
    "    # Set the init_prev parameter to randomly infect 15% of the population\n",
    "    init_prev = ss.bernoulli(p=0.15),\n",
    "\n",
    "    # Set the dur_inf parameter to a Weibull\n",
    "    dur_inf = ss.weibull(c=2, loc=1, scale=2)\n",
    ")\n",
    "\n",
    "# Alternatively, update parameters of a default distribution\n",
    "sir.pars.p_death.set(p=0.5) # Update the death probability to 50%\n",
    "\n",
    "# Create, run, and plot a sim using the SIR disease model\n",
    "sim = ss.Sim(n_agents=100, diseases=sir, dur=15, dt=1, start=0, networks=ss.RandomNet())\n",
    "sim.run().plot()"
   ]
  },
  {
   "cell_type": "markdown",
   "id": "aa38e575",
   "metadata": {},
   "source": [
    "It's easy to inspect distributions, for example `dur_inf` of the `SIR` module using `plot_hist`.\n",
    "\n",
    "**NOTE:** in the code below that we access `dur_inf` at `sim.diseases.sir.pars` rather than at `sir.pars` (referencing the module in the previous cell) because Starsim makes a copy. The `sir` is not initialized and does not have the `sim` context."
   ]
  },
  {
   "cell_type": "code",
   "execution_count": null,
   "id": "b38d3311",
   "metadata": {},
   "outputs": [],
   "source": [
    "rvs = sim.diseases.sir.pars.dur_inf.plot_hist()"
   ]
  },
  {
   "cell_type": "markdown",
   "id": "01d305bc",
   "metadata": {},
   "source": [
    "## Using distributions with dynamic parameters\n",
    "\n",
    "Up to this point, the distributions we have used have had fixed parameters. Every agent draws will draw from the same distribution at every time step. But Starsim has a powerful feature to specify distributions with dynamic parameters that can change based on agent attributes, simulation time, or other factors.\n",
    "\n",
    "Let's continue with the `SIR` example, but make the initial prevalence of infection depend on the age of the agent. Instead of a fixed probability for all agents, let's make it so that children under 15 years old have a 25% chance of being selected as a \"seed\" infection and adults over 15 years old have a 10% chance.\n",
    "\n",
    "To implement dynamic parameters, we set the parameter (`p` in the case of a Bernoulli distribution) to a callable like a function. The callable must accept three arguments:\n",
    "\n",
    "1. `self`: The module that is calling the distribution\n",
    "2. `sim`: The simulation object\n",
    "3. `uids`: The unique IDs of the agents being processed\n",
    "\n",
    "It should return a numpy array of the same length as `uids` containing the parameter value for each agent, or a scalar if the parameter is the same for all agents."
   ]
  },
  {
   "cell_type": "code",
   "execution_count": null,
   "id": "eb3bdf00",
   "metadata": {},
   "outputs": [],
   "source": [
    "def set_p_by_age(self, sim, uids):\n",
    "    p = np.full(len(uids), fill_value=0.10)  # Default 10% infection probability\n",
    "    p[sim.people.age < 15] = 0.25  # 25% for ages < 15\n",
    "    \n",
    "    # For demonstration, print the age and probability for each agent:\n",
    "    for uid, age, prob in zip(uids, sim.people.age[uids], p):\n",
    "        print(f\"Agent {uid} | Age: {age:5.2f} |  Infection Seed Probability: {prob:.0%}\")\n",
    "    return p\n",
    "\n",
    "sir = ss.SIR(\n",
    "    # Set init_prev as a dynamic parameter\n",
    "    init_prev = ss.bernoulli(p=set_p_by_age),\n",
    ")\n",
    "\n",
    "# Create, run, and plot a sim using the SIR disease model\n",
    "sim = ss.Sim(n_agents=10, diseases=[sir], dur=30)\n",
    "sim.run()"
   ]
  },
  {
   "cell_type": "markdown",
   "id": "14cab398",
   "metadata": {},
   "source": [
    "## Example Starsim intervention using dynamic distributions\n",
    "\n",
    "To demonstrate the use and power of distributions in the Starsim framework, we next create an intervention that delivers a vaccine to a random subset of agents using a Bernoulli distribution. The default distribution will be fixed, the same for all agents, but we'll make it a parameter to that the user can change it without having to modify the source code.\n",
    "\n",
    "**NOTE:** That we create the distribution only one time in the `__init__` method of the intervention. Here, the distribution is part of the parameters, so will appear at `self.pars.p_vx`. Alternatively, we could create a distribution between `update_pars` and `return`, as noted. Please avoid recreating a Starsim distribution on every time step."
   ]
  },
  {
   "cell_type": "code",
   "execution_count": null,
   "id": "aecf25a8",
   "metadata": {},
   "outputs": [],
   "source": [
    "class MyVx(ss.Intervention):\n",
    "    def __init__(self, pars=None, **kwargs):\n",
    "        super().__init__()\n",
    "        self.define_states(\n",
    "            ss.BoolState('vaccinated', label=\"Vaccinated\", default=False)\n",
    "        )\n",
    "        self.define_pars(\n",
    "            # Create a Bernoulli distribution as a module parameter\n",
    "            # The value p=0.1 is a placeholder, the user will override\n",
    "            p_vx = ss.bernoulli(p=0.1, name=\"Vaccination Probability\")\n",
    "        )\n",
    "        self.update_pars(pars=pars, **kwargs)\n",
    "\n",
    "        # NOTE, this is a great place to create other distributions, for example\n",
    "        # self.my_dist = ss.normal(loc=0, scale=1)\n",
    "\n",
    "        return\n",
    "\n",
    "    def init_results(self):\n",
    "        super().init_results()\n",
    "        self.define_results(\n",
    "            ss.Result('new_vx', dtype=int, label=\"Newly Vaccinated\")\n",
    "        )\n",
    "        return\n",
    "\n",
    "    def step(self):\n",
    "        # Choose which agents to vaccinate\n",
    "        novx = self.vaccinated == False # Boolean mask\n",
    "        # Filter to select agents for which the Bernoulli sample is True\n",
    "        vx_uids = self.pars.p_vx.filter(novx) # <-- can pass in mask or uids\n",
    "        self.vaccinated[vx_uids] = True  # Set the state to vaccinated\n",
    "        sim.diseases.sir.rel_sus[vx_uids] = 0.0  # Set susceptibility to 0 for vaccinated agents\n",
    "        \n",
    "        # Store the results\n",
    "        self.results.new_vx[sim.ti] = len(vx_uids)"
   ]
  },
  {
   "cell_type": "markdown",
   "id": "ba18edad",
   "metadata": {},
   "source": [
    "Now that we have created the intervention, we can configure it with a custom `p_vx_func` in \"user space\" and run the simulation."
   ]
  },
  {
   "cell_type": "code",
   "execution_count": null,
   "id": "6d78112f",
   "metadata": {},
   "outputs": [],
   "source": [
    "def p_vx_func(self, sim, uids):\n",
    "    # Set the probability of vaccination for each agent in uids\n",
    "    # This is the \"dynamic\" callable for p_vx\n",
    "\n",
    "    # Let's only administer the vaccine on the 5th time step\n",
    "    if sim.ti != 5:\n",
    "        return 0.0 \n",
    "\n",
    "    # Set vaccination probability proportional to age\n",
    "    p = sim.people.age[uids] / 100.0  # Normalize age to a probability between 0 and 1\n",
    "    p = p.clip(0.0, 1.0)  # Ensure probabilities are between 0 and 1\n",
    "    return p # p has the same length as uids\n",
    "\n",
    "\n",
    "vx_intv = MyVx(p_vx = ss.bernoulli(p=p_vx_func))\n",
    "\n",
    "# Create, run, and plot a sim using the SIR disease model\n",
    "sim = ss.Sim(n_agents=1000, dur=10, dt=1, start=0,\n",
    "    diseases=ss.SIR(), # Default SIR disease model\n",
    "    interventions=[vx_intv],\n",
    "    networks=ss.RandomNet()\n",
    ")\n",
    "sim.run().plot('myvx') # Verify vaccinations only on the 5th time step"
   ]
  },
  {
   "cell_type": "markdown",
   "id": "79420839",
   "metadata": {},
   "source": [
    "See how vaccines were delivered only on time step 5? If we were to look at which agents received the vaccine, we would see probability increasing with age."
   ]
  }
 ],
 "metadata": {
  "kernelspec": {
   "display_name": "base",
   "language": "python",
   "name": "python3"
  },
  "language_info": {
   "codemirror_mode": {
    "name": "ipython",
    "version": 3
   },
   "file_extension": ".py",
   "mimetype": "text/x-python",
   "name": "python",
   "nbconvert_exporter": "python",
   "pygments_lexer": "ipython3",
   "version": "3.12.10"
  }
 },
 "nbformat": 4,
 "nbformat_minor": 5
}
