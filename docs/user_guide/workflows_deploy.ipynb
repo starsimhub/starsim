{
 "cells": [
  {
   "cell_type": "markdown",
   "id": "dd65a1f9",
   "metadata": {},
   "source": [
    "# Deployment\n",
    "\n",
    "Since Starsim is implemented in pure Python, it can easily be deployed on the cloud. Here we describe some different approaches for doing this.\n",
    "\n",
    "## Virtual machine\n",
    "\n",
    "One of the most common approaches is to run Starsim on a single large virtual machine (VM). By default, `ss.MultiSim` (and `ss.parallel()`) will use all available cores. If your script already makes use of these, then you don't need to make any more changes:"
   ]
  },
  {
   "cell_type": "code",
   "execution_count": null,
   "id": "724c0b14",
   "metadata": {},
   "outputs": [],
   "source": [
    "import sciris as sc\n",
    "import starsim as ss\n",
    "\n",
    "base_pars = sc.objdict(\n",
    "    n_agents = 10e3,\n",
    "    diseases = sc.objdict(\n",
    "        type = 'sis',\n",
    "        beta = 0.1,\n",
    "    ),\n",
    "    networks = 'random',\n",
    "    rand_seed = 1,\n",
    "    verbose = False,\n",
    ")\n",
    "\n",
    "# Generate sims in serial\n",
    "sims = sc.autolist() # Can also just use []\n",
    "for i in range(10):\n",
    "    pars = base_pars.copy()\n",
    "    pars.diseases.beta *= sc.perturb()\n",
    "    pars.rand_seed = i\n",
    "    sim = ss.Sim(pars)\n",
    "    sims += sim\n",
    "\n",
    "# Run in parallel\n",
    "msim = ss.parallel(sims)\n",
    "msim.plot(legend=False)"
   ]
  },
  {
   "cell_type": "markdown",
   "id": "54c54803",
   "metadata": {},
   "source": [
    "Note that this example uses `sc.objdict()` rather than `dict()` -- either work, but it means you can use `pars.diseases.beta` rather than `pars['diseases']['beta']`. You could also create full Starsim objects (e.g. `diseases = ss.SIS()` and then modify `pars.diseases.pars.beta`).\n",
    "\n",
    "In some cases, creating the sim is itself a time-consuming step (especially if hundreds or thousands are being generated). In this case, you can write a `make_sim()` function and parallelize that too:"
   ]
  },
  {
   "cell_type": "code",
   "execution_count": null,
   "id": "c25ecb12",
   "metadata": {},
   "outputs": [],
   "source": [
    "def make_sim(i, pars):\n",
    "    pars.diseases.beta *= sc.perturb() # Don't need to copy pars since implicitly copied via the pickling process\n",
    "    pars.rand_seed = i\n",
    "    sim = ss.Sim(pars)\n",
    "    return sim\n",
    "\n",
    "sims = sc.parallelize(make_sim, range(10), pars=base_pars, serial=False)\n",
    "msim = ss.parallel(sims)\n",
    "msim.plot(legend=False)"
   ]
  },
  {
   "cell_type": "markdown",
   "id": "c88f77a0",
   "metadata": {},
   "source": [
    "Note that parallelizing the build process pickles and unpickles the sims, which can be an expensive operation. `make_sim()` functions can often get quite complicated, so it's often good software engineering practice to separate them out anyway. You can use the `serial=True` argument of Sciris' `sc.parallelize()` function (which is what `ss.parallel()` calls under the hood) in order to run in serial, to see if it's the same speed or faster."
   ]
  },
  {
   "cell_type": "markdown",
   "id": "a7e1deac",
   "metadata": {},
   "source": [
    "<div class=\"alert alert-block alert-info\">    \n",
    "While the traditional way to run on a VM is via SSH and terminal, it is also possible to run remotely via <a href=\"https://marketplace.visualstudio.com/items?itemName=ms-vscode-remote.remote-ssh\">VS Code</a> (and Cursor etc.), <a href=\"https://www.jetbrains.com/help/pycharm/configuring-remote-interpreters-via-ssh.html\">PyCharm</a>, or <a href=\"https://docs.spyder-ide.org/current/panes/ipythonconsole.html#connect-to-a-remote-kernel\">Spyder</a>. You can also run a Jupyter server on the VM and access it that way  (we like <a href=\"https://tljh.jupyter.org/\">The Littlest JupyterHub</a>).\n",
    "</div>"
   ]
  },
  {
   "cell_type": "markdown",
   "id": "e184fdb5",
   "metadata": {},
   "source": [
    "## Dask and Coiled\n",
    "\n",
    "Adapting the examples above, we can fairly easily make Starsim simulations run using other popular tools such as [Dask](https://docs.dask.org/) and [Joblib](https://joblib.readthedocs.io/). Here's a Dask example:"
   ]
  },
  {
   "cell_type": "code",
   "execution_count": null,
   "id": "9213bf66",
   "metadata": {},
   "outputs": [],
   "source": [
    "import dask\n",
    "import dask.distributed as dd\n",
    "import numpy as np\n",
    "import starsim as ss\n",
    "\n",
    "\n",
    "def run_sim(index, beta):\n",
    "    \"\"\" Run a standard simulation \"\"\"\n",
    "    label = f'Sim {index}, beta={beta:n}'\n",
    "    sis = ss.SIS(beta=beta)\n",
    "    sim = ss.Sim(label=label, networks='random', diseases=sis, rand_seed=index, verbose=False)\n",
    "    sim.run()\n",
    "    sim.shrink() # Remove People and other states to make pickling faster\n",
    "    return sim\n",
    "\n",
    "\n",
    "if __name__ == '__main__':\n",
    "\n",
    "    # Run settings\n",
    "    n = 8\n",
    "    n_workers = 4\n",
    "    betas = 0.1*np.sort(np.random.random(n))\n",
    "\n",
    "    # Create and queue the Dask jobs\n",
    "    client = dd.Client(n_workers=n_workers)\n",
    "    queued = []\n",
    "    for i,beta in enumerate(betas):\n",
    "        run = dask.delayed(run_sim)(i, beta)\n",
    "        queued.append(run)\n",
    "\n",
    "    # Run and process the simulations\n",
    "    sims = list(dask.compute(*queued))\n",
    "    msim = ss.MultiSim(sims)\n",
    "    msim.plot()"
   ]
  },
  {
   "cell_type": "markdown",
   "id": "f248003b",
   "metadata": {},
   "source": [
    "[Coiled](https://coiled.io/), which is a paid service by Dask that allows auto-scaling across clusters, has a similar syntax:\n",
    "\n",
    "```py\n",
    "import sciris as sc\n",
    "import starsim as ss\n",
    "import coiled\n",
    "import dask.distributed as dd\n",
    "\n",
    "# Parameters\n",
    "n_workers = 50\n",
    "n = 1000\n",
    "\n",
    "def run_sim(seed):\n",
    "    sim = ss.Sim(n_agents=100e3, dur=100, diseases='sis', networks='random', rand_seed=seed)\n",
    "    sim.run().shrink()\n",
    "    return sim\n",
    "\n",
    "# Set up cluster\n",
    "cluster = coiled.Cluster(n_workers=n_workers, workspace=\"<your_coiled_workspace>\")\n",
    "client = cluster.get_client()\n",
    "\n",
    "# Set up futures\n",
    "futures = []\n",
    "for seed in range(n):\n",
    "    future = client.submit(run_sim, seed)\n",
    "    futures.append(future)\n",
    "\n",
    "# Run\n",
    "sims = client.gather(futures)\n",
    "\n",
    "# Plot\n",
    "msim = ss.MultiSim(sims)\n",
    "msim.plot()\n",
    "```\n",
    "\n",
    "(Note: You will need a Coiled subscription to run this example.)"
   ]
  },
  {
   "cell_type": "markdown",
   "id": "839f1449",
   "metadata": {},
   "source": [
    "## Interactive dashboards\n",
    "\n",
    "Another common desire is to make interactive dashboards. There are many ways to do this, including [Shiny for Python](https://shiny.posit.co/py/), [Voila](https://voila.readthedocs.io/), and [Panel](https://panel.holoviz.org/), but the simplest is probably [Streamlit](https://streamlit.io/):\n",
    "\n",
    "```py\n",
    "import streamlit as st\n",
    "import starsim as ss\n",
    "\n",
    "def run_sim(beta, n_agents):\n",
    "    sis = ss.SIS(beta=beta)\n",
    "    sim = ss.Sim(\n",
    "        n_agents = n_agents,\n",
    "        diseases = sis,\n",
    "        networks = 'random',\n",
    "    )\n",
    "    sim.run()\n",
    "    sim.label = f'Beta={beta:n} • Agents={n_agents:,} • Time={sim.timer.total:0.1f} s'\n",
    "    return sim\n",
    "\n",
    "# Create the Streamlit interface\n",
    "st.title('SIS Dashboard')\n",
    "beta = st.slider('Transmission rate (beta)', 0.0, 1.0, 0.1)\n",
    "n_agents = st.slider('Number of agents', 1_000, 100_000, 10_000)\n",
    "\n",
    "# Run simulation and plot results\n",
    "sim = run_sim(beta, n_agents)\n",
    "fig = sim.diseases.sis.plot()\n",
    "fig.suptitle(sim.label)\n",
    "st.pyplot(fig)\n",
    "```"
   ]
  },
  {
   "cell_type": "markdown",
   "id": "ca8fc106",
   "metadata": {},
   "source": [
    "This example is saved in this folder as `streamlit.py`, and (after `pip install streamlit`) can be run with `streamlit run streamlit.py`. This should give something like this:\n",
    "\n",
    "![Streamlit example](assets/streamlit_example.png)\n"
   ]
  }
 ],
 "metadata": {
  "kernelspec": {
   "display_name": "base",
   "language": "python",
   "name": "python3"
  },
  "language_info": {
   "codemirror_mode": {
    "name": "ipython",
    "version": 3
   },
   "file_extension": ".py",
   "mimetype": "text/x-python",
   "name": "python",
   "nbconvert_exporter": "python",
   "pygments_lexer": "ipython3",
   "version": "3.12.10"
  }
 },
 "nbformat": 4,
 "nbformat_minor": 5
}
