{
 "cells": [
  {
   "cell_type": "markdown",
   "id": "dd65a1f9",
   "metadata": {},
   "source": [
    "# Starsim \"spokes\"\n",
    "\n",
    "The Starsim framework serves as a centralized \"hub\" for storing anything that is typically required to model the spread of diseases among agents. This includes representations of networks, diseases, populations, demographics, interventions, and products, and logic for connecting all of these things together and simulating their interactions over time. \n",
    "\n",
    "Specific models that have been created using the Starsim framework are kept in their own separate repositories, or \"spokes\". As of May 2025, Starsim's spokes include the following models:\n",
    "\n",
    "| Spoke | Status | Description |\n",
    "|-------|--------|------------|\n",
    "| [HPVsim](https://hpvsim.org) | Stable | Human papillomavirus (HPV) and cervical cancer |\n",
    "| [FPsim](https://fpsim.org) | Stable | Family planning and reproductive health |\n",
    "| [STIsim](https://github.com/starsimhub/stisim) | Beta | Sexually transmitted infections, including HIV, bacterial vaginosis, chlamydia, gonorrhea, syphilis, and trichomoniasis |\n",
    "| [Rotasim](https://github.com/starsimhub/rotasim) | Pre-release | Rotavirus, with a focus on genetic diversity |\n",
    "| [PHCsim](https://github.com/starsimhub/phcsim) | Pre-release | Primary health care and health systems |\n",
    "| [MIGHTI](https://github.com/starsimhub/mighti) | Pre-release | Model of Inter-Generational Health, Transmission, and Interventions (HIV and other comorbidities) |\n",
    "| [TBsim](https://github.com/starsimhub/tbsim) | Pre-release | Tuberculosis, including malnutrition |\n",
    "| [RVFsim](https://github.com/starsimhub/RVFSim) | Pre-release | Rift valley fever in cattle |\n",
    "| Typhoidsim | Pre-release | Typhoid, including environmental transmission |\n",
    "\n",
    "*If you've developed a spoke and want it included in this list, please [get in touch](mailto:info@starsim.org).*\n",
    "\n",
    "One of the strengths of Starsim is that all of these models are inter-compatible. For example, an HIV-TB coinfection model can be created by combining the HIV module from STIsim and the TB module from TBsim.\n",
    "\n",
    "Note: the Starsim suite also includes [Covasim](https://github.com/institutefordiseasemodeling/covasim) (for modeling COVID-19). Covasim is built on the same principles as Starsim, but unlike the above tools, it is a separate codebase and is not inter-operable with the other models."
   ]
  }
 ],
 "metadata": {
  "kernelspec": {
   "display_name": "Python 3 (ipykernel)",
   "language": "python",
   "name": "python3"
  },
  "language_info": {
   "codemirror_mode": {
    "name": "ipython",
    "version": 3
   },
   "file_extension": ".py",
   "mimetype": "text/x-python",
   "name": "python",
   "nbconvert_exporter": "python",
   "pygments_lexer": "ipython3",
   "version": "3.12.10"
  }
 },
 "nbformat": 4,
 "nbformat_minor": 5
}
