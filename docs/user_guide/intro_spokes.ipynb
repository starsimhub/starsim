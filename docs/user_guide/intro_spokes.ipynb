{
 "cells": [
  {
   "cell_type": "markdown",
   "id": "dd65a1f9",
   "metadata": {},
   "source": [
    "# Starsim \"spokes\"\n",
    "\n",
    "The Starsim framework serves as a centralized \"hub\" for storing anything that is typically required to model the spread of diseases among agents. This includes representations of networks, diseases, populations, demographics, interventions, and products, and logic for connecting all of these things together and simulating their interactions over time. Generally speaking, specific models that have been created using the Starsim framework are kept in their own separate repositories or \"spokes\". To date, Starsim's spokes include the following models:\n",
    "\n",
    "TODO: decide what lives here vs on the website\n",
    "\n",
    "Other models based on Starsim principles (Covasim, HPVsim, and FPsim) are also available."
   ]
  }
 ],
 "metadata": {
  "kernelspec": {
   "display_name": "base",
   "language": "python",
   "name": "python3"
  },
  "language_info": {
   "codemirror_mode": {
    "name": "ipython",
    "version": 3
   },
   "file_extension": ".py",
   "mimetype": "text/x-python",
   "name": "python",
   "nbconvert_exporter": "python",
   "pygments_lexer": "ipython3",
   "version": "3.11.10"
  }
 },
 "nbformat": 4,
 "nbformat_minor": 5
}
