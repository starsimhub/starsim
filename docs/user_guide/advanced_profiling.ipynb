{
 "cells": [
  {
   "cell_type": "markdown",
   "id": "dd65a1f9",
   "metadata": {},
   "source": [
    "# Profiling and performance\n",
    "\n",
    "One of the main reasons people don't use ABMs is because they can be very slow. While \"vanilla Starsim\" is quite fast (10,000 agents running for 100 timesteps should take about a second), custom modules, if not properly written, can be quite slow.\n",
    "\n",
    "The first step of fixing a slow module is to identify the problem. To do this, Starsim includes some built-in profiling tools.\n",
    "\n",
    "Let's look at a simple simulation:"
   ]
  },
  {
   "cell_type": "code",
   "execution_count": null,
   "id": "923fb5fc",
   "metadata": {},
   "outputs": [],
   "source": [
    "import sciris as sc\n",
    "import starsim as ss\n",
    "sc.options(jupyter=True)\n",
    "\n",
    "pars = dict(\n",
    "    start = '2000-01-01',\n",
    "    stop = '2020-01-01',\n",
    "    diseases = 'sis',\n",
    "    networks = 'random'\n",
    ")\n",
    "\n",
    "# Profile sim\n",
    "sim = ss.Sim(pars)\n",
    "prof = sim.profile()"
   ]
  },
  {
   "cell_type": "markdown",
   "id": "38cf6b03",
   "metadata": {},
   "source": [
    "This graph (which is a shortcut to `sim.loop.plot_cpu()`) shows us how much time each step in the integration loop takes. We can get line-by-line detail of where each function is taking time, though:"
   ]
  },
  {
   "cell_type": "code",
   "execution_count": null,
   "id": "732427e9",
   "metadata": {},
   "outputs": [],
   "source": [
    "prof.disp(maxentries=5)"
   ]
  },
  {
   "cell_type": "markdown",
   "id": "24a66016",
   "metadata": {},
   "source": [
    "(Note that the names of the functions here refer to the *actual* functions called, which may not match the graph above. That's because, for example, `ss.SIS` does not define its own `step()` method, but instead inherits `step()` from `Infection`. In the graph, this is shown as `sis.step()`, but is listed in the table as `Infection.step()`. This is because it's referring to the actual code being run, so refers to where those lines of code exist in the codebase; there is no code corresponding to `SIS.step()` since it's just inherited from `Infection.step()`.)\n",
    "\n",
    "If you want more detail, you can also define custom functions to follow. For example, we can see that `ss.SIS.infect()` takes the most time in `ss.SIS.step()`, so let's profile that:"
   ]
  },
  {
   "cell_type": "code",
   "execution_count": null,
   "id": "19b8b00a",
   "metadata": {},
   "outputs": [],
   "source": [
    "prof = sim.profile(follow=ss.SIS.infect, plot=False)\n",
    "prof.disp()"
   ]
  },
  {
   "cell_type": "markdown",
   "id": "6f0e1291",
   "metadata": {},
   "source": [
    "(Note: you can only follow functions that are called as part of `sim.run()` this way. To follow other functions, such as those run by `sim.init()`, you can use `sc.profile()` directly.)"
   ]
  }
 ],
 "metadata": {
  "kernelspec": {
   "display_name": "base",
   "language": "python",
   "name": "python3"
  },
  "language_info": {
   "codemirror_mode": {
    "name": "ipython",
    "version": 3
   },
   "file_extension": ".py",
   "mimetype": "text/x-python",
   "name": "python",
   "nbconvert_exporter": "python",
   "pygments_lexer": "ipython3",
   "version": "3.12.10"
  }
 },
 "nbformat": 4,
 "nbformat_minor": 5
}
