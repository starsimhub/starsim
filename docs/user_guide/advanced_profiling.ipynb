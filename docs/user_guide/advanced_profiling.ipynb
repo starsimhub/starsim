{
 "cells": [
  {
   "cell_type": "markdown",
   "id": "dd65a1f9",
   "metadata": {},
   "source": [
    "# Profiling and performance\n",
    "\n",
    "One of the main reasons people don't use ABMs is because they can be very slow. While \"vanilla Starsim\" is quite fast (10,000 agents running for 100 timesteps should take about a second), custom modules, if not properly written, can be quite slow.\n",
    "\n",
    "The first step of fixing a slow module is to identify the problem. To do this, Starsim includes some built-in profiling tools.\n",
    "\n",
    "Let's look at a simple simulation:"
   ]
  },
  {
   "cell_type": "code",
   "execution_count": null,
   "id": "923fb5fc",
   "metadata": {},
   "outputs": [],
   "source": [
    "import sciris as sc\n",
    "import starsim as ss\n",
    "sc.options(jupyter=True)\n",
    "\n",
    "pars = dict(\n",
    "    start = '2000-01-01',\n",
    "    stop = '2020-01-01',\n",
    "    diseases = 'sis',\n",
    "    networks = 'random'\n",
    ")\n",
    "\n",
    "# run sim\n",
    "sim = ss.Sim(pars)\n",
    "sim.run()\n",
    "\n",
    "# check how long each step took\n",
    "sim.loop.plot_cpu()\n",
    "\n",
    "# profile slow step\n",
    "s2 = ss.Sim(pars)\n",
    "sc.profile(s2.run, follow=ss.SIS.step)"
   ]
  }
 ],
 "metadata": {
  "kernelspec": {
   "display_name": "base",
   "language": "python",
   "name": "python3"
  },
  "language_info": {
   "codemirror_mode": {
    "name": "ipython",
    "version": 3
   },
   "file_extension": ".py",
   "mimetype": "text/x-python",
   "name": "python",
   "nbconvert_exporter": "python",
   "pygments_lexer": "ipython3",
   "version": "3.12.10"
  }
 },
 "nbformat": 4,
 "nbformat_minor": 5
}
