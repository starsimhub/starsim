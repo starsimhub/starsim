{
 "cells": [
  {
   "cell_type": "markdown",
   "id": "dd65a1f9",
   "metadata": {},
   "source": [
    "# Profiling and debugging\n",
    "\n",
    "## Profiling\n",
    "\n",
    "One of the main reasons people don't use ABMs is because they can be very slow. While \"vanilla Starsim\" is quite fast (10,000 agents running for 100 timesteps should take about a second), custom modules, if not properly written, can be quite slow.\n",
    "\n",
    "The first step of fixing a slow module is to identify the problem. To do this, Starsim includes some built-in profiling tools.\n",
    "\n",
    "Let's look at a simple simulation:"
   ]
  },
  {
   "cell_type": "code",
   "execution_count": null,
   "id": "923fb5fc",
   "metadata": {},
   "outputs": [],
   "source": [
    "import sciris as sc\n",
    "import starsim as ss\n",
    "sc.options(jupyter=True)\n",
    "\n",
    "pars = dict(\n",
    "    start = '2000-01-01',\n",
    "    stop = '2020-01-01',\n",
    "    diseases = 'sis',\n",
    "    networks = 'random'\n",
    ")\n",
    "\n",
    "# Profile sim\n",
    "sim = ss.Sim(pars)\n",
    "prof = sim.profile()"
   ]
  },
  {
   "cell_type": "markdown",
   "id": "38cf6b03",
   "metadata": {},
   "source": [
    "This graph (which is a shortcut to `sim.loop.plot_cpu()`) shows us how much time each step in the integration loop takes. We can get line-by-line detail of where each function is taking time, though:"
   ]
  },
  {
   "cell_type": "code",
   "execution_count": null,
   "id": "732427e9",
   "metadata": {},
   "outputs": [],
   "source": [
    "prof.disp(maxentries=5)"
   ]
  },
  {
   "cell_type": "markdown",
   "id": "24a66016",
   "metadata": {},
   "source": [
    "(Note that the names of the functions here refer to the *actual* functions called, which may not match the graph above. That's because, for example, `ss.SIS` does not define its own `step()` method, but instead inherits `step()` from `Infection`. In the graph, this is shown as `sis.step()`, but is listed in the table as `Infection.step()`. This is because it's referring to the actual code being run, so refers to where those lines of code exist in the codebase; there is no code corresponding to `SIS.step()` since it's just inherited from `Infection.step()`.)\n",
    "\n",
    "If you want more detail, you can also define custom functions to follow. For example, we can see that `ss.SIS.infect()` takes the most time in `ss.SIS.step()`, so let's profile that:"
   ]
  },
  {
   "cell_type": "code",
   "execution_count": null,
   "id": "19b8b00a",
   "metadata": {},
   "outputs": [],
   "source": [
    "prof = sim.profile(follow=ss.SIS.infect, plot=False)\n",
    "prof.disp()"
   ]
  },
  {
   "cell_type": "markdown",
   "id": "6f0e1291",
   "metadata": {},
   "source": [
    "(Note: you can only follow functions that are called as part of `sim.run()` this way. To follow other functions, such as those run by `sim.init()`, you can use `sc.profile()` directly.)"
   ]
  },
  {
   "cell_type": "markdown",
   "id": "d848cb62",
   "metadata": {},
   "source": [
    "## Debugging\n",
    "\n",
    "When figuring out what your sim is doing -- whether it's doing something it shouldn't be, or not doing something it should -- `sim.loop` is your friend. It shows everything that will happen in the sim, and in what order:"
   ]
  },
  {
   "cell_type": "code",
   "execution_count": null,
   "id": "52b6b2a5",
   "metadata": {},
   "outputs": [],
   "source": [
    "import starsim as ss\n",
    "\n",
    "sim = ss.Sim(\n",
    "    start = 2000,\n",
    "    stop = 2002,\n",
    "    diseases = 'sis',\n",
    "    networks = 'random',\n",
    "    verbose = 0,\n",
    ")\n",
    "sim.run()\n",
    "sim.loop.df.disp()\n",
    "# %%"
   ]
  },
  {
   "cell_type": "markdown",
   "id": "e3cc5480",
   "metadata": {},
   "source": [
    "As you can see, it's a lot -- this is only three timesteps and two modules, and it's already 41 steps.\n",
    "\n",
    "The typical way to do debugging is to insert breakpoints or print statements into your modules for custom debugging (e.g., to print a value), or to use analyzers for heavier-lift debugging. Starsim also lets you manually modify the loop by inserting \"probes\" or other arbitrary functions. For example, if you wanted to check the population size after each time the `People` object is updated:"
   ]
  },
  {
   "cell_type": "code",
   "execution_count": null,
   "id": "ec2c7e2e",
   "metadata": {},
   "outputs": [],
   "source": [
    "def check_pop_size(sim):\n",
    "    print(f'Population size is {len(sim.people)}')\n",
    "\n",
    "sim = ss.Sim(diseases='sir', networks='random', demographics=True, dur=10)\n",
    "sim.init()\n",
    "sim.loop.insert(check_pop_size, label='people.finish_step')\n",
    "sim.run()"
   ]
  },
  {
   "cell_type": "markdown",
   "id": "1cf87e50",
   "metadata": {},
   "source": [
    "In this case, you get the same output as using an analyzer:"
   ]
  },
  {
   "cell_type": "code",
   "execution_count": null,
   "id": "0eeb8f16",
   "metadata": {},
   "outputs": [],
   "source": [
    "def check_pop_size(sim):\n",
    "    print(f'Population size is {len(sim.people)}')\n",
    "\n",
    "sim = ss.Sim(diseases='sir', networks='random', demographics=True, dur=10, analyzers=check_pop_size)\n",
    "sim.run()"
   ]
  },
  {
   "cell_type": "markdown",
   "id": "b0d1ffe3",
   "metadata": {},
   "source": [
    "However, inserting functions directly in the loop gives you more control over their exact placement, whereas analyzers are always executed last in the timestep.\n",
    "\n",
    "The loop also has methods for visualizing itself. You can get a simple representation of the loop with `loop.plot()`:"
   ]
  },
  {
   "cell_type": "code",
   "execution_count": null,
   "id": "36444926",
   "metadata": {},
   "outputs": [],
   "source": [
    "sim.loop.plot()"
   ]
  },
  {
   "cell_type": "markdown",
   "id": "c6860f6d",
   "metadata": {},
   "source": [
    "Or a slightly more detailed one with `loop.plot_step_order()`:"
   ]
  },
  {
   "cell_type": "code",
   "execution_count": null,
   "id": "a8791d97",
   "metadata": {},
   "outputs": [],
   "source": [
    "sim.loop.plot_step_order()"
   ]
  },
  {
   "cell_type": "markdown",
   "id": "d2e3767c",
   "metadata": {},
   "source": [
    "This is especially useful if your simulation has modules with different timesteps, e.g.:"
   ]
  },
  {
   "cell_type": "code",
   "execution_count": null,
   "id": "fe04ee05",
   "metadata": {},
   "outputs": [],
   "source": [
    "sis = ss.SIS(dt=0.1)\n",
    "net = ss.RandomNet(dt=0.5)\n",
    "births = ss.Births(dt=1)\n",
    "sim = ss.Sim(dt=0.1, dur=5, diseases=sis, networks=net, demographics=births)\n",
    "sim.init()\n",
    "sim.loop.plot_step_order()"
   ]
  },
  {
   "cell_type": "markdown",
   "id": "31a06724",
   "metadata": {},
   "source": [
    "(Note: this is a 3D plot, so it helps if you can plot it in a separate window interactively to be able to move it around, rather than just in a notebook.)"
   ]
  }
 ],
 "metadata": {
  "kernelspec": {
   "display_name": "base",
   "language": "python",
   "name": "python3"
  },
  "language_info": {
   "codemirror_mode": {
    "name": "ipython",
    "version": 3
   },
   "file_extension": ".py",
   "mimetype": "text/x-python",
   "name": "python",
   "nbconvert_exporter": "python",
   "pygments_lexer": "ipython3",
   "version": "3.12.10"
  }
 },
 "nbformat": 4,
 "nbformat_minor": 5
}
