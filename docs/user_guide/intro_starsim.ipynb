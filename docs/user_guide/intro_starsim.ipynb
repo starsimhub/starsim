{
 "cells": [
  {
   "cell_type": "markdown",
   "id": "dd65a1f9",
   "metadata": {},
   "source": [
    "# What is Starsim?\n",
    "\n",
    "Starsim is a framework for modeling the spread of diseases among agents via dynamic transmission networks. Starsim supports:\n",
    "* Co-transmission of multiple diseases at once, capturing how they interact biologically and behaviorally\n",
    "* Non-infectious diseases, either on their own or as factors affecting the transmission or mortality of infectious diseases\n",
    "* Detailed modeling of mother-child relationships starting from conception, allowing investigation of infant and childhood diseases\n",
    "* Multiple types of transmission network, including theoretical (e.g. Erdős–Rényi) and realistic (e.g. age-assortative sexual partnerships)\n",
    "* Different intervention types, such as vaccines or treatments, and showing their impact through different delivery methods such as mass campaigns or targeted outreach\n",
    "* Automated calibration to data, plus careful handling of random numbers to minimize variance between simulations\n",
    "\n",
    "Starsim is available for both Python and R, and is fully open-source under the MIT license.\n",
    "\n"
   ]
  }
 ],
 "metadata": {
  "kernelspec": {
   "display_name": "base",
   "language": "python",
   "name": "python3"
  },
  "language_info": {
   "codemirror_mode": {
    "name": "ipython",
    "version": 3
   },
   "file_extension": ".py",
   "mimetype": "text/x-python",
   "name": "python",
   "nbconvert_exporter": "python",
   "pygments_lexer": "ipython3",
   "version": "3.12.10"
  }
 },
 "nbformat": 4,
 "nbformat_minor": 5
}
