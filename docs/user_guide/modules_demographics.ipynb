{
 "cells": [
  {
   "cell_type": "markdown",
   "id": "dd65a1f9",
   "metadata": {},
   "source": [
    "# Demographics\n",
    "\n",
    "Starsim can include detailed population dynamics through its demographics modules. These modules handle births, deaths, and pregnancy to model realistic population changes over time. By default, Starsim simulations have a fixed population size, but adding demographics allows the population to grow, shrink, and change age structure naturally.\n",
    "\n",
    "Demographics modules are essential for modeling disease transmission over longer time periods, understanding generational effects, and capturing realistic population dynamics.\n",
    "\n",
    "## Simple usage\n",
    "\n",
    "Let's start by comparing two identical simulations, one with demographics enabled and one without:"
   ]
  },
  {
   "cell_type": "code",
   "execution_count": null,
   "id": "050a676e",
   "metadata": {},
   "outputs": [],
   "source": [
    "import starsim as ss\n",
    "import sciris as sc\n",
    "sc.options(jupyter=True)\n",
    "\n",
    "# Simulation parameters\n",
    "pars = dict(diseases='sis', networks='random', verbose=0)\n",
    "\n",
    "# Create simulations\n",
    "sim1 = ss.Sim(label='No demographics', **pars)\n",
    "sim2 = ss.Sim(label='With demographics', demographics=True, **pars)\n",
    "\n",
    "# Run both simulations and plot\n",
    "msim = ss.parallel(sim1, sim2)\n",
    "msim.plot(['n_alive', 'cum_deaths', 'sis_n_susceptible', 'sis_n_infected'])"
   ]
  },
  {
   "cell_type": "markdown",
   "id": "ad20ea1d",
   "metadata": {},
   "source": [
    "## Advanced usage: Pregnancy and births\n",
    "For more detailed modeling, you can use the `Pregnancy` module instead of simple `Births`. The pregnancy module models:\n",
    "\n",
    "- Age-specific fertility rates\n",
    "- Pregnancy duration and outcomes\n",
    "- Maternal and neonatal mortality\n",
    "- Mother-to-child transmission pathways\n"
   ]
  },
  {
   "cell_type": "code",
   "execution_count": null,
   "id": "b3a58be0",
   "metadata": {},
   "outputs": [],
   "source": [
    "import numpy as np\n",
    "import pandas as pd\n",
    "import sciris as sc\n",
    "import starsim as ss\n",
    "import matplotlib.pyplot as plt\n",
    "\n",
    "# Create age-specific birth and fertility data\n",
    "\n",
    "birth_data = pd.DataFrame({\n",
    "    'Year': [2000, 2005, 2010, 2015, 2020, 2025, 2030],\n",
    "    'CBR': [40, 35, 30, 31, 32, 30, 28]  # Age-specific birth rates\n",
    "})\n",
    "\n",
    "fertility_data = pd.DataFrame({\n",
    "    'Time': [2020]*7,\n",
    "    'AgeGrp': [15, 20, 25, 30, 35, 40, 45],\n",
    "    'ASFR': [0.05, 0.15, 0.20, 0.15, 0.10, 0.05, 0.01]  # Age-specific fertility rates\n",
    "})\n",
    "\n",
    "# Create a simple births module\n",
    "births = ss.Births(birth_rate=birth_data)\n",
    "\n",
    "# Create a pregnancy module with custom parameters\n",
    "pregnancy = ss.Pregnancy(\n",
    "    fertility_rate = fertility_data,\n",
    "    rel_fertility = 1000, # Whether data are per person or per 1000\n",
    "    dur_pregnancy = ss.years(0.75),           # 9 months pregnancy\n",
    "    dur_postpartum = ss.years(0.5),           # 6 months postpartum\n",
    "    p_maternal_death = ss.bernoulli(0.001),   # 0.1% maternal mortality\n",
    "    p_neonatal_death = ss.bernoulli(0.02),    # 2% neonatal mortality\n",
    "    min_age = 15,\n",
    "    max_age = 50,\n",
    ")\n",
    "\n",
    "# Create deaths module\n",
    "deaths = ss.Deaths(death_rate=ss.peryear(8))  # 8 deaths per 1000 per year\n",
    "\n",
    "# Create simulations\n",
    "n_agents = 5_000 # Number of agents\n",
    "nga_pop_1995 = 106819805 # \n",
    "age_data = pd.read_csv('test_data/nigeria_age.csv')\n",
    "ppl = ss.People(n_agents, age_data=age_data)\n",
    "\n",
    "pars = dict(start=1995, people=ppl, n_agents=n_agents, diseases='sis', networks='random', verbose=0)\n",
    "\n",
    "sim1 = ss.Sim(label='Births', **pars, demographics=[births, deaths])\n",
    "sim2 = ss.Sim(label='Pregnancy', **pars, demographics=[pregnancy, deaths])\n",
    "\n",
    "# Plot histograms of the age distributions - simulated vs data at initialization\n",
    "sim1.init() # This creates the population\n",
    "bins = np.arange(0, 101, 1)\n",
    "init_scale = nga_pop_1995 / n_agents\n",
    "counts, bins = np.histogram(sim1.people.age, bins)\n",
    "plt.bar(bins, age_data.value.values * 1000, alpha=0.5, color='r', label='Data')\n",
    "plt.bar(bins[:-1], counts * init_scale, alpha=0.5, label='Simulated')\n",
    "plt.legend(loc='upper right')\n",
    "plt.ylabel('Population')\n",
    "plt.xlabel('Age')\n",
    "sc.SIticks()\n",
    "\n",
    "# Run nd plot simulations\n",
    "msim = ss.parallel(sim1, sim2)\n",
    "msim.plot()"
   ]
  },
  {
   "cell_type": "markdown",
   "id": "187396cc",
   "metadata": {},
   "source": [
    "## Summary\n",
    "\n",
    "- **Demographics modules** enable realistic population dynamics in Starsim:\n",
    "    - **Births**: Simple constant or time-varying birth rates\n",
    "    - **Deaths**: Background mortality separate from disease deaths  \n",
    "    - **Pregnancy**: Detailed pregnancy modeling with maternal/neonatal outcomes\n",
    "- **Key considerations:**\n",
    "    - Use `demographics=True` for default birth/death rates\n",
    "    - Use `birth_rate` and `death_rate` for custom constant rates\n",
    "    - Use `ss.Pregnancy()` for age-specific fertility, pregnancy modeling, and mother-to-child transmission\n",
    "    - Demographics automatically enables aging; if you want to use aging without demographics, set `use_aging=True`"
   ]
  },
  {
   "cell_type": "markdown",
   "id": "9195aa4b",
   "metadata": {},
   "source": []
  }
 ],
 "metadata": {
  "kernelspec": {
   "display_name": "base",
   "language": "python",
   "name": "python3"
  },
  "language_info": {
   "codemirror_mode": {
    "name": "ipython",
    "version": 3
   },
   "file_extension": ".py",
   "mimetype": "text/x-python",
   "name": "python",
   "nbconvert_exporter": "python",
   "pygments_lexer": "ipython3",
   "version": "3.12.10"
  }
 },
 "nbformat": 4,
 "nbformat_minor": 5
}
