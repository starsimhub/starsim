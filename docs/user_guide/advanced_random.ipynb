{
 "cells": [
  {
   "cell_type": "markdown",
   "id": "dd65a1f9",
   "metadata": {},
   "source": [
    "# Random numbers\n",
    "\n",
    "The Starsim framework implements a novel approach to sampling from distributions that prevents random number noise from corrupting differences between two simulations. This user guide will demonstrate how to use the common random number (CRN) feature to achieve low-variance differences in simulation results. This feature is important for scenario and sensitivity analyses, where the goal is to isolate the effects of specific changes in model parameters or configurations. \n",
    "\n",
    "For technical details and additional examples, please refer to the following publication:\n",
    "[D. J. Klein, R. G. Abeysuriya, R. M. Stuart, and C. C. Kerr, \"Noise-free comparison of stochastic agent-based simulations using common random numbers.\" arXiv preprint arXiv:2409.02086 (2024).](https://arxiv.org/abs/2409.02086)\n",
    "\n",
    "This guide builds on the [Distributions guide](advanced_distributions.ipynb), so please familiarize yourself with that guide before proceeding.\n",
    "\n",
    "In this user guide, you will:\n",
    "- Understand the concept of common random numbers (CRN)\n",
    "- Learn how to sample from distributions using common random numbers\n",
    "- See the benefits of using CRN for low-variance differences"
   ]
  },
  {
   "cell_type": "markdown",
   "id": "48382417",
   "metadata": {},
   "source": [
    "## Understanding Common Random Numbers (CRN)\n",
    "\n",
    "Common Random Numbers (CRN) is a sophisticated technique that enables noise-free accounting of the effects of different parameters or interventions on outcomes like infections averted or lives saved. Starsim is the first and only simulation framework that fully supports CRN, including agent-agent interactions like disease transmission and vital dynamics including births.\n",
    "\n",
    "To understand CRN, you first have to know a little about where random numbers come from. As discussed in the [Advanced Distributions guide](advanced_distributions.ipynb), random numbers are used to make stochastic decisions within the model. Individuals realizations are generated from a pseudo-random number generator (PRNG) using a user-specified seed. The PRNG produces a sequence of numbers that appear random but are actually deterministic, meaning that the same seed will always produce the same sequence of numbers. Here is a simple demonstration using the `numpy` library:"
   ]
  },
  {
   "cell_type": "code",
   "execution_count": null,
   "id": "bcaa704e",
   "metadata": {},
   "outputs": [],
   "source": [
    "import numpy as np\n",
    "np.random.seed(42) # Set the seed to 42\n",
    "draws1 = np.random.random(size=10) # Draw 10 realizations\n",
    "print(f'First draws: {draws1.round(2)}')\n",
    "\n",
    "np.random.seed(42) # Reset the seed to 42\n",
    "draws2 = np.random.random(size=10) # Draw 10 realizations\n",
    "print(f'Second draws: {draws2.round(2)}')\n",
    "\n",
    "assert np.array_equal(draws1, draws2), \"The two sets of draws should be equal since the seed is the same.\""
   ]
  },
  {
   "cell_type": "markdown",
   "id": "fa9bb35e",
   "metadata": {},
   "source": [
    "### The problem solved by CRN in agent-based simulation modeling\n",
    "\n",
    "Most agent-based modeling frameworks dole out random numbers to agents sequentially, as needed, drawing values from a single centralized random number generator. The problem arises when you want to compare two similar, but different simulations.\n",
    "\n",
    "Even if the two simulations are run with the same seed, the difference in outcomes will be a combination of:\n",
    "\n",
    "1. Real and meaningful \"mechanistic\" differences caused by the different inputs, and\n",
    "2. Random number noise caused by \"stochastic branching.\"\n",
    "\n",
    "Stochastic branching is just a technical term used to describe which random numbers are used to make each decision.  The random number noise obscures the real differences, making it difficult to determine the true impact of the changes made in the second simulation.\n",
    "\n",
    "### Example of stochastic branching: Fishing 🎣\n",
    "\n",
    "As a simple example, consider the following two simulations of a Fishing module.\n",
    "\n",
    "- Simulation A has 20 agents who are trying to catch fish. On each time step, each agent has a 50% chance of going fishing, and a 20% chance of catching a fish if they go fishing.\n",
    "- Simulation B is identical to Simulation A, except that agent 0 is banned from fishing.\n",
    "\n",
    "Both simulations will use the same random number seed. Because the agents do not interact (they're not actually competing for the same fish!), the only difference in outcomes should be that agent 0 does not go fishing and therefore will never catch a fish. However, because of the way random numbers are generated, the two simulations will use the same random numbers for different purposes. This means that banning agent 0 from fishing will _change which other agents go fishing and catch fish_!\n",
    "\n",
    "**NOTE:** We have to specifically disable Starsim's CRN to observe the problem that all other agent-based modeling frameworks face. To do that in Starsim, we set the `single_rng` option to `True` in this example."
   ]
  },
  {
   "cell_type": "markdown",
   "id": "6e8e153a",
   "metadata": {},
   "source": [
    "As a first step, we will create a Fishing module:"
   ]
  },
  {
   "cell_type": "code",
   "execution_count": null,
   "id": "918c0ff8",
   "metadata": {},
   "outputs": [],
   "source": [
    "import starsim as ss\n",
    "\n",
    "class Fishing(ss.Module):\n",
    "    def __init__(self, pars=None, **kwargs):\n",
    "        super().__init__()\n",
    "        self.define_pars(\n",
    "            p_fishing = ss.bernoulli(p=0.5),\n",
    "            p_catch = ss.bernoulli(p=0.2),\n",
    "            banned_uids = [],\n",
    "            verbose = True\n",
    "        )\n",
    "        self.update_pars(pars=pars, **kwargs)\n",
    "        self.define_states(\n",
    "            ss.BoolState('fish_caught', default=0)\n",
    "        )\n",
    "        return\n",
    "\n",
    "    def step(self):\n",
    "        going_fishing_uids = self.pars.p_fishing.filter() # Filter with no arguments tests all agents\n",
    "\n",
    "        # Remove banned agents from going fishing\n",
    "        going_fishing_uids = going_fishing_uids.remove(self.pars.banned_uids)\n",
    "\n",
    "        catch_uids = self.pars.p_catch.filter(going_fishing_uids)\n",
    "        if self.pars.verbose:\n",
    "            print(f'Time step {self.ti}:')\n",
    "            print(f' * Agents going fishing: {going_fishing_uids}')\n",
    "            print(f' * Agents that caught fish: {catch_uids}')\n",
    "        self.fish_caught[catch_uids] = self.fish_caught[catch_uids] + 1 # Increment the number of fish caught for each agent that caught a fish\n",
    "        return"
   ]
  },
  {
   "cell_type": "markdown",
   "id": "047b4ae9",
   "metadata": {},
   "source": [
    "Now we can build and run the two simulations to compare the results:"
   ]
  },
  {
   "cell_type": "code",
   "execution_count": null,
   "id": "64ca7217",
   "metadata": {},
   "outputs": [],
   "source": [
    "# NOTE: For this example, we configure the simulation to be centralized!\n",
    "ss.options.single_rng = True\n",
    "\n",
    "# Shared parameters for both simulations\n",
    "pars = dict(n_agents=20, start=ss.days(0), dur=ss.days(1), rand_seed=42)\n",
    "\n",
    "print('SIMULATION A: WITHOUT BANNED AGENTS', '-'*25)\n",
    "simA = ss.Sim(modules=Fishing(), **pars)\n",
    "simA.run()\n",
    "\n",
    "print('\\nSIMULATION B: WITH AGENT 0 BANNED', '-'*25)\n",
    "simB = ss.Sim(modules=Fishing(banned_uids=[0]), **pars)\n",
    "simB.run()"
   ]
  },
  {
   "cell_type": "markdown",
   "id": "ea5b512c",
   "metadata": {},
   "source": [
    "In simulation A, agents 16 and 18 catch fish on the first time step, but in simulation B, agents 17 and 19 catch fish. Then on the second timestep, we can see that different agents go fishing and that 1, 15, and 19 catch fish in A but only 3 is lucky in B -- what?! All we did was to ban agent 0 from fishing. The agents do not interact, so there should not have been a difference!\n",
    "\n",
    "What we are seeing here is a simple example of the stochastic branching problem. This \"random number noise\" could easily make it look like banning agent 0 could result in more fish being caught, which should be physically impossible as there are fewer agents fishing.\n",
    "\n",
    "To see the benefit of CRN, we can simply repeat the above example, but this time restoring the `single_rng` option to its default value of `False`. This will ensure that the same random numbers are used for the exact same decisions in both simulations, allowing us to see the true impact of banning agent 1 from fishing:"
   ]
  },
  {
   "cell_type": "code",
   "execution_count": null,
   "id": "2334bf58",
   "metadata": {},
   "outputs": [],
   "source": [
    "# Restore the single_rng option to False (this is the default, so you don't have to do this)\n",
    "ss.options.single_rng = False\n",
    "\n",
    "print('SIMULATION A: WITHOUT BANNED AGENTS', '-'*25)\n",
    "simA = ss.Sim(modules=Fishing(), **pars)\n",
    "simA.run()\n",
    "\n",
    "print('\\nSIMULATION B: WITH AGENT 1 BANNED', '-'*25)\n",
    "simB = ss.Sim(modules=Fishing(banned_uids=[1]), **pars)\n",
    "simB.run()"
   ]
  },
  {
   "cell_type": "markdown",
   "id": "0a84ff62",
   "metadata": {},
   "source": [
    "With CRN, banning agent 0 only prevents agent 0 from catching fish. Everything else is identical, as expected. This is the power of common random numbers."
   ]
  },
  {
   "cell_type": "markdown",
   "id": "ebbf721b",
   "metadata": {},
   "source": [
    "## Tips for CRN-enabled sampling in Starsim"
   ]
  },
  {
   "cell_type": "markdown",
   "id": "31400847",
   "metadata": {},
   "source": [
    "This advanced CRN functionality is built into every distribution in Starsim! You will automatically get the benefits of CRN whenever you properly use distributions in your modules. Here are a few tips to ensure proper usage:\n",
    "\n",
    "1. Use a separate distribution for each \"decision\" in your code. Ideally, each distribution would only be called one time per time step.\n",
    "2. Create each distribution one time per module. The `__init__` method is a great place to do this. Do not create a new distribution on every step.\n",
    "3. When sampling from a distribution, pass `uids` or a boolean mask with length equal to the number of agents in the simulation. This ensures that each agent gets the right random number.\n",
    "4. If the parameters of your distribution change every step, set the parameter values to a callable function that performs the calculation.\n",
    "\n",
    "Preferred and avoided usage examples:\n",
    "```python\n",
    "# PREFERRED: use uids\n",
    "all_uids = self.sim.people.auids\n",
    "values = self.dist.rvs(all_uids)\n",
    "\n",
    "# PREFERRED: use a boolean mask\n",
    "mask = (self.infected) & (self.ti >= self.ti_next_event)\n",
    "values = self.dist.rvs(mask)\n",
    "\n",
    "# PREFERRED: set dynamic parameters using a callable\n",
    "def dynamic_p(self, sim, uids):\n",
    "    p = np.full_like(uids, fill_value=0.5, dtype=float)\n",
    "    p[sim.people.age[uids] < 18] = 0.1\n",
    "    return p\n",
    "def __init__(self):\n",
    "    self.dist = self.bernoulli(p=dynamic_p)\n",
    "uids = self.dist.filter(mask) # Reminder: filter returns the uids where the bernoulli trial is True\n",
    "\n",
    "# AVOID calling a distribution with a scalar argument\n",
    "values = self.dist.rvs(len(all_uids))\n",
    "\n",
    "# AVOID: numpy random\n",
    "values = np.random.rand(len(all_uids))\n",
    "\n",
    "# AVOID creating a new distribution every time\n",
    "def step(self):\n",
    "    new_dist_every_time = self.bernoulli(p=0.5)\n",
    "    values = new_dist_every_time.rvs(all_uids) \n",
    "\n",
    "# AVOID using the same distribution for multiple decisions\n",
    "my_bernoulli = self.bernoulli(p=0)\n",
    "my_bernoulli.set(p=p_infection)\n",
    "infected_uids = my_bernoulli.filter()\n",
    "my_bernoulli.set(p=p_die)\n",
    "died_uids = my_bernoulli.filter()\n",
    "\n",
    "# Try to AVOID calling rvs multiple times per step\n",
    "# (It's better to get all the values you need in one call)\n",
    "for uid in all_uids:\n",
    "    value = self.dist.rvs(uid)\n",
    "\n",
    "# Try to AVOID overriding parameters every time step\n",
    "# (Use dynamic parameters instead)\n",
    "def step(self):\n",
    "    my_p_vec = np.full(self.sim.n, fill_value=0.5)\n",
    "    my_p_vec[self.sim.people.age < 18] = 0.1\n",
    "    self.dist.set(p=my_p_vec)\n",
    "    uids = self.dist.filter(mask)\n",
    "```"
   ]
  },
  {
   "cell_type": "markdown",
   "id": "ba0384e3",
   "metadata": {},
   "source": [
    "Please don't hesitate to create issues related to any problems you encounter or questions you have!"
   ]
  }
 ],
 "metadata": {
  "kernelspec": {
   "display_name": "base",
   "language": "python",
   "name": "python3"
  },
  "language_info": {
   "codemirror_mode": {
    "name": "ipython",
    "version": 3
   },
   "file_extension": ".py",
   "mimetype": "text/x-python",
   "name": "python",
   "nbconvert_exporter": "python",
   "pygments_lexer": "ipython3",
   "version": "3.12.10"
  }
 },
 "nbformat": 4,
 "nbformat_minor": 5
}
