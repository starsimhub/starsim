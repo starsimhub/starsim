{
 "cells": [
  {
   "cell_type": "markdown",
   "id": "0",
   "metadata": {},
   "source": [
    "# States\n"
   ]
  },
  {
   "cell_type": "markdown",
   "id": "1",
   "metadata": {},
   "source": [
    "The `State` class and related architecture in _Starsim_ supports three key features:\n",
    "\n",
    "- The ability to add and remove agents during a simulation, to enable simulation of births, and increase simulation performance by removing unused agents (e.g., due to death or emigration)\n",
    "- The ability to access the states of agents by their UID rather than array index (because the array indices may change as agents are removed from simulations)\n",
    "- The ability to distribute states across different modules and components of the model. For example, interventions and networks can define states for attributes such as vaccination status or age of debut, and have them dynamically grow and shrink the same as states stored inside a `People` object\n",
    "\n",
    "Compared to previous models such as _Covasim_ and _HPVsim_, the distribution of agent state throught a simulation means that the `People` object should no longer be thought of as a central 'repository' of all of the states associated with agents. Rather, it is a container for demographic states and other attributes that are common to agents across all modules. That is, the `People` object provides primary storage for attributes such as age and sex, whereas module specific attributes (such as susceptible, infectious, vaccinated) are stored within their respective modules. It is of course possible to store references to states across a simulation, and indeed for convenience references to the states associated with disease modules are automatically added to the `People` object. However, it is important to keep in mind that there are are still other states outside of the `People` instance, that are accessed via their respective modules. \n",
    "\n",
    "<div class=\"alert alert-info\">\n",
    "A common use pattern is to store references to modules to faciliate access to specific states. For example, an intervention could store a reference to a disease module, so that vaccine eligibility at each timestep can be checked against infection history. In fact, a module can directly store references to other `State` instances. In the same way that the `People` object contains references to disease states, an `Intervention` could directly reference `States` within a disease. Therefore, an intervention can be linked to a network, disease, or other module by passing that module to the intervention's constructor as part of creation/initialization. This allows binding the module to specific states without having to access them via a `People` instance.\n",
    "</div>"
   ]
  },
  {
   "cell_type": "markdown",
   "id": "2",
   "metadata": {},
   "source": [
    "![State primary storage locations](states_1.svg \"State primary storage locations\")"
   ]
  },
  {
   "cell_type": "markdown",
   "id": "3",
   "metadata": {},
   "source": [
    "## Implementation"
   ]
  },
  {
   "cell_type": "markdown",
   "id": "4",
   "metadata": {},
   "source": [
    "The implementation of the states in _Starsim_ is based around three key classes:"
   ]
  },
  {
   "cell_type": "markdown",
   "id": "5",
   "metadata": {},
   "source": [
    "![states_2](states_2.svg \"states_2\")"
   ]
  },
  {
   "cell_type": "markdown",
   "id": "6",
   "metadata": {},
   "source": [
    "- The `ArrayView` class is an array-like object that can efficiently grow and shrink. This class is indexed directly, and is used to store the UIDs and UID map in the `People` class.\n",
    "- The `UIDArray` class is an array-like object that supports fast indexing by UID. Indexing a `UIDArray` in such a way that multiple items are retrieved, returns another `UIDArray` instance.\n",
    "- The `State` class is a sub-class of `UIDArray`, in which the array being indexed by UID is itself an `ArrayView`. The `State` class also contains additional functionality around setting default values for new agents.\n",
    "\n",
    "Users are expected to interact with the `State` class and `UIDArray` classes in normal usage, whereas `ArrayView` is mainly only used internally."
   ]
  },
  {
   "cell_type": "markdown",
   "id": "7",
   "metadata": {},
   "source": [
    "## User interface"
   ]
  },
  {
   "cell_type": "markdown",
   "id": "8",
   "metadata": {},
   "source": [
    "The user interface for the `State` class (and related architecture) is intended to be as seamless as possible, in that they should generally behave like 'arrays that can be indexed by UID'. The main exception to this is that slicing is not supported because it can behave in ambiguous or confusing ways due if UIDs are non-contiguous. Suppose we have a simulation with a state:"
   ]
  },
  {
   "cell_type": "code",
   "execution_count": null,
   "id": "9",
   "metadata": {},
   "outputs": [],
   "source": [
    "import starsim as ss\n",
    "import numpy as np\n",
    "sim = ss.Sim(verbose=0)\n",
    "sim.run();\n",
    "state = sim.people.age\n",
    "state"
   ]
  },
  {
   "cell_type": "markdown",
   "id": "10",
   "metadata": {},
   "source": [
    "We can see that a state is printed in a similar way to a Pandas series. In this example simulation, no agents have been removed, and therefore the UIDs are continuous integers the same as an array index. To highlight the impact of UID indexing, we can go ahead and remove some of the agents:"
   ]
  },
  {
   "cell_type": "code",
   "execution_count": null,
   "id": "11",
   "metadata": {},
   "outputs": [],
   "source": [
    "sim.people.remove(range(0,1000))\n",
    "state"
   ]
  },
  {
   "cell_type": "markdown",
   "id": "12",
   "metadata": {},
   "source": [
    "Now the first 1000 agents have been removed. We can index the state using the UID to retrieve a single value:"
   ]
  },
  {
   "cell_type": "code",
   "execution_count": null,
   "id": "13",
   "metadata": {},
   "outputs": [],
   "source": [
    "state[1000]"
   ]
  },
  {
   "cell_type": "markdown",
   "id": "14",
   "metadata": {},
   "source": [
    "Or to retrieve multiple values:"
   ]
  },
  {
   "cell_type": "code",
   "execution_count": null,
   "id": "15",
   "metadata": {},
   "outputs": [],
   "source": [
    "state[[1000,1001]]"
   ]
  },
  {
   "cell_type": "code",
   "execution_count": null,
   "id": "16",
   "metadata": {},
   "outputs": [],
   "source": [
    "state[[1000]]"
   ]
  },
  {
   "cell_type": "markdown",
   "id": "17",
   "metadata": {},
   "source": [
    "Notice how when multiple items were retrieved, the result was a `UIDArray` that preserves both the UIDs and the values. Indexing a `State` or `UIDArray` with a scalar will return a single value. Indexing with an iterable (a list or an array) will return a `UIDArray` that In general, indexing a `State` \n",
    "\n",
    "- `State[uids]` → `U`\n",
    "- `FusedArray[uids]` → `FusedArray"
   ]
  },
  {
   "cell_type": "markdown",
   "id": "18",
   "metadata": {},
   "source": [
    "We can also index the state using a logical array:"
   ]
  },
  {
   "cell_type": "code",
   "execution_count": null,
   "id": "19",
   "metadata": {},
   "outputs": [],
   "source": [
    "state[state<75]"
   ]
  },
  {
   "cell_type": "markdown",
   "id": "20",
   "metadata": {},
   "source": [
    "Notice in these examples above that when multiple items were retrieved, the result of the indexing operation retained the UIDs. This is because when an indexing operation is performed on a `FusedArray`, the result is another `FusedArray` instance. This facilitates chained filtering. In particular, it means that UIDs can be incrementally filtered without ever having to track underlying indices. "
   ]
  },
  {
   "cell_type": "code",
   "execution_count": null,
   "id": "21",
   "metadata": {},
   "outputs": [],
   "source": [
    "older_than_75 = state[state>75]\n",
    "older_than_75"
   ]
  },
  {
   "cell_type": "code",
   "execution_count": null,
   "id": "22",
   "metadata": {},
   "outputs": [],
   "source": [
    "age_75_to_80 = older_than_75[older_than_75<80]\n",
    "age_75_to_80"
   ]
  },
  {
   "cell_type": "code",
   "execution_count": null,
   "id": "23",
   "metadata": {},
   "outputs": [],
   "source": [
    "sim.people.female[age_75_to_80.uid]"
   ]
  },
  {
   "cell_type": "markdown",
   "id": "24",
   "metadata": {},
   "source": [
    "`UIDArray` objects are also able to store the UIDs in arbitrary order. For example, we can shuffle the requested UIDs in the example above, and construct a `UIDArray` that has items appearing in a random order."
   ]
  },
  {
   "cell_type": "code",
   "execution_count": null,
   "id": "25",
   "metadata": {},
   "outputs": [],
   "source": [
    "sim.people.female[np.random.permutation(age_75_to_80.uid)]"
   ]
  },
  {
   "cell_type": "markdown",
   "id": "26",
   "metadata": {},
   "source": [
    "This functionality can be quite useful when operating on sampled UIDs, where the samples could be drawn in any order. It is not necessary to sort the UIDs in this instance. \n",
    "\n",
    "<div class=\"alert alert-danger\">\n",
    "Elementwise operations act directly on the values stored by `UIDArray` instances, without performing any realignment based on UIDs. When performing vector operations on `UIDArray` objects, make sure that they all contain the same UIDs.\n",
    "</div>\n"
   ]
  },
  {
   "cell_type": "markdown",
   "id": "27",
   "metadata": {},
   "source": [
    "## Initialization\n",
    "\n",
    "There are three key steps in state initialization:\n",
    "\n",
    "1. States might contain default values that are distributions. These distributions are passed in as `scipy` distribution objects (or similar) and need to be converted into `ss.ScipyDistribution` objects, which are linked to RNGs in a specific `Sim`. Therefore, this initialization step requires a `Sim` instance to be specified\n",
    "2. States must be connected to a `People` instance so that it can be dynamically resized when agents are added or removed. This linkage is bidirectional, with the `State` containing references to `People.uid` and with the `People` containing a reference to the `State` so that it can trigger resizing. This initialization step requires a `People` instance to be specified\n",
    "3. States must have their initial values populated\n",
    "\n",
    "The first two steps must be completed prior to the last step, because the number of default values required depends on the number of agents (and therefore the length of the `People` object), and because populating the default values requires that the default value distribution be already linked to an RNG prior to sampling. \n",
    "\n",
    "Because the initialization of the states depends on the number of agents, it cannot take place prior to initialization of the `People` object. Since the initialization of the states within the `People` object itself can depend on distributions, a `Sim` is required prior to initializing the `People` object. Therefore, initialization proceeds as\n",
    "\n",
    "\n",
    "```\n",
    "Sim.initialize()\n",
    "    ↳ People.initialize()\n",
    "        ↳ state.initialize() - for states contained in the `People` instance\n",
    "    ↳ Module.initialize()    \n",
    "        ↳ state.initialize() - for states contained in the `Module` instance\n",
    "```"
   ]
  },
  {
   "cell_type": "code",
   "execution_count": null,
   "id": "28",
   "metadata": {},
   "outputs": [],
   "source": []
  }
 ],
 "metadata": {
  "kernelspec": {
   "display_name": "Python [conda env:atomica311]",
   "language": "python",
   "name": "conda-env-atomica311-py"
  },
  "language_info": {
   "codemirror_mode": {
    "name": "ipython",
    "version": 3
   },
   "file_extension": ".py",
   "mimetype": "text/x-python",
   "name": "python",
   "nbconvert_exporter": "python",
   "pygments_lexer": "ipython3",
   "version": "3.11.8"
  },
  "toc": {
   "base_numbering": 1,
   "nav_menu": {},
   "number_sections": true,
   "sideBar": true,
   "skip_h1_title": false,
   "title_cell": "Table of Contents",
   "title_sidebar": "Contents",
   "toc_cell": false,
   "toc_position": {},
   "toc_section_display": true,
   "toc_window_display": false
  }
 },
 "nbformat": 4,
 "nbformat_minor": 5
}
