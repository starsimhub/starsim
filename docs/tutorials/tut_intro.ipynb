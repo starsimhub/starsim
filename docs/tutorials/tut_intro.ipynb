{
 "cells": [
  {
   "cell_type": "markdown",
   "metadata": {},
   "source": [
    "# T1 - Getting started\n",
    "\n",
    "Starsim is a highly flexible framework for creating agent-based models. Starsim was designed by a team with expertise in infectious diseases, so many of the examples that we'll cover throughout these tutorials are examples of infectious diseases. However, you can also use Starsim for modeling other things, like non-communicable diseases (NCDs) or family planning and maternal health.\n",
    "\n",
    "Installing and getting started with Starsim is quite simple. \n",
    "\n",
    "To install, just type `pip install starsim`. If it worked, you should be able to import Starsim with `import starsim as ss`.\n",
    "\n",
    "The basic design philosophy of Starsim is: **common tasks should be simple**. Since Starsim is most commonly used for modeling infectious diseases, everything related to that should be straightforward. The most common tasks that you are likely to do are:\n",
    "\n",
    "- Defining parameters\n",
    "- Running a simulation\n",
    "- Plotting results\n",
    "\n",
    "This tutorial walks you through the simplest possible version of how to do these things."
   ]
  },
  {
   "cell_type": "markdown",
   "metadata": {},
   "source": [
    "## Hello world\n",
    "\n",
    "Let's start with the simplest version of a Starsim model. We'll make a version of a classic SIR model [Wiki](https://en.wikipedia.org/wiki/Compartmental_models_in_epidemiology). Here's how our code would look:"
   ]
  },
  {
   "cell_type": "code",
   "execution_count": null,
   "metadata": {
    "tags": []
   },
   "outputs": [],
   "source": [
    "import starsim as ss\n",
    "\n",
    "# Define the parameters\n",
    "pars = dict(\n",
    "    n_agents=5_000,     # Number of agents to simulate\n",
    "    networks=dict(      # *Networks* add detail on how the agents interact with each other \n",
    "        name='random',  # Here, we use a 'random' network\n",
    "        n_contacts=4    # Each person has an average of 4 contacts with other people\n",
    "    ),\n",
    "    diseases=dict(      # *Diseases* add detail on what diseases to model \n",
    "        name='sir',     # Here, we're creating an SIR disease \n",
    "        init_prev=0.1,  # Proportion of the population initially infected \n",
    "        beta=0.1,       # Probability of transmission between contacts\n",
    "    )\n",
    ")\n",
    "\n",
    "# Make the sim, run and plot\n",
    "sim = ss.Sim(pars)\n",
    "sim.run()\n",
    "sim.plot();"
   ]
  },
  {
   "cell_type": "markdown",
   "metadata": {
    "collapsed": false,
    "jupyter": {
     "outputs_hidden": false
    }
   },
   "source": [
    "As the tutorials progress we'll show how to extend this different diseases with different transmission pathways, and how to customize the model in lots of different ways."
   ]
  }
 ],
 "metadata": {
  "kernelspec": {
   "display_name": "Python 3 (ipykernel)",
   "language": "python",
   "name": "python3"
  },
  "language_info": {
   "codemirror_mode": {
    "name": "ipython",
    "version": 3
   },
   "file_extension": ".py",
   "mimetype": "text/x-python",
   "name": "python",
   "nbconvert_exporter": "python",
   "pygments_lexer": "ipython3",
   "version": "3.11.7"
  },
  "pycharm": {
   "stem_cell": {
    "cell_type": "raw",
    "metadata": {
     "collapsed": false
    },
    "source": []
   }
  },
  "toc": {
   "base_numbering": 1,
   "nav_menu": {},
   "number_sections": true,
   "sideBar": true,
   "skip_h1_title": false,
   "title_cell": "Table of Contents",
   "title_sidebar": "Contents",
   "toc_cell": false,
   "toc_position": {},
   "toc_section_display": true,
   "toc_window_display": false
  }
 },
 "nbformat": 4,
 "nbformat_minor": 4
}
