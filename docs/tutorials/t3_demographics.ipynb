{
 "cells": [
  {
   "cell_type": "markdown",
   "id": "e0c09801",
   "metadata": {},
   "source": [
    "# T3 - Demographics "
   ]
  },
  {
   "cell_type": "markdown",
   "id": "5f220c21",
   "metadata": {},
   "source": [
    "<div class=\"alert alert-info\">\n",
    "    \n",
    "An interactive version of this notebook is available on [Google Colab](https://colab.research.google.com/github/starsimhub/starsim/blob/main/docs/tutorials/demographics.ipynb) or [Binder](https://mybinder.org/v2/gh/starsimhub/starsim/HEAD?labpath=docs%2Ftutorials%2Fdemographics.ipynb).\n",
    "    \n",
    "</div>"
   ]
  },
  {
   "cell_type": "code",
   "execution_count": null,
   "id": "a05ae0ae",
   "metadata": {
    "tags": [
     "hide-cell"
    ]
   },
   "outputs": [],
   "source": [
    "%pip install -q starsim # Install Starsim if required"
   ]
  },
  {
   "cell_type": "markdown",
   "id": "4a666d81",
   "metadata": {},
   "source": [
    "\n",
    "There are a few basic ways to add vital dynamics to your model, e.g. "
   ]
  },
  {
   "cell_type": "code",
   "execution_count": null,
   "id": "7dc8b21a",
   "metadata": {},
   "outputs": [],
   "source": [
    "import starsim as ss\n",
    "\n",
    "pars = dict(\n",
    "    birth_rate = ss.peryear(20),      # Annual crude birth rate (per 1000 people)\n",
    "    death_rate = ss.peryear(15),      # Annual crude death rate (per 1000 people)\n",
    "    networks = 'random',\n",
    "    diseases = 'sir'\n",
    ")\n",
    "sim = ss.Sim(pars)"
   ]
  },
  {
   "cell_type": "markdown",
   "id": "2f5ad9e8",
   "metadata": {
    "collapsed": false
   },
   "source": [
    "\n",
    "This will apply annual birth and death rates as specified in the `pars` dict. Alternatively, we can make demographic components, which achieves the same thing:"
   ]
  },
  {
   "cell_type": "code",
   "execution_count": null,
   "id": "acfa0a44",
   "metadata": {},
   "outputs": [],
   "source": [
    "demographics = [\n",
    "    ss.Births(birth_rate=ss.peryear(20)),\n",
    "    ss.Deaths(death_rate=ss.peryear(15))\n",
    "]\n",
    "sim = ss.Sim(demographics=demographics)"
   ]
  },
  {
   "cell_type": "markdown",
   "id": "8b9d6b6d",
   "metadata": {},
   "source": [
    "You can even simply set `demographics=True` to use default rates:"
   ]
  },
  {
   "cell_type": "code",
   "execution_count": null,
   "id": "3b914207",
   "metadata": {},
   "outputs": [],
   "source": [
    "ss.Sim(demographics=True).run().plot();"
   ]
  },
  {
   "cell_type": "markdown",
   "id": "cbeb0b9a",
   "metadata": {},
   "source": [
    "By default, agents age if and only if at least one demographics module is included. You can override this behavior by setting `use_aging`, e.g. `ss.Sim(use_aging=False)`"
   ]
  },
  {
   "cell_type": "markdown",
   "id": "2027fecb",
   "metadata": {},
   "source": [
    "\n",
    "## Scaling results to whole populations\n",
    "Even though we've been simulating populations of a few thousand agents, we can also use the `total_pop` parameter to scale our results so that they reflect a much larger population. You can think of this as a kind of statistical sampling approximation. If we want to model the population of Nigeria, for example, it would be much too computationally intensive to simulate 200 million agents. However, we could simulate 50,000 agents and then say that each agent represents 4,000 people. Again, we can do this by passing `total_pop=200e6` to the sim or in the `pars` dictionary. Here's an example:"
   ]
  },
  {
   "cell_type": "code",
   "execution_count": null,
   "id": "753528fa",
   "metadata": {},
   "outputs": [],
   "source": [
    "demographics = [\n",
    "    ss.Births(birth_rate=ss.peryear(20)),\n",
    "    ss.Deaths(death_rate=ss.peryear(15))\n",
    "]\n",
    "sim = ss.Sim(pars={'total_pop': 200e6, 'n_agents': 50e3}, demographics=demographics)"
   ]
  },
  {
   "cell_type": "markdown",
   "id": "e5b0bd8a",
   "metadata": {
    "collapsed": false
   },
   "source": [
    "## Using realistic vital demographics\n",
    "For more realistic demographics, we can also pass in a file that has birth or death rates over time and by age/sex. There are examples of these files in the `test_data` folder. Here's how we would read them in and construct realistic vital dynamics for Nigeria: "
   ]
  },
  {
   "cell_type": "code",
   "execution_count": null,
   "id": "4bf3309e",
   "metadata": {},
   "outputs": [],
   "source": [
    "import starsim as ss\n",
    "import pandas as pd\n",
    "import matplotlib.pyplot as plt\n",
    "\n",
    "# Read in age-specific fertility rates\n",
    "fertility_rates = pd.read_csv('test_data/nigeria_asfr.csv')\n",
    "pregnancy = ss.Pregnancy(fertility_rate=fertility_rates)\n",
    "\n",
    "death_rates = pd.read_csv('test_data/nigeria_deaths.csv')\n",
    "death = ss.Deaths(death_rate=death_rates, rate_units=1)\n",
    "\n",
    "demographics = [pregnancy, death]\n",
    "\n",
    "# Make people using the distribution of the population by age/sex in 1995\n",
    "n_agents = 5_000\n",
    "nga_pop_1995 = 106819805  # Population of Nigeria in 1995, the year we will start the model\n",
    "age_data = pd.read_csv('test_data/nigeria_age.csv')\n",
    "ppl = ss.People(n_agents, age_data=age_data)\n",
    "\n",
    "# Make the sim, run and plot\n",
    "sim = ss.Sim(total_pop=nga_pop_1995, start=1995, people=ppl, demographics=demographics, networks='random', diseases='sir')\n",
    "sim.run()\n",
    "\n",
    "# Read in a file with the actual population size\n",
    "nigeria_popsize = pd.read_csv('test_data/nigeria_popsize.csv')\n",
    "data = nigeria_popsize[(nigeria_popsize.year >= 1995) & (nigeria_popsize.year <= 2030)]\n",
    "\n",
    "# Plot the overall population size - simulated vs data\n",
    "fig, ax = plt.subplots(1, 1)\n",
    "res = sim.results\n",
    "ax.scatter(data.year, data.n_alive, alpha=0.5, label='Data')\n",
    "ax.plot(sim.t.yearvec, res.n_alive, color='k', label='Model')\n",
    "ax.legend()\n",
    "ax.set_title('Population')\n",
    "plt.show()"
   ]
  },
  {
   "cell_type": "markdown",
   "id": "42921340",
   "metadata": {
    "collapsed": false
   },
   "source": [
    "If you want to use realistic demographics for your model, you can adapt the data files and code snippet above to read in the relevant demographic data files for your country/setting.\n",
    "\n",
    "*Note*: In the code block above, we set the units of the mortality data to 1, as opposed to 1/1000. If your data come in the form of deaths per 1000 people, set units to 1/1000. Note also that as per standard definitions, `fertility_rate` is defined per *woman*, whereas `birth_rate` is defined per *person*."
   ]
  },
  {
   "cell_type": "markdown",
   "id": "c8a3d023",
   "metadata": {},
   "source": [
    "## Exercises\n",
    "1. In Niger, the crude birth rate is 45 and the crude death rate is 9. Assuming these rates stay constant, and starting with a total population of 24 million in 2020, how many people will there be in 2040? (You do not need to include any diseases in your model.)"
   ]
  }
 ],
 "metadata": {
  "kernelspec": {
   "display_name": "base",
   "language": "python",
   "name": "python3"
  },
  "language_info": {
   "codemirror_mode": {
    "name": "ipython",
    "version": 3
   },
   "file_extension": ".py",
   "mimetype": "text/x-python",
   "name": "python",
   "nbconvert_exporter": "python",
   "pygments_lexer": "ipython3",
   "version": "3.12.10"
  }
 },
 "nbformat": 4,
 "nbformat_minor": 5
}
