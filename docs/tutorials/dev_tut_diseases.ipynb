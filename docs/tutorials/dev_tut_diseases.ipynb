{
 "cells": [
  {
   "cell_type": "markdown",
   "id": "397b7212",
   "metadata": {},
   "source": [
    "# Developer tutorial: Diseases"
   ]
  },
  {
   "cell_type": "markdown",
   "id": "a30cce76",
   "metadata": {},
   "source": [
    "<div class=\"alert alert-info\">\n",
    "    \n",
    "An interactive version of this notebook is available on [Google Colab](https://colab.research.google.com/github/starsimhub/starsim/blob/main/docs/tutorials/dev_tut_diseases.ipynb?install=starsim) or [Binder](https://mybinder.org/v2/gh/starsimhub/starsim/HEAD?labpath=docs%2Ftutorials%2Fdev_tut_diseases.ipynb).\n",
    "    \n",
    "</div>"
   ]
  },
  {
   "cell_type": "markdown",
   "id": "6adf65fe",
   "metadata": {},
   "source": [
    "## Overview of Starsim's disease structure\n",
    "\n",
    "The basic template for modeling a disease in Starsim is the `Disease` class. Much like sims or networks, a `Disease` can be customized by passing in a `pars` dictionary containing parameters. The `Disease` module does lots of different things, but three of the model fundamental are:\n",
    "\n",
    "- `set_initial_states`, which initializes people into states (e.g. susceptible, infected, recovered)\n",
    "- `make_new_cases`, which makes new cases (e.g., by finding the susceptible contacts of all infected people and calculating the probability of transmission for each)\n",
    "- `set_prognoses`, which sets the outcomes for people who get infected (e.g., by setting their date of recovery or death).\n"
   ]
  },
  {
   "cell_type": "markdown",
   "id": "03077b6c",
   "metadata": {
    "collapsed": false,
    "jupyter": {
     "outputs_hidden": false
    }
   },
   "source": [
    "## Making your own disease\n",
    "If you want to make your own disease, you could either inherit from one of the templates in diseases.py, or you could copy the examples and extend them to capture features of the disease that you want to model. For example, suppose you wanted to change the SIR model to an SEIR model (i.e., add an 'exposed' state where people were transmissible but did not yet have symptoms. You might hope that this would be a relatively simple change to make. Here's how it would look:"
   ]
  },
  {
   "cell_type": "code",
   "execution_count": 1,
   "id": "8b1bf68d",
   "metadata": {
    "collapsed": false,
    "jupyter": {
     "outputs_hidden": false
    }
   },
   "outputs": [],
   "source": [
    "import starsim as ss\n",
    "import matplotlib.pyplot as plt\n",
    "\n",
    "class SEIR(ss.SIR):\n",
    "    def __init__(self, pars=None, *args, **kwargs):\n",
    "        super().__init__()\n",
    "        self.define_pars(\n",
    "            dur_exp = ss.lognorm_ex(0.5),\n",
    "        )\n",
    "        self.update_pars(pars, **kwargs)\n",
    "\n",
    "        # Additional states beyond the SIR ones \n",
    "        self.define_states(\n",
    "            ss.State('exposed', label='Exposed'),\n",
    "            ss.FloatArr('ti_exposed', label='TIme of exposure'),\n",
    "        )\n",
    "        return\n",
    "\n",
    "    @property\n",
    "    def infectious(self):\n",
    "        return self.infected | self.exposed\n",
    "\n",
    "    def step_state(self):\n",
    "        \"\"\" Make all the updates from the SIR model \"\"\"\n",
    "        # Perform SIR updates\n",
    "        super().step_state()\n",
    "\n",
    "        # Additional updates: progress exposed -> infected\n",
    "        infected = self.exposed & (self.ti_infected <= self.ti)\n",
    "        self.exposed[infected] = False\n",
    "        self.infected[infected] = True\n",
    "        return\n",
    "\n",
    "    def step_die(self, uids):\n",
    "        super().step_die(uids)\n",
    "        self.exposed[uids] = False\n",
    "        return\n",
    "\n",
    "    def set_prognoses(self, uids, sources=None):\n",
    "        \"\"\" Carry out state changes associated with infection \"\"\"\n",
    "        super().set_prognoses(uids, sources)\n",
    "        ti = self.ti\n",
    "        self.susceptible[uids] = False\n",
    "        self.exposed[uids] = True\n",
    "        self.ti_exposed[uids] = ti\n",
    "\n",
    "        # Calculate and schedule future outcomes\n",
    "        dur_exp = self.pars['dur_exp'].rvs(uids)\n",
    "        self.ti_infected[uids] = ti + dur_exp\n",
    "        dur_inf = self.pars['dur_inf'].rvs(uids)\n",
    "        will_die = self.pars['p_death'].rvs(uids)        \n",
    "        self.ti_recovered[uids[~will_die]] = ti + dur_inf[~will_die]\n",
    "        self.ti_dead[uids[will_die]] = ti + dur_inf[will_die]\n",
    "        return\n",
    "    \n",
    "    def plot(self):\n",
    "        \"\"\" Update the plot with the exposed compartment \"\"\"\n",
    "        with ss.options.context(jupyter=False):\n",
    "            fig = super().plot()\n",
    "            ax = plt.gca()\n",
    "            res = self.results.n_exposed\n",
    "            ax.plot(res.timevec, res, label=res.label)\n",
    "            plt.legend()\n",
    "        return ss.return_fig(fig)"
   ]
  },
  {
   "cell_type": "markdown",
   "id": "572ec8fe",
   "metadata": {
    "collapsed": false,
    "jupyter": {
     "outputs_hidden": false
    }
   },
   "source": [
    "The new class includes the following main changes:\n",
    "\n",
    "1. In `__init__` we added the extra pars and states needed for our model\n",
    "2. We defined `infectious` to include both infected and exposed people - this means that we can just reuse the existing logic for how the SIR model handles transmission\n",
    "3. We updated `update_pre` and `update_death` to include changes to the `exposed` state \n",
    "4. We rewrote `set_prognoses` to include the new exposed state.\n"
   ]
  },
  {
   "cell_type": "markdown",
   "id": "c6a7f164",
   "metadata": {},
   "source": [
    "Here's how it would look in practice:"
   ]
  },
  {
   "cell_type": "code",
   "execution_count": null,
   "id": "2d627cb8",
   "metadata": {},
   "outputs": [],
   "source": [
    "seir = SEIR()\n",
    "sim = ss.Sim(diseases=seir, networks='random')\n",
    "sim.run()\n",
    "sim.plot()\n",
    "sim.diseases.seir.plot()"
   ]
  }
 ],
 "metadata": {
  "kernelspec": {
   "display_name": "base",
   "language": "python",
   "name": "python3"
  },
  "language_info": {
   "codemirror_mode": {
    "name": "ipython",
    "version": 3
   },
   "file_extension": ".py",
   "mimetype": "text/x-python",
   "name": "python",
   "nbconvert_exporter": "python",
   "pygments_lexer": "ipython3",
   "version": "3.12.2"
  }
 },
 "nbformat": 4,
 "nbformat_minor": 5
}
