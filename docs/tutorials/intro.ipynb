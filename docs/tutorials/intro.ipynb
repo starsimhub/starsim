{
 "cells": [
  {
   "cell_type": "markdown",
   "id": "dd65a1f9",
   "metadata": {},
   "source": [
    "# T1 - Getting started\n",
    "\n",
    "Starsim is a highly flexible framework for creating agent-based models. Starsim was designed by a team with expertise in infectious diseases, so many of the examples that we'll cover throughout these tutorials are examples of infectious diseases. However, you can also use Starsim for modeling other things, like non-communicable diseases (NCDs) or family planning and maternal health.\n",
    "\n",
    "Installing and getting started with Starsim is quite simple. \n",
    "\n",
    "To install, just type `pip install starsim`. If it worked, you should be able to import Starsim with `import starsim as ss`.\n",
    "\n",
    "The basic design philosophy of Starsim is: **common tasks should be simple**. Since Starsim is most commonly used for modeling infectious diseases, everything related to that should be straightforward. The most common tasks that you are likely to do are:\n",
    "\n",
    "- Defining parameters\n",
    "- Running a simulation\n",
    "- Plotting results\n",
    "\n",
    "This tutorial walks you through the simplest possible version of how to do these things."
   ]
  },
  {
   "cell_type": "markdown",
   "id": "c00c109e",
   "metadata": {},
   "source": [
    "<div class=\"alert alert-info\">\n",
    "    \n",
    "An interactive version of this notebook is available on [Google Colab](https://colab.research.google.com/github/starsimhub/starsim/blob/main/docs/tutorials/tut_intro.ipynb?install=starsim) or [Binder](https://mybinder.org/v2/gh/starsimhub/starsim/HEAD?labpath=docs%2Ftutorials%2Ftut_intro.ipynb).\n",
    "    \n",
    "</div>"
   ]
  },
  {
   "cell_type": "markdown",
   "id": "2ae50b40",
   "metadata": {},
   "source": [
    "## Hello world\n",
    "\n",
    "Let's start with the simplest version of a Starsim model. We'll make a version of a [classic SIR model](https://en.wikipedia.org/wiki/Compartmental_models_in_epidemiology). Here's how our code would look:"
   ]
  },
  {
   "cell_type": "code",
   "execution_count": null,
   "id": "c6b0dfc8",
   "metadata": {},
   "outputs": [],
   "source": [
    "import starsim as ss\n",
    "\n",
    "# Define the parameters\n",
    "pars = dict(\n",
    "    n_agents = 10_000,    # Number of agents to simulate\n",
    "    networks = dict(      # *Networks* add detail on how the agents interact with each other \n",
    "        type = 'random',  # Here, we use a 'random' network\n",
    "        n_contacts = 10   # Each person has an average of 10 contacts with other people\n",
    "    ),\n",
    "    diseases = dict(      # *Diseases* add detail on what diseases to model \n",
    "        type = 'sir',     # Here, we're creating an SIR disease \n",
    "        init_prev = 0.01, # Proportion of the population initially infected \n",
    "        beta = 0.05,      # Probability of transmission between contacts\n",
    "    )\n",
    ")\n",
    "\n",
    "# Make the sim, run and plot\n",
    "sim = ss.Sim(pars)\n",
    "sim.run()\n",
    "sim.plot()\n",
    "sim.diseases.sir.plot()"
   ]
  },
  {
   "cell_type": "markdown",
   "id": "02be91b3",
   "metadata": {},
   "source": [
    "As the tutorials progress we'll show how to extend this different diseases with different transmission pathways, and how to customize the model in lots of different ways."
   ]
  }
 ],
 "metadata": {
  "kernelspec": {
   "display_name": "base",
   "language": "python",
   "name": "python3"
  },
  "language_info": {
   "codemirror_mode": {
    "name": "ipython",
    "version": 3
   },
   "file_extension": ".py",
   "mimetype": "text/x-python",
   "name": "python",
   "nbconvert_exporter": "python",
   "pygments_lexer": "ipython3",
   "version": "3.12.2"
  }
 },
 "nbformat": 4,
 "nbformat_minor": 5
}
