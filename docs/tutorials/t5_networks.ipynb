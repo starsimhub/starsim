{
 "cells": [
  {
   "cell_type": "markdown",
   "id": "a8590a81",
   "metadata": {},
   "source": [
    "# T5 - Networks"
   ]
  },
  {
   "cell_type": "markdown",
   "id": "1ada2412",
   "metadata": {},
   "source": [
    "<div class=\"alert alert-info\">\n",
    "    \n",
    "An interactive version of this notebook is available on [Google Colab](https://colab.research.google.com/github/starsimhub/starsim/blob/main/docs/tutorials/transmission.ipynb) or [Binder](https://mybinder.org/v2/gh/starsimhub/starsim/HEAD?labpath=docs%2Ftutorials%2Ftransmission.ipynb).\n",
    "    \n",
    "</div>"
   ]
  },
  {
   "cell_type": "code",
   "execution_count": null,
   "id": "63072b8f",
   "metadata": {
    "tags": [
     "hide-cell"
    ]
   },
   "outputs": [],
   "source": [
    "%pip install -q starsim # Install Starsim if required"
   ]
  },
  {
   "cell_type": "markdown",
   "id": "884f0f84",
   "metadata": {},
   "source": [
    "\n",
    "Many infectious diseases transmit when people come into contact with one another. In the basic SIR example that we covered in the first two tutorials, we used a 'random' contact network, which creates random pairings of people. Generally speaking, the structure of network that you use depends on what disease you're modeling.\n",
    "\n",
    "Starsim contains two different approaches to disease transmission.\n",
    "\n",
    "**Contact network:** Disease transmits on individual person-to-person relationships. These are networks in the sense that each agent (person) can be viewed as a node and each contact is an edge. Networks are undirected in the sense that an edge will allow transmission in both directions, however you can make transmission stronger one way (p1-->p2) than the other (p2-->p1). The framework includes several pre-built contact network algorithms, each of which manages a list of edges that can change on each simulation step. In addition to the 'random' network, the framework include algorithms representing basic sexual networks for modeling sexually transmitted infections (STIs) and a 'maternal' network for modeling mother-to-child transmission.\n",
    "\n",
    "**Mixing pools:** Simulate well-mixed transmission from one group of agents to another. Each mixing pool simulates directed transmission from a group of source agents to a group of destination agents. Instead of simulating individual edges like in a contact network, mixing pools first compute the total \"contagion\" that is shed by the source group. This total contagion value is normalized by the number of agents in the source group to arrive at a value that represents a typical infectious source agent. Then, each destination agent is exposed to this typical (average) infectious agent, likely resulting in new infections in the destination group. Multiple mixing pools can be run simultaneously to simulate heterogeneous transmission between various source and destination groups. Mixing pools could be used with age contact matrices like those developed by Prem et al.\n",
    "\n",
    "Note that contact networks and mixing pools can be used together in a single simulation.\n",
    "\n",
    "In this tutorial, we'll demonstrate a couple of the built-in contact networks, and give an overview of how you might create your own for your own disease modeling work. We'll also demonstrate how to use mixing pools."
   ]
  },
  {
   "cell_type": "markdown",
   "id": "123831c1",
   "metadata": {},
   "source": [
    "## Overview of Starsim's contact network structure\n",
    "\n",
    "Starsim's networks are stored in the `networks.py` file. At the top of this file you'll see the `Network` class, which provides the template for all the other networks. At a high level, all you need to know is that network stores various *parameters* that determine how pairs of people form and dissolve, and a collection of all the *edges* that exist at a given point in time. Let's look at a simple example of the `random` network:"
   ]
  },
  {
   "cell_type": "code",
   "execution_count": null,
   "id": "04b07551",
   "metadata": {
    "tags": []
   },
   "outputs": [],
   "source": [
    "import numpy as np\n",
    "import sciris as sc\n",
    "import starsim as ss\n",
    "import starsim_examples as sse\n",
    "import matplotlib.pyplot as plt\n",
    "\n",
    "# Make random network\n",
    "random = ss.RandomNet()"
   ]
  },
  {
   "cell_type": "markdown",
   "id": "5e16e5ea",
   "metadata": {
    "collapsed": false
   },
   "source": [
    "The network we just made stores two very important things: the list of contacts (found in `random.edges`) and the parameters (`random.pars`).  \n",
    "\n",
    "If we just make a network on its own like this, it's not very interesting. Like all components of Starsim, it needs to be initialized within a `sim` before the database of contacts gets populated:"
   ]
  },
  {
   "cell_type": "code",
   "execution_count": null,
   "id": "f2b1686b",
   "metadata": {},
   "outputs": [],
   "source": [
    "net = ss.RandomNet()\n",
    "sir = ss.SIR()\n",
    "sim = ss.Sim(n_agents=50, diseases=sir, networks=net) # Decreasing n_agents so we can plot the network below\n",
    "sim.init()"
   ]
  },
  {
   "cell_type": "markdown",
   "id": "34922029",
   "metadata": {
    "collapsed": false
   },
   "source": [
    "We can easily take a look at the list of edges between agents. All networks are stored in `sim.networks`, and individual networks can be found at their class name after conversion to lower case. So for this example, `sim.networks.randomnet.edges` has all the information about which agents (referenced by their UID) are paired with which other agents as well as a per-edge transmission multiplier called `beta` and a per-edge duration, `dur`."
   ]
  },
  {
   "cell_type": "code",
   "execution_count": null,
   "id": "a835439d",
   "metadata": {},
   "outputs": [],
   "source": [
    "sim.networks.randomnet"
   ]
  },
  {
   "cell_type": "markdown",
   "id": "0affb7bc",
   "metadata": {},
   "source": [
    "Networks provide some basic functionality, for example to identify contacts. Additionally, the edge list can be quickly converted to a `pandas` dataframe or `networkx` graph for further analysis and manipulation:"
   ]
  },
  {
   "cell_type": "code",
   "execution_count": null,
   "id": "09da79de",
   "metadata": {},
   "outputs": [],
   "source": [
    "net = sim.networks.randomnet\n",
    "\n",
    "# Use the \"find_contacts\" function to find all contacts of agent with uid 0\n",
    "contacts_of_agent_0 = net.find_contacts([0])\n",
    "print('The following agents were identified as contacts of agent 0:', contacts_of_agent_0)\n",
    "\n",
    "# Convert to a pandas DataFrame and manually find all edges involving agent with uid 0\n",
    "df = net.to_df()\n",
    "uid0_edges = df.loc[(df['p1']==0) | (df['p2']==0)]\n",
    "print('\\nEdges involving UID 0 extracted from the edge list data frame:')\n",
    "display(uid0_edges)\n",
    "\n",
    "# Plot the network using networkx\n",
    "net.plot()"
   ]
  },
  {
   "cell_type": "markdown",
   "id": "285679db",
   "metadata": {},
   "source": [
    "\n",
    "## Sexual networks\n",
    "Starsim contains a few basic sexual networks, including an `mf` network for modeling heterosexual partnerships and an `msm` network for men having sex with men. Modeling STIs is a straightforward extension of the SIR example we looked at previously. Here's an example modeling syphilis:"
   ]
  },
  {
   "cell_type": "code",
   "execution_count": null,
   "id": "dd802fdd",
   "metadata": {},
   "outputs": [],
   "source": [
    "# Create the disease\n",
    "syph = sse.Syphilis(\n",
    "    beta = {'mf': [0.25, 0.15]},    # See notes below \n",
    ")\n",
    "\n",
    "# Create a heterosexual network\n",
    "mf = ss.MFNet(\n",
    "    duration=1/24,  # Using very short relationships so that we get more transmission \n",
    "    acts=80,        # Distribution of the number of coital acts/year\n",
    ")\n",
    "\n",
    "pars = dict(start=2000, dur=20, dt=1/12)\n",
    "sim = ss.Sim(pars=pars, diseases=syph, networks=mf)"
   ]
  },
  {
   "cell_type": "markdown",
   "id": "e0905383",
   "metadata": {
    "collapsed": false
   },
   "source": [
    "The main difference here is that we've added the line `syph.pars['beta'] = {'mf': [0.25, 0.15]}`. Because STIs are generally more transmissible from males to females than vice versa, we can specify `beta` as a list, and we can also allow it to vary between networks. For instance, if we also had an MSM network here, we could set \n",
    "```\n",
    "syph.pars.update(beta = {'mf': [0.25, 0.15], 'msm': [0.4, 0.4]})\n",
    "```\n",
    "The sexual network itself is structurally similar to the `random` network that we looked at previously, and can be customized by changing the `pars` dictionary that's used to construct it.\n",
    " \n",
    "## Maternal networks\n",
    "Maternal networks are useful for capturing mother-to-child transmission. If you want to use them, you also need to model pregnancy. As new agents are born via pregnancy, edges are automatically added between mother and prenatal child in the maternal network. Here's an example showing how you would do this for syphilis:"
   ]
  },
  {
   "cell_type": "code",
   "execution_count": null,
   "id": "860b879b",
   "metadata": {},
   "outputs": [],
   "source": [
    "syph = sse.Syphilis(\n",
    "    beta = {'mf': [0.25, 0.15], 'maternal': [0.99, 0]}\n",
    ")\n",
    "\n",
    "# Make demographic modules\n",
    "pregnancy = ss.Pregnancy(fertility_rate=20)\n",
    "death = ss.Deaths(death_rate=15)\n",
    "\n",
    "# Make maternal network\n",
    "maternal = ss.MaternalNet()\n",
    "\n",
    "# Make sim\n",
    "sim = ss.Sim(pars=pars, diseases=syph, networks=[mf, maternal], demographics=[pregnancy, death], dur=10)\n",
    "sim.run().plot(show_module=False)"
   ]
  },
  {
   "cell_type": "markdown",
   "id": "c2267da9",
   "metadata": {
    "collapsed": false
   },
   "source": [
    "## Making your own contact network\n",
    "If you want to make your own network, a good place to start is by inheriting from one of the templates in networks.py. For example, if you wanted to make an `mf` network that has more age structure, you could do something like this:"
   ]
  },
  {
   "cell_type": "code",
   "execution_count": null,
   "id": "90ebaea5",
   "metadata": {},
   "outputs": [],
   "source": [
    "class age_mf(ss.MFNet):\n",
    "    def add_pairs(self, people, ti=None):\n",
    "        # Custom code to select pairs based on age\n",
    "        return "
   ]
  },
  {
   "cell_type": "markdown",
   "id": "cdf7586a",
   "metadata": {
    "collapsed": false
   },
   "source": [
    "This network would operate exactly like the existing `mf` network, but you could control how new pairs were added.\n",
    "\n",
    "## Introduction to mixing pools\n",
    "\n",
    "While contact networks model individual relationships, mixing pools model group-level transmission. This is useful for:\n",
    "- Large populations where individual contacts are impractical\n",
    "- Age-structured mixing (like school, work, household contacts)\n",
    "- When you have contact matrices from epidemiological studies\n",
    "\n",
    "Here's a simple comparison:"
   ]
  },
  {
   "cell_type": "code",
   "execution_count": null,
   "id": "67c881d2",
   "metadata": {},
   "outputs": [],
   "source": [
    "# Simple mixing pool example\n",
    "mp = ss.MixingPool(beta=1.0, n_contacts=ss.poisson(lam=3))\n",
    "sir_mp = ss.SIR()\n",
    "sim_mp = ss.Sim(diseases=sir_mp, networks=mp, verbose=0, label='Mixing Pool')\n",
    "\n",
    "# Equivalent contact network\n",
    "net = ss.RandomNet(n_contacts=ss.poisson(lam=3))\n",
    "sir_net = ss.SIR(beta=ss.peryear(0.1))\n",
    "sim_net = ss.Sim(diseases=sir_net, networks=net, verbose=0, label='Contact Network')\n",
    "\n",
    "msim = ss.MultiSim([sim_mp, sim_net]).run()\n",
    "msim.plot()"
   ]
  },
  {
   "cell_type": "markdown",
   "id": "9ad3a5fc",
   "metadata": {},
   "source": [
    "Both approaches model similar transmission patterns, but mixing pools work with groups rather than individual contacts."
   ]
  },
  {
   "cell_type": "markdown",
   "id": "siqo5ycrdk",
   "metadata": {},
   "source": [
    "## What you've learned\n",
    "\n",
    "Congratulations! You've now learned how to:\n",
    "- Use basic contact networks for disease transmission\n",
    "- Model disease-specific networks (sexual, maternal)\n",
    "- Create custom networks with your own connection rules\n",
    "- Understand the difference between contact networks and mixing pools\n",
    "\n",
    "For more advanced mixing pool techniques (age-structured mixing, contact matrices, multi-group models), see the Networks implementation guide.\n",
    "\n",
    "## Exercises\n",
    "1. **Multi-network STI model**: Adapt the syphilis example to include both MF and MSM transmission\n",
    "2. **Custom network parameters**: Modify the AgeMFNet to have different age bins and mixing probabilities\n",
    "3. **Network comparison**: Compare random vs age-structured networks - how do they affect epidemic dynamics?"
   ]
  }
 ],
 "metadata": {
  "kernelspec": {
   "display_name": "base",
   "language": "python",
   "name": "python3"
  },
  "language_info": {
   "codemirror_mode": {
    "name": "ipython",
    "version": 3
   },
   "file_extension": ".py",
   "mimetype": "text/x-python",
   "name": "python",
   "nbconvert_exporter": "python",
   "pygments_lexer": "ipython3",
   "version": "3.12.10"
  }
 },
 "nbformat": 4,
 "nbformat_minor": 5
}
