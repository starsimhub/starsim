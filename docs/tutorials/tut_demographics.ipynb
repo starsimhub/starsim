{
 "cells": [
  {
   "cell_type": "markdown",
   "metadata": {},
   "source": [
    "# T3 - Demographics \n",
    "\n",
    "We've already seen a few basic ways to add vital dynamics to your model, e.g. "
   ]
  },
  {
   "cell_type": "code",
   "execution_count": null,
   "metadata": {
    "collapsed": false,
    "jupyter": {
     "outputs_hidden": false
    }
   },
   "outputs": [],
   "source": [
    "import starsim as ss\n",
    "\n",
    "pars = dict(\n",
    "    birth_rate=20,     # Annual crude birth rate (per 1000 people)\n",
    "    death_rate=0.015,  # Annual crude death rate\n",
    "    networks='random',\n",
    "    diseases='sir'\n",
    ")\n",
    "sim = ss.Sim(pars)"
   ]
  },
  {
   "cell_type": "markdown",
   "metadata": {
    "collapsed": false,
    "jupyter": {
     "outputs_hidden": false
    }
   },
   "source": [
    "\n",
    "This will scale all your results to represent a population of 50 million people, and will apply annual birth and death rates as specified in the `pars` dict. Alternatively, we can make demographic components:"
   ]
  },
  {
   "cell_type": "code",
   "execution_count": null,
   "metadata": {
    "collapsed": false,
    "jupyter": {
     "outputs_hidden": false
    }
   },
   "outputs": [],
   "source": [
    "demographics = [\n",
    "    ss.Births(pars={'birth_rate': 20}),\n",
    "    ss.Deaths(pars={'death_rate': 0.015})\n",
    "]\n",
    "sim = ss.Sim(diseases=ss.SIR(), demographics=demographics, networks=ss.RandomNet())"
   ]
  },
  {
   "cell_type": "markdown",
   "metadata": {
    "collapsed": false,
    "jupyter": {
     "outputs_hidden": false
    }
   },
   "source": [
    "Both achieve the same thing. \n",
    "\n",
    "## Scaling results to whole populations\n",
    "Even though we've been simulating populations of a few thousand agents, we can also use the `total_pop` parameter to scale our results so that they reflect a much larger population. You can think of this as a kind of statistical sampling approximation. If we want to model the population of Nigeria, for example, it would be much too computationally intensive to simulate 200 million agents. However, we could simulate 50,000 agents and then say that each agent represents 4,000 people. Again, we can do this by passing `total_pop=200e6` to the sim or in the `pars` dictionary.\n",
    "\n",
    "## Using realistic vital demographics\n",
    "For more realistic demographics, we can also pass in a file that has birth or death rates over time and by age/sex. There are examples of these files in the `tests/test_data` folder. Here's how we would read them in and construct realistic vital dynamics for Nigeria: "
   ]
  },
  {
   "cell_type": "code",
   "execution_count": null,
   "metadata": {
    "collapsed": false,
    "jupyter": {
     "outputs_hidden": false
    }
   },
   "outputs": [],
   "source": [
    "import starsim as ss\n",
    "import pandas as pd\n",
    "\n",
    "# Read in age-specific fertility rates\n",
    "fertility_rates = pd.read_csv(ss.root / 'tests/test_data/nigeria_asfr.csv')\n",
    "pregnancy = ss.Pregnancy(pars={'fertility_rate': fertility_rates})\n",
    "\n",
    "death_rates = pd.read_csv(ss.root / 'tests/test_data/nigeria_deaths.csv')\n",
    "death = ss.Deaths(pars={'death_rate': death_rates})\n",
    "\n",
    "demographics = [pregnancy, death]\n",
    "\n",
    "# Make people using the distribution of the population by age/sex in 1995\n",
    "n_agents = 5_000\n",
    "nga_pop_1995 = 106819805  # Population of Nigeria in 1995, the year we will start the model\n",
    "age_data = pd.read_csv(ss.root / 'tests/test_data/nigeria_age.csv')\n",
    "ppl = ss.People(n_agents, age_data=age_data)\n",
    "\n",
    "# Make the sim, run and plot\n",
    "sim = ss.Sim(people=ppl, demographics=demographics, pars=dict(networks='random', diseases='sir'))\n",
    "sim.run()\n",
    "\n",
    "# Read in a file with the actual population size\n",
    "nigeria_popsize = pd.read_csv(ss.root / 'tests/test_data/nigeria_popsize.csv')\n",
    "data = nigeria_popsize[(nigeria_popsize.year >= 1995) & (nigeria_popsize.year <= 2030)]\n",
    "\n",
    "# Plot the overall population size - simulated vs data\n",
    "import matplotlib.pyplot as plt\n",
    "fig, ax = plt.subplots(1, 1)\n",
    "ax.scatter(data.year, data.n_alive, alpha=0.5, label='Data')\n",
    "ax.plot(sim.yearvec, sim.results.n_alive, color='k', label='Model')\n",
    "ax.legend()\n",
    "ax.set_title('Population')\n",
    "plt.show();"
   ]
  },
  {
   "cell_type": "markdown",
   "metadata": {
    "collapsed": false,
    "jupyter": {
     "outputs_hidden": false
    }
   },
   "source": [
    "If you want to use realistic demographics for your model, you can adapt the data files and code snippet above to read in the relevant demographic data files for your country/setting. "
   ]
  }
 ],
 "metadata": {
  "kernelspec": {
   "display_name": "Python 3 (ipykernel)",
   "language": "python",
   "name": "python3"
  },
  "language_info": {
   "codemirror_mode": {
    "name": "ipython",
    "version": 3
   },
   "file_extension": ".py",
   "mimetype": "text/x-python",
   "name": "python",
   "nbconvert_exporter": "python",
   "pygments_lexer": "ipython3",
   "version": "3.11.7"
  },
  "pycharm": {
   "stem_cell": {
    "cell_type": "raw",
    "metadata": {
     "collapsed": false
    },
    "source": []
   }
  },
  "toc": {
   "base_numbering": 1,
   "nav_menu": {},
   "number_sections": true,
   "sideBar": true,
   "skip_h1_title": false,
   "title_cell": "Table of Contents",
   "title_sidebar": "Contents",
   "toc_cell": false,
   "toc_position": {},
   "toc_section_display": true,
   "toc_window_display": false
  }
 },
 "nbformat": 4,
 "nbformat_minor": 4
}
