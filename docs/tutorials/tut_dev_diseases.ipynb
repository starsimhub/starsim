{
 "cells": [
  {
   "cell_type": "markdown",
   "metadata": {},
   "source": [
    "# Developer tutorial - Diseases"
   ]
  },
  {
   "cell_type": "markdown",
   "metadata": {},
   "source": [
    "## Overview of Starsim's disease structure\n",
    "\n",
    "The basic template for modeling a disease in Starsim is the `Disease` class. Much like sims or networks, a `Disease` can be customized by passing in a `pars` dictionary containing parameters. THe `Disease` module dose lots of different things, but three of the model fundamental are:\n",
    "- `set_initial_states`, which initializes people into states (e.g. susceptible, infected, recovered)\n",
    "- `make_new_cases`, which makes new cases (e.g., by finding the susceptible contacts of all infected people and calculating the probability of transmission for each)\n",
    "- `set_prognoses`, which sets the outcomes for people who get infected (e.g., by setting their date of recovery or death).\n"
   ]
  },
  {
   "cell_type": "markdown",
   "metadata": {
    "collapsed": false,
    "jupyter": {
     "outputs_hidden": false
    }
   },
   "source": [
    "## Making your own disease\n",
    "If you want to make your own disease, you could either inherit from one of the templates in diseases.py, or you could copy the examples and extend them to capture features of the disease that you want to model. For example, suppose you wanted to change the SIR model to an SEIR model (i.e., add an 'exposed' state where people were transmissible but did not yet have symptoms. You might hope that this would be a relatively simple change to make. Here's how it would look:"
   ]
  },
  {
   "cell_type": "code",
   "execution_count": null,
   "metadata": {
    "collapsed": false,
    "jupyter": {
     "outputs_hidden": false
    }
   },
   "outputs": [],
   "source": [
    "import numpy as np\n",
    "import starsim as ss\n",
    "\n",
    "\n",
    "class SEIR(ss.SIR):\n",
    "    def __init__(self, pars=None, *args, **kwargs):\n",
    "        \n",
    "        # Additional pars beyond the SIR model ones\n",
    "        pars = ss.omerge({\n",
    "            'dur_exp': 0.5,  \n",
    "        }, pars)\n",
    "        \n",
    "        # Initialize the SIR model, which will add all the parameters and states of that model.\n",
    "        super().__init__(pars=pars, *args, **kwargs)\n",
    "\n",
    "        # Additional states beyond the SIR ones \n",
    "        self.exposed = ss.State('exposed', bool, False)\n",
    "        self.ti_exposed = ss.State('ti_exposed', float, np.nan)\n",
    "\n",
    "        return\n",
    "\n",
    "    @property\n",
    "    def infectious(self):\n",
    "        return self.infected | self.exposed\n",
    "\n",
    "    def update_pre(self, sim):\n",
    "        # Make all the updates from the SIR model \n",
    "        n_deaths = super().update_pre(sim)\n",
    "\n",
    "        # Additional updates: progress exposed -> infected\n",
    "        infected = ss.true(self.exposed & (self.ti_infected <= sim.year))\n",
    "        self.exposed[infected] = False\n",
    "        self.infected[infected] = True\n",
    "\n",
    "        return n_deaths\n",
    "\n",
    "    def update_death(self, sim, uids):\n",
    "        super().update_death(sim, uids)\n",
    "        self.exposed[uids] = False\n",
    "        return\n",
    "\n",
    "    def set_prognoses(self, sim, uids, from_uids):\n",
    "        # Carry out state changes associated with infection\n",
    "        self.susceptible[uids] = False\n",
    "        self.exposed[uids] = True\n",
    "        self.ti_exposed[uids] = sim.year\n",
    "\n",
    "        # Calculate and schedule future outcomes\n",
    "        dur_exp = self.pars['dur_exp'].rvs(uids)\n",
    "        self.ti_infected[uids] = sim.year + dur_exp\n",
    "        dur_inf = self.pars['dur_inf'].rvs(uids)\n",
    "        will_die = self.pars['p_death'].rvs(uids)        \n",
    "        self.ti_recovered[uids[~will_die]] = sim.year + dur_inf[~will_die]\n",
    "        self.ti_dead[uids[will_die]] = sim.year + dur_inf[will_die]\n",
    "\n",
    "        # Update result count of new infections \n",
    "        self.results['new_infections'][sim.ti] += len(uids)\n",
    "        return\n"
   ]
  },
  {
   "cell_type": "markdown",
   "metadata": {
    "collapsed": false,
    "jupyter": {
     "outputs_hidden": false
    }
   },
   "source": [
    "The new class includes the following main changes:\n",
    "1. In `__init__` we added the extra pars and states needed for our model\n",
    "2. We defined `infectious` to include both infected and exposed people - this means that we can just reuse the existing logic for how the SIR model handles transmission\n",
    "3. We updated `update_pre` and `update_death` to include changes to the `exposed` state \n",
    "4. We rewrote `set_prognoses` to include the new exposed state.\n"
   ]
  }
 ],
 "metadata": {
  "kernelspec": {
   "display_name": "Python 3 (ipykernel)",
   "language": "python",
   "name": "python3"
  },
  "language_info": {
   "codemirror_mode": {
    "name": "ipython",
    "version": 3
   },
   "file_extension": ".py",
   "mimetype": "text/x-python",
   "name": "python",
   "nbconvert_exporter": "python",
   "pygments_lexer": "ipython3",
   "version": "3.11.7"
  },
  "pycharm": {
   "stem_cell": {
    "cell_type": "raw",
    "metadata": {
     "collapsed": false
    },
    "source": []
   }
  },
  "toc": {
   "base_numbering": 1,
   "nav_menu": {},
   "number_sections": true,
   "sideBar": true,
   "skip_h1_title": false,
   "title_cell": "Table of Contents",
   "title_sidebar": "Contents",
   "toc_cell": false,
   "toc_position": {},
   "toc_section_display": true,
   "toc_window_display": false
  }
 },
 "nbformat": 4,
 "nbformat_minor": 4
}
