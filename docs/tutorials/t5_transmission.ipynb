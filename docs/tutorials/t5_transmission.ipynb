{
 "cells": [
  {
   "cell_type": "markdown",
   "id": "a8590a81",
   "metadata": {},
   "source": [
    "# T5 - Transmission"
   ]
  },
  {
   "cell_type": "markdown",
   "id": "1ada2412",
   "metadata": {},
   "source": [
    "<div class=\"alert alert-info\">\n",
    "    \n",
    "An interactive version of this notebook is available on [Google Colab](https://colab.research.google.com/github/starsimhub/starsim/blob/main/docs/tutorials/transmission.ipynb) or [Binder](https://mybinder.org/v2/gh/starsimhub/starsim/HEAD?labpath=docs%2Ftutorials%2Ftransmission.ipynb).\n",
    "    \n",
    "</div>"
   ]
  },
  {
   "cell_type": "code",
   "execution_count": null,
   "id": "63072b8f",
   "metadata": {
    "tags": [
     "hide-cell"
    ]
   },
   "outputs": [],
   "source": [
    "%pip install -q starsim # Install Starsim if required"
   ]
  },
  {
   "cell_type": "markdown",
   "id": "884f0f84",
   "metadata": {},
   "source": [
    "\n",
    "Many infectious diseases transmit when people come into contact with one another. In the basic SIR example that we covered in the first two tutorials, we used a 'random' contact network, which creates random pairings of people. Generally speaking, the structure of network that you use depends on what disease you're modeling.\n",
    "\n",
    "Starsim contains two different approaches to disease transmission.\n",
    "\n",
    "**Contact network:** Disease transmits on individual person-to-person relationships. These are networks in the sense that each agent (person) can be viewed as a node and each contact is an edge. Networks are undirected in the sense that an edge will allow transmission in both directions, however you can make transmission stronger one way (p1-->p2) than the other (p2-->p1). The framework includes several pre-built contact network algorithms, each of which manages a list of edges that can change on each simulation step. In addition to the 'random' network, the framework include algorithms representing basic sexual networks for modeling sexually transmitted infections (STIs) and a 'maternal' network for modeling mother-to-child transmission.\n",
    "\n",
    "**Mixing pools:** Simulate well-mixed transmission from one group of agents to another. Each mixing pool simulates directed transmission from a group of source agents to a group of destination agents. Instead of simulating individual edges like in a contact network, mixing pools first compute the total \"contagion\" that is shed by the source group. This total contagion value is normalized by the number of agents in the source group to arrive at a value that represents a typical infectious source agent. Then, each destination agent is exposed to this typical (average) infectious agent, likely resulting in new infections in the destination group. Multiple mixing pools can be run simultaneously to simulate heterogeneous transmission between various source and destination groups. Mixing pools could be used with age contact matrices like those developed by Prem et al.\n",
    "\n",
    "Note that contact networks and mixing pools can be used together in a single simulation.\n",
    "\n",
    "In this tutorial, we'll demonstrate a couple of the built-in contact networks, and give an overview of how you might create your own for your own disease modeling work. We'll also demonstrate how to use mixing pools."
   ]
  },
  {
   "cell_type": "markdown",
   "id": "123831c1",
   "metadata": {},
   "source": [
    "## Overview of Starsim's contact network structure\n",
    "\n",
    "Starsim's networks are stored in the `networks.py` file. At the top of this file you'll see the `Network` class, which provides the template for all the other networks. At a high level, all you need to know is that network stores various *parameters* that determine how pairs of people form and dissolve, and a collection of all the *edges* that exist at a given point in time. Let's look at a simple example of the `random` network:"
   ]
  },
  {
   "cell_type": "code",
   "execution_count": null,
   "id": "04b07551",
   "metadata": {
    "tags": []
   },
   "outputs": [],
   "source": [
    "import numpy as np\n",
    "import sciris as sc\n",
    "import starsim as ss\n",
    "import matplotlib.pyplot as plt\n",
    "\n",
    "# Make random network\n",
    "random = ss.RandomNet()"
   ]
  },
  {
   "cell_type": "markdown",
   "id": "5e16e5ea",
   "metadata": {
    "collapsed": false
   },
   "source": [
    "The network we just made stores two very important things: the list of contacts (found in `random.edges`) and the parameters (`random.pars`).  \n",
    "\n",
    "If we just make a network on its own like this, it's not very interesting. Like all components of Starsim, it needs to be initialized within a `sim` before the database of contacts gets populated:"
   ]
  },
  {
   "cell_type": "code",
   "execution_count": null,
   "id": "f2b1686b",
   "metadata": {},
   "outputs": [],
   "source": [
    "net = ss.RandomNet()\n",
    "sir = ss.SIR()\n",
    "sim = ss.Sim(n_agents=100, diseases=sir, networks=net) # Decreasing n_agents so we can plot the network below\n",
    "sim.init()"
   ]
  },
  {
   "cell_type": "markdown",
   "id": "34922029",
   "metadata": {
    "collapsed": false
   },
   "source": [
    "We can easily take a look at the list of edges between agents. All networks are stored in `sim.networks`, and individual networks can be found at their class name after conversion to lower case. So for this example, `sim.networks.randomnet.edges` has all the information about which agents (referenced by their UID) are paired with which other agents as well as a per-edge transmission multiplier called `beta` and a per-edge duration, `dur`."
   ]
  },
  {
   "cell_type": "code",
   "execution_count": null,
   "id": "a835439d",
   "metadata": {},
   "outputs": [],
   "source": [
    "sim.networks.randomnet"
   ]
  },
  {
   "cell_type": "markdown",
   "id": "0affb7bc",
   "metadata": {},
   "source": [
    "Networks provide some basic functionality, for example to identify contacts. Additionally, the edge list can be quickly converted to a Pandas data frame for further analysis and manipulation."
   ]
  },
  {
   "cell_type": "code",
   "execution_count": null,
   "id": "09da79de",
   "metadata": {},
   "outputs": [],
   "source": [
    "net = sim.networks.randomnet\n",
    "\n",
    "# Use the \"find_contacts\" function to find all contacts of agent with uid 0\n",
    "contacts_of_agent_0 = net.find_contacts([0])\n",
    "print('The following agents were identified as contacts of agent 0:', contacts_of_agent_0)\n",
    "\n",
    "# Convert to a pandas DataFrame and manually find all edges involving agent with uid 0\n",
    "df = net.to_df()\n",
    "uid0_edges = df.loc[(df['p1']==0) | (df['p2']==0)]\n",
    "print('\\nEdges involving UID 0 extracted from the edge list data frame:')\n",
    "display(uid0_edges)\n",
    "\n",
    "import networkx as nx\n",
    "G = net.to_graph()\n",
    "nx.draw(G, with_labels=True)"
   ]
  },
  {
   "cell_type": "markdown",
   "id": "285679db",
   "metadata": {},
   "source": [
    "\n",
    "## Sexual networks\n",
    "Starsim contains a few basic sexual networks, including an `mf` network for modeling heterosexual partnerships and an `msm` network for men having sex with men. Modeling STIs is a straightforward extension of the SIR example we looked at previously. Here's an example modeling syphilis:"
   ]
  },
  {
   "cell_type": "code",
   "execution_count": null,
   "id": "dd802fdd",
   "metadata": {},
   "outputs": [],
   "source": [
    "# Create the disease\n",
    "syph = ss.Syphilis(\n",
    "    beta = {'mf': [0.25, 0.15]},    # See notes below \n",
    ")\n",
    "\n",
    "# Create a heterosexual network\n",
    "mf = ss.MFNet(\n",
    "    duration=1/24,  # Using very short relationships so that we get more transmission \n",
    "    acts=80,        # Distribution of the number of coital acts/year\n",
    ")\n",
    "\n",
    "pars = dict(start=2000, dur=20, dt=1/12)\n",
    "sim = ss.Sim(pars=pars, diseases=syph, networks=mf)"
   ]
  },
  {
   "cell_type": "markdown",
   "id": "e0905383",
   "metadata": {
    "collapsed": false
   },
   "source": [
    "The main difference here is that we've added the line `syph.pars['beta'] = {'mf': [0.25, 0.15]}`. Because STIs are generally more transmissible from males to females than vice versa, we can specify `beta` as a list, and we can also allow it to vary between networks. For instance, if we also had an MSM network here, we could set \n",
    "```\n",
    "syph.pars.update(beta = {'mf': [0.25, 0.15], 'msm': [0.4, 0.4]})\n",
    "```\n",
    "The sexual network itself is structurally similar to the `random` network that we looked at previously, and can be customized by changing the `pars` dictionary that's used to construct it.\n",
    " \n",
    "## Maternal networks\n",
    "Maternal networks are useful for capturing mother-to-child transmission. If you want to use them, you also need to model pregnancy. As new agents are born via pregnancy, edges are automatically added between mother and prenatal child in the maternal network. Here's an example showing how you would do this for syphilis:"
   ]
  },
  {
   "cell_type": "code",
   "execution_count": null,
   "id": "860b879b",
   "metadata": {},
   "outputs": [],
   "source": [
    "syph = ss.Syphilis(\n",
    "    beta = {'mf': [0.25, 0.15], 'maternal': [0.99, 0]}\n",
    ")\n",
    "\n",
    "# Make demographic modules\n",
    "pregnancy = ss.Pregnancy(fertility_rate=20)\n",
    "death = ss.Deaths(death_rate=15)\n",
    "\n",
    "# Make maternal network\n",
    "maternal = ss.MaternalNet()\n",
    "\n",
    "# Make sim\n",
    "sim = ss.Sim(pars=pars, diseases=syph, networks=[mf, maternal], demographics=[pregnancy, death], dur=10)\n",
    "sim.run().plot(show_module=False)"
   ]
  },
  {
   "cell_type": "markdown",
   "id": "c2267da9",
   "metadata": {
    "collapsed": false
   },
   "source": [
    "## Making your own contact network\n",
    "If you want to make your own network, a good place to start is by inheriting from one of the templates in networks.py. For example, if you wanted to make an `mf` network that has more age structure, you could do something like this:"
   ]
  },
  {
   "cell_type": "code",
   "execution_count": null,
   "id": "90ebaea5",
   "metadata": {},
   "outputs": [],
   "source": [
    "class age_mf(ss.MFNet):\n",
    "    def add_pairs(self, people, ti=None):\n",
    "        # Custom code to select pairs based on age\n",
    "        return "
   ]
  },
  {
   "cell_type": "markdown",
   "id": "cdf7586a",
   "metadata": {
    "collapsed": false
   },
   "source": [
    "This network would operate exactly like the existing `mf` network, but you could control how new pairs were added.\n"
   ]
  },
  {
   "cell_type": "markdown",
   "id": "46760c64",
   "metadata": {},
   "source": [
    "## Mixing Pools"
   ]
  },
  {
   "cell_type": "markdown",
   "id": "fc8725f0",
   "metadata": {},
   "source": [
    "Let's compare a simple SIR model configured with transmission using a single Mixing Pool to a similar model using a contact network. Mixing pools are not the same as contact networks, so the results are not expected to be identical."
   ]
  },
  {
   "cell_type": "code",
   "execution_count": null,
   "id": "e0298394",
   "metadata": {},
   "outputs": [],
   "source": [
    "# Transmission using a mixing pool\n",
    "mp = ss.MixingPool(beta=ss.TimeProb(0.1), contacts=ss.poisson(lam=3)) # A single mixing pool\n",
    "sir = ss.SIR() # Beta doesn't matter, that's just for networks\n",
    "sim1 = ss.Sim(diseases=sir, networks=mp, verbose=0, label='Mixing Pool')\n",
    "\n",
    "# Transmission using a network\n",
    "net = ss.RandomNet(n_contacts=ss.poisson(lam=3))\n",
    "sir = ss.SIR(beta=ss.TimeProb(0.1))\n",
    "sim2 = ss.Sim(diseases=sir, networks=net, verbose=0, label='Contact Network')\n",
    "\n",
    "msim = ss.MultiSim([sim1, sim2]).run()\n",
    "msim.plot()"
   ]
  },
  {
   "cell_type": "markdown",
   "id": "0bf06ad9",
   "metadata": {},
   "source": [
    "Each MixingPool has several configuration parameters, including `src` and `dst`. The value of these parameters can either be an array of uids, like `ss.uids([0,1,2])` or a callable function that takes `sim` as an argument and returns an array of uids (or a BoolArr) like `lambda sim: sim.people.age<10`. One helper class we have created is called `AgeGroup`, which takes `low` and `high` ages as parameters. This class has some performance advantages when using multiple pools via `MixingPools` through caching.\n",
    "\n",
    "While mixing pools do not represent individual agent-to-agent connections, each agent does have an \"effective\" number of contacts, typically drawn from a Poisson distribution. Individuals retain their number of contacts within each pool for the duration of the simulation. Effective contacts are used on the acquisition sides. On the transmission side, the \"average\" infection level, called `trans`, against which susceptible agents are challenged is computed as:\n",
    "```python\n",
    "trans = np.mean(disease.infectious[self.src_uids] * disease.rel_trans[self.src_uids])\n",
    "```\n",
    "And on the acquisition side, each susceptible agent can be thought of as connected to `eff_contacts` average infectious agents, computed as:\n",
    "```python\n",
    "acq = self.eff_contacts[self.dst_uids] * disease.susceptible[self.dst_uids] * disease.rel_sus[self.dst_uids]\n",
    "```\n",
    "Ultimately, the acquisition probability for each susceptible agent in `dst_uids` is computed as\n",
    "```python\n",
    "p = self.pars.beta * trans * acq\n",
    "```\n",
    "\n",
    "You can see the `beta` parameter here, which is another pool parameter and should use `ss.TimeProb()` to automatically adjust for time units. Mixing pools do not currently use the `beta` parameters configured in individual disease modules."
   ]
  },
  {
   "cell_type": "code",
   "execution_count": null,
   "id": "aa28b522",
   "metadata": {},
   "outputs": [],
   "source": [
    "mp = ss.MixingPool(\n",
    "    diseases = 'sir', # Use this pool only for SIR, not other diseases (HIV in this example)\n",
    "    src = lambda sim: sim.people.age < 15, # Infection sources will be agents under age 15\n",
    "    dst = ss.AgeGroup(low=15, high=None), # Here demonstrating the AgeGroup class, identical to lambda sim: sim.people.age >= 15\n",
    "    contacts = ss.poisson(lam=2), # Contacts will be poisson distributed with a mean of 2\n",
    "    beta = ss.TimeProb(0.2), # And we set beta to 0.2, automatically adjusting for time units via the ss.beta wrapper\n",
    ")\n",
    "sim = ss.Sim(diseases=['sir', 'hiv'], networks=mp) # Two diseases, only \"sir\" will have transmission\n",
    "sim.run()\n",
    "sim.plot()"
   ]
  },
  {
   "cell_type": "markdown",
   "id": "8756491b",
   "metadata": {},
   "source": [
    "`MixingPools` (plural) allows you to configure multiple individual `MixingPool` pools. This first example shows how to do age mixing. Like `MixingPool`, `MixingPools` also takes `src` and `dst`, however each of these parameters must be a dictionary with key specifying the name of each group and value as in the singlular mixing pool proving the uids by a callable function or list of uids."
   ]
  },
  {
   "cell_type": "code",
   "execution_count": null,
   "id": "25a9ed2a",
   "metadata": {},
   "outputs": [],
   "source": [
    "bin_size = 5\n",
    "lows = np.arange(0, 80, bin_size)\n",
    "highs = sc.cat(lows[1:], 100)\n",
    "groups = ss.ndict([ss.AgeGroup(low=low, high=high) for low, high in zip(lows, highs)])\n",
    "n_groups = len(groups)\n",
    "\n",
    "# Let's create a random contact matrix. If using contact matrices from Prem et al., put data here.\n",
    "cm = np.random.random((n_groups, n_groups)) + 3*np.diag(np.random.rand(n_groups))\n",
    "\n",
    "print('The first axis (rows) of the contact matrix is the SOURCE group')\n",
    "print('The second axis (columns) of the contact matrix is the DESTINATION group')\n",
    "plt.imshow(cm)\n",
    "\n",
    "mps = ss.MixingPools(\n",
    "    contacts = cm,\n",
    "    beta = ss.TimeProb(0.2),\n",
    "    src = groups,\n",
    "    dst = groups,\n",
    ")\n",
    "\n",
    "# Track new infections by age using an Analyzer, you'll learn about these in a subsequent tutorial\n",
    "class InfectionsByAge(ss.Analyzer):\n",
    "    def __init__(self, bins, **kwargs):\n",
    "        super().__init__()\n",
    "        self.bins = bins\n",
    "        self.update_pars(**kwargs)\n",
    "\n",
    "    def init_post(self):\n",
    "        super().init_post()\n",
    "        self.new_cases = np.zeros((len(self), len(self.bins)-1))\n",
    "\n",
    "    def step(self):\n",
    "        new_inf = self.sim.diseases.sir.ti_infected == self.ti\n",
    "        if not new_inf.any(): return\n",
    "        self.new_cases[self.ti, :] = np.histogram(self.sim.people.age[new_inf], bins=self.bins)[0]\n",
    "\n",
    "    def plot(self):\n",
    "        fig, ax = plt.subplots()\n",
    "        ax.set_prop_cycle('color', plt.cm.nipy_spectral(np.linspace(0, 1, len(self.bins))))\n",
    "\n",
    "        for i, (b1, b2) in enumerate(zip(self.bins[:-1], self.bins[1:])):\n",
    "            ax.plot(self.timevec, self.new_cases[:,i], label=f'Age {b1}-{b2}')\n",
    "        ax.legend(); ax.set_xlabel('Year'); ax.set_ylabel('New Infections')\n",
    "\n",
    "az = InfectionsByAge(np.concatenate([lows, [1000]]))\n",
    "\n",
    "sir = ss.SIR()\n",
    "sim = ss.Sim(diseases=sir, networks=mps, analyzers=az, dur=5, dt=1/4, n_agents=1000, verbose=0)\n",
    "sim.run()\n",
    "sim.analyzers[0].plot()\n",
    "print('↑ The default age distribution is uniform, so the 75+ group contains many more people than the other age groups, explaining the larger number of new infections.')"
   ]
  },
  {
   "cell_type": "markdown",
   "id": "55650f48",
   "metadata": {},
   "source": [
    "Mixing pools work well with properties other than age. Here's an example that mixes by socio-economic status (SES)."
   ]
  },
  {
   "cell_type": "code",
   "execution_count": null,
   "id": "0263e430",
   "metadata": {},
   "outputs": [],
   "source": [
    "# Define SES states\n",
    "ses = sc.dictobj(low=0, mid=1, high=2)\n",
    "\n",
    "# Create 5,000 people adding 50% LOW, 30% MID, and 20% HIGH SES\n",
    "ses_arr = ss.FloatArr('ses', default=ss.choice(a=ses.values(), p=[0.5, 0.3, 0.2]))\n",
    "ppl = ss.People(n_agents=5_000, extra_states=ses_arr)\n",
    "\n",
    "# Create the mixing pools, note that the contact matrix need not be symmetric\n",
    "mps = ss.MixingPools(\n",
    "    src = {k: lambda sim, s=v: ss.uids(sim.people.ses == s) for k,v in ses.items()},\n",
    "    dst = {k: lambda sim, s=v: ss.uids(sim.people.ses == s) for k,v in ses.items()[:-1]}, # People in the HIGH group have no route to acquire new infections, for demonstration purposes here\n",
    "\n",
    "    # src on rows (1st dimension), dst on cols (2nd dimension)\n",
    "    contacts = np.array([\n",
    "        [2.50, 0.00], # low→low,  low→mid\n",
    "        [0.05, 1.75], # mid→low,  mid→mid\n",
    "        [0.00, 0.15], # high→low, high→mid\n",
    "    ]),\n",
    "\n",
    "    beta = ss.TimeProb(0.2),\n",
    ")\n",
    "\n",
    "# Create an analyzer to track results by SES group\n",
    "class New_Infections_By_SES(ss.Analyzer):\n",
    "    def init_results(self):\n",
    "        self.new_cases = np.zeros((len(self), len(ses)))\n",
    "\n",
    "    def step(self):\n",
    "        new_inf = self.sim.diseases.sir.ti_infected == self.ti\n",
    "        if not new_inf.any():\n",
    "            return\n",
    "\n",
    "        for value in ses.values():\n",
    "            self.new_cases[self.ti, value] = np.count_nonzero(new_inf & (self.sim.people.ses==value))\n",
    "\n",
    "az = New_Infections_By_SES()\n",
    "\n",
    "def seeding(self, sim, uids):\n",
    "    p = np.zeros(len(uids))\n",
    "    high_ses = ss.uids(sim.people.ses == ses.high)\n",
    "    p[high_ses] = 0.1 # Seed infections into 10% of SES HIGH\n",
    "    return p\n",
    "sir = ss.SIR(init_prev = ss.bernoulli(p=seeding)) # The probability of being selected as a seed is determined on a per-agent basis by the above 'seeding' function\n",
    "\n",
    "sim = ss.Sim(people=ppl, diseases=sir, networks=mps, analyzers=az, dt=1/12, dur=35, verbose=0)\n",
    "sim.run()\n",
    "\n",
    "\n",
    "fig, ax = plt.subplots()\n",
    "new_cases = sim.analyzers[0].new_cases\n",
    "for key,value in ses.items():\n",
    "    ax.plot(sim.results.timevec, new_cases[:,value], label=key)\n",
    "ax.legend()\n",
    "ax.set_xlabel('Year')\n",
    "ax.set_ylabel('New Infections')\n",
    "plt.show()"
   ]
  },
  {
   "cell_type": "markdown",
   "id": "2ed791af",
   "metadata": {},
   "source": [
    "In the above figure, infections are seeded into the high group at the beginning of the simulation, explaining the spike in new cases at that time. High SES can only infect mid SES, so the mid (orange) wave follows. Low SES can only become infected by mid SES in this example, so the blue wave follows. This example intentionally demonstrates the directional nature of mixing pools and includes strong mixing within groups and bottlenecks between groups to make the point."
   ]
  },
  {
   "cell_type": "markdown",
   "id": "67c881d2",
   "metadata": {},
   "source": [
    "## Exercises\n",
    "1. Adapt the syphilis example above to include both male-female and male-male transmission, and compare the results."
   ]
  }
 ],
 "metadata": {
  "kernelspec": {
   "display_name": "base",
   "language": "python",
   "name": "python3"
  },
  "language_info": {
   "codemirror_mode": {
    "name": "ipython",
    "version": 3
   },
   "file_extension": ".py",
   "mimetype": "text/x-python",
   "name": "python",
   "nbconvert_exporter": "python",
   "pygments_lexer": "ipython3",
   "version": "3.12.10"
  }
 },
 "nbformat": 4,
 "nbformat_minor": 5
}
