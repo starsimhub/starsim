{
 "cells": [
  {
   "cell_type": "markdown",
   "metadata": {},
   "source": [
    "# T5 - Diseases\n",
    "\n",
    "Diseases are the cornerstone of almost any Starsim analysis. This is where you add details about what disease you are modeling, including transmissibility, natural history, and mortality outcomes.      \n",
    "\n",
    "NOTE 1: The version of Starsim was originally conceived as a model for co-circulating STIs, and the current version of the codebase has much more developed models of STIs (including syphilis and HIV) than it does for other pathogens. However, the library of available diseases will keep expanding with time, and we will update these tutorials as it does.\n",
    "\n",
    "NOTE 2: Starsim descended from a family of similar agent-based models that share common architecture and design principles: [Covasim](https://covasim.org/), [HPVsim](https://hpvsim.org/), and [FPsim](https://fpsim.org/). If you are especially interested in modeling COVID-19, HPV and cervical cancer, or family planning, you may be better off using one of these pre-existing models. For all other diseases/health conditions, Starsim is probably your best bet.\n"
   ]
  },
  {
   "cell_type": "markdown",
   "metadata": {},
   "source": [
    "## Modifying a disease\n",
    "\n",
    "Much like sims or networks, a `Disease` can be customized by passing in a `pars` dictionary containing parameters. We've already seen examples of this, but  "
   ]
  },
  {
   "cell_type": "code",
   "execution_count": null,
   "metadata": {},
   "outputs": [],
   "source": [
    "import starsim as ss\n",
    "sir = ss.SIR(pars=dict(dur_inf=10, beta=0.2, init_prev=0.4, p_death=0.2))\n",
    "sim = ss.Sim(n_agents=2_000, diseases=sir, networks=ss.RandomNet())\n",
    "sim.run()"
   ]
  },
  {
   "cell_type": "markdown",
   "metadata": {
    "collapsed": false,
    "jupyter": {
     "outputs_hidden": false
    }
   },
   "source": [
    "We already saw that this model creates results that are stored in `sim.results.sir`. The results can also be directly accessed via `sir.results`. \n",
    "\n",
    "For more detail on any of the diseases that are in the Starsim library of diseases, please refer to the docstrings and source code of the disease files. \n",
    "\n",
    "For more detail on making your own disease, please refer to the developer tutorial.\n"
   ]
  },
  {
   "cell_type": "markdown",
   "metadata": {
    "collapsed": false,
    "jupyter": {
     "outputs_hidden": false
    }
   },
   "source": [
    "## Adding multiple diseases\n",
    "You can add multiple diseases to the same simulation, like so. Here we are making use of a _connector_. A connector is a special thing in Starsim that tells you how two things relate to one another - in this case, how HIV modifies a person's transmissibility and susceptibility to gonorrhea and vice versa "
   ]
  },
  {
   "cell_type": "code",
   "execution_count": null,
   "metadata": {
    "collapsed": false,
    "jupyter": {
     "outputs_hidden": false
    }
   },
   "outputs": [],
   "source": [
    "# Make HIV\n",
    "hiv = ss.HIV()\n",
    "hiv.pars['beta'] = {'mf': [0.0008, 0.0004]}  # Specify transmissibility over the MF network\n",
    "hiv.pars['init_prev'] = 0.05\n",
    "\n",
    "# Make gonorrhea\n",
    "ng = ss.Gonorrhea()\n",
    "ng.pars['beta'] = {'mf': [0.05, 0.025]}  # Specify transmissibility over the MF network\n",
    "ng.pars['init_prev'] = 0.025\n",
    "\n",
    "# Make the sim, including a connector betweeh HIV and gonorrhea:\n",
    "n_agents = 5_000\n",
    "sim = ss.Sim(n_agents=n_agents, networks=ss.MFNet(), diseases=[hiv, ng], connectors=ss.simple_hiv_ng())\n",
    "sim.run()"
   ]
  }
 ],
 "metadata": {
  "kernelspec": {
   "display_name": "Python 3 (ipykernel)",
   "language": "python",
   "name": "python3"
  },
  "language_info": {
   "codemirror_mode": {
    "name": "ipython",
    "version": 3
   },
   "file_extension": ".py",
   "mimetype": "text/x-python",
   "name": "python",
   "nbconvert_exporter": "python",
   "pygments_lexer": "ipython3",
   "version": "3.11.7"
  },
  "pycharm": {
   "stem_cell": {
    "cell_type": "raw",
    "metadata": {
     "collapsed": false
    },
    "source": []
   }
  },
  "toc": {
   "base_numbering": 1,
   "nav_menu": {},
   "number_sections": true,
   "sideBar": true,
   "skip_h1_title": false,
   "title_cell": "Table of Contents",
   "title_sidebar": "Contents",
   "toc_cell": false,
   "toc_position": {},
   "toc_section_display": true,
   "toc_window_display": false
  }
 },
 "nbformat": 4,
 "nbformat_minor": 4
}
