{
 "cells": [
  {
   "cell_type": "markdown",
   "id": "49cd23ac",
   "metadata": {},
   "source": [
    "# T4 - Diseases"
   ]
  },
  {
   "cell_type": "markdown",
   "id": "8d394d0f",
   "metadata": {},
   "source": [
    "<div class=\"alert alert-info\">\n",
    "    \n",
    "An interactive version of this notebook is available on [Google Colab](https://colab.research.google.com/github/starsimhub/starsim/blob/main/docs/tutorials/tut_diseases.ipynb?install=starsim) or [Binder](https://mybinder.org/v2/gh/starsimhub/starsim/HEAD?labpath=docs%2Ftutorials%2Ftut_diseases.ipynb).\n",
    "    \n",
    "</div>"
   ]
  },
  {
   "cell_type": "markdown",
   "id": "f2202221",
   "metadata": {},
   "source": [
    "\n",
    "Diseases are the cornerstone of almost any Starsim analysis. This is where you add details about what disease you are modeling, including transmissibility, natural history, and mortality outcomes.      \n",
    "\n",
    "NOTE 1: The version of Starsim was originally conceived as a model for co-circulating STIs, and the current version of the codebase has much more developed models of STIs (including syphilis and HIV) than it does for other pathogens. However, the library of available diseases will keep expanding with time, and we will update these tutorials as it does.\n",
    "\n",
    "NOTE 2: Starsim descended from a family of similar agent-based models that share common architecture and design principles: [Covasim](https://covasim.org/), [HPVsim](https://hpvsim.org/), and [FPsim](https://fpsim.org/). If you are especially interested in modeling COVID-19, HPV and cervical cancer, or family planning, you may be better off using one of these pre-existing models. For all other diseases/health conditions, Starsim is probably your best bet.\n"
   ]
  },
  {
   "cell_type": "markdown",
   "id": "dc2a1cb6",
   "metadata": {},
   "source": [
    "## Modifying a disease\n",
    "\n",
    "Much like sims or networks, a `Disease` can be customized by passing in a `pars` dictionary containing parameters. We've already seen examples of this, but  "
   ]
  },
  {
   "cell_type": "code",
   "execution_count": null,
   "id": "ba3ff270",
   "metadata": {},
   "outputs": [],
   "source": [
    "import starsim as ss\n",
    "sir = ss.SIR(dur_inf=10, beta=0.2, init_prev=0.4, p_death=0.2)\n",
    "sim = ss.Sim(n_agents=2_000, diseases=sir, networks='random')\n",
    "sim.run()"
   ]
  },
  {
   "cell_type": "markdown",
   "id": "cd44e476",
   "metadata": {
    "collapsed": false,
    "jupyter": {
     "outputs_hidden": false
    }
   },
   "source": [
    "We already saw that this model creates results that are stored in `sim.results.sir`. The results can also be directly accessed via `sir.results`. \n",
    "\n",
    "For more detail on any of the diseases that are in the Starsim library of diseases, please refer to the docstrings and source code of the disease files. \n",
    "\n",
    "For more detail on making your own disease, please refer to the developer tutorial.\n"
   ]
  },
  {
   "cell_type": "markdown",
   "id": "08391ccb",
   "metadata": {
    "collapsed": false,
    "jupyter": {
     "outputs_hidden": false
    }
   },
   "source": [
    "## Adding multiple diseases\n",
    "You can add multiple diseases to the same simulation, like so. Here we are making use of a \"connector\". A connector is a module in Starsim that tells you how two things relate to one another - in this case, how HIV modifies a person's transmissibility and susceptibility to gonorrhea and vice versa. Unlike dieases, networks, interventions, etc., connectors don't have any pre-specified location in the sim. Instead, they can be placed wherever they make the most sense (for example, a connector that mediated how two networks behaved might be placed at the beginning or end of the list of networks; for diseases, it might be placed at the beginning or end of the list of diseases)."
   ]
  },
  {
   "cell_type": "code",
   "execution_count": null,
   "id": "269ba6a1",
   "metadata": {
    "jupyter": {
     "outputs_hidden": false
    }
   },
   "outputs": [],
   "source": [
    "import sciris as sc\n",
    "import starsim as ss\n",
    "\n",
    "class simple_hiv_ng(ss.Module):\n",
    "    \"\"\" Simple connector whereby rel_sus to NG doubles if CD4 count is <200\"\"\"\n",
    "    def __init__(self, pars=None, label='HIV-Gonorrhea', **kwargs):\n",
    "        super().__init__()\n",
    "        self.define_pars(\n",
    "            rel_trans_hiv  = 2,\n",
    "            rel_trans_aids = 5,\n",
    "            rel_sus_hiv    = 2,\n",
    "            rel_sus_aids   = 5,\n",
    "        )\n",
    "        self.update_pars(pars, **kwargs)\n",
    "        return\n",
    "\n",
    "    def step(self):\n",
    "        \"\"\" Specify how HIV increases NG rel_sus and rel_trans \"\"\"\n",
    "        people = self.sim.people\n",
    "        people.gonorrhea.rel_sus[people.hiv.cd4 < 500] = self.pars.rel_sus_hiv\n",
    "        people.gonorrhea.rel_sus[people.hiv.cd4 < 200] = self.pars.rel_sus_aids\n",
    "        people.gonorrhea.rel_trans[people.hiv.cd4 < 500] = self.pars.rel_trans_hiv\n",
    "        people.gonorrhea.rel_trans[people.hiv.cd4 < 200] = self.pars.rel_trans_aids\n",
    "        return\n",
    "\n",
    "# Make HIV\n",
    "hiv = ss.HIV(\n",
    "    beta = {'mf': [0.0008, 0.0004]},  # Specify transmissibility over the MF network\n",
    "    init_prev = 0.05,\n",
    ")\n",
    "\n",
    "# Make gonorrhea\n",
    "ng = ss.Gonorrhea(\n",
    "    beta = {'mf': [0.05, 0.025]},  # Specify transmissibility over the MF network\n",
    "    init_prev = 0.025,\n",
    ")\n",
    "\n",
    "# Make the sim, including a connector betweeh HIV and gonorrhea:\n",
    "n_agents = 5_000\n",
    "sim = ss.Sim(n_agents=n_agents, networks='mf', diseases=[simple_hiv_ng(), hiv, ng])\n",
    "sim.run()\n",
    "sim.plot('hiv')\n",
    "sim.plot('gonorrhea')"
   ]
  }
 ],
 "metadata": {
  "kernelspec": {
   "display_name": "base",
   "language": "python",
   "name": "python3"
  },
  "language_info": {
   "codemirror_mode": {
    "name": "ipython",
    "version": 3
   },
   "file_extension": ".py",
   "mimetype": "text/x-python",
   "name": "python",
   "nbconvert_exporter": "python",
   "pygments_lexer": "ipython3",
   "version": "3.12.2"
  }
 },
 "nbformat": 4,
 "nbformat_minor": 5
}
