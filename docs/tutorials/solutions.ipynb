{
 "cells": [
  {
   "cell_type": "markdown",
   "id": "dd65a1f9",
   "metadata": {},
   "source": [
    "# Solutions\n",
    "\n",
    "These are the solutions to the problems from each of the tutorials."
   ]
  },
  {
   "cell_type": "markdown",
   "id": "c00c109e",
   "metadata": {},
   "source": [
    "<div class=\"alert alert-info\">\n",
    "    \n",
    "An interactive version of this notebook is available on [Google Colab](https://colab.research.google.com/github/starsimhub/starsim/blob/main/docs/tutorials/solutions.ipynb) or [Binder](https://mybinder.org/v2/gh/starsimhub/starsim/HEAD?labpath=docs%2Ftutorials%2Fsolutions.ipynb).\n",
    "    \n",
    "</div>"
   ]
  },
  {
   "cell_type": "code",
   "execution_count": null,
   "id": "cba49c8a",
   "metadata": {
    "tags": [
     "hide-cell"
    ]
   },
   "outputs": [],
   "source": [
    "%pip install -q starsim # Install Starsim if required"
   ]
  },
  {
   "cell_type": "markdown",
   "id": "5b4d89ba",
   "metadata": {},
   "source": [
    "\n",
    "Let's start with the simplest version of a Starsim model. We'll make a version of a [classic SIR model](https://en.wikipedia.org/wiki/Compartmental_models_in_epidemiology). Here's how our code would look:"
   ]
  },
  {
   "cell_type": "markdown",
   "id": "932a35e9",
   "metadata": {},
   "source": [
    "## T1 Solutions"
   ]
  },
  {
   "cell_type": "markdown",
   "id": "ffab3344",
   "metadata": {},
   "source": [
    "### Question 1\n",
    "\n",
    "**Q: To simulate a susceptible-infectious-susceptible (SIS) model instead of SIR, what would we change in the example above?**\n",
    "\n",
    "A: We would simply change `'sir'` to `'sis'`:\n"
   ]
  },
  {
   "cell_type": "code",
   "execution_count": null,
   "id": "2e129b50",
   "metadata": {},
   "outputs": [],
   "source": [
    "import starsim as ss\n",
    "import sciris as sc\n",
    "\n",
    "# Define the parameters\n",
    "pars = sc.objdict( # We use objdict to allow \".\" access\n",
    "    n_agents = 10_000,\n",
    "    networks = sc.objdict(\n",
    "        type = 'random',\n",
    "        n_contacts = 10,\n",
    "    ),\n",
    "    diseases = sc.objdict(\n",
    "        type = 'sis', # <-- change this\n",
    "        init_prev = 0.01,\n",
    "        beta = 0.05,\n",
    "    )\n",
    ")\n",
    "\n",
    "# Make the sim, run and plot\n",
    "sim = ss.Sim(pars)\n",
    "sim.run()\n",
    "sim.plot()\n",
    "sim.diseases.sis.plot() # <-- change this"
   ]
  },
  {
   "cell_type": "markdown",
   "id": "2cacb52f",
   "metadata": {},
   "source": [
    "### Question 2\n",
    "\n",
    "**Q: How do the results change if we increase/decrease `beta`?**\n",
    "\n",
    "Increasing `beta` makes the curves steeper:\n"
   ]
  },
  {
   "cell_type": "code",
   "execution_count": null,
   "id": "887e782d",
   "metadata": {},
   "outputs": [],
   "source": [
    "pars.diseases.type = 'sir' # Switch back to SIR\n",
    "pars2 = sc.dcp(pars) # copy to new dictionary\n",
    "pars2.diseases.beta = 0.10\n",
    "sim2 = ss.Sim(pars2).run()\n",
    "sim2.diseases.sir.plot()"
   ]
  },
  {
   "cell_type": "markdown",
   "id": "e56cd346",
   "metadata": {},
   "source": [
    "Decreasing `beta` makes the curves shallower:"
   ]
  },
  {
   "cell_type": "code",
   "execution_count": null,
   "id": "bfaf67f6",
   "metadata": {},
   "outputs": [],
   "source": [
    "pars3 = sc.dcp(pars)\n",
    "pars3.diseases.beta = 0.02\n",
    "sim3 = ss.Sim(pars3).run()\n",
    "sim3.diseases.sir.plot()"
   ]
  },
  {
   "cell_type": "markdown",
   "id": "875d1fc7",
   "metadata": {},
   "source": [
    "### Question 3\n",
    "\n",
    "**Q: How do the results change if we reduce the number of agents to 200?**\n",
    "\n",
    "We get a similar result as before, except less smooth, since random effects are more important with small numbers of agents:"
   ]
  },
  {
   "cell_type": "code",
   "execution_count": null,
   "id": "e8944080",
   "metadata": {},
   "outputs": [],
   "source": [
    "pars4 = sc.dcp(pars)\n",
    "pars4.n_agents = 200\n",
    "sim4 = ss.Sim(pars4).run()\n",
    "sim4.diseases.sir.plot()"
   ]
  },
  {
   "cell_type": "markdown",
   "id": "b6e38002",
   "metadata": {},
   "source": [
    "## T2 Solutions"
   ]
  },
  {
   "cell_type": "markdown",
   "id": "62306685",
   "metadata": {},
   "source": [
    "### Question 1"
   ]
  },
  {
   "cell_type": "markdown",
   "id": "d19e30cd",
   "metadata": {},
   "source": [
    "## T3 Solutions"
   ]
  },
  {
   "cell_type": "markdown",
   "id": "22d9c510",
   "metadata": {},
   "source": [
    "### Question 1\n",
    "\n",
    "**Q: In Niger, the crude birth rate is 45 and the crude death rate is 9. Assuming these rates stay constant, and starting with a total population of 24 million in 2020, how many people will there be in 2040? (You do not need to include any diseases in your model.)**\n",
    "\n",
    "A: We can build our simple demographic model with these parameters, then run it and plot the results:"
   ]
  },
  {
   "cell_type": "code",
   "execution_count": null,
   "id": "bd7a28b1",
   "metadata": {},
   "outputs": [],
   "source": [
    "import starsim as ss\n",
    "import sciris as sc\n",
    "\n",
    "pars = sc.objdict(\n",
    "    start = 2020,\n",
    "    stop = 2040,\n",
    "    total_pop = 24e6,\n",
    "    birth_rate = 45,\n",
    "    death_rate = 9,\n",
    ")\n",
    "sim = ss.Sim(pars)\n",
    "sim.run()\n",
    "sim.plot('n_alive')\n",
    "answer = sim.results.n_alive[-1]/1e6\n",
    "print(f'Population size in year {pars.stop}: {answer} million')"
   ]
  },
  {
   "cell_type": "code",
   "execution_count": null,
   "id": "399e1294",
   "metadata": {},
   "outputs": [],
   "source": []
  }
 ],
 "metadata": {
  "kernelspec": {
   "display_name": "base",
   "language": "python",
   "name": "python3"
  },
  "language_info": {
   "codemirror_mode": {
    "name": "ipython",
    "version": 3
   },
   "file_extension": ".py",
   "mimetype": "text/x-python",
   "name": "python",
   "nbconvert_exporter": "python",
   "pygments_lexer": "ipython3",
   "version": "3.12.10"
  }
 },
 "nbformat": 4,
 "nbformat_minor": 5
}
