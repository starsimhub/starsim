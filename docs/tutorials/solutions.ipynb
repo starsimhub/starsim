{
 "cells": [
  {
   "cell_type": "markdown",
   "id": "dd65a1f9",
   "metadata": {},
   "source": [
    "# Solutions\n",
    "\n",
    "These are the solutions to the problems from each of the tutorials. (Note: Some solutions are still pending, but [email us](mailto:info@starsim.org) if you're impatient!)"
   ]
  },
  {
   "cell_type": "markdown",
   "id": "c00c109e",
   "metadata": {},
   "source": [
    "<div class=\"alert alert-info\">\n",
    "    \n",
    "An interactive version of this notebook is available on [Google Colab](https://colab.research.google.com/github/starsimhub/starsim/blob/main/docs/tutorials/solutions.ipynb) or [Binder](https://mybinder.org/v2/gh/starsimhub/starsim/HEAD?labpath=docs%2Ftutorials%2Fsolutions.ipynb).\n",
    "    \n",
    "</div>"
   ]
  },
  {
   "cell_type": "code",
   "execution_count": null,
   "id": "cba49c8a",
   "metadata": {
    "tags": [
     "hide-cell"
    ]
   },
   "outputs": [],
   "source": [
    "%pip install -q starsim # Install Starsim if required"
   ]
  },
  {
   "cell_type": "markdown",
   "id": "5b4d89ba",
   "metadata": {},
   "source": [
    "\n",
    "Let's start with the simplest version of a Starsim model. We'll make a version of a [classic SIR model](https://en.wikipedia.org/wiki/Compartmental_models_in_epidemiology). Here's how our code would look:"
   ]
  },
  {
   "cell_type": "markdown",
   "id": "932a35e9",
   "metadata": {},
   "source": [
    "## T1 Solutions"
   ]
  },
  {
   "cell_type": "markdown",
   "id": "ffab3344",
   "metadata": {},
   "source": [
    "### Question 1\n",
    "\n",
    "**Q: To simulate a susceptible-infectious-susceptible (SIS) model instead of SIR, what would we change in the example above?**\n",
    "\n",
    "A: We would simply change `'sir'` to `'sis'`:\n"
   ]
  },
  {
   "cell_type": "code",
   "execution_count": null,
   "id": "2e129b50",
   "metadata": {},
   "outputs": [],
   "source": [
    "import starsim as ss\n",
    "import sciris as sc\n",
    "\n",
    "# Define the parameters\n",
    "pars = sc.objdict( # We use objdict to allow \".\" access\n",
    "    n_agents = 10_000,\n",
    "    networks = sc.objdict(\n",
    "        type = 'random',\n",
    "        n_contacts = 10,\n",
    "    ),\n",
    "    diseases = sc.objdict(\n",
    "        type = 'sis', # <-- change this\n",
    "        init_prev = 0.01,\n",
    "        beta = 0.05,\n",
    "    )\n",
    ")\n",
    "\n",
    "# Make the sim, run and plot\n",
    "sim = ss.Sim(pars)\n",
    "sim.run()\n",
    "sim.plot()\n",
    "sim.diseases.sis.plot() # <-- change this"
   ]
  },
  {
   "cell_type": "markdown",
   "id": "2cacb52f",
   "metadata": {},
   "source": [
    "### Question 2\n",
    "\n",
    "**Q: How do the results change if we increase/decrease `beta`?**\n",
    "\n",
    "Increasing `beta` makes the curves steeper:\n"
   ]
  },
  {
   "cell_type": "code",
   "execution_count": null,
   "id": "887e782d",
   "metadata": {},
   "outputs": [],
   "source": [
    "pars.diseases.type = 'sir' # Switch back to SIR\n",
    "pars2 = sc.dcp(pars) # copy to new dictionary\n",
    "pars2.diseases.beta = 0.10\n",
    "sim2 = ss.Sim(pars2).run()\n",
    "sim2.diseases.sir.plot()"
   ]
  },
  {
   "cell_type": "markdown",
   "id": "e56cd346",
   "metadata": {},
   "source": [
    "Decreasing `beta` makes the curves shallower:"
   ]
  },
  {
   "cell_type": "code",
   "execution_count": null,
   "id": "bfaf67f6",
   "metadata": {},
   "outputs": [],
   "source": [
    "pars3 = sc.dcp(pars)\n",
    "pars3.diseases.beta = 0.02\n",
    "sim3 = ss.Sim(pars3).run()\n",
    "sim3.diseases.sir.plot()"
   ]
  },
  {
   "cell_type": "markdown",
   "id": "875d1fc7",
   "metadata": {},
   "source": [
    "### Question 3\n",
    "\n",
    "**Q: How do the results change if we reduce the number of agents to 200?**\n",
    "\n",
    "We get a similar result as before, except less smooth, since random effects are more important with small numbers of agents:"
   ]
  },
  {
   "cell_type": "code",
   "execution_count": null,
   "id": "e8944080",
   "metadata": {},
   "outputs": [],
   "source": [
    "pars4 = sc.dcp(pars)\n",
    "pars4.n_agents = 200\n",
    "sim4 = ss.Sim(pars4).run()\n",
    "sim4.diseases.sir.plot()"
   ]
  },
  {
   "cell_type": "markdown",
   "id": "b6e38002",
   "metadata": {},
   "source": [
    "## T2 Solutions"
   ]
  },
  {
   "cell_type": "markdown",
   "id": "62306685",
   "metadata": {},
   "source": [
    "### Question 1\n",
    "\n",
    "**Q: How would you model an outbreak of an SIR-like disease within a refugee camp of 2,000 people? Suppose you were interested in the cumulative number of people who got infected over 1 year - how would you find this out?**\n",
    "\n",
    "The answer obviously depends on the disease parameters. However, we can make some simple assumptions and use `cum_infections` to determine the total number of infections:"
   ]
  },
  {
   "cell_type": "code",
   "execution_count": null,
   "id": "a1ae2a5c",
   "metadata": {},
   "outputs": [],
   "source": [
    "import starsim as ss\n",
    "import sciris as sc\n",
    "\n",
    "pars = sc.objdict(\n",
    "    n_agents = 2_000,\n",
    "    start = '2025-01-01',\n",
    "    dur = 365,\n",
    "    dt = 'day',\n",
    "    verbose = 1/30, # Print every month\n",
    ")\n",
    "sir = ss.SIR(\n",
    "    dur_inf = ss.days(14),\n",
    "    beta = ss.perday(0.02),\n",
    "    init_prev = 0.001,\n",
    ")\n",
    "net = ss.RandomNet(n_contacts=4)\n",
    "\n",
    "sim = ss.Sim(pars, diseases=sir, networks=net)\n",
    "sim.init()\n",
    "sim.run()\n",
    "sim.plot()\n",
    "\n",
    "answer = sim.results.sir.cum_infections[-1]\n",
    "print(f'Cumulative infections over one year: {answer}')"
   ]
  },
  {
   "cell_type": "markdown",
   "id": "7bc3939e",
   "metadata": {},
   "source": [
    "## Question 2\n",
    "\n",
    "Solution pending."
   ]
  },
  {
   "cell_type": "markdown",
   "id": "d19e30cd",
   "metadata": {},
   "source": [
    "## T3 Solutions"
   ]
  },
  {
   "cell_type": "markdown",
   "id": "22d9c510",
   "metadata": {},
   "source": [
    "### Question 1\n",
    "\n",
    "**Q: In Niger, the crude birth rate is 45 and the crude death rate is 9. Assuming these rates stay constant, and starting with a total population of 24 million in 2020, how many people will there be in 2040? (You do not need to include any diseases in your model.)**\n",
    "\n",
    "A: We can build our simple demographic model with these parameters, then run it and plot the results:"
   ]
  },
  {
   "cell_type": "code",
   "execution_count": null,
   "id": "bd7a28b1",
   "metadata": {},
   "outputs": [],
   "source": [
    "import starsim as ss\n",
    "import sciris as sc\n",
    "\n",
    "pars = sc.objdict(\n",
    "    start = 2020,\n",
    "    stop = 2040,\n",
    "    total_pop = 24e6,\n",
    "    birth_rate = 45,\n",
    "    death_rate = 9,\n",
    ")\n",
    "sim = ss.Sim(pars)\n",
    "sim.run()\n",
    "sim.plot('n_alive')\n",
    "\n",
    "answer = sim.results.n_alive[-1]/1e6\n",
    "print(f'Population size in year {pars.stop}: {answer} million')"
   ]
  },
  {
   "cell_type": "markdown",
   "id": "157ed4e4",
   "metadata": {},
   "source": [
    "## T4 Solutions"
   ]
  },
  {
   "cell_type": "markdown",
   "id": "bd3f0987",
   "metadata": {},
   "source": [
    "### Question 1\n",
    "\n",
    "Solution pending."
   ]
  },
  {
   "cell_type": "markdown",
   "id": "c728a27d",
   "metadata": {},
   "source": [
    "## T5 Solutions"
   ]
  },
  {
   "cell_type": "markdown",
   "id": "a7a2b7a1",
   "metadata": {},
   "source": [
    "### Question 1\n",
    "\n",
    "Solution pending."
   ]
  },
  {
   "cell_type": "markdown",
   "id": "1da8d5cd",
   "metadata": {},
   "source": [
    "## T6 Solutions"
   ]
  },
  {
   "cell_type": "markdown",
   "id": "b449e2bb",
   "metadata": {},
   "source": [
    "### Question 1\n",
    "\n",
    "**Q: If we change the disease from SIR to SIS and set coverage to 100%, what minimum efficacy of vaccine is required to eradicate the disease by 2050?**\n",
    "\n",
    "A: There are many ways we could solve this, including with formal numerical optimization packages. However, since we are only varying a single parameter, we can also just use a simple binay search or grid search. This solution illustrates both approaches."
   ]
  },
  {
   "cell_type": "code",
   "execution_count": null,
   "id": "5cdf944b",
   "metadata": {},
   "outputs": [],
   "source": [
    "import numpy as np\n",
    "import sciris as sc\n",
    "import starsim as ss\n",
    "\n",
    "pars = dict(\n",
    "    n_agents = 5_000,\n",
    "    birth_rate = 20,\n",
    "    death_rate = 15,\n",
    "    networks = dict(\n",
    "        type = 'random',\n",
    "        n_contacts = 4\n",
    "    ),\n",
    "    diseases = dict(\n",
    "        type = 'sis',\n",
    "        dur_inf = 10,\n",
    "        beta = 0.1,\n",
    "    ),\n",
    "    verbose = False,\n",
    ")\n",
    "\n",
    "class sis_vaccine(ss.Vx):\n",
    "    \"\"\" A simple vaccine against \"SIS\" \"\"\"\n",
    "    def __init__(self, efficacy=1.0, **kwargs):\n",
    "        super().__init__()\n",
    "        self.define_pars(efficacy=efficacy)\n",
    "        self.update_pars(**kwargs)\n",
    "        return\n",
    "\n",
    "    def administer(self, people, uids):\n",
    "        people.sis.rel_sus[uids] *= 1-self.pars.efficacy\n",
    "        return\n",
    "    \n",
    "def run_sim(efficacy):\n",
    "    \"\"\" Run a simulation with a given vaccine efficacy \"\"\"\n",
    "    # Create the vaccine product\n",
    "    product = sis_vaccine(efficacy=efficacy)\n",
    "\n",
    "    # Create the intervention\n",
    "    intervention = ss.routine_vx(\n",
    "        start_year=2015, # Begin vaccination in 2015\n",
    "        prob=1.0,        # 100% coverage\n",
    "        product=product  # Use the SIS vaccine\n",
    "    )\n",
    "\n",
    "    # Now create two sims: a baseline sim and one with the intervention\n",
    "    sim = ss.Sim(pars=pars, interventions=intervention)\n",
    "    sim.run()\n",
    "    return sim\n",
    "\n",
    "def objective(efficacy, penalty=10, boolean=False, verbose=False):\n",
    "    \"\"\" Calculate the objective from the simulation \"\"\"\n",
    "    sim = run_sim(efficacy=efficacy)\n",
    "    transmission = sim.results.sis.new_infections[-1] > 0\n",
    "    if boolean:\n",
    "        return not transmission\n",
    "    else:\n",
    "        loss = efficacy + penalty*transmission\n",
    "        if verbose:\n",
    "            print(f'Trial: {efficacy=}, {transmission=}, {loss=}')\n",
    "        return loss\n",
    "\n",
    "def grid_search(n=5, reps=2):\n",
    "    \"\"\" Perform a grid search over the objective function \"\"\"\n",
    "    sc.heading('Performing grid search ...')\n",
    "    lb = 0 # Lower bound for efficacy\n",
    "    ub = 1 # Upper bound for efficacy\n",
    "    for rep in range(reps):\n",
    "        print(f'Grid search {rep+1} of {reps}...')\n",
    "        efficacy = np.linspace(lb, ub, n)\n",
    "        transmission = sc.parallelize(objective, efficacy, boolean=True)\n",
    "        lb = efficacy[sc.findlast(transmission, False)]\n",
    "        ub = efficacy[sc.findfirst(transmission, True)]\n",
    "        print(f'  Trials: {dict(zip(efficacy, transmission))}')\n",
    "        print(f'  Results: lower={lb}, upper={ub}')\n",
    "    mid = (lb+ub)/2\n",
    "    print(sc.ansi.bold(f'Result: {mid}'))\n",
    "    return mid, lb, ub\n",
    "\n",
    "def auto_search(efficacy=1.0):\n",
    "    \"\"\" Perform automatic search \"\"\"\n",
    "    sc.heading('Performing automatic search...')\n",
    "    out = sc.asd(objective, x=efficacy, xmin=0, xmax=1, maxiters=10, verbose=True)\n",
    "    print(sc.ansi.bold(f'Result: {out.x}'))\n",
    "    return out\n",
    "\n",
    "# Run both optimizations\n",
    "mid, lb, ub = grid_search()\n",
    "out = auto_search()"
   ]
  }
 ],
 "metadata": {
  "kernelspec": {
   "display_name": "base",
   "language": "python",
   "name": "python3"
  },
  "language_info": {
   "codemirror_mode": {
    "name": "ipython",
    "version": 3
   },
   "file_extension": ".py",
   "mimetype": "text/x-python",
   "name": "python",
   "nbconvert_exporter": "python",
   "pygments_lexer": "ipython3",
   "version": "3.12.10"
  }
 },
 "nbformat": 4,
 "nbformat_minor": 5
}
