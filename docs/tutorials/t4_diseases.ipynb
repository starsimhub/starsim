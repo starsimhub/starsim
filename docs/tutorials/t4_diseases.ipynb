{
 "cells": [
  {
   "cell_type": "markdown",
   "id": "49cd23ac",
   "metadata": {},
   "source": [
    "# T4 - Diseases"
   ]
  },
  {
   "cell_type": "markdown",
   "id": "8d394d0f",
   "metadata": {},
   "source": [
    "<div class=\"alert alert-info\">\n",
    "    \n",
    "An interactive version of this notebook is available on [Google Colab](https://colab.research.google.com/github/starsimhub/starsim/blob/main/docs/tutorials/diseases.ipynb) or [Binder](https://mybinder.org/v2/gh/starsimhub/starsim/HEAD?labpath=docs%2Ftutorials%2Fdiseases.ipynb).\n",
    "    \n",
    "</div>"
   ]
  },
  {
   "cell_type": "code",
   "execution_count": null,
   "id": "81125c1c",
   "metadata": {
    "tags": [
     "hide-cell"
    ]
   },
   "outputs": [],
   "source": [
    "%pip install -q starsim # Install Starsim if required"
   ]
  },
  {
   "cell_type": "markdown",
   "id": "f2202221",
   "metadata": {},
   "source": [
    "Diseases are the cornerstone of almost any Starsim analysis. In this tutorial, you'll learn how to work with diseases in Starsim, starting with simple modifications and building up to creating your own custom disease models.\n",
    "\n",
    "By the end of this tutorial, you'll understand how to:\n",
    "- Modify parameters of existing diseases\n",
    "- Run simulations with multiple diseases\n",
    "- Create your own custom disease from scratch"
   ]
  },
  {
   "cell_type": "markdown",
   "id": "dc2a1cb6",
   "metadata": {},
   "source": [
    "## Step 1: Modifying disease parameters\n",
    "\n",
    "The easiest way to customize a disease is by changing its parameters. Much like sims or networks, a `Disease` can be customized by passing in a `pars` dictionary containing parameters. Let's start with a simple SIR model and see how different parameters affect the simulation:"
   ]
  },
  {
   "cell_type": "code",
   "execution_count": null,
   "id": "ba3ff270",
   "metadata": {},
   "outputs": [],
   "source": [
    "import starsim as ss\n",
    "sir = ss.SIR(dur_inf=10, beta=0.2, init_prev=0.4, p_death=0.2)\n",
    "sim = ss.Sim(n_agents=2_000, diseases=sir, networks='random')\n",
    "sim.run().plot()"
   ]
  },
  {
   "cell_type": "markdown",
   "id": "cd44e476",
   "metadata": {
    "collapsed": false,
    "jupyter": {
     "outputs_hidden": false
    }
   },
   "source": [
    "Notice how we modified several key parameters:\n",
    "- `dur_inf=10`: How long people stay infectious (10 years)\n",
    "- `beta=0.2`: Transmission probability per contact\n",
    "- `init_prev=0.4`: Starting with 40% of the population infected\n",
    "- `p_death=0.2`: 20% of infected people die\n",
    "\n",
    "We already saw that this model creates results that are stored in `sim.results.sir`. The results can also be directly accessed via `sir.results`. \n",
    "\n",
    "For more detail on any of the diseases that are in the Starsim library of diseases, please refer to the docstrings and source code of the disease files. \n"
   ]
  },
  {
   "cell_type": "markdown",
   "id": "08391ccb",
   "metadata": {
    "collapsed": false,
    "jupyter": {
     "outputs_hidden": false
    }
   },
   "source": [
    "## Step 2: Simulating multiple diseases\n",
    "You can add multiple diseases to the same simulation, like so. Here we are making use of a \"connector\". A connector is a module in Starsim that tells you how two things relate to one another - in this case, how HIV modifies a person's transmissibility and susceptibility to gonorrhea and vice versa. Unlike dieases, networks, interventions, etc., connectors don't have any pre-specified location in the sim. Instead, they can be placed wherever they make the most sense (for example, a connector that mediated how two networks behaved might be placed at the beginning or end of the list of networks; for diseases, it might be placed at the beginning or end of the list of diseases)."
   ]
  },
  {
   "cell_type": "code",
   "execution_count": null,
   "id": "269ba6a1",
   "metadata": {
    "jupyter": {
     "outputs_hidden": false
    }
   },
   "outputs": [],
   "source": [
    "import starsim as ss\n",
    "import starsim_examples as sse\n",
    "\n",
    "class simple_hiv_ng(ss.Module):\n",
    "    \"\"\" Simple connector whereby rel_sus to NG (Neisseria gonorrhoeae) doubles if CD4 count is <200\"\"\"\n",
    "    def __init__(self, pars=None, label='HIV-Gonorrhea', **kwargs):\n",
    "        super().__init__()\n",
    "        self.define_pars(\n",
    "            rel_trans_hiv  = 2,\n",
    "            rel_trans_aids = 5,\n",
    "            rel_sus_hiv    = 2,\n",
    "            rel_sus_aids   = 5,\n",
    "        )\n",
    "        self.update_pars(pars, **kwargs)\n",
    "        return\n",
    "\n",
    "    def step(self):\n",
    "        \"\"\" Specify how HIV increases NG rel_sus and rel_trans \"\"\"\n",
    "        ng = self.sim.people.gonorrhea\n",
    "        hiv = self.sim.people.hiv\n",
    "        p = self.pars\n",
    "        ng.rel_sus[hiv.cd4 < 500] = p.rel_sus_hiv\n",
    "        ng.rel_sus[hiv.cd4 < 200] = p.rel_sus_aids\n",
    "        ng.rel_trans[hiv.cd4 < 500] = p.rel_trans_hiv\n",
    "        ng.rel_trans[hiv.cd4 < 200] = p.rel_trans_aids\n",
    "        return\n",
    "\n",
    "# Make HIV\n",
    "hiv = sse.HIV(\n",
    "    beta = {'mf': [0.0008, 0.0004]},  # Specify transmissibility over the MF network\n",
    "    init_prev = 0.05,\n",
    ")\n",
    "\n",
    "# Make gonorrhea\n",
    "ng = sse.Gonorrhea(\n",
    "    beta = {'mf': [0.05, 0.025]},  # Specify transmissibility over the MF network\n",
    "    init_prev = 0.025,\n",
    ")\n",
    "\n",
    "# Make the sim, including a connector betweeh HIV and gonorrhea:\n",
    "n_agents = 5_000\n",
    "sim = ss.Sim(n_agents=n_agents, networks='mf', diseases=[simple_hiv_ng(), hiv, ng])\n",
    "sim.run()\n",
    "sim.plot('hiv')\n",
    "sim.plot('gonorrhea')"
   ]
  },
  {
   "cell_type": "markdown",
   "id": "faf07c38",
   "metadata": {},
   "source": [
    "You can see how the two diseases interact - HIV creates a vulnerable population that's more susceptible to gonorrhea infection.\n",
    "\n",
    "## Step 3: Creating your own disease model\n",
    "\n",
    "Now for the fun part - creating your own disease from scratch! Let's modify the SIR model to create an SEIR model, which adds an \"Exposed\" state where people are infected but not yet infectious.\n",
    "\n",
    "This is a common pattern in epidemiology - think of it as the incubation period before someone becomes contagious."
   ]
  },
  {
   "cell_type": "markdown",
   "id": "e530d221",
   "metadata": {},
   "source": [
    "If you want to make your own disease, you could either inherit from one of the templates in diseases.py, or you could copy the examples and extend them to capture features of the disease that you want to model. For example, suppose you wanted to change the SIR model to an SEIR model (i.e., add an 'exposed' state where people were transmissible but did not yet have symptoms. You might hope that this would be a relatively simple change to make. Here's how it would look:"
   ]
  },
  {
   "cell_type": "code",
   "execution_count": null,
   "id": "7e6c2799",
   "metadata": {},
   "outputs": [],
   "source": [
    "import starsim as ss\n",
    "import matplotlib.pyplot as plt\n",
    "\n",
    "class SEIR(ss.SIR):\n",
    "    def __init__(self, pars=None, *args, **kwargs):\n",
    "        super().__init__()\n",
    "        self.define_pars(\n",
    "            dur_exp = ss.lognorm_ex(0.5),\n",
    "        )\n",
    "        self.update_pars(pars, **kwargs)\n",
    "\n",
    "        # Additional states beyond the SIR ones \n",
    "        self.define_states(\n",
    "            ss.BoolState('exposed', label='Exposed'),\n",
    "            ss.FloatArr('ti_exposed', label='TIme of exposure'),\n",
    "        )\n",
    "        return\n",
    "\n",
    "    @property\n",
    "    def infectious(self):\n",
    "        return self.infected | self.exposed\n",
    "\n",
    "    def step_state(self):\n",
    "        \"\"\" Make all the updates from the SIR model \"\"\"\n",
    "        # Perform SIR updates\n",
    "        super().step_state()\n",
    "\n",
    "        # Additional updates: progress exposed -> infected\n",
    "        infected = self.exposed & (self.ti_infected <= self.ti)\n",
    "        self.exposed[infected] = False\n",
    "        self.infected[infected] = True\n",
    "        return\n",
    "\n",
    "    def step_die(self, uids):\n",
    "        super().step_die(uids)\n",
    "        self.exposed[uids] = False\n",
    "        return\n",
    "\n",
    "    def set_prognoses(self, uids, sources=None):\n",
    "        \"\"\" Carry out state changes associated with infection \"\"\"\n",
    "        super().set_prognoses(uids, sources)\n",
    "        ti = self.ti\n",
    "        self.susceptible[uids] = False\n",
    "        self.exposed[uids] = True\n",
    "        self.ti_exposed[uids] = ti\n",
    "\n",
    "        # Calculate and schedule future outcomes\n",
    "        p = self.pars # Shorten for convenience\n",
    "        dur_exp = p.dur_exp.rvs(uids)\n",
    "        self.ti_infected[uids] = ti + dur_exp\n",
    "        dur_inf = p.dur_inf.rvs(uids)\n",
    "        will_die = p.p_death.rvs(uids)        \n",
    "        self.ti_recovered[uids[~will_die]] = ti + dur_inf[~will_die]\n",
    "        self.ti_dead[uids[will_die]] = ti + dur_inf[will_die]\n",
    "        return\n",
    "    \n",
    "    def plot(self):\n",
    "        \"\"\" Update the plot with the exposed compartment \"\"\"\n",
    "        with ss.options.context(show=False): # Don't show yet since we're adding another line\n",
    "            fig = super().plot()\n",
    "            ax = plt.gca()\n",
    "            res = self.results.n_exposed\n",
    "            ax.plot(res.timevec, res, label=res.label)\n",
    "            plt.legend()\n",
    "        return ss.return_fig(fig)"
   ]
  },
  {
   "cell_type": "markdown",
   "id": "44dbb135",
   "metadata": {},
   "source": [
    "The new class includes the following main changes:\n",
    "\n",
    "1. In `__init__` we added the extra pars and states needed for our model\n",
    "2. We defined `infectious` to include both infected and exposed people - this means that we can just reuse the existing logic for how the SIR model handles transmission\n",
    "3. We updated `update_pre` and `update_death` to include changes to the `exposed` state \n",
    "4. We rewrote `set_prognoses` to include the new exposed state.\n"
   ]
  },
  {
   "cell_type": "markdown",
   "id": "4109fe8c",
   "metadata": {},
   "source": [
    "Here's how it would look in practice:"
   ]
  },
  {
   "cell_type": "code",
   "execution_count": null,
   "id": "7d1e75fe",
   "metadata": {},
   "outputs": [],
   "source": [
    "seir = SEIR()\n",
    "sim = ss.Sim(diseases=seir, networks='random')\n",
    "sim.run()\n",
    "sim.plot()\n",
    "sim.diseases.seir.plot()"
   ]
  },
  {
   "cell_type": "markdown",
   "id": "92590cc9",
   "metadata": {},
   "source": [
    "## Exercises\n",
    "1. **Parameter exploration**: Try different values of `dur_exp` in the SEIR model - how does it affect the epidemic curve?\n",
    "2. **SEIRS model**: Adapt the SEIR example above to be SEIRS (where recovered people can become susceptible again)\n",
    "3. **Multi-strain model**: Can you create a model with two strains of the same disease that provide partial cross-immunity?"
   ]
  }
 ],
 "metadata": {
  "kernelspec": {
   "display_name": "base",
   "language": "python",
   "name": "python3"
  },
  "language_info": {
   "codemirror_mode": {
    "name": "ipython",
    "version": 3
   },
   "file_extension": ".py",
   "mimetype": "text/x-python",
   "name": "python",
   "nbconvert_exporter": "python",
   "pygments_lexer": "ipython3",
   "version": "3.12.10"
  }
 },
 "nbformat": 4,
 "nbformat_minor": 5
}
