{
 "cells": [
  {
   "cell_type": "markdown",
   "id": "51cebe65",
   "metadata": {},
   "source": [
    "# Developer tutorial: Flexible parameters"
   ]
  },
  {
   "cell_type": "markdown",
   "id": "2f2bbf84",
   "metadata": {},
   "source": [
    "<div class=\"alert alert-info\">\n",
    "    \n",
    "An interactive version of this notebook is available on [Google Colab](https://colab.research.google.com/github/starsimhub/starsim/blob/main/docs/tutorials/dev_tut_pars.ipynb?install=starsim) or [Binder](https://mybinder.org/v2/gh/starsimhub/starsim/HEAD?labpath=docs%2Ftutorials%2Fdev_tut_pars.ipynb).\n",
    "    \n",
    "</div>"
   ]
  },
  {
   "cell_type": "markdown",
   "id": "f3048bcb",
   "metadata": {},
   "source": [
    "## Defining default parameters\n",
    "\n",
    "When you create a module using Starsim, you have the opportunity to define the default format for parameters. Let's look at an example from the SIR disease model:\n"
   ]
  },
  {
   "cell_type": "code",
   "execution_count": null,
   "id": "78162546",
   "metadata": {},
   "outputs": [],
   "source": [
    "import starsim as ss\n",
    "\n",
    "class SIR(ss.SIR):\n",
    "    def __init__(self, pars=None, **kwargs):\n",
    "        super().__init__()\n",
    "        self.define_pars(\n",
    "            beta = ss.beta(0.1),\n",
    "            init_prev = ss.bernoulli(p=0.01),\n",
    "            dur_inf = ss.lognorm_ex(mean=ss.dur(6)),\n",
    "            p_death = ss.bernoulli(p=0.01),\n",
    "        )\n",
    "        self.update_pars(pars, **kwargs)\n",
    "\n",
    "        self.define_states(\n",
    "            ss.State('susceptible', default=True, label='Susceptible'),\n",
    "            ss.State('infected', label='Infectious'),\n",
    "            ss.State('recovered', label='Recovered'),\n",
    "            ss.FloatArr('ti_infected', label='Time of infection'),\n",
    "            ss.FloatArr('ti_recovered', label='Time of recovery'),\n",
    "            ss.FloatArr('ti_dead', label='Time of death'),\n",
    "            ss.FloatArr('rel_sus', default=1.0, label='Relative susceptibility'),\n",
    "            ss.FloatArr('rel_trans', default=1.0, label='Relative transmission'),\n",
    "        )\n",
    "        return"
   ]
  },
  {
   "cell_type": "markdown",
   "id": "486245ab",
   "metadata": {},
   "source": [
    "The point of `self.define_pars()` is to set the ground truth for the format that the parameters should take. When users enter their own parameters for defining an instance of this module, the parameter values they enter will be processed within `self.update_pars()` and will be checked for consistency with the format provided in the original parameters (`define_pars`). For example, the parameter `p_death` in the SIR example above is specified initially as a Bernoulli distribution. It would be perfectly legitimate to create an instance of the SIR model using any of the following formats:"
   ]
  },
  {
   "cell_type": "code",
   "execution_count": null,
   "id": "3b9db922",
   "metadata": {},
   "outputs": [],
   "source": [
    "sir1 = SIR(p_death=0.02)\n",
    "sir2 = SIR(p_death=ss.bernoulli(p=0.2))\n",
    "sir3 = SIR(pars=dict(p_death=0.03))"
   ]
  },
  {
   "cell_type": "markdown",
   "id": "d89c53a3",
   "metadata": {},
   "source": [
    "However, it would NOT be ok to create an SIR model with e.g. `SIR(p_death=ss.lognorm_ex(4))`, because if a distribution is defined as a Bernoulli in the default_pars, it can't be changed. This is only the case for Bernoulli distributions; other distributions can be changed, e.g. `SIR(dur_inf=ss.normal(4))` would be okay.\n",
    "\n",
    "## Using callable parameters\n",
    " \n",
    "One of the most flexible aspects of how Starsim's distributions are defined is that they can take callable functions as parameter values. For example, in reality the duration of infection of a disease might vary by age. We could model this as follows:"
   ]
  },
  {
   "cell_type": "code",
   "execution_count": null,
   "id": "379f6ed7",
   "metadata": {},
   "outputs": [],
   "source": [
    "import sciris as sc\n",
    "import matplotlib.pyplot as plt\n",
    "\n",
    "# Create and run the simulation\n",
    "sir = SIR(dur_inf=ss.normal(loc=10))  # Define an SIR model with a default duration of 10 days\n",
    "sir.pars.dur_inf.set(loc = lambda self, sim, uids: sim.people.age[uids] / 10)  # Change the mean duration so it scales with age\n",
    "sim = ss.Sim(n_agents=20e3, dur=10, diseases=sir, networks='random')\n",
    "sim.run()\n",
    "sim.plot()\n",
    "\n",
    "# Show the age distribution of infections\n",
    "ages = sim.people.age[:]\n",
    "infected_ages = ages[sim.diseases.sir.infected]\n",
    "\n",
    "fig = plt.figure()\n",
    "\n",
    "plt.subplot(2,1,1)\n",
    "plt.hist(ages, bins=range(0,100,5))\n",
    "plt.title('Simulation age distribution')\n",
    "plt.xlabel('Age')\n",
    "plt.ylabel('Number of people')\n",
    "\n",
    "plt.subplot(2,1,2)\n",
    "plt.hist(infected_ages, bins=range(0,100,5))\n",
    "plt.title('Infection age distribution')\n",
    "plt.xlabel('Age')\n",
    "plt.ylabel('Number of people')\n",
    "\n",
    "sc.figlayout()\n",
    "plt.show()"
   ]
  },
  {
   "cell_type": "markdown",
   "id": "b4dcf2fc",
   "metadata": {},
   "source": [
    "Using similar logic, any other parameter could be set to depend on anything that the sim is aware of, including time or agent properties like age, sex, or health attributes.\n"
   ]
  }
 ],
 "metadata": {
  "kernelspec": {
   "display_name": "base",
   "language": "python",
   "name": "python3"
  },
  "language_info": {
   "codemirror_mode": {
    "name": "ipython",
    "version": 3
   },
   "file_extension": ".py",
   "mimetype": "text/x-python",
   "name": "python",
   "nbconvert_exporter": "python",
   "pygments_lexer": "ipython3",
   "version": "3.12.2"
  }
 },
 "nbformat": 4,
 "nbformat_minor": 5
}
