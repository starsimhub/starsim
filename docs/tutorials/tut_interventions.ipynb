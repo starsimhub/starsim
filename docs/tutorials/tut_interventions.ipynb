{
 "cells": [
  {
   "cell_type": "markdown",
   "metadata": {},
   "source": [
    "# T6 - Interventions\n",
    "\n",
    "Understanding the impact of interventions is one of the most common reasons to use a disease model. This tutorial shows how to implement standard interventions, as well as how to define your own custom interventions.  \n"
   ]
  },
  {
   "cell_type": "markdown",
   "metadata": {},
   "source": [
    "## Products and interventions\n",
    "\n",
    "Starsim contains _products_, which can be thought of as the actual test, diagnostic, treatment, or vaccine product being used, as well as _interventions_, which are responsible for delivering the products to the population. \n",
    "\n",
    "Depending on what disease you're modeling, you might need to define your own custom products and interventions, or you might be able to directly use some of the examples provided in Starsim.\n",
    "\n",
    "Starsim includes three basic \"types\" of products: diagnostics, treatment, and vaccination. There isn't a lot of detail in the templates for each of these, because most of the details about products is specific to a disease. There are also some disease-specific products built in the Starsim's library of diseases - these can generally be found in the `diseases` subfolder (e.g. the cholera interventions are in `cholera.py`. \n",
    "\n",
    "Starsim also includes several basic types of intervention:\n",
    "- `routine_vx()` for routine vaccination, `campaign_vx()` for one-off campaigns \n",
    "- similarly, `routine_screening()` and `campaign_screening()` for different types of screening program \n",
    "- `treat_num()`, which treats a certain number of people each timestep (by default, as many people as need treatment, but you can also set a maximum).\n",
    "\n",
    "These are sometimes general enough that they don't need to be tailored to a particular disease, and you can just use them directly. That being said, you are always welcome to tailor them as you like to capture particular features of the intervention you're modeling.\n",
    "\n",
    "## Vaccination\n",
    "To create an example, let's first create the parameters that we want to use for the simulation:"
   ]
  },
  {
   "cell_type": "code",
   "execution_count": null,
   "metadata": {},
   "outputs": [],
   "source": [
    "import starsim as ss\n",
    "pars = dict(\n",
    "    n_agents = 5_000,\n",
    "    birth_rate = 20,\n",
    "    death_rate = 0.015,\n",
    "    networks = dict(\n",
    "        type = 'randomnet',\n",
    "        n_contacts = 4\n",
    "    ),\n",
    "    diseases = dict(\n",
    "        type = 'sir',\n",
    "        dur_inf = 10,\n",
    "        beta = 0.1,\n",
    "    )\n",
    ")"
   ]
  },
  {
   "cell_type": "markdown",
   "source": [
    "Now we'll create a vaccine product and a vaccination intervention:"
   ],
   "metadata": {
    "collapsed": false
   }
  },
  {
   "cell_type": "code",
   "execution_count": null,
   "outputs": [],
   "source": [
    "# Create the product - a vaccine with 50% efficacy\n",
    "MyVaccine = ss.sir_vaccine(pars=dict(efficacy=0.5))\n",
    "\n",
    "# Create the intervention\n",
    "MyIntervention = ss.routine_vx(\n",
    "    start_year=2015,    # Begin vaccination in 2015\n",
    "    prob=0.2,           # 20% coverage\n",
    "    product=MyVaccine   # Use the MyVaccine product\n",
    ")\n",
    "\n",
    "# Now create two sims: a baseline sim and one with the intervention\n",
    "sim_base = ss.Sim(pars=pars)\n",
    "sim_base.run()\n",
    "sim_intv = ss.Sim(pars=pars, interventions=MyIntervention)\n",
    "sim_intv.run()"
   ],
   "metadata": {
    "collapsed": false
   }
  },
  {
   "cell_type": "markdown",
   "source": [
    "If we want to see the impact, we can create a plot:"
   ],
   "metadata": {
    "collapsed": false
   }
  },
  {
   "cell_type": "code",
   "execution_count": null,
   "outputs": [],
   "source": [
    "import matplotlib.pyplot as plt\n",
    "plt.figure()\n",
    "plt.plot(sim_base.yearvec, sim_base.results.sir.prevalence, label='Baseline')\n",
    "plt.plot(sim_intv.yearvec, sim_intv.results.sir.prevalence, label='Vax')\n",
    "plt.axvline(x=2015, color='k', ls='--')\n",
    "plt.title('Prevalence')\n",
    "plt.legend()\n",
    "plt.show();"
   ],
   "metadata": {
    "collapsed": false
   }
  },
  {
   "cell_type": "markdown",
   "source": [
    "We can see that from the year of introducing the vaccine, prevalence starts to fall. "
   ],
   "metadata": {
    "collapsed": false
   }
  }
 ],
 "metadata": {
  "kernelspec": {
   "display_name": "Python 3 (ipykernel)",
   "language": "python",
   "name": "python3"
  },
  "language_info": {
   "codemirror_mode": {
    "name": "ipython",
    "version": 3
   },
   "file_extension": ".py",
   "mimetype": "text/x-python",
   "name": "python",
   "nbconvert_exporter": "python",
   "pygments_lexer": "ipython3",
   "version": "3.11.3"
  },
  "pycharm": {
   "stem_cell": {
    "cell_type": "raw",
    "metadata": {
     "collapsed": false
    },
    "source": []
   }
  },
  "toc": {
   "base_numbering": 1,
   "nav_menu": {},
   "number_sections": true,
   "sideBar": true,
   "skip_h1_title": false,
   "title_cell": "Table of Contents",
   "title_sidebar": "Contents",
   "toc_cell": false,
   "toc_position": {},
   "toc_section_display": true,
   "toc_window_display": false
  }
 },
 "nbformat": 4,
 "nbformat_minor": 4
}
