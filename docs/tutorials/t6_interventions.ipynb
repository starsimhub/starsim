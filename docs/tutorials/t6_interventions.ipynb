{
 "cells": [
  {
   "cell_type": "markdown",
   "id": "0911386d",
   "metadata": {},
   "source": [
    "# T6 - Interventions\n",
    "\n",
    "Understanding the impact of interventions is one of the most common reasons to use a disease model. This tutorial shows how to implement standard interventions, as well as how to define your own custom interventions.  \n"
   ]
  },
  {
   "cell_type": "markdown",
   "id": "c4a4a2ee",
   "metadata": {},
   "source": [
    "<div class=\"alert alert-info\">\n",
    "    \n",
    "An interactive version of this notebook is available on [Google Colab](https://colab.research.google.com/github/starsimhub/starsim/blob/main/docs/tutorials/tut_interventions.ipynb) or [Binder](https://mybinder.org/v2/gh/starsimhub/starsim/HEAD?labpath=docs%2Ftutorials%2Finterventions.ipynb).\n",
    "    \n",
    "</div>"
   ]
  },
  {
   "cell_type": "code",
   "execution_count": null,
   "id": "1d88d1c9",
   "metadata": {
    "tags": [
     "hide-cell"
    ]
   },
   "outputs": [],
   "source": [
    "%pip install -q starsim # Install Starsim if required"
   ]
  },
  {
   "cell_type": "markdown",
   "id": "4574ce23",
   "metadata": {},
   "source": [
    "## Products and interventions\n",
    "\n",
    "Starsim contains _products_, which can be thought of as the actual test, diagnostic, treatment, or vaccine product being used, as well as _interventions_, which are responsible for delivering the products to the population. \n",
    "\n",
    "Depending on what disease you're modeling, you might need to define your own custom products and interventions, or you might be able to directly use some of the examples provided in Starsim.\n",
    "\n",
    "Starsim includes three basic \"types\" of products: diagnostics, treatment, and vaccination. There isn't a lot of detail in the templates for each of these, because most of the details about products is specific to a disease. There are also some disease-specific products built in the Starsim's library of diseases - these can generally be found in the `diseases` subfolder (e.g. the cholera interventions are in `cholera.py`. \n",
    "\n",
    "Starsim also includes several basic types of intervention:\n",
    "\n",
    "- `routine_vx()` for routine vaccination, `campaign_vx()` for one-off campaigns \n",
    "- similarly, `routine_screening()` and `campaign_screening()` for different types of screening program \n",
    "- `treat_num()`, which treats a certain number of people each timestep (by default, as many people as need treatment, but you can also set a maximum).\n",
    "\n",
    "These are sometimes general enough that they don't need to be tailored to a particular disease, and you can just use them directly. That being said, you are always welcome to tailor them as you like to capture particular features of the intervention you're modeling.\n",
    "\n",
    "## Vaccination\n",
    "To create an example, let's first create the parameters that we want to use for the simulation:"
   ]
  },
  {
   "cell_type": "code",
   "execution_count": null,
   "id": "d609380d",
   "metadata": {},
   "outputs": [],
   "source": [
    "import starsim as ss\n",
    "\n",
    "pars = dict(\n",
    "    n_agents = 5_000,\n",
    "    birth_rate = ss.peryear(20),\n",
    "    death_rate = 15,\n",
    "    networks = dict(\n",
    "        type = 'randomnet', # Or 'random'\n",
    "        n_contacts = 4\n",
    "    ),\n",
    "    diseases = dict(\n",
    "        type = 'sir',\n",
    "        dur_inf = 10,\n",
    "        beta = 0.1,\n",
    "    )\n",
    ")"
   ]
  },
  {
   "cell_type": "markdown",
   "id": "39bb9ca3",
   "metadata": {
    "collapsed": false
   },
   "source": [
    "Now we'll create a vaccine product and a vaccination intervention:"
   ]
  },
  {
   "cell_type": "code",
   "execution_count": null,
   "id": "33d18540",
   "metadata": {},
   "outputs": [],
   "source": [
    "# Create the product - a vaccine with 50% efficacy\n",
    "my_vaccine = ss.simple_vx(efficacy=0.5)\n",
    "\n",
    "# Create the intervention\n",
    "my_intervention = ss.routine_vx(\n",
    "    start_year=2015,    # Begin vaccination in 2015\n",
    "    prob=0.2,           # 20% coverage\n",
    "    product=my_vaccine   # Use the MyVaccine product\n",
    ")\n",
    "\n",
    "# Now create two sims: a baseline sim and one with the intervention\n",
    "sim_base = ss.Sim(pars=pars)\n",
    "sim_base.run()\n",
    "sim_intv = ss.Sim(pars=pars, interventions=my_intervention)\n",
    "sim_intv.run()"
   ]
  },
  {
   "cell_type": "markdown",
   "id": "abe7afff",
   "metadata": {
    "collapsed": false
   },
   "source": [
    "If we want to see the impact, we can create a plot:"
   ]
  },
  {
   "cell_type": "code",
   "execution_count": null,
   "id": "4a563cdc",
   "metadata": {},
   "outputs": [],
   "source": [
    "import matplotlib.pyplot as plt\n",
    "\n",
    "res_base = sim_base.results\n",
    "res_intv = sim_intv.results\n",
    "\n",
    "plt.figure()\n",
    "plt.plot(res_base.timevec, res_base.sir.prevalence, label='Baseline')\n",
    "plt.plot(res_intv.timevec, res_intv.sir.prevalence, label='Vax')\n",
    "plt.axvline(x=ss.date(2015), color='k', ls='--')\n",
    "plt.title('Prevalence')\n",
    "plt.legend()\n",
    "plt.show()"
   ]
  },
  {
   "cell_type": "markdown",
   "id": "7353fc91",
   "metadata": {
    "collapsed": false
   },
   "source": [
    "We can see that from the year of introducing the vaccine, prevalence starts to fall. \n",
    "\n",
    "## Custom interventions\n",
    "\n",
    "The most common way of accessing diseases for modification by interventions is via their names (e.g. `sir`, `sis`). This means that typically, different interventions need to be defined for different diseases. The example below shows how to define a simple vaccine for SIS which is just a function, rather than a class:"
   ]
  },
  {
   "cell_type": "code",
   "execution_count": null,
   "id": "05ecf719",
   "metadata": {},
   "outputs": [],
   "source": [
    "import starsim as ss\n",
    "\n",
    "def simple_sis_vaccine(sim, start=2030, eff=0.9):\n",
    "    if sim.now == start:\n",
    "        sim.diseases.sis.rel_trans[:] *= 1-eff\n",
    "    return\n",
    "\n",
    "pars = dict(\n",
    "    start=2000,\n",
    "    stop=2050,\n",
    "    diseases='sis',\n",
    "    networks='random',\n",
    "    interventions=simple_sis_vaccine,\n",
    ")\n",
    "\n",
    "sim = ss.Sim(pars)\n",
    "sim.run()\n",
    "sim.plot()\n",
    "ss.show()"
   ]
  },
  {
   "cell_type": "markdown",
   "id": "b358a557",
   "metadata": {},
   "source": [
    "## Exercises\n",
    "\n",
    "1. If we change the disease from SIR to SIS and set coverage to 100%, what minimum efficacy of vaccine is required to eradicate the disease by 2050? You will need to implement an `sis_vaccine` class as well (based on `ss.sir_vaccine` -- not the simple vaccine above), but can re-use `ss.routine_vx`."
   ]
  }
 ],
 "metadata": {
  "kernelspec": {
   "display_name": "base",
   "language": "python",
   "name": "python3"
  },
  "language_info": {
   "codemirror_mode": {
    "name": "ipython",
    "version": 3
   },
   "file_extension": ".py",
   "mimetype": "text/x-python",
   "name": "python",
   "nbconvert_exporter": "python",
   "pygments_lexer": "ipython3",
   "version": "3.12.10"
  }
 },
 "nbformat": 4,
 "nbformat_minor": 5
}
