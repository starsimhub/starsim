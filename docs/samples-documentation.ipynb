{
 "cells": [
  {
   "cell_type": "code",
   "execution_count": 1,
   "id": "550da6d7",
   "metadata": {
    "ExecuteTime": {
     "end_time": "2023-12-13T00:08:10.939018Z",
     "start_time": "2023-12-13T00:08:10.880316Z"
    }
   },
   "outputs": [],
   "source": [
    "%load_ext autoreload\n",
    "%autoreload 2"
   ]
  },
  {
   "cell_type": "markdown",
   "id": "0134f18b",
   "metadata": {},
   "source": [
    "# Managing samples"
   ]
  },
  {
   "cell_type": "markdown",
   "id": "fd7e1139",
   "metadata": {},
   "source": [
    "As STIsim models are usually stochastic, for a single scenario it is often desirable to run the model multiple times with different random seeds. The role of the `Samples` class is to facilitate working with large numbers of simulations and scenarios, to ease:\n",
    "\n",
    "- Loading large result sets\n",
    "- Filtering/selecting simulation runs\n",
    "- Plotting individual simulations and aggregate results\n",
    "- Slicing result sets to compare scenarios\n",
    "\n",
    "Essentially, if we think of the processed results of a model run as being\n",
    "\n",
    "- A collection of scalar outputs (e.g., cumulative infections, total deaths)\n",
    "- A dataframe of time-varying outputs (e.g., new diagnoses per day, number of people on treatment each day)\n",
    "\n",
    "then the classes `Dataset` and `Samples` manage collections of these results. In particular, the `Samples` class manages different random samples of the same parameters, and the `Dataset` class manages a collection of `Samples`. \n",
    "\n",
    "<div class=\"alert alert-block alert-info\">    \n",
    "These classes are particularly designed to facilitate working with tens of thousands of simulation runs, where other approaches such as those based on the `MultiSim` class may not be feasible.\n",
    "</div>\n"
   ]
  },
  {
   "cell_type": "code",
   "execution_count": 2,
   "id": "1634f5bb",
   "metadata": {
    "ExecuteTime": {
     "end_time": "2023-12-13T00:08:12.282218Z",
     "start_time": "2023-12-13T00:08:10.940027Z"
    }
   },
   "outputs": [
    {
     "name": "stdout",
     "output_type": "stream",
     "text": [
      "STIsim 0.0.8 (2023-10-04) — © 2023 by IDM\n"
     ]
    }
   ],
   "source": [
    "import stisim as ss\n",
    "import numpy as np\n",
    "import pandas as pd\n",
    "from pathlib import Path\n",
    "import matplotlib.pyplot as plt\n",
    "import sciris as sc"
   ]
  },
  {
   "cell_type": "markdown",
   "id": "161f179e",
   "metadata": {},
   "source": [
    "## Obtaining simulation output"
   ]
  },
  {
   "cell_type": "markdown",
   "id": "5b8eb8a4",
   "metadata": {},
   "source": [
    "To demonstrate usage of this class, we will first consider constructing the kinds of output that the `Samples` class stores. We begin by running a basic simulation using the SIR model:"
   ]
  },
  {
   "cell_type": "code",
   "execution_count": 3,
   "id": "b0d0b231",
   "metadata": {
    "ExecuteTime": {
     "end_time": "2023-12-13T00:08:14.857875Z",
     "start_time": "2023-12-13T00:08:12.283227Z"
    }
   },
   "outputs": [
    {
     "name": "stdout",
     "output_type": "stream",
     "text": [
      "Initializing sim (warning: not resetting sim.people) with 10000 agents\n",
      "  Running 1995.0 ( 0/36) (1.43 s)  ———————————————————— 3%\n",
      "  Running 2005.0 (10/36) (2.42 s)  ••••••—————————————— 31%\n",
      "  Running 2015.0 (20/36) (2.45 s)  •••••••••••————————— 58%\n",
      "  Running 2025.0 (30/36) (2.48 s)  •••••••••••••••••——— 86%\n"
     ]
    }
   ],
   "source": [
    "ppl = ss.People(10000)\n",
    "ppl.networks = ss.ndict(ss.RandomNetwork(n_contacts=ss.poisson(5)))\n",
    "sir = ss.SIR()\n",
    "sim = ss.Sim(people=ppl, diseases=sir, rand_seed=0)\n",
    "sim.run();"
   ]
  },
  {
   "cell_type": "markdown",
   "id": "9de585cb",
   "metadata": {},
   "source": [
    "### Dataframe output\n",
    "\n",
    "A `Sim` instance is (in general) too large and complex to efficiently store on disk - the file size and loading time make it prohibitive to work with tens of thousands of simulations. Therefore, rather than storing entire `Sim` instances, we instead store dataframes containing just the simulation results and any other pre-processed calculated quantities. There are broadly speaking two types of outputs\n",
    "\n",
    "- Scalar outputs at each timepoint (e.g., daily new cases)\n",
    "- Scalar outputs for each simulation (e.g., total number of deaths)\n",
    "\n",
    "These outputs can each be produced from a `Sim` - the former has a tabular structure, and the latter has a dictionary structure (which can later be assembled into a table where the rows correspond to each simulation). The `export_df` method is a quick way to obtain a dataframe with the appropriate structure retaining all results from the `Sim`.\n",
    "\n",
    "\n",
    "<div class=\"alert alert-block alert-info\">    \n",
    "In real-world use, it is often helpful to write your own function to extract a dataframe of simulation outputs, because typically some of the outputs need to be extracted from custom Analyzers.\n",
    "</div>\n"
   ]
  },
  {
   "cell_type": "code",
   "execution_count": 4,
   "id": "e56f7c84",
   "metadata": {
    "ExecuteTime": {
     "end_time": "2023-12-13T00:08:14.962580Z",
     "start_time": "2023-12-13T00:08:14.859884Z"
    }
   },
   "outputs": [
    {
     "data": {
      "text/html": [
       "<div>\n",
       "<style scoped>\n",
       "    .dataframe tbody tr th:only-of-type {\n",
       "        vertical-align: middle;\n",
       "    }\n",
       "\n",
       "    .dataframe tbody tr th {\n",
       "        vertical-align: top;\n",
       "    }\n",
       "\n",
       "    .dataframe thead th {\n",
       "        text-align: right;\n",
       "    }\n",
       "</style>\n",
       "<table border=\"1\" class=\"dataframe\">\n",
       "  <thead>\n",
       "    <tr style=\"text-align: right;\">\n",
       "      <th></th>\n",
       "      <th>n_alive</th>\n",
       "      <th>new_deaths</th>\n",
       "      <th>sir.n_susceptible</th>\n",
       "      <th>sir.n_infected</th>\n",
       "      <th>sir.n_recovered</th>\n",
       "      <th>sir.prevalence</th>\n",
       "      <th>sir.new_infections</th>\n",
       "    </tr>\n",
       "    <tr>\n",
       "      <th>t</th>\n",
       "      <th></th>\n",
       "      <th></th>\n",
       "      <th></th>\n",
       "      <th></th>\n",
       "      <th></th>\n",
       "      <th></th>\n",
       "      <th></th>\n",
       "    </tr>\n",
       "  </thead>\n",
       "  <tbody>\n",
       "    <tr>\n",
       "      <th>1995.0</th>\n",
       "      <td>10000</td>\n",
       "      <td>0</td>\n",
       "      <td>9983</td>\n",
       "      <td>17</td>\n",
       "      <td>0</td>\n",
       "      <td>0.001700</td>\n",
       "      <td>17</td>\n",
       "    </tr>\n",
       "    <tr>\n",
       "      <th>1996.0</th>\n",
       "      <td>10000</td>\n",
       "      <td>0</td>\n",
       "      <td>9906</td>\n",
       "      <td>94</td>\n",
       "      <td>0</td>\n",
       "      <td>0.009400</td>\n",
       "      <td>78</td>\n",
       "    </tr>\n",
       "    <tr>\n",
       "      <th>1997.0</th>\n",
       "      <td>10000</td>\n",
       "      <td>0</td>\n",
       "      <td>9442</td>\n",
       "      <td>558</td>\n",
       "      <td>0</td>\n",
       "      <td>0.055800</td>\n",
       "      <td>478</td>\n",
       "    </tr>\n",
       "    <tr>\n",
       "      <th>1998.0</th>\n",
       "      <td>10000</td>\n",
       "      <td>0</td>\n",
       "      <td>7104</td>\n",
       "      <td>2895</td>\n",
       "      <td>1</td>\n",
       "      <td>0.289500</td>\n",
       "      <td>2702</td>\n",
       "    </tr>\n",
       "    <tr>\n",
       "      <th>1999.0</th>\n",
       "      <td>9999</td>\n",
       "      <td>1</td>\n",
       "      <td>1752</td>\n",
       "      <td>8242</td>\n",
       "      <td>5</td>\n",
       "      <td>0.824282</td>\n",
       "      <td>10264</td>\n",
       "    </tr>\n",
       "    <tr>\n",
       "      <th>2000.0</th>\n",
       "      <td>9996</td>\n",
       "      <td>3</td>\n",
       "      <td>78</td>\n",
       "      <td>9896</td>\n",
       "      <td>22</td>\n",
       "      <td>0.989996</td>\n",
       "      <td>7196</td>\n",
       "    </tr>\n",
       "    <tr>\n",
       "      <th>2001.0</th>\n",
       "      <td>9976</td>\n",
       "      <td>20</td>\n",
       "      <td>1</td>\n",
       "      <td>9830</td>\n",
       "      <td>145</td>\n",
       "      <td>0.985365</td>\n",
       "      <td>391</td>\n",
       "    </tr>\n",
       "    <tr>\n",
       "      <th>2002.0</th>\n",
       "      <td>9817</td>\n",
       "      <td>159</td>\n",
       "      <td>1</td>\n",
       "      <td>9174</td>\n",
       "      <td>642</td>\n",
       "      <td>0.934501</td>\n",
       "      <td>0</td>\n",
       "    </tr>\n",
       "    <tr>\n",
       "      <th>2003.0</th>\n",
       "      <td>9353</td>\n",
       "      <td>464</td>\n",
       "      <td>0</td>\n",
       "      <td>7270</td>\n",
       "      <td>2083</td>\n",
       "      <td>0.777291</td>\n",
       "      <td>2</td>\n",
       "    </tr>\n",
       "    <tr>\n",
       "      <th>2004.0</th>\n",
       "      <td>8407</td>\n",
       "      <td>946</td>\n",
       "      <td>0</td>\n",
       "      <td>4107</td>\n",
       "      <td>4300</td>\n",
       "      <td>0.488521</td>\n",
       "      <td>0</td>\n",
       "    </tr>\n",
       "    <tr>\n",
       "      <th>2005.0</th>\n",
       "      <td>7421</td>\n",
       "      <td>986</td>\n",
       "      <td>0</td>\n",
       "      <td>1423</td>\n",
       "      <td>5998</td>\n",
       "      <td>0.191753</td>\n",
       "      <td>0</td>\n",
       "    </tr>\n",
       "    <tr>\n",
       "      <th>2006.0</th>\n",
       "      <td>6820</td>\n",
       "      <td>601</td>\n",
       "      <td>0</td>\n",
       "      <td>268</td>\n",
       "      <td>6552</td>\n",
       "      <td>0.039296</td>\n",
       "      <td>0</td>\n",
       "    </tr>\n",
       "    <tr>\n",
       "      <th>2007.0</th>\n",
       "      <td>6630</td>\n",
       "      <td>190</td>\n",
       "      <td>0</td>\n",
       "      <td>39</td>\n",
       "      <td>6591</td>\n",
       "      <td>0.005882</td>\n",
       "      <td>0</td>\n",
       "    </tr>\n",
       "    <tr>\n",
       "      <th>2008.0</th>\n",
       "      <td>6608</td>\n",
       "      <td>22</td>\n",
       "      <td>0</td>\n",
       "      <td>3</td>\n",
       "      <td>6605</td>\n",
       "      <td>0.000454</td>\n",
       "      <td>0</td>\n",
       "    </tr>\n",
       "    <tr>\n",
       "      <th>2009.0</th>\n",
       "      <td>6606</td>\n",
       "      <td>2</td>\n",
       "      <td>0</td>\n",
       "      <td>0</td>\n",
       "      <td>6606</td>\n",
       "      <td>0.000000</td>\n",
       "      <td>0</td>\n",
       "    </tr>\n",
       "    <tr>\n",
       "      <th>2010.0</th>\n",
       "      <td>6606</td>\n",
       "      <td>0</td>\n",
       "      <td>0</td>\n",
       "      <td>0</td>\n",
       "      <td>6606</td>\n",
       "      <td>0.000000</td>\n",
       "      <td>0</td>\n",
       "    </tr>\n",
       "    <tr>\n",
       "      <th>2011.0</th>\n",
       "      <td>6606</td>\n",
       "      <td>0</td>\n",
       "      <td>0</td>\n",
       "      <td>0</td>\n",
       "      <td>6606</td>\n",
       "      <td>0.000000</td>\n",
       "      <td>0</td>\n",
       "    </tr>\n",
       "    <tr>\n",
       "      <th>2012.0</th>\n",
       "      <td>6606</td>\n",
       "      <td>0</td>\n",
       "      <td>0</td>\n",
       "      <td>0</td>\n",
       "      <td>6606</td>\n",
       "      <td>0.000000</td>\n",
       "      <td>0</td>\n",
       "    </tr>\n",
       "    <tr>\n",
       "      <th>2013.0</th>\n",
       "      <td>6606</td>\n",
       "      <td>0</td>\n",
       "      <td>0</td>\n",
       "      <td>0</td>\n",
       "      <td>6606</td>\n",
       "      <td>0.000000</td>\n",
       "      <td>0</td>\n",
       "    </tr>\n",
       "    <tr>\n",
       "      <th>2014.0</th>\n",
       "      <td>6606</td>\n",
       "      <td>0</td>\n",
       "      <td>0</td>\n",
       "      <td>0</td>\n",
       "      <td>6606</td>\n",
       "      <td>0.000000</td>\n",
       "      <td>0</td>\n",
       "    </tr>\n",
       "    <tr>\n",
       "      <th>2015.0</th>\n",
       "      <td>6606</td>\n",
       "      <td>0</td>\n",
       "      <td>0</td>\n",
       "      <td>0</td>\n",
       "      <td>6606</td>\n",
       "      <td>0.000000</td>\n",
       "      <td>0</td>\n",
       "    </tr>\n",
       "    <tr>\n",
       "      <th>2016.0</th>\n",
       "      <td>6606</td>\n",
       "      <td>0</td>\n",
       "      <td>0</td>\n",
       "      <td>0</td>\n",
       "      <td>6606</td>\n",
       "      <td>0.000000</td>\n",
       "      <td>0</td>\n",
       "    </tr>\n",
       "    <tr>\n",
       "      <th>2017.0</th>\n",
       "      <td>6606</td>\n",
       "      <td>0</td>\n",
       "      <td>0</td>\n",
       "      <td>0</td>\n",
       "      <td>6606</td>\n",
       "      <td>0.000000</td>\n",
       "      <td>0</td>\n",
       "    </tr>\n",
       "    <tr>\n",
       "      <th>2018.0</th>\n",
       "      <td>6606</td>\n",
       "      <td>0</td>\n",
       "      <td>0</td>\n",
       "      <td>0</td>\n",
       "      <td>6606</td>\n",
       "      <td>0.000000</td>\n",
       "      <td>0</td>\n",
       "    </tr>\n",
       "    <tr>\n",
       "      <th>2019.0</th>\n",
       "      <td>6606</td>\n",
       "      <td>0</td>\n",
       "      <td>0</td>\n",
       "      <td>0</td>\n",
       "      <td>6606</td>\n",
       "      <td>0.000000</td>\n",
       "      <td>0</td>\n",
       "    </tr>\n",
       "    <tr>\n",
       "      <th>2020.0</th>\n",
       "      <td>6606</td>\n",
       "      <td>0</td>\n",
       "      <td>0</td>\n",
       "      <td>0</td>\n",
       "      <td>6606</td>\n",
       "      <td>0.000000</td>\n",
       "      <td>0</td>\n",
       "    </tr>\n",
       "    <tr>\n",
       "      <th>2021.0</th>\n",
       "      <td>6606</td>\n",
       "      <td>0</td>\n",
       "      <td>0</td>\n",
       "      <td>0</td>\n",
       "      <td>6606</td>\n",
       "      <td>0.000000</td>\n",
       "      <td>0</td>\n",
       "    </tr>\n",
       "    <tr>\n",
       "      <th>2022.0</th>\n",
       "      <td>6606</td>\n",
       "      <td>0</td>\n",
       "      <td>0</td>\n",
       "      <td>0</td>\n",
       "      <td>6606</td>\n",
       "      <td>0.000000</td>\n",
       "      <td>0</td>\n",
       "    </tr>\n",
       "    <tr>\n",
       "      <th>2023.0</th>\n",
       "      <td>6606</td>\n",
       "      <td>0</td>\n",
       "      <td>0</td>\n",
       "      <td>0</td>\n",
       "      <td>6606</td>\n",
       "      <td>0.000000</td>\n",
       "      <td>0</td>\n",
       "    </tr>\n",
       "    <tr>\n",
       "      <th>2024.0</th>\n",
       "      <td>6606</td>\n",
       "      <td>0</td>\n",
       "      <td>0</td>\n",
       "      <td>0</td>\n",
       "      <td>6606</td>\n",
       "      <td>0.000000</td>\n",
       "      <td>0</td>\n",
       "    </tr>\n",
       "    <tr>\n",
       "      <th>2025.0</th>\n",
       "      <td>6606</td>\n",
       "      <td>0</td>\n",
       "      <td>0</td>\n",
       "      <td>0</td>\n",
       "      <td>6606</td>\n",
       "      <td>0.000000</td>\n",
       "      <td>0</td>\n",
       "    </tr>\n",
       "    <tr>\n",
       "      <th>2026.0</th>\n",
       "      <td>6606</td>\n",
       "      <td>0</td>\n",
       "      <td>0</td>\n",
       "      <td>0</td>\n",
       "      <td>6606</td>\n",
       "      <td>0.000000</td>\n",
       "      <td>0</td>\n",
       "    </tr>\n",
       "    <tr>\n",
       "      <th>2027.0</th>\n",
       "      <td>6606</td>\n",
       "      <td>0</td>\n",
       "      <td>0</td>\n",
       "      <td>0</td>\n",
       "      <td>6606</td>\n",
       "      <td>0.000000</td>\n",
       "      <td>0</td>\n",
       "    </tr>\n",
       "    <tr>\n",
       "      <th>2028.0</th>\n",
       "      <td>6606</td>\n",
       "      <td>0</td>\n",
       "      <td>0</td>\n",
       "      <td>0</td>\n",
       "      <td>6606</td>\n",
       "      <td>0.000000</td>\n",
       "      <td>0</td>\n",
       "    </tr>\n",
       "    <tr>\n",
       "      <th>2029.0</th>\n",
       "      <td>6606</td>\n",
       "      <td>0</td>\n",
       "      <td>0</td>\n",
       "      <td>0</td>\n",
       "      <td>6606</td>\n",
       "      <td>0.000000</td>\n",
       "      <td>0</td>\n",
       "    </tr>\n",
       "    <tr>\n",
       "      <th>2030.0</th>\n",
       "      <td>6606</td>\n",
       "      <td>0</td>\n",
       "      <td>0</td>\n",
       "      <td>0</td>\n",
       "      <td>6606</td>\n",
       "      <td>0.000000</td>\n",
       "      <td>0</td>\n",
       "    </tr>\n",
       "  </tbody>\n",
       "</table>\n",
       "</div>"
      ],
      "text/plain": [
       "        n_alive  new_deaths  sir.n_susceptible  sir.n_infected  \\\n",
       "t                                                                \n",
       "1995.0    10000           0               9983              17   \n",
       "1996.0    10000           0               9906              94   \n",
       "1997.0    10000           0               9442             558   \n",
       "1998.0    10000           0               7104            2895   \n",
       "1999.0     9999           1               1752            8242   \n",
       "2000.0     9996           3                 78            9896   \n",
       "2001.0     9976          20                  1            9830   \n",
       "2002.0     9817         159                  1            9174   \n",
       "2003.0     9353         464                  0            7270   \n",
       "2004.0     8407         946                  0            4107   \n",
       "2005.0     7421         986                  0            1423   \n",
       "2006.0     6820         601                  0             268   \n",
       "2007.0     6630         190                  0              39   \n",
       "2008.0     6608          22                  0               3   \n",
       "2009.0     6606           2                  0               0   \n",
       "2010.0     6606           0                  0               0   \n",
       "2011.0     6606           0                  0               0   \n",
       "2012.0     6606           0                  0               0   \n",
       "2013.0     6606           0                  0               0   \n",
       "2014.0     6606           0                  0               0   \n",
       "2015.0     6606           0                  0               0   \n",
       "2016.0     6606           0                  0               0   \n",
       "2017.0     6606           0                  0               0   \n",
       "2018.0     6606           0                  0               0   \n",
       "2019.0     6606           0                  0               0   \n",
       "2020.0     6606           0                  0               0   \n",
       "2021.0     6606           0                  0               0   \n",
       "2022.0     6606           0                  0               0   \n",
       "2023.0     6606           0                  0               0   \n",
       "2024.0     6606           0                  0               0   \n",
       "2025.0     6606           0                  0               0   \n",
       "2026.0     6606           0                  0               0   \n",
       "2027.0     6606           0                  0               0   \n",
       "2028.0     6606           0                  0               0   \n",
       "2029.0     6606           0                  0               0   \n",
       "2030.0     6606           0                  0               0   \n",
       "\n",
       "        sir.n_recovered  sir.prevalence  sir.new_infections  \n",
       "t                                                            \n",
       "1995.0                0        0.001700                  17  \n",
       "1996.0                0        0.009400                  78  \n",
       "1997.0                0        0.055800                 478  \n",
       "1998.0                1        0.289500                2702  \n",
       "1999.0                5        0.824282               10264  \n",
       "2000.0               22        0.989996                7196  \n",
       "2001.0              145        0.985365                 391  \n",
       "2002.0              642        0.934501                   0  \n",
       "2003.0             2083        0.777291                   2  \n",
       "2004.0             4300        0.488521                   0  \n",
       "2005.0             5998        0.191753                   0  \n",
       "2006.0             6552        0.039296                   0  \n",
       "2007.0             6591        0.005882                   0  \n",
       "2008.0             6605        0.000454                   0  \n",
       "2009.0             6606        0.000000                   0  \n",
       "2010.0             6606        0.000000                   0  \n",
       "2011.0             6606        0.000000                   0  \n",
       "2012.0             6606        0.000000                   0  \n",
       "2013.0             6606        0.000000                   0  \n",
       "2014.0             6606        0.000000                   0  \n",
       "2015.0             6606        0.000000                   0  \n",
       "2016.0             6606        0.000000                   0  \n",
       "2017.0             6606        0.000000                   0  \n",
       "2018.0             6606        0.000000                   0  \n",
       "2019.0             6606        0.000000                   0  \n",
       "2020.0             6606        0.000000                   0  \n",
       "2021.0             6606        0.000000                   0  \n",
       "2022.0             6606        0.000000                   0  \n",
       "2023.0             6606        0.000000                   0  \n",
       "2024.0             6606        0.000000                   0  \n",
       "2025.0             6606        0.000000                   0  \n",
       "2026.0             6606        0.000000                   0  \n",
       "2027.0             6606        0.000000                   0  \n",
       "2028.0             6606        0.000000                   0  \n",
       "2029.0             6606        0.000000                   0  \n",
       "2030.0             6606        0.000000                   0  "
      ]
     },
     "execution_count": 4,
     "metadata": {},
     "output_type": "execute_result"
    }
   ],
   "source": [
    "sim.export_df()"
   ]
  },
  {
   "cell_type": "markdown",
   "id": "cae11408",
   "metadata": {
    "ExecuteTime": {
     "end_time": "2023-12-11T02:45:08.203408Z",
     "start_time": "2023-12-11T02:45:08.123047Z"
    }
   },
   "source": [
    "### Scalar/summary outputs\n",
    "\n",
    "We can also consider extracting a summary dictionary of scalar values. For example:"
   ]
  },
  {
   "cell_type": "code",
   "execution_count": 5,
   "id": "1cf84e33",
   "metadata": {
    "ExecuteTime": {
     "end_time": "2023-12-13T00:08:15.050006Z",
     "start_time": "2023-12-13T00:08:14.963589Z"
    }
   },
   "outputs": [
    {
     "data": {
      "text/plain": [
       "{'seed': 0, 'cum_infections': 21128, 'cum_deaths': 3394}"
      ]
     },
     "execution_count": 5,
     "metadata": {},
     "output_type": "execute_result"
    }
   ],
   "source": [
    "summary = {}\n",
    "summary['seed'] = sim.pars['rand_seed']\n",
    "summary['p_death']: sim.diseases[0].pars.p_death\n",
    "summary['cum_infections'] = sum(sim.results.sir.new_infections)\n",
    "summary['cum_deaths'] = sum(sim.results.new_deaths)\n",
    "summary"
   ]
  },
  {
   "cell_type": "markdown",
   "id": "ca95dedd",
   "metadata": {},
   "source": [
    "<div class=\"alert alert-warning alert-info\">    \n",
    "Notice how in the example above, the summary contains both simulation inputs (seed, probability of death) as well as simulation outputs (total infections, total deaths). The simulation summary should contain sufficient information about the simulation inputs to identify the simulation. The seed should generally be present. The other inputs normally correspond to variables that scenarios are being run over. In this example, we will run scenarios comparing simulations with different probabilities of death. Therefore, we need to include the death probability in the simulation summary. \n",
    "</div>"
   ]
  },
  {
   "cell_type": "markdown",
   "id": "9e2f0c02",
   "metadata": {},
   "source": [
    "### Running the model\n",
    "\n",
    "For usage at scale, the steps of creating a simulation, running it and producing these outputs are usually encapsulated in functions"
   ]
  },
  {
   "cell_type": "code",
   "execution_count": 6,
   "id": "e18cab70",
   "metadata": {
    "ExecuteTime": {
     "end_time": "2023-12-13T00:08:15.138880Z",
     "start_time": "2023-12-13T00:08:15.051013Z"
    }
   },
   "outputs": [],
   "source": [
    "def get_sim(seed, p_death):\n",
    "    ppl = ss.People(10000)\n",
    "    ppl.networks = ss.ndict(ss.RandomNetwork(n_contacts=ss.poisson(5)))\n",
    "    sir = ss.SIR(pars={'p_death':p_death})\n",
    "    sim = ss.Sim(people=ppl, diseases=sir, rand_seed=seed)\n",
    "    sim.initialize(verbose=0)\n",
    "    return sim\n",
    "    \n",
    "def run_sim(seed, p_death):\n",
    "    sim = get_sim(seed, p_death)\n",
    "    sim.run(verbose=0)\n",
    "    df = sim.export_df()\n",
    "    \n",
    "    summary = {}\n",
    "    summary['seed'] = sim.pars['rand_seed']\n",
    "    summary['p_death']= sim.diseases[0].pars.p_death\n",
    "    summary['cum_infections'] = sum(sim.results.sir.new_infections)\n",
    "    summary['cum_deaths'] = sum(sim.results.new_deaths)\n",
    "    \n",
    "    return df, summary"
   ]
  },
  {
   "cell_type": "markdown",
   "id": "3214e8c8",
   "metadata": {
    "ExecuteTime": {
     "end_time": "2023-12-11T02:50:20.145632Z",
     "start_time": "2023-12-11T02:50:20.065059Z"
    }
   },
   "source": [
    "<div class=\"alert alert-success\">    \n",
    "The functions above could be combined into a single function. However, in real world usage it is often convenient to be able to construct a simulation independently of running it (e.g., for diagnostic purposes or to allow running the sim in a range of different ways). The suggested structure above, with a <code>get_sim()</code> function and a <code>run_sim()</code> function are recommended as standard practice.\n",
    "</div>"
   ]
  },
  {
   "cell_type": "markdown",
   "id": "7db3ee1b",
   "metadata": {},
   "source": [
    "Now running a simulation for a given beta/seed value and returning the processed outputs can be done in a single step"
   ]
  },
  {
   "cell_type": "code",
   "execution_count": 7,
   "id": "49e9f3e7",
   "metadata": {
    "ExecuteTime": {
     "end_time": "2023-12-13T00:08:15.392796Z",
     "start_time": "2023-12-13T00:08:15.139888Z"
    }
   },
   "outputs": [
    {
     "data": {
      "text/plain": [
       "{'seed': 0, 'p_death': 0.2, 'cum_infections': 21095, 'cum_deaths': 3433}"
      ]
     },
     "execution_count": 7,
     "metadata": {},
     "output_type": "execute_result"
    }
   ],
   "source": [
    "# Scalar output\n",
    "df, summary = run_sim(0, 0.2);\n",
    "summary"
   ]
  },
  {
   "cell_type": "markdown",
   "id": "1c44f9e9",
   "metadata": {},
   "source": [
    "We can produce all of the samples associated with a scenario by iterating over the input seed values. This is being done in a basic loop here, but could be done in more sophistical ways to leverage parallel computing (e.g., with `sc.parallelize` for single host parallelization, or with `celery` for distributed computation). "
   ]
  },
  {
   "cell_type": "code",
   "execution_count": 8,
   "id": "334ade25",
   "metadata": {
    "ExecuteTime": {
     "end_time": "2023-12-13T00:08:34.489513Z",
     "start_time": "2023-12-13T00:08:15.393806Z"
    }
   },
   "outputs": [],
   "source": [
    "# Run a collection of sims\n",
    "n = 100\n",
    "seeds = np.arange(n)\n",
    "outputs = [run_sim(seed, 0.2) for seed in seeds]"
   ]
  },
  {
   "cell_type": "markdown",
   "id": "73b0cd06",
   "metadata": {
    "ExecuteTime": {
     "end_time": "2022-11-04T04:42:06.199504Z",
     "start_time": "2022-11-04T04:42:06.181480Z"
    }
   },
   "source": [
    "## Saving and loading the samples"
   ]
  },
  {
   "cell_type": "markdown",
   "id": "256aee36",
   "metadata": {},
   "source": [
    "We have now produced simulation outputs (dataframes and summary statistics) for 100 simulation runs. The `outputs` here are a list of tuples, containing the dataframe and dictionary outputs for each sample. This list can be passed to the `cvv.Samples` class to produce a single compressed file on disk"
   ]
  },
  {
   "cell_type": "code",
   "execution_count": 9,
   "id": "9204e26c",
   "metadata": {
    "ExecuteTime": {
     "end_time": "2023-12-13T00:08:34.636258Z",
     "start_time": "2023-12-13T00:08:34.490522Z"
    }
   },
   "outputs": [
    {
     "data": {
      "text/plain": [
       "[WindowsPath('results/0.0-1.zip'),\n",
       " WindowsPath('results/0.0-2.zip'),\n",
       " WindowsPath('results/0.0-3.zip'),\n",
       " WindowsPath('results/0.2.zip'),\n",
       " WindowsPath('results/0.25-1.zip'),\n",
       " WindowsPath('results/0.25-2.zip'),\n",
       " WindowsPath('results/0.25-3.zip'),\n",
       " WindowsPath('results/0.5-1.zip'),\n",
       " WindowsPath('results/0.5-2.zip'),\n",
       " WindowsPath('results/0.5-3.zip'),\n",
       " WindowsPath('results/0.75-1.zip'),\n",
       " WindowsPath('results/0.75-2.zip'),\n",
       " WindowsPath('results/0.75-3.zip')]"
      ]
     },
     "execution_count": 9,
     "metadata": {},
     "output_type": "execute_result"
    }
   ],
   "source": [
    "resultsdir = Path('results')\n",
    "resultsdir.mkdir(exist_ok=True, parents=True)\n",
    "ss.Samples.new(resultsdir, outputs, identifiers=[\"p_death\"])\n",
    "list(resultsdir.iterdir())"
   ]
  },
  {
   "cell_type": "markdown",
   "id": "c989e862",
   "metadata": {},
   "source": [
    "Notice that a list of `identifiers` should be passed to the `Samples` constructor. This is a list of keys in the simulation summary dictionaries that identifies the scenario. These would be model inputs rather than model outputs, and they should be the same for all of the outputs passed into the `Samples` object. If no file name is explicitly provided, the file will automatically be assigned a name based on the identifiers.\n",
    "\n",
    "<div class=\"alert alert-success\">    \n",
    "The <code>Samples</code> file internally contains metadata recording the identifiers. When <code>Samples</code> are accessed using the <code>Dataset</code> class, they can be accessed via the internal metadata. Therefore for a typical workflow, the file name largely doesn't matter, and it usually doesn't need to be manually specified.\n",
    "</div>"
   ]
  },
  {
   "cell_type": "markdown",
   "id": "2b5a4a37",
   "metadata": {},
   "source": [
    "The saved file can be loaded and accessed via the `Samples` class. **Importantly, individual files can be extracted from a `.zip` file without decompressing the entire archive**. This means that loading the summary dataframe and using it to selectively load the full outputs for individual runs can be done efficiently. For example, loading retrieving a single result from a `Samples` file would take a similar amount of time regardless of whether the file contained 10 samples or 100000 samples. "
   ]
  },
  {
   "cell_type": "code",
   "execution_count": 10,
   "id": "a56fd198",
   "metadata": {
    "ExecuteTime": {
     "end_time": "2023-12-13T00:08:34.728323Z",
     "start_time": "2023-12-13T00:08:34.638268Z"
    },
    "scrolled": false
   },
   "outputs": [
    {
     "data": {
      "text/html": [
       "<div>\n",
       "<style scoped>\n",
       "    .dataframe tbody tr th:only-of-type {\n",
       "        vertical-align: middle;\n",
       "    }\n",
       "\n",
       "    .dataframe tbody tr th {\n",
       "        vertical-align: top;\n",
       "    }\n",
       "\n",
       "    .dataframe thead th {\n",
       "        text-align: right;\n",
       "    }\n",
       "</style>\n",
       "<table border=\"1\" class=\"dataframe\">\n",
       "  <thead>\n",
       "    <tr style=\"text-align: right;\">\n",
       "      <th></th>\n",
       "      <th></th>\n",
       "      <th>cum_infections</th>\n",
       "      <th>cum_deaths</th>\n",
       "    </tr>\n",
       "    <tr>\n",
       "      <th>seed</th>\n",
       "      <th>p_death</th>\n",
       "      <th></th>\n",
       "      <th></th>\n",
       "    </tr>\n",
       "  </thead>\n",
       "  <tbody>\n",
       "    <tr>\n",
       "      <th>0</th>\n",
       "      <th>0.2</th>\n",
       "      <td>20918</td>\n",
       "      <td>3383</td>\n",
       "    </tr>\n",
       "    <tr>\n",
       "      <th>1</th>\n",
       "      <th>0.2</th>\n",
       "      <td>21328</td>\n",
       "      <td>3459</td>\n",
       "    </tr>\n",
       "    <tr>\n",
       "      <th>2</th>\n",
       "      <th>0.2</th>\n",
       "      <td>21216</td>\n",
       "      <td>3435</td>\n",
       "    </tr>\n",
       "    <tr>\n",
       "      <th>3</th>\n",
       "      <th>0.2</th>\n",
       "      <td>20816</td>\n",
       "      <td>3398</td>\n",
       "    </tr>\n",
       "    <tr>\n",
       "      <th>4</th>\n",
       "      <th>0.2</th>\n",
       "      <td>21319</td>\n",
       "      <td>3414</td>\n",
       "    </tr>\n",
       "    <tr>\n",
       "      <th>...</th>\n",
       "      <th>...</th>\n",
       "      <td>...</td>\n",
       "      <td>...</td>\n",
       "    </tr>\n",
       "    <tr>\n",
       "      <th>95</th>\n",
       "      <th>0.2</th>\n",
       "      <td>21089</td>\n",
       "      <td>3431</td>\n",
       "    </tr>\n",
       "    <tr>\n",
       "      <th>96</th>\n",
       "      <th>0.2</th>\n",
       "      <td>20842</td>\n",
       "      <td>3388</td>\n",
       "    </tr>\n",
       "    <tr>\n",
       "      <th>97</th>\n",
       "      <th>0.2</th>\n",
       "      <td>21176</td>\n",
       "      <td>3479</td>\n",
       "    </tr>\n",
       "    <tr>\n",
       "      <th>98</th>\n",
       "      <th>0.2</th>\n",
       "      <td>21303</td>\n",
       "      <td>3359</td>\n",
       "    </tr>\n",
       "    <tr>\n",
       "      <th>99</th>\n",
       "      <th>0.2</th>\n",
       "      <td>21085</td>\n",
       "      <td>3374</td>\n",
       "    </tr>\n",
       "  </tbody>\n",
       "</table>\n",
       "<p>100 rows × 2 columns</p>\n",
       "</div>"
      ],
      "text/plain": [
       "              cum_infections  cum_deaths\n",
       "seed p_death                            \n",
       "0    0.2               20918        3383\n",
       "1    0.2               21328        3459\n",
       "2    0.2               21216        3435\n",
       "3    0.2               20816        3398\n",
       "4    0.2               21319        3414\n",
       "...                      ...         ...\n",
       "95   0.2               21089        3431\n",
       "96   0.2               20842        3388\n",
       "97   0.2               21176        3479\n",
       "98   0.2               21303        3359\n",
       "99   0.2               21085        3374\n",
       "\n",
       "[100 rows x 2 columns]"
      ]
     },
     "execution_count": 10,
     "metadata": {},
     "output_type": "execute_result"
    }
   ],
   "source": [
    "# Load the samples\n",
    "res = ss.Samples('results/0.2.zip')\n",
    "res.summary"
   ]
  },
  {
   "cell_type": "markdown",
   "id": "3190c64f",
   "metadata": {},
   "source": [
    "When the `Samples` file was created, a dictionary of scalars was provided for each result. These are automatically used to populate a 'summary' dataframe, where each identifier (and the seed) are used as the index, and the remaining keys appear as columns, as shown above. As a shortcut, columns of the summary dataframe can be accessed by indexing the `Samples` object directly, without having to access the `.summary` attribute e.g.,"
   ]
  },
  {
   "cell_type": "code",
   "execution_count": 11,
   "id": "dccfc9be",
   "metadata": {
    "ExecuteTime": {
     "end_time": "2023-12-13T00:08:34.814248Z",
     "start_time": "2023-12-13T00:08:34.729334Z"
    }
   },
   "outputs": [
    {
     "data": {
      "text/plain": [
       "seed  p_death\n",
       "0     0.2        20918\n",
       "1     0.2        21328\n",
       "2     0.2        21216\n",
       "3     0.2        20816\n",
       "4     0.2        21319\n",
       "                 ...  \n",
       "95    0.2        21089\n",
       "96    0.2        20842\n",
       "97    0.2        21176\n",
       "98    0.2        21303\n",
       "99    0.2        21085\n",
       "Name: cum_infections, Length: 100, dtype: int64"
      ]
     },
     "execution_count": 11,
     "metadata": {},
     "output_type": "execute_result"
    }
   ],
   "source": [
    "res['cum_infections']"
   ]
  },
  {
   "cell_type": "markdown",
   "id": "dd3ed7f2",
   "metadata": {},
   "source": [
    "Each simulation is uniquely identified by its seed, and the time series dataframe for each simulation can be accessed by indexing the `Samples` object with the seed:"
   ]
  },
  {
   "cell_type": "code",
   "execution_count": 12,
   "id": "f099ecb5",
   "metadata": {
    "ExecuteTime": {
     "end_time": "2023-12-13T00:08:34.910070Z",
     "start_time": "2023-12-13T00:08:34.815766Z"
    }
   },
   "outputs": [
    {
     "data": {
      "text/html": [
       "<div>\n",
       "<style scoped>\n",
       "    .dataframe tbody tr th:only-of-type {\n",
       "        vertical-align: middle;\n",
       "    }\n",
       "\n",
       "    .dataframe tbody tr th {\n",
       "        vertical-align: top;\n",
       "    }\n",
       "\n",
       "    .dataframe thead th {\n",
       "        text-align: right;\n",
       "    }\n",
       "</style>\n",
       "<table border=\"1\" class=\"dataframe\">\n",
       "  <thead>\n",
       "    <tr style=\"text-align: right;\">\n",
       "      <th></th>\n",
       "      <th>n_alive</th>\n",
       "      <th>new_deaths</th>\n",
       "      <th>sir.n_susceptible</th>\n",
       "      <th>sir.n_infected</th>\n",
       "      <th>sir.n_recovered</th>\n",
       "      <th>sir.prevalence</th>\n",
       "      <th>sir.new_infections</th>\n",
       "    </tr>\n",
       "    <tr>\n",
       "      <th>t</th>\n",
       "      <th></th>\n",
       "      <th></th>\n",
       "      <th></th>\n",
       "      <th></th>\n",
       "      <th></th>\n",
       "      <th></th>\n",
       "      <th></th>\n",
       "    </tr>\n",
       "  </thead>\n",
       "  <tbody>\n",
       "    <tr>\n",
       "      <th>1995.0</th>\n",
       "      <td>10000</td>\n",
       "      <td>0</td>\n",
       "      <td>9983</td>\n",
       "      <td>17</td>\n",
       "      <td>0</td>\n",
       "      <td>0.001700</td>\n",
       "      <td>17</td>\n",
       "    </tr>\n",
       "    <tr>\n",
       "      <th>1996.0</th>\n",
       "      <td>10000</td>\n",
       "      <td>0</td>\n",
       "      <td>9901</td>\n",
       "      <td>99</td>\n",
       "      <td>0</td>\n",
       "      <td>0.009900</td>\n",
       "      <td>82</td>\n",
       "    </tr>\n",
       "    <tr>\n",
       "      <th>1997.0</th>\n",
       "      <td>10000</td>\n",
       "      <td>0</td>\n",
       "      <td>9356</td>\n",
       "      <td>644</td>\n",
       "      <td>0</td>\n",
       "      <td>0.064400</td>\n",
       "      <td>560</td>\n",
       "    </tr>\n",
       "    <tr>\n",
       "      <th>1998.0</th>\n",
       "      <td>10000</td>\n",
       "      <td>0</td>\n",
       "      <td>6799</td>\n",
       "      <td>3200</td>\n",
       "      <td>1</td>\n",
       "      <td>0.320000</td>\n",
       "      <td>2998</td>\n",
       "    </tr>\n",
       "    <tr>\n",
       "      <th>1999.0</th>\n",
       "      <td>9997</td>\n",
       "      <td>3</td>\n",
       "      <td>1423</td>\n",
       "      <td>8570</td>\n",
       "      <td>4</td>\n",
       "      <td>0.857257</td>\n",
       "      <td>10891</td>\n",
       "    </tr>\n",
       "    <tr>\n",
       "      <th>2000.0</th>\n",
       "      <td>9994</td>\n",
       "      <td>3</td>\n",
       "      <td>57</td>\n",
       "      <td>9916</td>\n",
       "      <td>21</td>\n",
       "      <td>0.992195</td>\n",
       "      <td>6083</td>\n",
       "    </tr>\n",
       "    <tr>\n",
       "      <th>2001.0</th>\n",
       "      <td>9959</td>\n",
       "      <td>35</td>\n",
       "      <td>1</td>\n",
       "      <td>9807</td>\n",
       "      <td>151</td>\n",
       "      <td>0.984737</td>\n",
       "      <td>281</td>\n",
       "    </tr>\n",
       "    <tr>\n",
       "      <th>2002.0</th>\n",
       "      <td>9783</td>\n",
       "      <td>176</td>\n",
       "      <td>0</td>\n",
       "      <td>9039</td>\n",
       "      <td>744</td>\n",
       "      <td>0.923950</td>\n",
       "      <td>6</td>\n",
       "    </tr>\n",
       "    <tr>\n",
       "      <th>2003.0</th>\n",
       "      <td>9298</td>\n",
       "      <td>485</td>\n",
       "      <td>0</td>\n",
       "      <td>7002</td>\n",
       "      <td>2296</td>\n",
       "      <td>0.753065</td>\n",
       "      <td>0</td>\n",
       "    </tr>\n",
       "    <tr>\n",
       "      <th>2004.0</th>\n",
       "      <td>8327</td>\n",
       "      <td>971</td>\n",
       "      <td>0</td>\n",
       "      <td>3840</td>\n",
       "      <td>4487</td>\n",
       "      <td>0.461150</td>\n",
       "      <td>0</td>\n",
       "    </tr>\n",
       "    <tr>\n",
       "      <th>2005.0</th>\n",
       "      <td>7330</td>\n",
       "      <td>997</td>\n",
       "      <td>0</td>\n",
       "      <td>1261</td>\n",
       "      <td>6069</td>\n",
       "      <td>0.172033</td>\n",
       "      <td>0</td>\n",
       "    </tr>\n",
       "    <tr>\n",
       "      <th>2006.0</th>\n",
       "      <td>6805</td>\n",
       "      <td>525</td>\n",
       "      <td>0</td>\n",
       "      <td>228</td>\n",
       "      <td>6577</td>\n",
       "      <td>0.033505</td>\n",
       "      <td>0</td>\n",
       "    </tr>\n",
       "    <tr>\n",
       "      <th>2007.0</th>\n",
       "      <td>6634</td>\n",
       "      <td>171</td>\n",
       "      <td>0</td>\n",
       "      <td>23</td>\n",
       "      <td>6611</td>\n",
       "      <td>0.003467</td>\n",
       "      <td>0</td>\n",
       "    </tr>\n",
       "    <tr>\n",
       "      <th>2008.0</th>\n",
       "      <td>6617</td>\n",
       "      <td>17</td>\n",
       "      <td>0</td>\n",
       "      <td>0</td>\n",
       "      <td>6617</td>\n",
       "      <td>0.000000</td>\n",
       "      <td>0</td>\n",
       "    </tr>\n",
       "    <tr>\n",
       "      <th>2009.0</th>\n",
       "      <td>6617</td>\n",
       "      <td>0</td>\n",
       "      <td>0</td>\n",
       "      <td>0</td>\n",
       "      <td>6617</td>\n",
       "      <td>0.000000</td>\n",
       "      <td>0</td>\n",
       "    </tr>\n",
       "    <tr>\n",
       "      <th>2010.0</th>\n",
       "      <td>6617</td>\n",
       "      <td>0</td>\n",
       "      <td>0</td>\n",
       "      <td>0</td>\n",
       "      <td>6617</td>\n",
       "      <td>0.000000</td>\n",
       "      <td>0</td>\n",
       "    </tr>\n",
       "    <tr>\n",
       "      <th>2011.0</th>\n",
       "      <td>6617</td>\n",
       "      <td>0</td>\n",
       "      <td>0</td>\n",
       "      <td>0</td>\n",
       "      <td>6617</td>\n",
       "      <td>0.000000</td>\n",
       "      <td>0</td>\n",
       "    </tr>\n",
       "    <tr>\n",
       "      <th>2012.0</th>\n",
       "      <td>6617</td>\n",
       "      <td>0</td>\n",
       "      <td>0</td>\n",
       "      <td>0</td>\n",
       "      <td>6617</td>\n",
       "      <td>0.000000</td>\n",
       "      <td>0</td>\n",
       "    </tr>\n",
       "    <tr>\n",
       "      <th>2013.0</th>\n",
       "      <td>6617</td>\n",
       "      <td>0</td>\n",
       "      <td>0</td>\n",
       "      <td>0</td>\n",
       "      <td>6617</td>\n",
       "      <td>0.000000</td>\n",
       "      <td>0</td>\n",
       "    </tr>\n",
       "    <tr>\n",
       "      <th>2014.0</th>\n",
       "      <td>6617</td>\n",
       "      <td>0</td>\n",
       "      <td>0</td>\n",
       "      <td>0</td>\n",
       "      <td>6617</td>\n",
       "      <td>0.000000</td>\n",
       "      <td>0</td>\n",
       "    </tr>\n",
       "    <tr>\n",
       "      <th>2015.0</th>\n",
       "      <td>6617</td>\n",
       "      <td>0</td>\n",
       "      <td>0</td>\n",
       "      <td>0</td>\n",
       "      <td>6617</td>\n",
       "      <td>0.000000</td>\n",
       "      <td>0</td>\n",
       "    </tr>\n",
       "    <tr>\n",
       "      <th>2016.0</th>\n",
       "      <td>6617</td>\n",
       "      <td>0</td>\n",
       "      <td>0</td>\n",
       "      <td>0</td>\n",
       "      <td>6617</td>\n",
       "      <td>0.000000</td>\n",
       "      <td>0</td>\n",
       "    </tr>\n",
       "    <tr>\n",
       "      <th>2017.0</th>\n",
       "      <td>6617</td>\n",
       "      <td>0</td>\n",
       "      <td>0</td>\n",
       "      <td>0</td>\n",
       "      <td>6617</td>\n",
       "      <td>0.000000</td>\n",
       "      <td>0</td>\n",
       "    </tr>\n",
       "    <tr>\n",
       "      <th>2018.0</th>\n",
       "      <td>6617</td>\n",
       "      <td>0</td>\n",
       "      <td>0</td>\n",
       "      <td>0</td>\n",
       "      <td>6617</td>\n",
       "      <td>0.000000</td>\n",
       "      <td>0</td>\n",
       "    </tr>\n",
       "    <tr>\n",
       "      <th>2019.0</th>\n",
       "      <td>6617</td>\n",
       "      <td>0</td>\n",
       "      <td>0</td>\n",
       "      <td>0</td>\n",
       "      <td>6617</td>\n",
       "      <td>0.000000</td>\n",
       "      <td>0</td>\n",
       "    </tr>\n",
       "    <tr>\n",
       "      <th>2020.0</th>\n",
       "      <td>6617</td>\n",
       "      <td>0</td>\n",
       "      <td>0</td>\n",
       "      <td>0</td>\n",
       "      <td>6617</td>\n",
       "      <td>0.000000</td>\n",
       "      <td>0</td>\n",
       "    </tr>\n",
       "    <tr>\n",
       "      <th>2021.0</th>\n",
       "      <td>6617</td>\n",
       "      <td>0</td>\n",
       "      <td>0</td>\n",
       "      <td>0</td>\n",
       "      <td>6617</td>\n",
       "      <td>0.000000</td>\n",
       "      <td>0</td>\n",
       "    </tr>\n",
       "    <tr>\n",
       "      <th>2022.0</th>\n",
       "      <td>6617</td>\n",
       "      <td>0</td>\n",
       "      <td>0</td>\n",
       "      <td>0</td>\n",
       "      <td>6617</td>\n",
       "      <td>0.000000</td>\n",
       "      <td>0</td>\n",
       "    </tr>\n",
       "    <tr>\n",
       "      <th>2023.0</th>\n",
       "      <td>6617</td>\n",
       "      <td>0</td>\n",
       "      <td>0</td>\n",
       "      <td>0</td>\n",
       "      <td>6617</td>\n",
       "      <td>0.000000</td>\n",
       "      <td>0</td>\n",
       "    </tr>\n",
       "    <tr>\n",
       "      <th>2024.0</th>\n",
       "      <td>6617</td>\n",
       "      <td>0</td>\n",
       "      <td>0</td>\n",
       "      <td>0</td>\n",
       "      <td>6617</td>\n",
       "      <td>0.000000</td>\n",
       "      <td>0</td>\n",
       "    </tr>\n",
       "    <tr>\n",
       "      <th>2025.0</th>\n",
       "      <td>6617</td>\n",
       "      <td>0</td>\n",
       "      <td>0</td>\n",
       "      <td>0</td>\n",
       "      <td>6617</td>\n",
       "      <td>0.000000</td>\n",
       "      <td>0</td>\n",
       "    </tr>\n",
       "    <tr>\n",
       "      <th>2026.0</th>\n",
       "      <td>6617</td>\n",
       "      <td>0</td>\n",
       "      <td>0</td>\n",
       "      <td>0</td>\n",
       "      <td>6617</td>\n",
       "      <td>0.000000</td>\n",
       "      <td>0</td>\n",
       "    </tr>\n",
       "    <tr>\n",
       "      <th>2027.0</th>\n",
       "      <td>6617</td>\n",
       "      <td>0</td>\n",
       "      <td>0</td>\n",
       "      <td>0</td>\n",
       "      <td>6617</td>\n",
       "      <td>0.000000</td>\n",
       "      <td>0</td>\n",
       "    </tr>\n",
       "    <tr>\n",
       "      <th>2028.0</th>\n",
       "      <td>6617</td>\n",
       "      <td>0</td>\n",
       "      <td>0</td>\n",
       "      <td>0</td>\n",
       "      <td>6617</td>\n",
       "      <td>0.000000</td>\n",
       "      <td>0</td>\n",
       "    </tr>\n",
       "    <tr>\n",
       "      <th>2029.0</th>\n",
       "      <td>6617</td>\n",
       "      <td>0</td>\n",
       "      <td>0</td>\n",
       "      <td>0</td>\n",
       "      <td>6617</td>\n",
       "      <td>0.000000</td>\n",
       "      <td>0</td>\n",
       "    </tr>\n",
       "    <tr>\n",
       "      <th>2030.0</th>\n",
       "      <td>6617</td>\n",
       "      <td>0</td>\n",
       "      <td>0</td>\n",
       "      <td>0</td>\n",
       "      <td>6617</td>\n",
       "      <td>0.000000</td>\n",
       "      <td>0</td>\n",
       "    </tr>\n",
       "  </tbody>\n",
       "</table>\n",
       "</div>"
      ],
      "text/plain": [
       "        n_alive  new_deaths  sir.n_susceptible  sir.n_infected  \\\n",
       "t                                                                \n",
       "1995.0    10000           0               9983              17   \n",
       "1996.0    10000           0               9901              99   \n",
       "1997.0    10000           0               9356             644   \n",
       "1998.0    10000           0               6799            3200   \n",
       "1999.0     9997           3               1423            8570   \n",
       "2000.0     9994           3                 57            9916   \n",
       "2001.0     9959          35                  1            9807   \n",
       "2002.0     9783         176                  0            9039   \n",
       "2003.0     9298         485                  0            7002   \n",
       "2004.0     8327         971                  0            3840   \n",
       "2005.0     7330         997                  0            1261   \n",
       "2006.0     6805         525                  0             228   \n",
       "2007.0     6634         171                  0              23   \n",
       "2008.0     6617          17                  0               0   \n",
       "2009.0     6617           0                  0               0   \n",
       "2010.0     6617           0                  0               0   \n",
       "2011.0     6617           0                  0               0   \n",
       "2012.0     6617           0                  0               0   \n",
       "2013.0     6617           0                  0               0   \n",
       "2014.0     6617           0                  0               0   \n",
       "2015.0     6617           0                  0               0   \n",
       "2016.0     6617           0                  0               0   \n",
       "2017.0     6617           0                  0               0   \n",
       "2018.0     6617           0                  0               0   \n",
       "2019.0     6617           0                  0               0   \n",
       "2020.0     6617           0                  0               0   \n",
       "2021.0     6617           0                  0               0   \n",
       "2022.0     6617           0                  0               0   \n",
       "2023.0     6617           0                  0               0   \n",
       "2024.0     6617           0                  0               0   \n",
       "2025.0     6617           0                  0               0   \n",
       "2026.0     6617           0                  0               0   \n",
       "2027.0     6617           0                  0               0   \n",
       "2028.0     6617           0                  0               0   \n",
       "2029.0     6617           0                  0               0   \n",
       "2030.0     6617           0                  0               0   \n",
       "\n",
       "        sir.n_recovered  sir.prevalence  sir.new_infections  \n",
       "t                                                            \n",
       "1995.0                0        0.001700                  17  \n",
       "1996.0                0        0.009900                  82  \n",
       "1997.0                0        0.064400                 560  \n",
       "1998.0                1        0.320000                2998  \n",
       "1999.0                4        0.857257               10891  \n",
       "2000.0               21        0.992195                6083  \n",
       "2001.0              151        0.984737                 281  \n",
       "2002.0              744        0.923950                   6  \n",
       "2003.0             2296        0.753065                   0  \n",
       "2004.0             4487        0.461150                   0  \n",
       "2005.0             6069        0.172033                   0  \n",
       "2006.0             6577        0.033505                   0  \n",
       "2007.0             6611        0.003467                   0  \n",
       "2008.0             6617        0.000000                   0  \n",
       "2009.0             6617        0.000000                   0  \n",
       "2010.0             6617        0.000000                   0  \n",
       "2011.0             6617        0.000000                   0  \n",
       "2012.0             6617        0.000000                   0  \n",
       "2013.0             6617        0.000000                   0  \n",
       "2014.0             6617        0.000000                   0  \n",
       "2015.0             6617        0.000000                   0  \n",
       "2016.0             6617        0.000000                   0  \n",
       "2017.0             6617        0.000000                   0  \n",
       "2018.0             6617        0.000000                   0  \n",
       "2019.0             6617        0.000000                   0  \n",
       "2020.0             6617        0.000000                   0  \n",
       "2021.0             6617        0.000000                   0  \n",
       "2022.0             6617        0.000000                   0  \n",
       "2023.0             6617        0.000000                   0  \n",
       "2024.0             6617        0.000000                   0  \n",
       "2025.0             6617        0.000000                   0  \n",
       "2026.0             6617        0.000000                   0  \n",
       "2027.0             6617        0.000000                   0  \n",
       "2028.0             6617        0.000000                   0  \n",
       "2029.0             6617        0.000000                   0  \n",
       "2030.0             6617        0.000000                   0  "
      ]
     },
     "execution_count": 12,
     "metadata": {},
     "output_type": "execute_result"
    }
   ],
   "source": [
    "res[0]"
   ]
  },
  {
   "cell_type": "markdown",
   "id": "7fc05e17",
   "metadata": {
    "ExecuteTime": {
     "end_time": "2023-12-12T06:40:57.169056Z",
     "start_time": "2023-12-12T06:40:57.085765Z"
    }
   },
   "source": [
    "The dataframes in the `Samples` object are cached, so that the dataframes don't all need to be loaded in order to start working with the file. The first time a dataframe is accessed, it will be loaded from disk. Subsequent requests for the dataframe will return a cached version instead. The cached dataframe is copied each time it is retrieved, to prevent accidentally modifying the original data. "
   ]
  },
  {
   "cell_type": "markdown",
   "id": "03158247",
   "metadata": {},
   "source": [
    "## Common analysis operations\n",
    "\n",
    "Here are some examples of common analyses that can be performed using functionality in the `Samples` class\n",
    "\n",
    "### Plotting summary quantities\n",
    "\n",
    "Often it's useful to be able plot distributions of summary quantities, such as the total infections. This can be performed by directly indexing the `Samples` object and then using the appropriate plotting command:"
   ]
  },
  {
   "cell_type": "code",
   "execution_count": 13,
   "id": "a6046327",
   "metadata": {
    "ExecuteTime": {
     "end_time": "2023-12-13T00:08:35.128826Z",
     "start_time": "2023-12-13T00:08:34.911082Z"
    }
   },
   "outputs": [
    {
     "data": {
      "text/plain": [
       "Text(0, 0.5, 'Probability density')"
      ]
     },
     "execution_count": 13,
     "metadata": {},
     "output_type": "execute_result"
    },
    {
     "data": {
      "image/png": "[encoded data removed]",
      "text/plain": [
       "<Figure size 640x480 with 1 Axes>"
      ]
     },
     "metadata": {},
     "output_type": "display_data"
    }
   ],
   "source": [
    "plt.hist(res['cum_infections'], density=True)\n",
    "\n",
    "plt.xlabel('Total infections')\n",
    "plt.ylabel('Probability density')"
   ]
  },
  {
   "cell_type": "markdown",
   "id": "d835a88a",
   "metadata": {
    "ExecuteTime": {
     "end_time": "2022-11-04T03:28:30.297315Z",
     "start_time": "2022-11-04T03:28:30.291805Z"
    }
   },
   "source": [
    "### Plotting time series\n",
    "\n",
    "Time series plots can be obtained by accessing the dataframes associated with each seed, and then plotting quantities from those. For convenience, iterating over the `Samples` object will automatically iterate over all of the dataframes associated with each seed. For example:"
   ]
  },
  {
   "cell_type": "code",
   "execution_count": 14,
   "id": "d32537aa",
   "metadata": {
    "ExecuteTime": {
     "end_time": "2023-12-13T00:08:35.486486Z",
     "start_time": "2023-12-13T00:08:35.129834Z"
    }
   },
   "outputs": [
    {
     "data": {
      "image/png": "[encoded data removed]",
      "text/plain": [
       "<Figure size 640x480 with 1 Axes>"
      ]
     },
     "metadata": {},
     "output_type": "display_data"
    }
   ],
   "source": [
    "for df in res:\n",
    "    plt.plot(df['sir.new_infections'], color='b', alpha=0.1)"
   ]
  },
  {
   "cell_type": "markdown",
   "id": "cd5526f0",
   "metadata": {},
   "source": [
    "### Other ways to access content\n",
    "\n",
    "We have seen so far that we can use\n",
    "\n",
    "- `res.summary` - retrieve dataframe of summary outputs\n",
    "- `res[summary_column]` - retrieve a column of the summary dataframe\n",
    "- `res[seed]` - retrieve the time series dataframe associated with one of the simulations\n",
    "- `for df in res` - iterate over time series dataframes\n",
    "\n",
    "Sometimes it is useful to have access to both the summary dictionary and the time series dataframe associated with a single sample. These can be accessed using the `get` method, which takes in a seed, and returns both outputs for that seed together:"
   ]
  },
  {
   "cell_type": "code",
   "execution_count": 15,
   "id": "b62a6fce",
   "metadata": {
    "ExecuteTime": {
     "end_time": "2023-12-13T00:08:35.576214Z",
     "start_time": "2023-12-13T00:08:35.487967Z"
    }
   },
   "outputs": [
    {
     "data": {
      "text/plain": [
       "(#0. 'p_death':        0.2\n",
       " #1. 'cum_infections': 20918.0\n",
       " #2. 'cum_deaths':     3383.0,\n",
       "         n_alive  new_deaths  sir.n_susceptible  sir.n_infected  \\\n",
       " t                                                                \n",
       " 1995.0    10000           0               9983              17   \n",
       " 1996.0    10000           0               9901              99   \n",
       " 1997.0    10000           0               9356             644   \n",
       " 1998.0    10000           0               6799            3200   \n",
       " 1999.0     9997           3               1423            8570   \n",
       " 2000.0     9994           3                 57            9916   \n",
       " 2001.0     9959          35                  1            9807   \n",
       " 2002.0     9783         176                  0            9039   \n",
       " 2003.0     9298         485                  0            7002   \n",
       " 2004.0     8327         971                  0            3840   \n",
       " 2005.0     7330         997                  0            1261   \n",
       " 2006.0     6805         525                  0             228   \n",
       " 2007.0     6634         171                  0              23   \n",
       " 2008.0     6617          17                  0               0   \n",
       " 2009.0     6617           0                  0               0   \n",
       " 2010.0     6617           0                  0               0   \n",
       " 2011.0     6617           0                  0               0   \n",
       " 2012.0     6617           0                  0               0   \n",
       " 2013.0     6617           0                  0               0   \n",
       " 2014.0     6617           0                  0               0   \n",
       " 2015.0     6617           0                  0               0   \n",
       " 2016.0     6617           0                  0               0   \n",
       " 2017.0     6617           0                  0               0   \n",
       " 2018.0     6617           0                  0               0   \n",
       " 2019.0     6617           0                  0               0   \n",
       " 2020.0     6617           0                  0               0   \n",
       " 2021.0     6617           0                  0               0   \n",
       " 2022.0     6617           0                  0               0   \n",
       " 2023.0     6617           0                  0               0   \n",
       " 2024.0     6617           0                  0               0   \n",
       " 2025.0     6617           0                  0               0   \n",
       " 2026.0     6617           0                  0               0   \n",
       " 2027.0     6617           0                  0               0   \n",
       " 2028.0     6617           0                  0               0   \n",
       " 2029.0     6617           0                  0               0   \n",
       " 2030.0     6617           0                  0               0   \n",
       " \n",
       "         sir.n_recovered  sir.prevalence  sir.new_infections  \n",
       " t                                                            \n",
       " 1995.0                0        0.001700                  17  \n",
       " 1996.0                0        0.009900                  82  \n",
       " 1997.0                0        0.064400                 560  \n",
       " 1998.0                1        0.320000                2998  \n",
       " 1999.0                4        0.857257               10891  \n",
       " 2000.0               21        0.992195                6083  \n",
       " 2001.0              151        0.984737                 281  \n",
       " 2002.0              744        0.923950                   6  \n",
       " 2003.0             2296        0.753065                   0  \n",
       " 2004.0             4487        0.461150                   0  \n",
       " 2005.0             6069        0.172033                   0  \n",
       " 2006.0             6577        0.033505                   0  \n",
       " 2007.0             6611        0.003467                   0  \n",
       " 2008.0             6617        0.000000                   0  \n",
       " 2009.0             6617        0.000000                   0  \n",
       " 2010.0             6617        0.000000                   0  \n",
       " 2011.0             6617        0.000000                   0  \n",
       " 2012.0             6617        0.000000                   0  \n",
       " 2013.0             6617        0.000000                   0  \n",
       " 2014.0             6617        0.000000                   0  \n",
       " 2015.0             6617        0.000000                   0  \n",
       " 2016.0             6617        0.000000                   0  \n",
       " 2017.0             6617        0.000000                   0  \n",
       " 2018.0             6617        0.000000                   0  \n",
       " 2019.0             6617        0.000000                   0  \n",
       " 2020.0             6617        0.000000                   0  \n",
       " 2021.0             6617        0.000000                   0  \n",
       " 2022.0             6617        0.000000                   0  \n",
       " 2023.0             6617        0.000000                   0  \n",
       " 2024.0             6617        0.000000                   0  \n",
       " 2025.0             6617        0.000000                   0  \n",
       " 2026.0             6617        0.000000                   0  \n",
       " 2027.0             6617        0.000000                   0  \n",
       " 2028.0             6617        0.000000                   0  \n",
       " 2029.0             6617        0.000000                   0  \n",
       " 2030.0             6617        0.000000                   0  )"
      ]
     },
     "execution_count": 15,
     "metadata": {},
     "output_type": "execute_result"
    }
   ],
   "source": [
    "res.get(0) # Retrieve both summary quantities and dataframes"
   ]
  },
  {
   "cell_type": "markdown",
   "id": "f86f1e63",
   "metadata": {},
   "source": [
    "In the same way that it is possible to index the `Samples` object directly in order to retrieve columns from the summary dataframe, it is also possible to directly index the `Samples` object to get a column of the time series dataframe. In this case, pass a tuple of items to the `Samples` object, where the first item is the seed, and the second is a column from the time series dataframe. For example:"
   ]
  },
  {
   "cell_type": "code",
   "execution_count": 16,
   "id": "43490da2",
   "metadata": {
    "ExecuteTime": {
     "end_time": "2023-12-13T00:08:35.663806Z",
     "start_time": "2023-12-13T00:08:35.577224Z"
    }
   },
   "outputs": [
    {
     "data": {
      "text/plain": [
       "t\n",
       "1995.0      17\n",
       "1996.0      99\n",
       "1997.0     644\n",
       "1998.0    3200\n",
       "1999.0    8570\n",
       "2000.0    9916\n",
       "2001.0    9807\n",
       "2002.0    9039\n",
       "2003.0    7002\n",
       "2004.0    3840\n",
       "2005.0    1261\n",
       "2006.0     228\n",
       "2007.0      23\n",
       "2008.0       0\n",
       "2009.0       0\n",
       "2010.0       0\n",
       "2011.0       0\n",
       "2012.0       0\n",
       "2013.0       0\n",
       "2014.0       0\n",
       "2015.0       0\n",
       "2016.0       0\n",
       "2017.0       0\n",
       "2018.0       0\n",
       "2019.0       0\n",
       "2020.0       0\n",
       "2021.0       0\n",
       "2022.0       0\n",
       "2023.0       0\n",
       "2024.0       0\n",
       "2025.0       0\n",
       "2026.0       0\n",
       "2027.0       0\n",
       "2028.0       0\n",
       "2029.0       0\n",
       "2030.0       0\n",
       "Name: sir.n_infected, dtype: int64"
      ]
     },
     "execution_count": 16,
     "metadata": {},
     "output_type": "execute_result"
    }
   ],
   "source": [
    "res[0,'sir.n_infected'] # Equivalent to `res[0]['sir.n_infected']`"
   ]
  },
  {
   "cell_type": "markdown",
   "id": "aac64af9",
   "metadata": {
    "ExecuteTime": {
     "end_time": "2023-12-12T05:52:09.466183Z",
     "start_time": "2023-12-12T05:52:09.386925Z"
    }
   },
   "source": [
    "### Filtering results"
   ]
  },
  {
   "cell_type": "markdown",
   "id": "30517982",
   "metadata": {},
   "source": [
    "The `.seeds` attribute contains a listing of seeds, which can be helpful for iteration"
   ]
  },
  {
   "cell_type": "code",
   "execution_count": 17,
   "id": "5d21cdd5",
   "metadata": {
    "ExecuteTime": {
     "end_time": "2023-12-13T00:08:35.747936Z",
     "start_time": "2023-12-13T00:08:35.664808Z"
    }
   },
   "outputs": [
    {
     "data": {
      "text/plain": [
       "array([ 0,  1,  2,  3,  4,  5,  6,  7,  8,  9, 10, 11, 12, 13, 14, 15, 16,\n",
       "       17, 18, 19, 20, 21, 22, 23, 24, 25, 26, 27, 28, 29, 30, 31, 32, 33,\n",
       "       34, 35, 36, 37, 38, 39, 40, 41, 42, 43, 44, 45, 46, 47, 48, 49, 50,\n",
       "       51, 52, 53, 54, 55, 56, 57, 58, 59, 60, 61, 62, 63, 64, 65, 66, 67,\n",
       "       68, 69, 70, 71, 72, 73, 74, 75, 76, 77, 78, 79, 80, 81, 82, 83, 84,\n",
       "       85, 86, 87, 88, 89, 90, 91, 92, 93, 94, 95, 96, 97, 98, 99],\n",
       "      dtype=int64)"
      ]
     },
     "execution_count": 17,
     "metadata": {},
     "output_type": "execute_result"
    }
   ],
   "source": [
    "res.seeds"
   ]
  },
  {
   "cell_type": "markdown",
   "id": "0d1a4e7b",
   "metadata": {},
   "source": [
    "The seeds are drawn from the summary dataframe, which defines which seeds are accessible via the `Samples` object. Therefore, you can drop rows from the summary dataframe to filter the results. For example, suppose we only wanted to analyze simulations with over 21000 deaths. We could retrieve a copy of the summary dataframe that only contains matching simulations"
   ]
  },
  {
   "cell_type": "code",
   "execution_count": 18,
   "id": "fa681ac7",
   "metadata": {
    "ExecuteTime": {
     "end_time": "2023-12-13T00:08:35.840960Z",
     "start_time": "2023-12-13T00:08:35.748944Z"
    }
   },
   "outputs": [
    {
     "data": {
      "text/html": [
       "<div>\n",
       "<style scoped>\n",
       "    .dataframe tbody tr th:only-of-type {\n",
       "        vertical-align: middle;\n",
       "    }\n",
       "\n",
       "    .dataframe tbody tr th {\n",
       "        vertical-align: top;\n",
       "    }\n",
       "\n",
       "    .dataframe thead th {\n",
       "        text-align: right;\n",
       "    }\n",
       "</style>\n",
       "<table border=\"1\" class=\"dataframe\">\n",
       "  <thead>\n",
       "    <tr style=\"text-align: right;\">\n",
       "      <th></th>\n",
       "      <th></th>\n",
       "      <th>cum_infections</th>\n",
       "      <th>cum_deaths</th>\n",
       "    </tr>\n",
       "    <tr>\n",
       "      <th>seed</th>\n",
       "      <th>p_death</th>\n",
       "      <th></th>\n",
       "      <th></th>\n",
       "    </tr>\n",
       "  </thead>\n",
       "  <tbody>\n",
       "    <tr>\n",
       "      <th>1</th>\n",
       "      <th>0.2</th>\n",
       "      <td>21328</td>\n",
       "      <td>3459</td>\n",
       "    </tr>\n",
       "    <tr>\n",
       "      <th>2</th>\n",
       "      <th>0.2</th>\n",
       "      <td>21216</td>\n",
       "      <td>3435</td>\n",
       "    </tr>\n",
       "    <tr>\n",
       "      <th>4</th>\n",
       "      <th>0.2</th>\n",
       "      <td>21319</td>\n",
       "      <td>3414</td>\n",
       "    </tr>\n",
       "    <tr>\n",
       "      <th>5</th>\n",
       "      <th>0.2</th>\n",
       "      <td>21001</td>\n",
       "      <td>3377</td>\n",
       "    </tr>\n",
       "    <tr>\n",
       "      <th>7</th>\n",
       "      <th>0.2</th>\n",
       "      <td>21020</td>\n",
       "      <td>3515</td>\n",
       "    </tr>\n",
       "    <tr>\n",
       "      <th>12</th>\n",
       "      <th>0.2</th>\n",
       "      <td>21286</td>\n",
       "      <td>3442</td>\n",
       "    </tr>\n",
       "    <tr>\n",
       "      <th>16</th>\n",
       "      <th>0.2</th>\n",
       "      <td>21326</td>\n",
       "      <td>3481</td>\n",
       "    </tr>\n",
       "    <tr>\n",
       "      <th>18</th>\n",
       "      <th>0.2</th>\n",
       "      <td>21227</td>\n",
       "      <td>3361</td>\n",
       "    </tr>\n",
       "    <tr>\n",
       "      <th>19</th>\n",
       "      <th>0.2</th>\n",
       "      <td>21119</td>\n",
       "      <td>3454</td>\n",
       "    </tr>\n",
       "    <tr>\n",
       "      <th>22</th>\n",
       "      <th>0.2</th>\n",
       "      <td>21269</td>\n",
       "      <td>3445</td>\n",
       "    </tr>\n",
       "    <tr>\n",
       "      <th>24</th>\n",
       "      <th>0.2</th>\n",
       "      <td>21387</td>\n",
       "      <td>3393</td>\n",
       "    </tr>\n",
       "    <tr>\n",
       "      <th>25</th>\n",
       "      <th>0.2</th>\n",
       "      <td>21306</td>\n",
       "      <td>3484</td>\n",
       "    </tr>\n",
       "    <tr>\n",
       "      <th>26</th>\n",
       "      <th>0.2</th>\n",
       "      <td>21084</td>\n",
       "      <td>3466</td>\n",
       "    </tr>\n",
       "    <tr>\n",
       "      <th>27</th>\n",
       "      <th>0.2</th>\n",
       "      <td>21036</td>\n",
       "      <td>3491</td>\n",
       "    </tr>\n",
       "    <tr>\n",
       "      <th>28</th>\n",
       "      <th>0.2</th>\n",
       "      <td>21070</td>\n",
       "      <td>3480</td>\n",
       "    </tr>\n",
       "    <tr>\n",
       "      <th>31</th>\n",
       "      <th>0.2</th>\n",
       "      <td>21046</td>\n",
       "      <td>3514</td>\n",
       "    </tr>\n",
       "    <tr>\n",
       "      <th>32</th>\n",
       "      <th>0.2</th>\n",
       "      <td>21223</td>\n",
       "      <td>3459</td>\n",
       "    </tr>\n",
       "    <tr>\n",
       "      <th>33</th>\n",
       "      <th>0.2</th>\n",
       "      <td>21002</td>\n",
       "      <td>3439</td>\n",
       "    </tr>\n",
       "    <tr>\n",
       "      <th>36</th>\n",
       "      <th>0.2</th>\n",
       "      <td>21162</td>\n",
       "      <td>3489</td>\n",
       "    </tr>\n",
       "    <tr>\n",
       "      <th>42</th>\n",
       "      <th>0.2</th>\n",
       "      <td>21174</td>\n",
       "      <td>3502</td>\n",
       "    </tr>\n",
       "    <tr>\n",
       "      <th>44</th>\n",
       "      <th>0.2</th>\n",
       "      <td>21099</td>\n",
       "      <td>3371</td>\n",
       "    </tr>\n",
       "    <tr>\n",
       "      <th>46</th>\n",
       "      <th>0.2</th>\n",
       "      <td>21410</td>\n",
       "      <td>3436</td>\n",
       "    </tr>\n",
       "    <tr>\n",
       "      <th>47</th>\n",
       "      <th>0.2</th>\n",
       "      <td>21023</td>\n",
       "      <td>3425</td>\n",
       "    </tr>\n",
       "    <tr>\n",
       "      <th>50</th>\n",
       "      <th>0.2</th>\n",
       "      <td>21152</td>\n",
       "      <td>3395</td>\n",
       "    </tr>\n",
       "    <tr>\n",
       "      <th>51</th>\n",
       "      <th>0.2</th>\n",
       "      <td>21025</td>\n",
       "      <td>3464</td>\n",
       "    </tr>\n",
       "    <tr>\n",
       "      <th>52</th>\n",
       "      <th>0.2</th>\n",
       "      <td>21172</td>\n",
       "      <td>3381</td>\n",
       "    </tr>\n",
       "    <tr>\n",
       "      <th>53</th>\n",
       "      <th>0.2</th>\n",
       "      <td>21007</td>\n",
       "      <td>3394</td>\n",
       "    </tr>\n",
       "    <tr>\n",
       "      <th>54</th>\n",
       "      <th>0.2</th>\n",
       "      <td>21052</td>\n",
       "      <td>3474</td>\n",
       "    </tr>\n",
       "    <tr>\n",
       "      <th>57</th>\n",
       "      <th>0.2</th>\n",
       "      <td>21089</td>\n",
       "      <td>3457</td>\n",
       "    </tr>\n",
       "    <tr>\n",
       "      <th>58</th>\n",
       "      <th>0.2</th>\n",
       "      <td>21381</td>\n",
       "      <td>3505</td>\n",
       "    </tr>\n",
       "    <tr>\n",
       "      <th>61</th>\n",
       "      <th>0.2</th>\n",
       "      <td>21282</td>\n",
       "      <td>3468</td>\n",
       "    </tr>\n",
       "    <tr>\n",
       "      <th>64</th>\n",
       "      <th>0.2</th>\n",
       "      <td>21110</td>\n",
       "      <td>3414</td>\n",
       "    </tr>\n",
       "    <tr>\n",
       "      <th>66</th>\n",
       "      <th>0.2</th>\n",
       "      <td>21111</td>\n",
       "      <td>3516</td>\n",
       "    </tr>\n",
       "    <tr>\n",
       "      <th>67</th>\n",
       "      <th>0.2</th>\n",
       "      <td>21170</td>\n",
       "      <td>3429</td>\n",
       "    </tr>\n",
       "    <tr>\n",
       "      <th>70</th>\n",
       "      <th>0.2</th>\n",
       "      <td>21009</td>\n",
       "      <td>3441</td>\n",
       "    </tr>\n",
       "    <tr>\n",
       "      <th>71</th>\n",
       "      <th>0.2</th>\n",
       "      <td>21259</td>\n",
       "      <td>3533</td>\n",
       "    </tr>\n",
       "    <tr>\n",
       "      <th>72</th>\n",
       "      <th>0.2</th>\n",
       "      <td>21078</td>\n",
       "      <td>3376</td>\n",
       "    </tr>\n",
       "    <tr>\n",
       "      <th>73</th>\n",
       "      <th>0.2</th>\n",
       "      <td>21035</td>\n",
       "      <td>3390</td>\n",
       "    </tr>\n",
       "    <tr>\n",
       "      <th>74</th>\n",
       "      <th>0.2</th>\n",
       "      <td>21329</td>\n",
       "      <td>3431</td>\n",
       "    </tr>\n",
       "    <tr>\n",
       "      <th>75</th>\n",
       "      <th>0.2</th>\n",
       "      <td>21048</td>\n",
       "      <td>3430</td>\n",
       "    </tr>\n",
       "    <tr>\n",
       "      <th>76</th>\n",
       "      <th>0.2</th>\n",
       "      <td>21135</td>\n",
       "      <td>3387</td>\n",
       "    </tr>\n",
       "    <tr>\n",
       "      <th>78</th>\n",
       "      <th>0.2</th>\n",
       "      <td>21152</td>\n",
       "      <td>3482</td>\n",
       "    </tr>\n",
       "    <tr>\n",
       "      <th>79</th>\n",
       "      <th>0.2</th>\n",
       "      <td>21011</td>\n",
       "      <td>3395</td>\n",
       "    </tr>\n",
       "    <tr>\n",
       "      <th>80</th>\n",
       "      <th>0.2</th>\n",
       "      <td>21056</td>\n",
       "      <td>3481</td>\n",
       "    </tr>\n",
       "    <tr>\n",
       "      <th>88</th>\n",
       "      <th>0.2</th>\n",
       "      <td>21043</td>\n",
       "      <td>3386</td>\n",
       "    </tr>\n",
       "    <tr>\n",
       "      <th>89</th>\n",
       "      <th>0.2</th>\n",
       "      <td>21054</td>\n",
       "      <td>3512</td>\n",
       "    </tr>\n",
       "    <tr>\n",
       "      <th>92</th>\n",
       "      <th>0.2</th>\n",
       "      <td>21109</td>\n",
       "      <td>3427</td>\n",
       "    </tr>\n",
       "    <tr>\n",
       "      <th>93</th>\n",
       "      <th>0.2</th>\n",
       "      <td>21028</td>\n",
       "      <td>3357</td>\n",
       "    </tr>\n",
       "    <tr>\n",
       "      <th>94</th>\n",
       "      <th>0.2</th>\n",
       "      <td>21489</td>\n",
       "      <td>3522</td>\n",
       "    </tr>\n",
       "    <tr>\n",
       "      <th>95</th>\n",
       "      <th>0.2</th>\n",
       "      <td>21089</td>\n",
       "      <td>3431</td>\n",
       "    </tr>\n",
       "    <tr>\n",
       "      <th>97</th>\n",
       "      <th>0.2</th>\n",
       "      <td>21176</td>\n",
       "      <td>3479</td>\n",
       "    </tr>\n",
       "    <tr>\n",
       "      <th>98</th>\n",
       "      <th>0.2</th>\n",
       "      <td>21303</td>\n",
       "      <td>3359</td>\n",
       "    </tr>\n",
       "    <tr>\n",
       "      <th>99</th>\n",
       "      <th>0.2</th>\n",
       "      <td>21085</td>\n",
       "      <td>3374</td>\n",
       "    </tr>\n",
       "  </tbody>\n",
       "</table>\n",
       "</div>"
      ],
      "text/plain": [
       "              cum_infections  cum_deaths\n",
       "seed p_death                            \n",
       "1    0.2               21328        3459\n",
       "2    0.2               21216        3435\n",
       "4    0.2               21319        3414\n",
       "5    0.2               21001        3377\n",
       "7    0.2               21020        3515\n",
       "12   0.2               21286        3442\n",
       "16   0.2               21326        3481\n",
       "18   0.2               21227        3361\n",
       "19   0.2               21119        3454\n",
       "22   0.2               21269        3445\n",
       "24   0.2               21387        3393\n",
       "25   0.2               21306        3484\n",
       "26   0.2               21084        3466\n",
       "27   0.2               21036        3491\n",
       "28   0.2               21070        3480\n",
       "31   0.2               21046        3514\n",
       "32   0.2               21223        3459\n",
       "33   0.2               21002        3439\n",
       "36   0.2               21162        3489\n",
       "42   0.2               21174        3502\n",
       "44   0.2               21099        3371\n",
       "46   0.2               21410        3436\n",
       "47   0.2               21023        3425\n",
       "50   0.2               21152        3395\n",
       "51   0.2               21025        3464\n",
       "52   0.2               21172        3381\n",
       "53   0.2               21007        3394\n",
       "54   0.2               21052        3474\n",
       "57   0.2               21089        3457\n",
       "58   0.2               21381        3505\n",
       "61   0.2               21282        3468\n",
       "64   0.2               21110        3414\n",
       "66   0.2               21111        3516\n",
       "67   0.2               21170        3429\n",
       "70   0.2               21009        3441\n",
       "71   0.2               21259        3533\n",
       "72   0.2               21078        3376\n",
       "73   0.2               21035        3390\n",
       "74   0.2               21329        3431\n",
       "75   0.2               21048        3430\n",
       "76   0.2               21135        3387\n",
       "78   0.2               21152        3482\n",
       "79   0.2               21011        3395\n",
       "80   0.2               21056        3481\n",
       "88   0.2               21043        3386\n",
       "89   0.2               21054        3512\n",
       "92   0.2               21109        3427\n",
       "93   0.2               21028        3357\n",
       "94   0.2               21489        3522\n",
       "95   0.2               21089        3431\n",
       "97   0.2               21176        3479\n",
       "98   0.2               21303        3359\n",
       "99   0.2               21085        3374"
      ]
     },
     "execution_count": 18,
     "metadata": {},
     "output_type": "execute_result"
    }
   ],
   "source": [
    "res.summary.loc[res['cum_infections']>21000]"
   ]
  },
  {
   "cell_type": "markdown",
   "id": "bf389992",
   "metadata": {},
   "source": [
    "We can then make a copy of the results and write the reduced summary dataframe back to that object"
   ]
  },
  {
   "cell_type": "code",
   "execution_count": 19,
   "id": "b549a4d1",
   "metadata": {
    "ExecuteTime": {
     "end_time": "2023-12-13T00:08:35.924998Z",
     "start_time": "2023-12-13T00:08:35.841968Z"
    }
   },
   "outputs": [],
   "source": [
    "res2 = res.copy()\n",
    "res2.summary = res.summary.loc[res['cum_infections']>21000]"
   ]
  },
  {
   "cell_type": "markdown",
   "id": "deab560f",
   "metadata": {},
   "source": [
    "<div class=\"alert alert-warning\">    \n",
    "Unlike <code>sc.dcp()</code>, copying using the <code>.copy()</code> method only deep copies the summary dataframe. It does not duplicate the time series dataframes or the cache. For <code>Samples</code> objects, it is therefore generally preferable to use <code>.copy()</code>.\n",
    "</div>\n",
    "\n",
    "\n",
    "Now notice that there are fewer samples, and the seeds have been filtered"
   ]
  },
  {
   "cell_type": "code",
   "execution_count": 20,
   "id": "079fa1cb",
   "metadata": {
    "ExecuteTime": {
     "end_time": "2023-12-13T00:08:36.008522Z",
     "start_time": "2023-12-13T00:08:35.926127Z"
    }
   },
   "outputs": [
    {
     "data": {
      "text/plain": [
       "100"
      ]
     },
     "execution_count": 20,
     "metadata": {},
     "output_type": "execute_result"
    }
   ],
   "source": [
    "len(res)"
   ]
  },
  {
   "cell_type": "code",
   "execution_count": 21,
   "id": "d9afd951",
   "metadata": {
    "ExecuteTime": {
     "end_time": "2023-12-13T00:08:36.095226Z",
     "start_time": "2023-12-13T00:08:36.009529Z"
    }
   },
   "outputs": [
    {
     "data": {
      "text/plain": [
       "53"
      ]
     },
     "execution_count": 21,
     "metadata": {},
     "output_type": "execute_result"
    }
   ],
   "source": [
    "len(res2)"
   ]
  },
  {
   "cell_type": "code",
   "execution_count": 22,
   "id": "bc4e0cb0",
   "metadata": {
    "ExecuteTime": {
     "end_time": "2023-12-13T00:08:36.179891Z",
     "start_time": "2023-12-13T00:08:36.096735Z"
    }
   },
   "outputs": [
    {
     "data": {
      "text/plain": [
       "array([ 1,  2,  4,  5,  7, 12, 16, 18, 19, 22, 24, 25, 26, 27, 28, 31, 32,\n",
       "       33, 36, 42, 44, 46, 47, 50, 51, 52, 53, 54, 57, 58, 61, 64, 66, 67,\n",
       "       70, 71, 72, 73, 74, 75, 76, 78, 79, 80, 88, 89, 92, 93, 94, 95, 97,\n",
       "       98, 99], dtype=int64)"
      ]
     },
     "execution_count": 22,
     "metadata": {},
     "output_type": "execute_result"
    }
   ],
   "source": [
    "res2.seeds"
   ]
  },
  {
   "cell_type": "code",
   "execution_count": 23,
   "id": "c56e4b99",
   "metadata": {
    "ExecuteTime": {
     "end_time": "2023-12-13T00:08:36.456006Z",
     "start_time": "2023-12-13T00:08:36.180900Z"
    }
   },
   "outputs": [
    {
     "data": {
      "text/plain": [
       "Text(0, 0.5, 'Probability density')"
      ]
     },
     "execution_count": 23,
     "metadata": {},
     "output_type": "execute_result"
    },
    {
     "data": {
      "image/png": "[encoded data removed]",
      "text/plain": [
       "<Figure size 640x480 with 1 Axes>"
      ]
     },
     "metadata": {},
     "output_type": "display_data"
    }
   ],
   "source": [
    "plt.hist(res2['cum_infections'], density=True)\n",
    "plt.xlabel('Total infections')\n",
    "plt.ylabel('Probability density')"
   ]
  },
  {
   "cell_type": "markdown",
   "id": "d7f6fa32",
   "metadata": {},
   "source": [
    "### Applying functions and transformations"
   ]
  },
  {
   "cell_type": "markdown",
   "id": "2db66a27",
   "metadata": {},
   "source": [
    "Sometimes it might be necessary to calculate quantities that are derived from the time series dataframes. These could be simple scalar values, such as totals or averages that had not been computed ahead of time, or extracting values from each simulation at a particular point in time. As an alternative to writing a loop that iterates over the seeds, the `.apply()` method takes in a function and maps it to every dataframe. This makes it quick to construct lists or arrays with scalar values extracted from the time series. For example, suppose we wanted to extract the peak number of people infected from each simulation:"
   ]
  },
  {
   "cell_type": "code",
   "execution_count": 24,
   "id": "0058bc80",
   "metadata": {
    "ExecuteTime": {
     "end_time": "2023-12-13T00:08:36.558061Z",
     "start_time": "2023-12-13T00:08:36.457017Z"
    },
    "scrolled": false
   },
   "outputs": [
    {
     "data": {
      "text/plain": [
       "[9916,\n",
       " 9871,\n",
       " 9856,\n",
       " 9921,\n",
       " 9867,\n",
       " 9906,\n",
       " 9921,\n",
       " 9915,\n",
       " 9902,\n",
       " 9885,\n",
       " 9865,\n",
       " 9889,\n",
       " 9860,\n",
       " 9883,\n",
       " 9888,\n",
       " 9882,\n",
       " 9869,\n",
       " 9892,\n",
       " 9847,\n",
       " 9876,\n",
       " 9892,\n",
       " 9901,\n",
       " 9844,\n",
       " 9897,\n",
       " 9840,\n",
       " 9864,\n",
       " 9907,\n",
       " 9862,\n",
       " 9902,\n",
       " 9915,\n",
       " 9902,\n",
       " 9903,\n",
       " 9874,\n",
       " 9879,\n",
       " 9900,\n",
       " 9905,\n",
       " 9870,\n",
       " 9912,\n",
       " 9912,\n",
       " 9895,\n",
       " 9924,\n",
       " 9918,\n",
       " 9899,\n",
       " 9888,\n",
       " 9899,\n",
       " 9905,\n",
       " 9864,\n",
       " 9898,\n",
       " 9894,\n",
       " 9925,\n",
       " 9867,\n",
       " 9911,\n",
       " 9910,\n",
       " 9906,\n",
       " 9886,\n",
       " 9911,\n",
       " 9899,\n",
       " 9839,\n",
       " 9843,\n",
       " 9859,\n",
       " 9915,\n",
       " 9883,\n",
       " 9917,\n",
       " 9889,\n",
       " 9883,\n",
       " 9910,\n",
       " 9886,\n",
       " 9887,\n",
       " 9912,\n",
       " 9886,\n",
       " 9897,\n",
       " 9883,\n",
       " 9889,\n",
       " 9913,\n",
       " 9863,\n",
       " 9891,\n",
       " 9879,\n",
       " 9895,\n",
       " 9879,\n",
       " 9885,\n",
       " 9879,\n",
       " 9888,\n",
       " 9920,\n",
       " 9902,\n",
       " 9866,\n",
       " 9898,\n",
       " 9909,\n",
       " 9901,\n",
       " 9917,\n",
       " 9909,\n",
       " 9896,\n",
       " 9909,\n",
       " 9885,\n",
       " 9895,\n",
       " 9887,\n",
       " 9908,\n",
       " 9920,\n",
       " 9912,\n",
       " 9858,\n",
       " 9884]"
      ]
     },
     "execution_count": 24,
     "metadata": {},
     "output_type": "execute_result"
    }
   ],
   "source": [
    "peak_infections = lambda df: df['sir.n_infected'].max()\n",
    "res.apply(peak_infections)"
   ]
  },
  {
   "cell_type": "markdown",
   "id": "6f5aa81e",
   "metadata": {},
   "source": [
    "## Options when loading"
   ]
  },
  {
   "cell_type": "markdown",
   "id": "d16372f7",
   "metadata": {
    "ExecuteTime": {
     "end_time": "2022-11-04T04:16:36.673767Z",
     "start_time": "2022-11-04T04:16:36.663612Z"
    }
   },
   "source": [
    "There are two options available when loading that can change how the `Samples` class interacts with the file on disk:\n",
    "\n",
    "- `memory_buffer` - copy the entire file into memory. This prevents the file from being locked on disk and allows scripts to be re-run and results regenerated while still running the analysis notebook. This defaults to `True` for convenience, but loading the entire file into memory can be problematic if the file is large (e.g., >1GB) in which case setting `memory_buffer=False` may be preferable\n",
    "- `preload` - Populate the cache in one step. This facilitates interactive usage of the analysis notebook by making the runtime of analysis functions predictable (since all results will be retrieved from the cache) at the expense of a long initial load time\n",
    "\n"
   ]
  },
  {
   "cell_type": "markdown",
   "id": "2c5c8ac8",
   "metadata": {},
   "source": [
    "### Implementation details\n",
    "\n",
    "If the file is loaded from a memory buffer, the `._zipfile` attribute will be populated. A helper property `.zipfile` is used to access the buffer, so if caching is not used, `.zipfile` returns the actual file on disk rather than the buffer"
   ]
  },
  {
   "cell_type": "code",
   "execution_count": 25,
   "id": "f6367719",
   "metadata": {
    "ExecuteTime": {
     "end_time": "2023-12-13T00:08:36.645773Z",
     "start_time": "2023-12-13T00:08:36.559068Z"
    }
   },
   "outputs": [
    {
     "name": "stdout",
     "output_type": "stream",
     "text": [
      "<zipfile.ZipFile file=<_io.BytesIO object at 0x0000023319172890> mode='r'>\n",
      "<zipfile.ZipFile file=<_io.BytesIO object at 0x0000023319172890> mode='r'>\n"
     ]
    }
   ],
   "source": [
    "res = ss.Samples('results/0.2.zip', memory_buffer=True) # Copy the entire file into memory\n",
    "print(res._zipfile)\n",
    "print(res.zipfile)"
   ]
  },
  {
   "cell_type": "code",
   "execution_count": 26,
   "id": "fbd4fb3c",
   "metadata": {
    "ExecuteTime": {
     "end_time": "2023-12-13T00:08:36.734138Z",
     "start_time": "2023-12-13T00:08:36.647029Z"
    }
   },
   "outputs": [
    {
     "name": "stdout",
     "output_type": "stream",
     "text": [
      "None\n",
      "<zipfile.ZipFile filename='results/0.2.zip' mode='r'>\n"
     ]
    }
   ],
   "source": [
    "res = ss.Samples('results/0.2.zip', memory_buffer=False) # Copy the entire file into memory\n",
    "print(res._zipfile)\n",
    "print(res.zipfile)"
   ]
  },
  {
   "cell_type": "markdown",
   "id": "91d30dab",
   "metadata": {},
   "source": [
    "The dataframes associated with the individual dataframes are cached on access, so `pd.read_csv()` only needs to be called once. The cache starts out empty:"
   ]
  },
  {
   "cell_type": "code",
   "execution_count": 27,
   "id": "fe31688a",
   "metadata": {
    "ExecuteTime": {
     "end_time": "2023-12-13T00:08:36.817855Z",
     "start_time": "2023-12-13T00:08:36.735141Z"
    }
   },
   "outputs": [
    {
     "data": {
      "text/plain": [
       "{}"
      ]
     },
     "execution_count": 27,
     "metadata": {},
     "output_type": "execute_result"
    }
   ],
   "source": [
    "res._cache"
   ]
  },
  {
   "cell_type": "markdown",
   "id": "bf8dce1c",
   "metadata": {},
   "source": [
    "When a dataframe is accessed, it is automatically stored in the cache:"
   ]
  },
  {
   "cell_type": "code",
   "execution_count": 28,
   "id": "22d47e19",
   "metadata": {
    "ExecuteTime": {
     "end_time": "2023-12-13T00:08:36.906391Z",
     "start_time": "2023-12-13T00:08:36.821866Z"
    }
   },
   "outputs": [
    {
     "data": {
      "text/plain": [
       "dict_keys([0])"
      ]
     },
     "execution_count": 28,
     "metadata": {},
     "output_type": "execute_result"
    }
   ],
   "source": [
    "res[0]\n",
    "res._cache.keys()"
   ]
  },
  {
   "cell_type": "markdown",
   "id": "d3956645",
   "metadata": {},
   "source": [
    "This means that iterating through the dataframes the first time can be slow (but in general, iterating over all dataframes is avoided in favour of either only using summary outputs, or accessing a subset of the runs)"
   ]
  },
  {
   "cell_type": "code",
   "execution_count": 29,
   "id": "a9132ae0",
   "metadata": {
    "ExecuteTime": {
     "end_time": "2023-12-13T00:08:37.158462Z",
     "start_time": "2023-12-13T00:08:36.907393Z"
    }
   },
   "outputs": [
    {
     "name": "stdout",
     "output_type": "stream",
     "text": [
      "Elapsed time: 0.163 s\n"
     ]
    }
   ],
   "source": [
    "with sc.Timer():\n",
    "    for df in res:\n",
    "        continue"
   ]
  },
  {
   "cell_type": "code",
   "execution_count": 30,
   "id": "81ebdccf",
   "metadata": {
    "ExecuteTime": {
     "end_time": "2023-12-13T00:08:37.250697Z",
     "start_time": "2023-12-13T00:08:37.159471Z"
    }
   },
   "outputs": [
    {
     "name": "stdout",
     "output_type": "stream",
     "text": [
      "Elapsed time: 8.16 ms\n"
     ]
    }
   ],
   "source": [
    "with sc.Timer():\n",
    "    for df in res:\n",
    "        continue"
   ]
  },
  {
   "cell_type": "markdown",
   "id": "6a0a035e",
   "metadata": {},
   "source": [
    "The `preload` option populates the entire cache in advance:"
   ]
  },
  {
   "cell_type": "code",
   "execution_count": 31,
   "id": "44299bd4",
   "metadata": {
    "ExecuteTime": {
     "end_time": "2023-12-13T00:08:37.433268Z",
     "start_time": "2023-12-13T00:08:37.251707Z"
    }
   },
   "outputs": [],
   "source": [
    "res = ss.Samples('results/0.2.zip', preload=True)"
   ]
  },
  {
   "cell_type": "code",
   "execution_count": 32,
   "id": "6e74db09",
   "metadata": {
    "ExecuteTime": {
     "end_time": "2023-12-13T00:08:37.529343Z",
     "start_time": "2023-12-13T00:08:37.433268Z"
    }
   },
   "outputs": [
    {
     "name": "stdout",
     "output_type": "stream",
     "text": [
      "Elapsed time: 10.5 ms\n"
     ]
    }
   ],
   "source": [
    "with sc.Timer():\n",
    "    for df in res:\n",
    "        continue"
   ]
  },
  {
   "cell_type": "code",
   "execution_count": 33,
   "id": "74eeaf7c",
   "metadata": {
    "ExecuteTime": {
     "end_time": "2023-12-13T00:08:37.621661Z",
     "start_time": "2023-12-13T00:08:37.530350Z"
    }
   },
   "outputs": [
    {
     "name": "stdout",
     "output_type": "stream",
     "text": [
      "Elapsed time: 8.98 ms\n"
     ]
    }
   ],
   "source": [
    "with sc.Timer():\n",
    "    for df in res:\n",
    "        continue"
   ]
  },
  {
   "cell_type": "markdown",
   "id": "96d759ee",
   "metadata": {},
   "source": [
    "Together, these options provide some flexibility in terms of memory and time demands to suit analyses at various different scales."
   ]
  },
  {
   "cell_type": "markdown",
   "id": "29342ea6",
   "metadata": {},
   "source": [
    "## Running scenarios"
   ]
  },
  {
   "cell_type": "markdown",
   "id": "4684ab33",
   "metadata": {},
   "source": [
    "Suppose we wanted to compare a range of different `p_death` values and `initial` values (initial number of infections). We might define these runs as"
   ]
  },
  {
   "cell_type": "code",
   "execution_count": 34,
   "id": "424640f2",
   "metadata": {
    "ExecuteTime": {
     "end_time": "2023-12-13T00:08:37.704407Z",
     "start_time": "2023-12-13T00:08:37.622669Z"
    }
   },
   "outputs": [],
   "source": [
    "initials = np.arange(1,4)\n",
    "p_deaths = np.arange(0,1,0.25)"
   ]
  },
  {
   "cell_type": "markdown",
   "id": "97d9a8ef",
   "metadata": {},
   "source": [
    "Recall that our `run_sim()` function had an argument for `p_death`. We can extend this to include the `initial` parameter too. We can actually generalize this further by passing the parameters as keyword arguments to avoid needing to hard-code all of them. Note that we also need to add the `initial` value to the summary outputs:"
   ]
  },
  {
   "cell_type": "code",
   "execution_count": 35,
   "id": "1e019266",
   "metadata": {
    "ExecuteTime": {
     "end_time": "2023-12-13T00:08:37.792743Z",
     "start_time": "2023-12-13T00:08:37.704916Z"
    }
   },
   "outputs": [],
   "source": [
    "def get_sim(seed, **kwargs):\n",
    "    ppl = ss.People(10000)\n",
    "    ppl.networks = ss.ndict(ss.RandomNetwork(n_contacts=ss.poisson(5)))\n",
    "    sir = ss.SIR(pars=kwargs)\n",
    "    sim = ss.Sim(people=ppl, diseases=sir, rand_seed=seed)\n",
    "    sim.initialize(verbose=0)\n",
    "    return sim\n",
    "    \n",
    "def run_sim(seed, **kwargs):\n",
    "    sim = get_sim(seed, **kwargs)\n",
    "    sim.run(verbose=0)\n",
    "    df = sim.export_df()\n",
    "    \n",
    "    summary = {}\n",
    "    summary['seed'] = sim.pars['rand_seed']\n",
    "    summary['p_death']= sim.diseases[0].pars.p_death\n",
    "    summary['initial']= sim.diseases[0].pars.initial\n",
    "    summary['cum_infections'] = sum(sim.results.sir.new_infections)\n",
    "    summary['cum_deaths'] = sum(sim.results.new_deaths)\n",
    "    \n",
    "    return df, summary"
   ]
  },
  {
   "cell_type": "markdown",
   "id": "30809228",
   "metadata": {},
   "source": [
    "We can now easily run a set of scenarios with different values of `p_death` and save each one to a separate `Samples` object. Note that when we create the `Samples` objects now, we also want to specify that `'initial'` is one of the identifiers for the scenarios:"
   ]
  },
  {
   "cell_type": "code",
   "execution_count": 36,
   "id": "b7b7f7a4",
   "metadata": {
    "ExecuteTime": {
     "end_time": "2023-12-13T00:08:37.885696Z",
     "start_time": "2023-12-13T00:08:37.793750Z"
    }
   },
   "outputs": [],
   "source": [
    "# Clear the existing results\n",
    "for file_path in resultsdir.glob('*'):\n",
    "    file_path.unlink()"
   ]
  },
  {
   "cell_type": "code",
   "execution_count": 37,
   "id": "e39838f8",
   "metadata": {
    "ExecuteTime": {
     "end_time": "2023-12-13T00:12:18.031878Z",
     "start_time": "2023-12-13T00:08:37.886704Z"
    }
   },
   "outputs": [],
   "source": [
    "# Run the sweep over initial and p_death\n",
    "n = 100\n",
    "seeds = np.arange(n)\n",
    "for initial in initials:\n",
    "    for p_death in p_deaths:\n",
    "        outputs = [run_sim(seed, initial=initial, p_death=p_death) for seed in seeds]\n",
    "        ss.Samples.new(resultsdir, outputs, [\"p_death\",\"initial\"])"
   ]
  },
  {
   "cell_type": "markdown",
   "id": "bea5ce79",
   "metadata": {},
   "source": [
    "The results folder now contains a collection of saved `Samples` objects. Notice how the automatically selected file names now contain both the `p_death` value and the `initial` value, because they were both specified as identifiers. We can load one of these objects in to see how these identifiers are stored and accessed inside the `Samples` class:"
   ]
  },
  {
   "cell_type": "code",
   "execution_count": 38,
   "id": "d529ec2a",
   "metadata": {
    "ExecuteTime": {
     "end_time": "2023-12-13T00:12:18.118512Z",
     "start_time": "2023-12-13T00:12:18.032888Z"
    }
   },
   "outputs": [
    {
     "data": {
      "text/plain": [
       "[WindowsPath('results/0.0-1.zip'),\n",
       " WindowsPath('results/0.0-2.zip'),\n",
       " WindowsPath('results/0.0-3.zip'),\n",
       " WindowsPath('results/0.25-1.zip'),\n",
       " WindowsPath('results/0.25-2.zip'),\n",
       " WindowsPath('results/0.25-3.zip'),\n",
       " WindowsPath('results/0.5-1.zip'),\n",
       " WindowsPath('results/0.5-2.zip'),\n",
       " WindowsPath('results/0.5-3.zip'),\n",
       " WindowsPath('results/0.75-1.zip'),\n",
       " WindowsPath('results/0.75-2.zip'),\n",
       " WindowsPath('results/0.75-3.zip')]"
      ]
     },
     "execution_count": 38,
     "metadata": {},
     "output_type": "execute_result"
    }
   ],
   "source": [
    "list(resultsdir.iterdir())"
   ]
  },
  {
   "cell_type": "code",
   "execution_count": 39,
   "id": "4da3da95",
   "metadata": {
    "ExecuteTime": {
     "end_time": "2023-12-13T00:12:18.213001Z",
     "start_time": "2023-12-13T00:12:18.119520Z"
    }
   },
   "outputs": [],
   "source": [
    "res = ss.Samples('results/0.25-2.zip')"
   ]
  },
  {
   "cell_type": "markdown",
   "id": "d81af047",
   "metadata": {},
   "source": [
    "The 'id' of a `Samples` object is a dictionary of the identifiers, which makes it easy to access the input parameters associated with a set of scenario runs:"
   ]
  },
  {
   "cell_type": "code",
   "execution_count": 40,
   "id": "47f5745e",
   "metadata": {
    "ExecuteTime": {
     "end_time": "2023-12-13T00:12:18.302774Z",
     "start_time": "2023-12-13T00:12:18.214011Z"
    }
   },
   "outputs": [
    {
     "data": {
      "text/plain": [
       "{'p_death': 0.25, 'initial': 2}"
      ]
     },
     "execution_count": 40,
     "metadata": {},
     "output_type": "execute_result"
    }
   ],
   "source": [
    "res.id"
   ]
  },
  {
   "cell_type": "markdown",
   "id": "f2b85725",
   "metadata": {},
   "source": [
    "The 'identifier' is a tuple of these values, which is suitable for use as a dictionary key. This can be useful for accumulating and comparing variables across scenarios"
   ]
  },
  {
   "cell_type": "code",
   "execution_count": 41,
   "id": "5c9cfef4",
   "metadata": {
    "ExecuteTime": {
     "end_time": "2023-12-13T00:12:18.388399Z",
     "start_time": "2023-12-13T00:12:18.304202Z"
    }
   },
   "outputs": [
    {
     "data": {
      "text/plain": [
       "(0.25, 2)"
      ]
     },
     "execution_count": 41,
     "metadata": {},
     "output_type": "execute_result"
    }
   ],
   "source": [
    "res.identifier"
   ]
  },
  {
   "cell_type": "markdown",
   "id": "2eedb2d2",
   "metadata": {},
   "source": [
    "### Loading multiple scenarios\n",
    "\n",
    "We saw above that we now have a directory full of `.zip` files corresponding to the various scenario runs. These can be accessed using the `Dataset` class, which facilitates accessing multiple instances of `Samples`. We can pass the folder containing the results to the `Dataset` constructor to load them all:"
   ]
  },
  {
   "cell_type": "code",
   "execution_count": 42,
   "id": "66642d87",
   "metadata": {
    "ExecuteTime": {
     "end_time": "2023-12-13T00:12:18.508821Z",
     "start_time": "2023-12-13T00:12:18.390408Z"
    }
   },
   "outputs": [
    {
     "data": {
      "text/plain": [
       "<Dataset:\n",
       "\t'p_death':[0.0, 0.25, 0.5, 0.75]\n",
       "\t'initial':[1, 2, 3]\n",
       ">"
      ]
     },
     "execution_count": 42,
     "metadata": {},
     "output_type": "execute_result"
    }
   ],
   "source": [
    "results = ss.Dataset(resultsdir)\n",
    "results"
   ]
  },
  {
   "cell_type": "markdown",
   "id": "547e4967",
   "metadata": {
    "ExecuteTime": {
     "end_time": "2023-12-12T07:26:22.069091Z",
     "start_time": "2023-12-12T07:26:21.983317Z"
    }
   },
   "source": [
    "The `.ids` attribute lists all of the values available across scenarios in the results folder:"
   ]
  },
  {
   "cell_type": "code",
   "execution_count": 43,
   "id": "611887ba",
   "metadata": {
    "ExecuteTime": {
     "end_time": "2023-12-13T00:12:18.595783Z",
     "start_time": "2023-12-13T00:12:18.509828Z"
    }
   },
   "outputs": [
    {
     "data": {
      "text/plain": [
       "{'p_death': [0.0, 0.25, 0.5, 0.75], 'initial': [1, 2, 3]}"
      ]
     },
     "execution_count": 43,
     "metadata": {},
     "output_type": "execute_result"
    }
   ],
   "source": [
    "results.ids"
   ]
  },
  {
   "cell_type": "markdown",
   "id": "eb68bd9e",
   "metadata": {
    "ExecuteTime": {
     "end_time": "2023-12-12T07:26:53.295223Z",
     "start_time": "2023-12-12T07:26:53.213055Z"
    }
   },
   "source": [
    "The individual results can be accessed by indexing the `Dataset` instance using the values of the identifiers. For example:"
   ]
  },
  {
   "cell_type": "code",
   "execution_count": 44,
   "id": "1a336b48",
   "metadata": {
    "ExecuteTime": {
     "end_time": "2023-12-13T00:12:18.683920Z",
     "start_time": "2023-12-13T00:12:18.596793Z"
    }
   },
   "outputs": [
    {
     "data": {
      "text/plain": [
       "<Samples 0.25-2, 100 seeds>"
      ]
     },
     "execution_count": 44,
     "metadata": {},
     "output_type": "execute_result"
    }
   ],
   "source": [
    "results[0.25,2]"
   ]
  },
  {
   "cell_type": "markdown",
   "id": "666e9b2b",
   "metadata": {
    "ExecuteTime": {
     "end_time": "2022-11-04T05:42:51.922603Z",
     "start_time": "2022-11-04T05:42:51.907051Z"
    }
   },
   "source": [
    "This indexing operation is sensitive to the order in which the identifiers are specified. The `.get()` method allows you to specify them as key-value pairs"
   ]
  },
  {
   "cell_type": "code",
   "execution_count": 45,
   "id": "c111188f",
   "metadata": {
    "ExecuteTime": {
     "end_time": "2023-12-13T00:12:18.768284Z",
     "start_time": "2023-12-13T00:12:18.684931Z"
    }
   },
   "outputs": [
    {
     "data": {
      "text/plain": [
       "<Samples 0.25-2, 100 seeds>"
      ]
     },
     "execution_count": 45,
     "metadata": {},
     "output_type": "execute_result"
    }
   ],
   "source": [
    "results.get(initial=2, p_death=0.25)"
   ]
  },
  {
   "cell_type": "markdown",
   "id": "6a40f80e",
   "metadata": {},
   "source": [
    "Iterating over the `Dataset` will iterate over the `Samples` instances contained within it"
   ]
  },
  {
   "cell_type": "code",
   "execution_count": 46,
   "id": "d39c115b",
   "metadata": {
    "ExecuteTime": {
     "end_time": "2023-12-13T00:12:18.861872Z",
     "start_time": "2023-12-13T00:12:18.769291Z"
    },
    "scrolled": true
   },
   "outputs": [
    {
     "name": "stdout",
     "output_type": "stream",
     "text": [
      "<Samples 0.0-1, 100 seeds>\n",
      "<Samples 0.0-2, 100 seeds>\n",
      "<Samples 0.0-3, 100 seeds>\n",
      "<Samples 0.25-1, 100 seeds>\n",
      "<Samples 0.25-2, 100 seeds>\n",
      "<Samples 0.25-3, 100 seeds>\n",
      "<Samples 0.5-1, 100 seeds>\n",
      "<Samples 0.5-2, 100 seeds>\n",
      "<Samples 0.5-3, 100 seeds>\n",
      "<Samples 0.75-1, 100 seeds>\n",
      "<Samples 0.75-2, 100 seeds>\n",
      "<Samples 0.75-3, 100 seeds>\n"
     ]
    }
   ],
   "source": [
    "for res in results:\n",
    "    print(res)"
   ]
  },
  {
   "cell_type": "markdown",
   "id": "c59fdbea",
   "metadata": {},
   "source": [
    "This can be used to extract and compare values across scenarios. For example, we could consider the use case of making a plot that compares total deaths across scenarios:"
   ]
  },
  {
   "cell_type": "code",
   "execution_count": 47,
   "id": "ad88fe7f",
   "metadata": {
    "ExecuteTime": {
     "end_time": "2023-12-13T00:12:19.104329Z",
     "start_time": "2023-12-13T00:12:18.862887Z"
    }
   },
   "outputs": [
    {
     "data": {
      "text/plain": [
       "Text(0, 0.5, 'Scenario')"
      ]
     },
     "execution_count": 47,
     "metadata": {},
     "output_type": "execute_result"
    },
    {
     "data": {
      "image/png": "[encoded data removed]",
      "text/plain": [
       "<Figure size 640x480 with 1 Axes>"
      ]
     },
     "metadata": {},
     "output_type": "display_data"
    }
   ],
   "source": [
    "labels = []\n",
    "y = []\n",
    "yerr = []\n",
    "\n",
    "for res in results:\n",
    "    labels.append(res.id)\n",
    "    y.append(res['cum_deaths'].median())\n",
    "\n",
    "plt.barh(np.arange(len(results)),y, tick_label=labels)\n",
    "plt.xlabel('Median total deaths');\n",
    "plt.ylabel('Scenario')"
   ]
  },
  {
   "cell_type": "markdown",
   "id": "cf4695e4",
   "metadata": {
    "ExecuteTime": {
     "end_time": "2022-11-04T05:43:51.106667Z",
     "start_time": "2022-11-04T05:43:51.100669Z"
    }
   },
   "source": [
    "### Filtering scenarios\n",
    "\n",
    "Often plots need to be generated for a subset of scenarios e.g., for sensitivity analysis or to otherwise compare specific scenarios. `Dataset.filter` returns a new `Dataset` containing a subset of the results:"
   ]
  },
  {
   "cell_type": "code",
   "execution_count": 48,
   "id": "0a8ef44e",
   "metadata": {
    "ExecuteTime": {
     "end_time": "2023-12-13T00:12:19.196867Z",
     "start_time": "2023-12-13T00:12:19.105337Z"
    }
   },
   "outputs": [
    {
     "name": "stdout",
     "output_type": "stream",
     "text": [
      "<Samples 0.0-2, 100 seeds>\n",
      "<Samples 0.25-2, 100 seeds>\n",
      "<Samples 0.5-2, 100 seeds>\n",
      "<Samples 0.75-2, 100 seeds>\n"
     ]
    }
   ],
   "source": [
    "for res in results.filter(initial=2):\n",
    "    print(res)"
   ]
  },
  {
   "cell_type": "code",
   "execution_count": 49,
   "id": "98a77347",
   "metadata": {
    "ExecuteTime": {
     "end_time": "2023-12-13T00:12:19.286805Z",
     "start_time": "2023-12-13T00:12:19.197877Z"
    }
   },
   "outputs": [
    {
     "name": "stdout",
     "output_type": "stream",
     "text": [
      "<Samples 0.25-1, 100 seeds>\n",
      "<Samples 0.25-2, 100 seeds>\n",
      "<Samples 0.25-3, 100 seeds>\n"
     ]
    }
   ],
   "source": [
    "for res in results.filter(p_death=0.25):\n",
    "    print(res)"
   ]
  },
  {
   "cell_type": "markdown",
   "id": "9ffafbdd",
   "metadata": {},
   "source": [
    "This is also a quick and efficient operation, so you can easily embed filtering commands inside the analysis to select subsets of the scenarios for plotting and other output generation. For instance:"
   ]
  },
  {
   "cell_type": "code",
   "execution_count": 50,
   "id": "29a19023",
   "metadata": {
    "ExecuteTime": {
     "end_time": "2023-12-13T00:12:19.976933Z",
     "start_time": "2023-12-13T00:12:19.287817Z"
    }
   },
   "outputs": [
    {
     "data": {
      "text/plain": [
       "Text(0, 0.5, 'New deaths')"
      ]
     },
     "execution_count": 50,
     "metadata": {},
     "output_type": "execute_result"
    },
    {
     "data": {
      "image/png": "[encoded data removed]",
      "text/plain": [
       "<Figure size 640x480 with 1 Axes>"
      ]
     },
     "metadata": {},
     "output_type": "display_data"
    }
   ],
   "source": [
    "for res, color in zip(results.filter(initial=2), sc.gridcolors(4)):\n",
    "    plt.plot(res[0].index, np.median([df['new_deaths'] for df in res], axis=0), color=color, label=f'p_death = {res.id[\"p_death\"]}')\n",
    "plt.legend()\n",
    "plt.title('Sensitivity to p_death (initial = 2)')\n",
    "plt.xlabel('Year')\n",
    "plt.ylabel('New deaths')"
   ]
  },
  {
   "cell_type": "code",
   "execution_count": 51,
   "id": "f4c4f21a",
   "metadata": {
    "ExecuteTime": {
     "end_time": "2023-12-13T00:12:20.463641Z",
     "start_time": "2023-12-13T00:12:19.978191Z"
    }
   },
   "outputs": [
    {
     "data": {
      "text/plain": [
       "Text(0, 0.5, 'New deaths')"
      ]
     },
     "execution_count": 51,
     "metadata": {},
     "output_type": "execute_result"
    },
    {
     "data": {
      "image/png": "[encoded data removed]",
      "text/plain": [
       "<Figure size 640x480 with 1 Axes>"
      ]
     },
     "metadata": {},
     "output_type": "display_data"
    }
   ],
   "source": [
    "for res, color in zip(results.filter(p_death=0.25), sc.gridcolors(3)):\n",
    "    plt.plot(res[0].index, np.median([df['new_deaths'] for df in res], axis=0), color=color, label=f'initial = {res.id[\"initial\"]}')\n",
    "plt.legend()\n",
    "plt.title('Sensitivity to initial infections (p_death = 0.25)')\n",
    "plt.xlabel('Year')\n",
    "plt.ylabel('New deaths')"
   ]
  }
 ],
 "metadata": {
  "kernelspec": {
   "display_name": "Python [conda env:gavi-outbreaks]",
   "language": "python",
   "name": "conda-env-gavi-outbreaks-py"
  },
  "language_info": {
   "codemirror_mode": {
    "name": "ipython",
    "version": 3
   },
   "file_extension": ".py",
   "mimetype": "text/x-python",
   "name": "python",
   "nbconvert_exporter": "python",
   "pygments_lexer": "ipython3",
   "version": "3.11.5"
  },
  "toc": {
   "base_numbering": 1,
   "nav_menu": {},
   "number_sections": true,
   "sideBar": true,
   "skip_h1_title": false,
   "title_cell": "Table of Contents",
   "title_sidebar": "Contents",
   "toc_cell": false,
   "toc_position": {
    "height": "calc(100% - 180px)",
    "left": "10px",
    "top": "150px",
    "width": "401.8px"
   },
   "toc_section_display": true,
   "toc_window_display": true
  }
 },
 "nbformat": 4,
 "nbformat_minor": 5
}
