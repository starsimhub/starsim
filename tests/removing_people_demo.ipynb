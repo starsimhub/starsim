{
 "cells": [
  {
   "cell_type": "code",
   "execution_count": 61,
   "id": "55881074",
   "metadata": {
    "ExecuteTime": {
     "end_time": "2023-08-27T07:52:23.276040Z",
     "start_time": "2023-08-27T07:52:23.214481Z"
    }
   },
   "outputs": [
    {
     "name": "stdout",
     "output_type": "stream",
     "text": [
      "The autoreload extension is already loaded. To reload it, use:\n",
      "  %reload_ext autoreload\n"
     ]
    }
   ],
   "source": [
    "%load_ext autoreload\n",
    "%autoreload 2"
   ]
  },
  {
   "cell_type": "code",
   "execution_count": 62,
   "id": "e0e9c76d",
   "metadata": {
    "ExecuteTime": {
     "end_time": "2023-08-27T07:52:32.635817Z",
     "start_time": "2023-08-27T07:52:23.368135Z"
    }
   },
   "outputs": [],
   "source": [
    "import numpy as np\n",
    "from stisim.states import State, DynamicView\n",
    "from removing_people import DynamicPeople"
   ]
  },
  {
   "cell_type": "markdown",
   "id": "c2a30b2c",
   "metadata": {},
   "source": [
    "# Removing people concept"
   ]
  },
  {
   "cell_type": "code",
   "execution_count": 63,
   "id": "4f9a9f0a",
   "metadata": {
    "ExecuteTime": {
     "end_time": "2023-08-27T07:52:32.731409Z",
     "start_time": "2023-08-27T07:52:32.637819Z"
    }
   },
   "outputs": [],
   "source": [
    "x = State('foo', int, 0)\n",
    "z = State('bar', int, lambda n: np.random.randint(1,4,n))\n",
    "\n",
    "p = DynamicPeople(states=[x,z])\n",
    "p.initialize(3)\n"
   ]
  },
  {
   "cell_type": "code",
   "execution_count": 64,
   "id": "84448832",
   "metadata": {
    "ExecuteTime": {
     "end_time": "2023-08-27T07:52:32.890069Z",
     "start_time": "2023-08-27T07:52:32.732410Z"
    }
   },
   "outputs": [
    {
     "data": {
      "text/plain": [
       "     Quantity\n",
       "UID          \n",
       "0           0\n",
       "1           0\n",
       "2           0"
      ]
     },
     "execution_count": 64,
     "metadata": {},
     "output_type": "execute_result"
    }
   ],
   "source": [
    "x"
   ]
  },
  {
   "cell_type": "code",
   "execution_count": 65,
   "id": "a55303a5",
   "metadata": {
    "ExecuteTime": {
     "end_time": "2023-08-27T07:52:32.985662Z",
     "start_time": "2023-08-27T07:52:32.892071Z"
    }
   },
   "outputs": [
    {
     "data": {
      "text/plain": [
       "array([0, 1, 2])"
      ]
     },
     "execution_count": 65,
     "metadata": {},
     "output_type": "execute_result"
    }
   ],
   "source": [
    "x.uid"
   ]
  },
  {
   "cell_type": "code",
   "execution_count": 66,
   "id": "847c58b6",
   "metadata": {
    "ExecuteTime": {
     "end_time": "2023-08-27T07:52:33.081252Z",
     "start_time": "2023-08-27T07:52:32.986663Z"
    }
   },
   "outputs": [
    {
     "data": {
      "text/plain": [
       "array([0, 0, 0])"
      ]
     },
     "execution_count": 66,
     "metadata": {},
     "output_type": "execute_result"
    }
   ],
   "source": [
    "x.values"
   ]
  },
  {
   "cell_type": "code",
   "execution_count": 67,
   "id": "9a8b20a7",
   "metadata": {
    "ExecuteTime": {
     "end_time": "2023-08-27T07:52:33.176334Z",
     "start_time": "2023-08-27T07:52:33.083253Z"
    }
   },
   "outputs": [
    {
     "data": {
      "text/plain": [
       "     Quantity\n",
       "UID          \n",
       "0           2\n",
       "1           2\n",
       "2           2"
      ]
     },
     "execution_count": 67,
     "metadata": {},
     "output_type": "execute_result"
    }
   ],
   "source": [
    "z"
   ]
  },
  {
   "cell_type": "code",
   "execution_count": 68,
   "id": "792d35ae",
   "metadata": {
    "ExecuteTime": {
     "end_time": "2023-08-27T07:52:33.271408Z",
     "start_time": "2023-08-27T07:52:33.177337Z"
    }
   },
   "outputs": [],
   "source": [
    "p.grow(3)"
   ]
  },
  {
   "cell_type": "code",
   "execution_count": 69,
   "id": "b88a5f76",
   "metadata": {
    "ExecuteTime": {
     "end_time": "2023-08-27T07:52:33.365466Z",
     "start_time": "2023-08-27T07:52:33.272412Z"
    }
   },
   "outputs": [
    {
     "data": {
      "text/plain": [
       "     Quantity\n",
       "UID          \n",
       "0           0\n",
       "1           0\n",
       "2           0\n",
       "3           0\n",
       "4           0\n",
       "5           0"
      ]
     },
     "execution_count": 69,
     "metadata": {},
     "output_type": "execute_result"
    }
   ],
   "source": [
    "x"
   ]
  },
  {
   "cell_type": "code",
   "execution_count": 70,
   "id": "b1c11b85",
   "metadata": {
    "ExecuteTime": {
     "end_time": "2023-08-27T07:52:33.460777Z",
     "start_time": "2023-08-27T07:52:33.366472Z"
    }
   },
   "outputs": [
    {
     "data": {
      "text/plain": [
       "     Quantity\n",
       "UID          \n",
       "0           2\n",
       "1           2\n",
       "2           2\n",
       "3           1\n",
       "4           3\n",
       "5           3"
      ]
     },
     "execution_count": 70,
     "metadata": {},
     "output_type": "execute_result"
    }
   ],
   "source": [
    "z"
   ]
  },
  {
   "cell_type": "markdown",
   "id": "77660fc3",
   "metadata": {},
   "source": [
    "## Some indexing operations"
   ]
  },
  {
   "cell_type": "markdown",
   "id": "59f9fd45",
   "metadata": {
    "ExecuteTime": {
     "end_time": "2023-08-21T12:48:48.605111Z",
     "start_time": "2023-08-21T12:48:48.511523Z"
    }
   },
   "source": [
    "Different kinds of indexing\n",
    "\n",
    "- Single index\n",
    "- List/array of indices\n",
    "- Boolean array\n",
    "- Slices"
   ]
  },
  {
   "cell_type": "code",
   "execution_count": 71,
   "id": "e913aa6c",
   "metadata": {
    "ExecuteTime": {
     "end_time": "2023-08-27T07:52:33.570870Z",
     "start_time": "2023-08-27T07:52:33.463781Z"
    }
   },
   "outputs": [
    {
     "data": {
      "text/plain": [
       "     Quantity\n",
       "UID          \n",
       "0           0\n",
       "1           0\n",
       "2          10\n",
       "3          20\n",
       "4           0\n",
       "5           0"
      ]
     },
     "execution_count": 71,
     "metadata": {},
     "output_type": "execute_result"
    }
   ],
   "source": [
    "x[2] = 10\n",
    "x[3] = 20\n",
    "x"
   ]
  },
  {
   "cell_type": "code",
   "execution_count": 72,
   "id": "5c35a118",
   "metadata": {
    "ExecuteTime": {
     "end_time": "2023-08-27T07:52:33.666461Z",
     "start_time": "2023-08-27T07:52:33.571874Z"
    }
   },
   "outputs": [
    {
     "data": {
      "text/plain": [
       "     Quantity\n",
       "UID          \n",
       "0       False\n",
       "1       False\n",
       "2        True\n",
       "3        True\n",
       "4       False\n",
       "5       False"
      ]
     },
     "execution_count": 72,
     "metadata": {},
     "output_type": "execute_result"
    }
   ],
   "source": [
    "x>0"
   ]
  },
  {
   "cell_type": "code",
   "execution_count": 73,
   "id": "913cb48d",
   "metadata": {
    "ExecuteTime": {
     "end_time": "2023-08-27T07:52:33.760057Z",
     "start_time": "2023-08-27T07:52:33.667466Z"
    }
   },
   "outputs": [
    {
     "data": {
      "text/plain": [
       "     Quantity\n",
       "UID          \n",
       "2          10\n",
       "3          20"
      ]
     },
     "execution_count": 73,
     "metadata": {},
     "output_type": "execute_result"
    }
   ],
   "source": [
    "x[x>0]"
   ]
  },
  {
   "cell_type": "code",
   "execution_count": 74,
   "id": "e81d119f",
   "metadata": {
    "ExecuteTime": {
     "end_time": "2023-08-27T07:52:33.856359Z",
     "start_time": "2023-08-27T07:52:33.761060Z"
    }
   },
   "outputs": [
    {
     "data": {
      "text/plain": [
       "     Quantity\n",
       "UID          \n",
       "0           2\n",
       "1           2\n",
       "2           2\n",
       "3           1\n",
       "4           3\n",
       "5           3"
      ]
     },
     "execution_count": 74,
     "metadata": {},
     "output_type": "execute_result"
    }
   ],
   "source": [
    "z"
   ]
  },
  {
   "cell_type": "code",
   "execution_count": 75,
   "id": "bd8d5f08",
   "metadata": {
    "ExecuteTime": {
     "end_time": "2023-08-27T07:52:33.951445Z",
     "start_time": "2023-08-27T07:52:33.857361Z"
    }
   },
   "outputs": [],
   "source": [
    "z+= 1"
   ]
  },
  {
   "cell_type": "code",
   "execution_count": 76,
   "id": "6e12f682",
   "metadata": {
    "ExecuteTime": {
     "end_time": "2023-08-27T07:52:34.047040Z",
     "start_time": "2023-08-27T07:52:33.952446Z"
    }
   },
   "outputs": [
    {
     "data": {
      "text/plain": [
       "     Quantity\n",
       "UID          \n",
       "0           3\n",
       "1           3\n",
       "2           3\n",
       "3           2\n",
       "4           4\n",
       "5           4"
      ]
     },
     "execution_count": 76,
     "metadata": {},
     "output_type": "execute_result"
    }
   ],
   "source": [
    "z"
   ]
  },
  {
   "cell_type": "code",
   "execution_count": 77,
   "id": "736fe673",
   "metadata": {
    "ExecuteTime": {
     "end_time": "2023-08-27T07:52:34.237429Z",
     "start_time": "2023-08-27T07:52:34.048040Z"
    }
   },
   "outputs": [],
   "source": [
    "z[[1,3,5]] += 10"
   ]
  },
  {
   "cell_type": "code",
   "execution_count": 78,
   "id": "72e2dac6",
   "metadata": {
    "ExecuteTime": {
     "end_time": "2023-08-27T07:52:34.333024Z",
     "start_time": "2023-08-27T07:52:34.238434Z"
    }
   },
   "outputs": [
    {
     "data": {
      "text/plain": [
       "     Quantity\n",
       "UID          \n",
       "0           3\n",
       "1          13\n",
       "2           3\n",
       "3          12\n",
       "4           4\n",
       "5          14"
      ]
     },
     "execution_count": 78,
     "metadata": {},
     "output_type": "execute_result"
    }
   ],
   "source": [
    "z"
   ]
  },
  {
   "cell_type": "code",
   "execution_count": 79,
   "id": "33ed3321",
   "metadata": {
    "ExecuteTime": {
     "end_time": "2023-08-27T07:52:34.428007Z",
     "start_time": "2023-08-27T07:52:34.334029Z"
    }
   },
   "outputs": [
    {
     "data": {
      "text/plain": [
       "8.166666666666666"
      ]
     },
     "execution_count": 79,
     "metadata": {},
     "output_type": "execute_result"
    }
   ],
   "source": [
    "#np.mean(z) # Does not work: TypeError: FusedArray.mean() got an unexpected keyword argument 'axis'\n",
    "\n",
    "# Instead use the following:\n",
    "z.mean()"
   ]
  },
  {
   "cell_type": "markdown",
   "id": "ecd921e9",
   "metadata": {},
   "source": [
    "## Removing people"
   ]
  },
  {
   "cell_type": "code",
   "execution_count": 80,
   "id": "f7f43b09",
   "metadata": {
    "ExecuteTime": {
     "end_time": "2023-08-27T07:52:34.521847Z",
     "start_time": "2023-08-27T07:52:34.429009Z"
    }
   },
   "outputs": [
    {
     "data": {
      "text/plain": [
       "     Quantity\n",
       "UID          \n",
       "0           0\n",
       "1           0\n",
       "2          10\n",
       "3          20\n",
       "4           0\n",
       "5           0"
      ]
     },
     "execution_count": 80,
     "metadata": {},
     "output_type": "execute_result"
    }
   ],
   "source": [
    "x"
   ]
  },
  {
   "cell_type": "code",
   "execution_count": 81,
   "id": "e57cd75a",
   "metadata": {
    "ExecuteTime": {
     "end_time": "2023-08-27T07:52:34.615653Z",
     "start_time": "2023-08-27T07:52:34.522851Z"
    }
   },
   "outputs": [],
   "source": [
    "p.remove([0,1])"
   ]
  },
  {
   "cell_type": "code",
   "execution_count": 82,
   "id": "14e7e32a",
   "metadata": {
    "ExecuteTime": {
     "end_time": "2023-08-27T07:52:34.710246Z",
     "start_time": "2023-08-27T07:52:34.616656Z"
    }
   },
   "outputs": [
    {
     "data": {
      "text/plain": [
       "     Quantity\n",
       "UID          \n",
       "2          10\n",
       "3          20\n",
       "4           0\n",
       "5           0"
      ]
     },
     "execution_count": 82,
     "metadata": {},
     "output_type": "execute_result"
    }
   ],
   "source": [
    "x"
   ]
  },
  {
   "cell_type": "code",
   "execution_count": 83,
   "id": "570d1fba",
   "metadata": {
    "ExecuteTime": {
     "end_time": "2023-08-27T07:52:34.804825Z",
     "start_time": "2023-08-27T07:52:34.712250Z"
    }
   },
   "outputs": [],
   "source": [
    "p.remove(2)"
   ]
  },
  {
   "cell_type": "code",
   "execution_count": 84,
   "id": "ae5addd5",
   "metadata": {
    "ExecuteTime": {
     "end_time": "2023-08-27T07:52:34.899575Z",
     "start_time": "2023-08-27T07:52:34.805831Z"
    }
   },
   "outputs": [
    {
     "data": {
      "text/plain": [
       "     Quantity\n",
       "UID          \n",
       "3          20\n",
       "4           0\n",
       "5           0"
      ]
     },
     "execution_count": 84,
     "metadata": {},
     "output_type": "execute_result"
    }
   ],
   "source": [
    "x"
   ]
  },
  {
   "cell_type": "code",
   "execution_count": 85,
   "id": "512eace9",
   "metadata": {
    "ExecuteTime": {
     "end_time": "2023-08-27T07:52:34.993168Z",
     "start_time": "2023-08-27T07:52:34.900580Z"
    }
   },
   "outputs": [
    {
     "data": {
      "text/plain": [
       "20"
      ]
     },
     "execution_count": 85,
     "metadata": {},
     "output_type": "execute_result"
    }
   ],
   "source": [
    "x[3]"
   ]
  },
  {
   "cell_type": "code",
   "execution_count": 86,
   "id": "df7efd24",
   "metadata": {
    "ExecuteTime": {
     "end_time": "2023-08-27T07:52:35.088169Z",
     "start_time": "2023-08-27T07:52:34.994169Z"
    }
   },
   "outputs": [
    {
     "name": "stdout",
     "output_type": "stream",
     "text": [
      "Slicing not supported - slice the .values attribute by index instead e.g., x.values[0:5], not x[0:5]\n"
     ]
    }
   ],
   "source": [
    "try:\n",
    "    x[0:3]\n",
    "except Exception as e:\n",
    "    print(e)"
   ]
  },
  {
   "cell_type": "code",
   "execution_count": 87,
   "id": "8d229b67-02af-4d62-abc7-1f9891c6569b",
   "metadata": {
    "ExecuteTime": {
     "end_time": "2023-08-27T07:52:35.183403Z",
     "start_time": "2023-08-27T07:52:35.089173Z"
    }
   },
   "outputs": [
    {
     "data": {
      "text/plain": [
       "     Quantity\n",
       "UID          \n",
       "3          20\n",
       "4           0\n",
       "5           0"
      ]
     },
     "execution_count": 87,
     "metadata": {},
     "output_type": "execute_result"
    }
   ],
   "source": [
    "x[:]"
   ]
  },
  {
   "cell_type": "code",
   "execution_count": 88,
   "id": "49731174",
   "metadata": {
    "ExecuteTime": {
     "end_time": "2023-08-27T07:52:35.277997Z",
     "start_time": "2023-08-27T07:52:35.184406Z"
    }
   },
   "outputs": [
    {
     "data": {
      "text/plain": [
       "array([20,  0,  0])"
      ]
     },
     "execution_count": 88,
     "metadata": {},
     "output_type": "execute_result"
    }
   ],
   "source": [
    "x.values[0:3]"
   ]
  },
  {
   "cell_type": "markdown",
   "id": "3cd0ba02",
   "metadata": {},
   "source": [
    "## More assignment"
   ]
  },
  {
   "cell_type": "code",
   "execution_count": 89,
   "id": "e95e583d",
   "metadata": {
    "ExecuteTime": {
     "end_time": "2023-08-27T07:59:28.072840Z",
     "start_time": "2023-08-27T07:59:27.972310Z"
    }
   },
   "outputs": [
    {
     "data": {
      "text/plain": [
       "     Quantity\n",
       "UID          \n",
       "3          20\n",
       "4           0\n",
       "5           0"
      ]
     },
     "execution_count": 89,
     "metadata": {},
     "output_type": "execute_result"
    }
   ],
   "source": [
    "x"
   ]
  },
  {
   "cell_type": "code",
   "execution_count": 90,
   "id": "9ec82348",
   "metadata": {
    "ExecuteTime": {
     "end_time": "2023-08-27T07:59:38.631850Z",
     "start_time": "2023-08-27T07:59:38.457716Z"
    }
   },
   "outputs": [
    {
     "data": {
      "text/plain": [
       "     Quantity\n",
       "UID          \n",
       "3          20\n",
       "4           1\n",
       "5           1"
      ]
     },
     "execution_count": 90,
     "metadata": {},
     "output_type": "execute_result"
    }
   ],
   "source": [
    "x[[4,5]] = 1\n",
    "x"
   ]
  },
  {
   "cell_type": "code",
   "execution_count": 91,
   "id": "494850c4",
   "metadata": {
    "ExecuteTime": {
     "end_time": "2023-08-27T07:59:44.621726Z",
     "start_time": "2023-08-27T07:59:44.532559Z"
    }
   },
   "outputs": [
    {
     "data": {
      "text/plain": [
       "     Quantity\n",
       "UID          \n",
       "3          12\n",
       "4           4\n",
       "5          14"
      ]
     },
     "execution_count": 91,
     "metadata": {},
     "output_type": "execute_result"
    }
   ],
   "source": [
    "z"
   ]
  },
  {
   "cell_type": "code",
   "execution_count": 92,
   "id": "294e186f",
   "metadata": {
    "ExecuteTime": {
     "end_time": "2023-08-27T07:59:51.870229Z",
     "start_time": "2023-08-27T07:59:51.778879Z"
    }
   },
   "outputs": [
    {
     "data": {
      "text/plain": [
       "     Quantity\n",
       "UID          \n",
       "3          12\n",
       "4           4\n",
       "5          14"
      ]
     },
     "execution_count": 92,
     "metadata": {},
     "output_type": "execute_result"
    }
   ],
   "source": [
    "x[:] = z\n",
    "x"
   ]
  },
  {
   "cell_type": "code",
   "execution_count": 93,
   "id": "2b425fec",
   "metadata": {
    "ExecuteTime": {
     "end_time": "2023-08-27T08:00:07.523475Z",
     "start_time": "2023-08-27T08:00:07.433599Z"
    }
   },
   "outputs": [
    {
     "data": {
      "text/plain": [
       "     Quantity\n",
       "UID          \n",
       "3           1\n",
       "4           4\n",
       "5          14"
      ]
     },
     "execution_count": 93,
     "metadata": {},
     "output_type": "execute_result"
    }
   ],
   "source": [
    "z[3] = 1\n",
    "z"
   ]
  },
  {
   "cell_type": "code",
   "execution_count": 94,
   "id": "9e8e774a",
   "metadata": {
    "ExecuteTime": {
     "end_time": "2023-08-27T08:00:10.554025Z",
     "start_time": "2023-08-27T08:00:10.452544Z"
    }
   },
   "outputs": [
    {
     "data": {
      "text/plain": [
       "     Quantity\n",
       "UID          \n",
       "3          12\n",
       "4           4\n",
       "5          14"
      ]
     },
     "execution_count": 94,
     "metadata": {},
     "output_type": "execute_result"
    }
   ],
   "source": [
    "x"
   ]
  },
  {
   "cell_type": "code",
   "execution_count": 95,
   "id": "fd3cb84e",
   "metadata": {
    "ExecuteTime": {
     "end_time": "2023-08-27T08:00:29.765824Z",
     "start_time": "2023-08-27T08:00:29.668485Z"
    }
   },
   "outputs": [
    {
     "data": {
      "text/plain": [
       "     Quantity\n",
       "UID          \n",
       "3           5\n",
       "4           5\n",
       "5          14"
      ]
     },
     "execution_count": 95,
     "metadata": {},
     "output_type": "execute_result"
    }
   ],
   "source": [
    "x[x<14] = 5\n",
    "x"
   ]
  },
  {
   "cell_type": "markdown",
   "id": "ce87fe11",
   "metadata": {},
   "source": [
    "## cv.true"
   ]
  },
  {
   "cell_type": "markdown",
   "id": "d7aab623",
   "metadata": {
    "ExecuteTime": {
     "end_time": "2023-08-21T12:46:22.556191Z",
     "start_time": "2023-08-21T12:46:22.401042Z"
    }
   },
   "source": [
    "This example\n",
    "\n",
    "```python\n",
    "filter_inds = people.true('hiv')  # indices fo people with HIV\n",
    "if len(filter_inds):    \n",
    "    art_inds = filter_inds[hpu.true(people.art[filter_inds])]  # Indices of people on ART\n",
    "    not_art_inds = filter_inds[hpu.false(people.art[filter_inds])]\n",
    "    cd4_remaining_inds = hpu.itrue(((people.t - people.date_hiv[not_art_inds]) * dt) < people.dur_hiv[not_art_inds], not_art_inds)  # Indices of people not on ART who have an active infection\n",
    "```\n",
    "\n",
    "illustrates typical usage of the true() function - need to chain indexing i.e., subsequently index `filter_inds` rather than the original `People`."
   ]
  },
  {
   "cell_type": "code",
   "execution_count": 96,
   "id": "f758fc5a",
   "metadata": {
    "ExecuteTime": {
     "end_time": "2023-08-22T22:42:57.741652Z",
     "start_time": "2023-08-22T22:42:57.663928Z"
    }
   },
   "outputs": [],
   "source": [
    "p.grow(10)"
   ]
  },
  {
   "cell_type": "code",
   "execution_count": 97,
   "id": "e3c28f56",
   "metadata": {
    "ExecuteTime": {
     "end_time": "2023-08-22T22:42:57.820234Z",
     "start_time": "2023-08-22T22:42:57.742657Z"
    }
   },
   "outputs": [
    {
     "data": {
      "text/plain": [
       "     Quantity\n",
       "UID          \n",
       "3           1\n",
       "4           4\n",
       "5          14\n",
       "6           1\n",
       "7           2\n",
       "8           2\n",
       "9           2\n",
       "10          1\n",
       "11          1\n",
       "12          2\n",
       "13          1\n",
       "14          2\n",
       "15          2"
      ]
     },
     "execution_count": 97,
     "metadata": {},
     "output_type": "execute_result"
    }
   ],
   "source": [
    "z"
   ]
  },
  {
   "cell_type": "code",
   "execution_count": 98,
   "id": "080f6f02",
   "metadata": {
    "ExecuteTime": {
     "end_time": "2023-08-22T22:42:57.899533Z",
     "start_time": "2023-08-22T22:42:57.821235Z"
    },
    "scrolled": true
   },
   "outputs": [
    {
     "data": {
      "text/plain": [
       "     Quantity\n",
       "UID          \n",
       "3       False\n",
       "4        True\n",
       "5        True\n",
       "6       False\n",
       "7        True\n",
       "8        True\n",
       "9        True\n",
       "10      False\n",
       "11      False\n",
       "12       True\n",
       "13      False\n",
       "14       True\n",
       "15       True"
      ]
     },
     "execution_count": 98,
     "metadata": {},
     "output_type": "execute_result"
    }
   ],
   "source": [
    "z>1"
   ]
  },
  {
   "cell_type": "code",
   "execution_count": 99,
   "id": "724f47cc",
   "metadata": {
    "ExecuteTime": {
     "end_time": "2023-08-27T13:27:03.521665Z",
     "start_time": "2023-08-27T13:27:03.428370Z"
    }
   },
   "outputs": [],
   "source": [
    "def true(x):\n",
    "    return x.uid.__array__()[np.nonzero(~x.__array__())]"
   ]
  },
  {
   "cell_type": "code",
   "execution_count": 100,
   "id": "e25cdced",
   "metadata": {
    "ExecuteTime": {
     "end_time": "2023-08-27T13:27:03.956133Z",
     "start_time": "2023-08-27T13:27:03.855100Z"
    }
   },
   "outputs": [
    {
     "data": {
      "text/plain": [
       "array([ 3,  6, 10, 11, 13])"
      ]
     },
     "execution_count": 100,
     "metadata": {},
     "output_type": "execute_result"
    }
   ],
   "source": [
    "gt_1 = true(z>1)\n",
    "gt_1"
   ]
  },
  {
   "cell_type": "code",
   "execution_count": 101,
   "id": "f7388804",
   "metadata": {
    "ExecuteTime": {
     "end_time": "2023-08-27T13:27:04.471319Z",
     "start_time": "2023-08-27T13:27:04.372530Z"
    }
   },
   "outputs": [
    {
     "data": {
      "text/plain": [
       "array([], dtype=int64)"
      ]
     },
     "execution_count": 101,
     "metadata": {},
     "output_type": "execute_result"
    }
   ],
   "source": [
    "gt_1_lt_3 = true(z[gt_1]<3)\n",
    "gt_1_lt_3"
   ]
  },
  {
   "cell_type": "markdown",
   "id": "9f3e7f66",
   "metadata": {
    "ExecuteTime": {
     "end_time": "2023-08-21T12:58:26.196667Z",
     "start_time": "2023-08-21T12:58:26.118093Z"
    }
   },
   "source": [
    "Idea is we would be able to write things like\n",
    "\n",
    "```python\n",
    "hiv_uids = ss.true(hiv)\n",
    "art_uids = ss.true(art[hiv_uids])\n",
    "not_art_uids = ss.false(art[hiv_uids])\n",
    "```"
   ]
  },
  {
   "cell_type": "markdown",
   "id": "bac6053a",
   "metadata": {},
   "source": [
    "## Distributed states"
   ]
  },
  {
   "cell_type": "markdown",
   "id": "e9a46ed0",
   "metadata": {},
   "source": [
    "- Define a state anywhere\n",
    "- Connect it to a people instance at initialization"
   ]
  },
  {
   "cell_type": "code",
   "execution_count": 102,
   "id": "4cfc92ed",
   "metadata": {
    "ExecuteTime": {
     "end_time": "2023-08-22T22:42:58.217476Z",
     "start_time": "2023-08-22T22:42:58.138663Z"
    }
   },
   "outputs": [],
   "source": [
    "class Intervention():\n",
    "    def __init__(self):\n",
    "        self.vaccinated = State('day_vaccinated',bool)\n",
    "    def initialize(self, people):\n",
    "        # nb. in reality this will take in a Sim and use sim.people\n",
    "        self.vaccinated.initialize(people)\n",
    "        "
   ]
  },
  {
   "cell_type": "code",
   "execution_count": 103,
   "id": "abcf8be5",
   "metadata": {
    "ExecuteTime": {
     "end_time": "2023-08-22T22:42:58.313263Z",
     "start_time": "2023-08-22T22:42:58.218478Z"
    }
   },
   "outputs": [
    {
     "data": {
      "text/plain": [
       "<State day_vaccinated (uninitialized)>"
      ]
     },
     "execution_count": 103,
     "metadata": {},
     "output_type": "execute_result"
    }
   ],
   "source": [
    "my_intervention = Intervention()\n",
    "my_intervention.vaccinated"
   ]
  },
  {
   "cell_type": "code",
   "execution_count": 104,
   "id": "4c799a15",
   "metadata": {
    "ExecuteTime": {
     "end_time": "2023-08-22T22:42:58.409349Z",
     "start_time": "2023-08-22T22:42:58.318270Z"
    }
   },
   "outputs": [
    {
     "data": {
      "text/plain": [
       "13"
      ]
     },
     "execution_count": 104,
     "metadata": {},
     "output_type": "execute_result"
    }
   ],
   "source": [
    "len(p)"
   ]
  },
  {
   "cell_type": "code",
   "execution_count": 105,
   "id": "fafd836c",
   "metadata": {
    "ExecuteTime": {
     "end_time": "2023-08-22T22:42:58.489438Z",
     "start_time": "2023-08-22T22:42:58.411352Z"
    }
   },
   "outputs": [],
   "source": [
    "my_intervention.initialize(p)"
   ]
  },
  {
   "cell_type": "code",
   "execution_count": 106,
   "id": "f2439bb0",
   "metadata": {
    "ExecuteTime": {
     "end_time": "2023-08-22T22:42:58.569014Z",
     "start_time": "2023-08-22T22:42:58.490440Z"
    }
   },
   "outputs": [
    {
     "data": {
      "text/plain": [
       "     Quantity\n",
       "UID          \n",
       "3       False\n",
       "4       False\n",
       "5       False\n",
       "6       False\n",
       "7       False\n",
       "8       False\n",
       "9       False\n",
       "10      False\n",
       "11      False\n",
       "12      False\n",
       "13      False\n",
       "14      False\n",
       "15      False"
      ]
     },
     "execution_count": 106,
     "metadata": {},
     "output_type": "execute_result"
    }
   ],
   "source": [
    "my_intervention.vaccinated"
   ]
  },
  {
   "cell_type": "code",
   "execution_count": 107,
   "id": "75040cb6",
   "metadata": {
    "ExecuteTime": {
     "end_time": "2023-08-22T22:42:58.647998Z",
     "start_time": "2023-08-22T22:42:58.571016Z"
    }
   },
   "outputs": [],
   "source": [
    "my_intervention.vaccinated.values[0:10] = True"
   ]
  },
  {
   "cell_type": "code",
   "execution_count": 108,
   "id": "ac44d36b",
   "metadata": {
    "ExecuteTime": {
     "end_time": "2023-08-22T22:42:58.727573Z",
     "start_time": "2023-08-22T22:42:58.650001Z"
    }
   },
   "outputs": [
    {
     "data": {
      "text/plain": [
       "     Quantity\n",
       "UID          \n",
       "3        True\n",
       "4        True\n",
       "5        True\n",
       "6        True\n",
       "7        True\n",
       "8        True\n",
       "9        True\n",
       "10       True\n",
       "11       True\n",
       "12       True\n",
       "13      False\n",
       "14      False\n",
       "15      False"
      ]
     },
     "execution_count": 108,
     "metadata": {},
     "output_type": "execute_result"
    }
   ],
   "source": [
    "my_intervention.vaccinated"
   ]
  },
  {
   "cell_type": "code",
   "execution_count": 109,
   "id": "eed87e20",
   "metadata": {
    "ExecuteTime": {
     "end_time": "2023-08-22T22:42:58.807646Z",
     "start_time": "2023-08-22T22:42:58.728574Z"
    }
   },
   "outputs": [],
   "source": [
    "p.grow(5)"
   ]
  },
  {
   "cell_type": "code",
   "execution_count": 110,
   "id": "38730451",
   "metadata": {
    "ExecuteTime": {
     "end_time": "2023-08-22T22:42:58.887221Z",
     "start_time": "2023-08-22T22:42:58.808647Z"
    }
   },
   "outputs": [
    {
     "data": {
      "text/plain": [
       "     Quantity\n",
       "UID          \n",
       "3        True\n",
       "4        True\n",
       "5        True\n",
       "6        True\n",
       "7        True\n",
       "8        True\n",
       "9        True\n",
       "10       True\n",
       "11       True\n",
       "12       True\n",
       "13      False\n",
       "14      False\n",
       "15      False\n",
       "16      False\n",
       "17      False\n",
       "18      False\n",
       "19      False\n",
       "20      False"
      ]
     },
     "execution_count": 110,
     "metadata": {},
     "output_type": "execute_result"
    }
   ],
   "source": [
    "my_intervention.vaccinated"
   ]
  },
  {
   "cell_type": "markdown",
   "id": "aad9c046",
   "metadata": {},
   "source": [
    "## Stateful modules"
   ]
  },
  {
   "cell_type": "markdown",
   "id": "16b8361a",
   "metadata": {},
   "source": [
    "If the `State` object is itself stateful and the modules can be stateful too, then we don't need\n",
    "\n",
    "```\n",
    "class HIV(module):\n",
    "    def __init__(self):\n",
    "        self.states = [\n",
    "            State('susceptible', bool, True),\n",
    "            State('infected', bool, False),\n",
    "            State('ti_infected', float, 0),\n",
    "            State('ti_dead', float, np.nan),\n",
    "            ]\n",
    "```\n",
    "\n",
    "instead we can actually just have\n",
    "\n",
    "```\n",
    "class HIV(module):\n",
    "    def __init__(self):\n",
    "        self.sus = State('susceptible', bool, True)\n",
    "        self.infected = State('infected', bool, False)\n",
    "        self.ti_infected = State('ti_infected', float, 0)\n",
    "        self.ti_dead = State('ti_dead', float, np.nan)\n",
    "\n",
    "```\n",
    "\n",
    "Then these states can be initialized in-place, and referenced directly. So instead of\n",
    "\n",
    "\n",
    "```\n",
    "class HIV(module):\n",
    "    def set_prognoses(self, sim, uids):\n",
    "        sim.people[self.name].susceptible[uids] = False\n",
    "        sim.people[self.name].infected[uids] = True\n",
    "        sim.people[self.name].ti_infected[uids] = sim.ti\n",
    "```\n",
    "\n",
    "we could have\n",
    "\n",
    "```\n",
    "class HIV(module):\n",
    "    def set_prognoses(self, sim, uids):\n",
    "        self.susceptible[uids] = False\n",
    "        self.infected[uids] = True\n",
    "        self.ti_infected[uids] = sim.ti\n",
    "```\n",
    "\n",
    "That doesn't preclude ALSO having a reference to these same states in `people.hiv.susceptible`. This would mirror having `sim.pars.hiv` mirror `HIV.pars`"
   ]
  },
  {
   "cell_type": "markdown",
   "id": "8d907bfa",
   "metadata": {},
   "source": [
    "# Class structure\n",
    "\n",
    "- UID map and UIDs need to be dynamic, but should be accessed by index rather than UID (`DynamicView`)\n",
    "- States need to be dynamic and accessed by UID (`State(FusedArray)` containing a `DynamicView` where the `FusedArray` values reference the `DynamicView`'s `_view`)\n",
    "- Indexing states need to return a container accessed by UID but with different UIDs to the people, and does not need to be dynamic (`FusedArray`)\n"
   ]
  }
 ],
 "metadata": {
  "kernelspec": {
   "display_name": "IDM",
   "language": "python",
   "name": "python3"
  },
  "language_info": {
   "codemirror_mode": {
    "name": "ipython",
    "version": 3
   },
   "file_extension": ".py",
   "mimetype": "text/x-python",
   "name": "python",
   "nbconvert_exporter": "python",
   "pygments_lexer": "ipython3",
   "version": "3.10.12"
  },
  "toc": {
   "base_numbering": 1,
   "nav_menu": {},
   "number_sections": true,
   "sideBar": true,
   "skip_h1_title": false,
   "title_cell": "Table of Contents",
   "title_sidebar": "Contents",
   "toc_cell": false,
   "toc_position": {
    "height": "calc(100% - 180px)",
    "left": "10px",
    "top": "150px",
    "width": "328.6px"
   },
   "toc_section_display": true,
   "toc_window_display": true
  }
 },
 "nbformat": 4,
 "nbformat_minor": 5
}
