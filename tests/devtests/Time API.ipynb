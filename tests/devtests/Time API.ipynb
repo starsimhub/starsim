{
 "cells": [
  {
   "cell_type": "code",
   "execution_count": 1,
   "id": "df3f4448",
   "metadata": {
    "ExecuteTime": {
     "end_time": "2025-03-20T03:32:03.020981Z",
     "start_time": "2025-03-20T03:32:00.164334Z"
    }
   },
   "outputs": [],
   "source": [
    "import matplotlib.pyplot as plt\n",
    "import sciris as sc\n",
    "import numpy as np\n",
    "import starsim as ss\n",
    "from starsim.time import * # Import the date classes directly to make the examples more readable"
   ]
  },
  {
   "cell_type": "markdown",
   "id": "f7fc0186",
   "metadata": {},
   "source": [
    "# V3 Time API\n",
    "\n",
    "*Implementation goals*\n",
    "\n",
    "- Want simulations to be safer - make it harder to write running code with incorrect results (e.g., forgetting a scaling factor, or having the units indirectly change)\n",
    "- Balance type formality with flexibility, want to make things safe without being overly tedious (although lean towards explicit rather than implicit)\n",
    "- Want simulations to be interoperable with calendar dates and numeric points in time (e.g., numerical years)"
   ]
  },
  {
   "cell_type": "markdown",
   "id": "46303c8b",
   "metadata": {},
   "source": [
    "# Dates"
   ]
  },
  {
   "cell_type": "code",
   "execution_count": 2,
   "id": "7b7e4024",
   "metadata": {
    "ExecuteTime": {
     "end_time": "2025-03-20T03:32:03.029299Z",
     "start_time": "2025-03-20T03:32:03.022495Z"
    }
   },
   "outputs": [
    {
     "data": {
      "text/plain": [
       "<2020.01.01>"
      ]
     },
     "execution_count": 2,
     "metadata": {},
     "output_type": "execute_result"
    }
   ],
   "source": [
    "Date('2020-01-01')"
   ]
  },
  {
   "cell_type": "code",
   "execution_count": 3,
   "id": "0a2b160d",
   "metadata": {
    "ExecuteTime": {
     "end_time": "2025-03-20T03:32:03.036340Z",
     "start_time": "2025-03-20T03:32:03.031835Z"
    }
   },
   "outputs": [
    {
     "data": {
      "text/plain": [
       "<2020.01.01>"
      ]
     },
     "execution_count": 3,
     "metadata": {},
     "output_type": "execute_result"
    }
   ],
   "source": [
    "Date(2020)"
   ]
  },
  {
   "cell_type": "code",
   "execution_count": 4,
   "id": "b7fdb309",
   "metadata": {
    "ExecuteTime": {
     "end_time": "2025-03-20T03:32:03.042919Z",
     "start_time": "2025-03-20T03:32:03.038353Z"
    }
   },
   "outputs": [
    {
     "data": {
      "text/plain": [
       "<2020.02.06 14:23:59>"
      ]
     },
     "execution_count": 4,
     "metadata": {},
     "output_type": "execute_result"
    }
   ],
   "source": [
    "Date(2020.1)"
   ]
  },
  {
   "cell_type": "markdown",
   "id": "5d2f50f3",
   "metadata": {},
   "source": [
    "## Arrays of dates"
   ]
  },
  {
   "cell_type": "markdown",
   "id": "a6fa2cc6",
   "metadata": {},
   "source": [
    "It is common to require an array of dates that is independent of any simulation timesteps - for example, interventions may have an attribute like `years = np.arange(2000,2020)` to align with data, even though the intervention is run with the same timestep as the main simulation. To facilitate these use cases, the `Date` class provides constructors for arrays as follows:"
   ]
  },
  {
   "cell_type": "code",
   "execution_count": 5,
   "id": "fb0a1d1d",
   "metadata": {
    "ExecuteTime": {
     "end_time": "2025-03-20T03:32:03.050379Z",
     "start_time": "2025-03-20T03:32:03.044931Z"
    }
   },
   "outputs": [
    {
     "data": {
      "text/plain": [
       "array([<2000.01.01>, <2001.01.01>, <2002.01.01>], dtype=object)"
      ]
     },
     "execution_count": 5,
     "metadata": {},
     "output_type": "execute_result"
    }
   ],
   "source": [
    "Date.from_array([2000,2001,2002])"
   ]
  },
  {
   "cell_type": "code",
   "execution_count": 6,
   "id": "ab3db6f7",
   "metadata": {
    "ExecuteTime": {
     "end_time": "2025-03-20T03:32:03.056403Z",
     "start_time": "2025-03-20T03:32:03.051897Z"
    }
   },
   "outputs": [
    {
     "data": {
      "text/plain": [
       "array([<2000.01.01>, <2001.01.01>, <2002.01.01>], dtype=object)"
      ]
     },
     "execution_count": 6,
     "metadata": {},
     "output_type": "execute_result"
    }
   ],
   "source": [
    "Date.arange(2000,2003)"
   ]
  },
  {
   "cell_type": "markdown",
   "id": "9241c4eb",
   "metadata": {},
   "source": [
    "# Durations"
   ]
  },
  {
   "cell_type": "code",
   "execution_count": 7,
   "id": "e059227f",
   "metadata": {
    "ExecuteTime": {
     "end_time": "2025-03-20T03:32:03.062025Z",
     "start_time": "2025-03-20T03:32:03.057413Z"
    }
   },
   "outputs": [
    {
     "data": {
      "text/plain": [
       "<YearDur: 1 years>"
      ]
     },
     "execution_count": 7,
     "metadata": {},
     "output_type": "execute_result"
    }
   ],
   "source": [
    "YearDur(1)"
   ]
  },
  {
   "cell_type": "code",
   "execution_count": 8,
   "id": "d019d93b",
   "metadata": {
    "ExecuteTime": {
     "end_time": "2025-03-20T03:32:03.067757Z",
     "start_time": "2025-03-20T03:32:03.063035Z"
    }
   },
   "outputs": [
    {
     "data": {
      "text/plain": [
       "<YearDur: 0.2 years>"
      ]
     },
     "execution_count": 8,
     "metadata": {},
     "output_type": "execute_result"
    }
   ],
   "source": [
    "YearDur(0.2)"
   ]
  },
  {
   "cell_type": "code",
   "execution_count": 9,
   "id": "b81fb4b7",
   "metadata": {
    "ExecuteTime": {
     "end_time": "2025-03-20T03:32:03.075637Z",
     "start_time": "2025-03-20T03:32:03.069764Z"
    }
   },
   "outputs": [
    {
     "data": {
      "text/plain": [
       "<DateDur: days=1>"
      ]
     },
     "execution_count": 9,
     "metadata": {},
     "output_type": "execute_result"
    }
   ],
   "source": [
    "DateDur(days=1)"
   ]
  },
  {
   "cell_type": "code",
   "execution_count": 10,
   "id": "b3b66686",
   "metadata": {
    "ExecuteTime": {
     "end_time": "2025-03-20T03:32:03.084911Z",
     "start_time": "2025-03-20T03:32:03.079643Z"
    },
    "scrolled": true
   },
   "outputs": [
    {
     "data": {
      "text/plain": [
       "<DateDur: weeks=1>"
      ]
     },
     "execution_count": 10,
     "metadata": {},
     "output_type": "execute_result"
    }
   ],
   "source": [
    "DateDur(weeks=1)"
   ]
  },
  {
   "cell_type": "code",
   "execution_count": 11,
   "id": "1012a404",
   "metadata": {
    "ExecuteTime": {
     "end_time": "2025-03-20T03:32:03.092479Z",
     "start_time": "2025-03-20T03:32:03.085920Z"
    }
   },
   "outputs": [
    {
     "data": {
      "text/plain": [
       "<DateDur: weeks=2>"
      ]
     },
     "execution_count": 11,
     "metadata": {},
     "output_type": "execute_result"
    }
   ],
   "source": [
    "2*DateDur(weeks=1)"
   ]
  },
  {
   "cell_type": "code",
   "execution_count": 12,
   "id": "d5feffb8",
   "metadata": {
    "ExecuteTime": {
     "end_time": "2025-03-20T03:32:03.099613Z",
     "start_time": "2025-03-20T03:32:03.094001Z"
    }
   },
   "outputs": [
    {
     "data": {
      "text/plain": [
       "<DateDur: years=1,weeks=1>"
      ]
     },
     "execution_count": 12,
     "metadata": {},
     "output_type": "execute_result"
    }
   ],
   "source": [
    "DateDur(weeks=1)+DateDur(years=1)"
   ]
  },
  {
   "cell_type": "markdown",
   "id": "b750d203",
   "metadata": {},
   "source": [
    "This type only supports integers for each of the time periods. If division would result in a fractional number of units, they will be rolled over to smaller units. For example, half a week is 3.5 days, and the half-day is rolled over to become 12 hours:"
   ]
  },
  {
   "cell_type": "code",
   "execution_count": 13,
   "id": "9debaa69",
   "metadata": {
    "ExecuteTime": {
     "end_time": "2025-03-20T03:32:03.111965Z",
     "start_time": "2025-03-20T03:32:03.100623Z"
    }
   },
   "outputs": [
    {
     "data": {
      "text/plain": [
       "<DateDur: days=3, +12:00:00>"
      ]
     },
     "execution_count": 13,
     "metadata": {},
     "output_type": "execute_result"
    }
   ],
   "source": [
    "DateDur(weeks=1)/2"
   ]
  },
  {
   "cell_type": "markdown",
   "id": "02f928ae",
   "metadata": {},
   "source": [
    "## Type interoperability\n",
    "\n",
    "The two duration types are interoperable based on preset ratios"
   ]
  },
  {
   "cell_type": "code",
   "execution_count": 14,
   "id": "dc162df1",
   "metadata": {
    "ExecuteTime": {
     "end_time": "2025-03-20T03:32:03.123281Z",
     "start_time": "2025-03-20T03:32:03.113481Z"
    }
   },
   "outputs": [
    {
     "data": {
      "text/plain": [
       "#0. 'years':        1\n",
       "#1. 'months':       12\n",
       "#2. 'weeks':        4.348214285714286\n",
       "#3. 'days':         7\n",
       "#4. 'hours':        24\n",
       "#5. 'minutes':      60\n",
       "#6. 'seconds':      60\n",
       "#7. 'milliseconds': 1000\n",
       "#8. 'microseconds': 1000\n",
       "#9. 'nanoseconds':  1000"
      ]
     },
     "execution_count": 14,
     "metadata": {},
     "output_type": "execute_result"
    }
   ],
   "source": [
    "Dur.ratios"
   ]
  },
  {
   "cell_type": "markdown",
   "id": "818e440b",
   "metadata": {},
   "source": [
    "For mixed types, the order determines the output type"
   ]
  },
  {
   "cell_type": "code",
   "execution_count": 15,
   "id": "4bd39c4d",
   "metadata": {
    "ExecuteTime": {
     "end_time": "2025-03-20T03:32:03.131344Z",
     "start_time": "2025-03-20T03:32:03.125289Z"
    }
   },
   "outputs": [
    {
     "data": {
      "text/plain": [
       "<DateDur: years=1,weeks=1>"
      ]
     },
     "execution_count": 15,
     "metadata": {},
     "output_type": "execute_result"
    }
   ],
   "source": [
    "DateDur(weeks=1)+YearDur(1)"
   ]
  },
  {
   "cell_type": "code",
   "execution_count": 16,
   "id": "9c6cdc29",
   "metadata": {
    "ExecuteTime": {
     "end_time": "2025-03-20T03:32:03.138306Z",
     "start_time": "2025-03-20T03:32:03.133387Z"
    }
   },
   "outputs": [
    {
     "data": {
      "text/plain": [
       "<YearDur: 1.0191649555099247 years>"
      ]
     },
     "execution_count": 16,
     "metadata": {},
     "output_type": "execute_result"
    }
   ],
   "source": [
    "YearDur(1)+DateDur(weeks=1)"
   ]
  },
  {
   "cell_type": "code",
   "execution_count": 17,
   "id": "202e55ba",
   "metadata": {
    "ExecuteTime": {
     "end_time": "2025-03-20T03:32:03.145096Z",
     "start_time": "2025-03-20T03:32:03.140352Z"
    }
   },
   "outputs": [
    {
     "data": {
      "text/plain": [
       "<DateDur: years=1,months=6,weeks=1>"
      ]
     },
     "execution_count": 17,
     "metadata": {},
     "output_type": "execute_result"
    }
   ],
   "source": [
    "DateDur(weeks=1)+YearDur(1.5)"
   ]
  },
  {
   "cell_type": "code",
   "execution_count": 18,
   "id": "dda88f3d",
   "metadata": {
    "ExecuteTime": {
     "end_time": "2025-03-20T03:32:03.153106Z",
     "start_time": "2025-03-20T03:32:03.146104Z"
    }
   },
   "outputs": [
    {
     "data": {
      "text/plain": [
       "<DateDur: days=6>"
      ]
     },
     "execution_count": 18,
     "metadata": {},
     "output_type": "execute_result"
    }
   ],
   "source": [
    "DateDur(days=7)-DateDur(days=1)"
   ]
  },
  {
   "cell_type": "code",
   "execution_count": 19,
   "id": "7b8e19d8",
   "metadata": {
    "ExecuteTime": {
     "end_time": "2025-03-20T03:32:03.161146Z",
     "start_time": "2025-03-20T03:32:03.154623Z"
    }
   },
   "outputs": [
    {
     "data": {
      "text/plain": [
       "<DateDur: weeks=1,days=-1>"
      ]
     },
     "execution_count": 19,
     "metadata": {},
     "output_type": "execute_result"
    }
   ],
   "source": [
    "DateDur(weeks=1)-DateDur(days=1)"
   ]
  },
  {
   "cell_type": "code",
   "execution_count": 20,
   "id": "02feaf61",
   "metadata": {
    "ExecuteTime": {
     "end_time": "2025-03-20T03:32:03.169139Z",
     "start_time": "2025-03-20T03:32:03.163230Z"
    }
   },
   "outputs": [
    {
     "data": {
      "text/plain": [
       "0.01642710472279261"
      ]
     },
     "execution_count": 20,
     "metadata": {},
     "output_type": "execute_result"
    }
   ],
   "source": [
    "(DateDur(days=7)-DateDur(days=1)).years"
   ]
  },
  {
   "cell_type": "code",
   "execution_count": 21,
   "id": "d4e24c47",
   "metadata": {
    "ExecuteTime": {
     "end_time": "2025-03-20T03:32:03.176488Z",
     "start_time": "2025-03-20T03:32:03.170148Z"
    }
   },
   "outputs": [
    {
     "data": {
      "text/plain": [
       "0.016427104722792605"
      ]
     },
     "execution_count": 21,
     "metadata": {},
     "output_type": "execute_result"
    }
   ],
   "source": [
    "(DateDur(weeks=1)-DateDur(days=1)).years"
   ]
  },
  {
   "cell_type": "markdown",
   "id": "bb3eb6c9",
   "metadata": {},
   "source": [
    "## Why have both duration types?"
   ]
  },
  {
   "cell_type": "markdown",
   "id": "4507f016",
   "metadata": {},
   "source": [
    "The two duration types are needed because simulations may or may not care about specific calendar dates during the year, and the variable duration of months and years (in terms of number of days) means that an exact mapping from one type of duration to the other is not possible. Essentially\n",
    "\n",
    "- Some simulations will want to prioritise having a specific number of timesteps per year e.g., 12 or 52 timesteps per year\n",
    "- Some simulations will want a specific number of weeks or months to elapse e.g., if the day of the week matters for things like school contacts\n",
    "\n",
    "The example below demonstrates how 52 weeks with a `DateDur` leads to a different result compare to the approximation of 52 weeks per year, using a `YearDur` instance:\n"
   ]
  },
  {
   "cell_type": "code",
   "execution_count": 22,
   "id": "c2ecf8a0",
   "metadata": {
    "ExecuteTime": {
     "end_time": "2025-03-20T03:32:03.183182Z",
     "start_time": "2025-03-20T03:32:03.178010Z"
    }
   },
   "outputs": [
    {
     "data": {
      "text/plain": [
       "<2020.01.02>"
      ]
     },
     "execution_count": 22,
     "metadata": {},
     "output_type": "execute_result"
    }
   ],
   "source": [
    "Date('2020-01-01')+DateDur(days=1)"
   ]
  },
  {
   "cell_type": "code",
   "execution_count": 23,
   "id": "4cf612d9",
   "metadata": {
    "ExecuteTime": {
     "end_time": "2025-03-20T03:32:03.189852Z",
     "start_time": "2025-03-20T03:32:03.184287Z"
    }
   },
   "outputs": [
    {
     "data": {
      "text/plain": [
       "<2020.01.08>"
      ]
     },
     "execution_count": 23,
     "metadata": {},
     "output_type": "execute_result"
    }
   ],
   "source": [
    "Date('2020-01-01')+DateDur(weeks=1)"
   ]
  },
  {
   "cell_type": "code",
   "execution_count": 24,
   "id": "2f832292",
   "metadata": {
    "ExecuteTime": {
     "end_time": "2025-03-20T03:32:03.197199Z",
     "start_time": "2025-03-20T03:32:03.191375Z"
    }
   },
   "outputs": [
    {
     "data": {
      "text/plain": [
       "<2020.12.30>"
      ]
     },
     "execution_count": 24,
     "metadata": {},
     "output_type": "execute_result"
    }
   ],
   "source": [
    "Date('2020-01-01')+52*DateDur(weeks=1)"
   ]
  },
  {
   "cell_type": "code",
   "execution_count": 25,
   "id": "cc7c4046",
   "metadata": {
    "ExecuteTime": {
     "end_time": "2025-03-20T03:32:03.204694Z",
     "start_time": "2025-03-20T03:32:03.198716Z"
    }
   },
   "outputs": [
    {
     "data": {
      "text/plain": [
       "<2021.01.01>"
      ]
     },
     "execution_count": 25,
     "metadata": {},
     "output_type": "execute_result"
    }
   ],
   "source": [
    "Date('2020-01-01')+52*YearDur(1/52)"
   ]
  },
  {
   "cell_type": "markdown",
   "id": "5bdc8d71",
   "metadata": {},
   "source": [
    "Subtraction of durations from dates is fine, and behaves as expected:"
   ]
  },
  {
   "cell_type": "code",
   "execution_count": 26,
   "id": "47a1d50e",
   "metadata": {
    "ExecuteTime": {
     "end_time": "2025-03-20T03:32:03.211216Z",
     "start_time": "2025-03-20T03:32:03.206700Z"
    }
   },
   "outputs": [
    {
     "data": {
      "text/plain": [
       "<2019.12.31>"
      ]
     },
     "execution_count": 26,
     "metadata": {},
     "output_type": "execute_result"
    }
   ],
   "source": [
    "Date('2020-01-01')-DateDur(days=1)"
   ]
  },
  {
   "cell_type": "code",
   "execution_count": 27,
   "id": "7f3de0f7",
   "metadata": {
    "ExecuteTime": {
     "end_time": "2025-03-20T03:32:03.217428Z",
     "start_time": "2025-03-20T03:32:03.212777Z"
    }
   },
   "outputs": [
    {
     "data": {
      "text/plain": [
       "<2019.12.26>"
      ]
     },
     "execution_count": 27,
     "metadata": {},
     "output_type": "execute_result"
    }
   ],
   "source": [
    "Date('2020-01-01')-DateDur(days=6)"
   ]
  },
  {
   "cell_type": "markdown",
   "id": "35ebbea8",
   "metadata": {},
   "source": [
    "This example should be read as 'go back 1 week, then go forward 1 day' hence this is equivalent to going back 6 days, and gives the same result as the example above:"
   ]
  },
  {
   "cell_type": "code",
   "execution_count": 28,
   "id": "06c6f45d",
   "metadata": {
    "ExecuteTime": {
     "end_time": "2025-03-20T03:32:03.229873Z",
     "start_time": "2025-03-20T03:32:03.223467Z"
    }
   },
   "outputs": [
    {
     "data": {
      "text/plain": [
       "<2019.12.26>"
      ]
     },
     "execution_count": 28,
     "metadata": {},
     "output_type": "execute_result"
    }
   ],
   "source": [
    "Date('2020-01-01')-(DateDur(weeks=1)-DateDur(days=1))"
   ]
  },
  {
   "cell_type": "markdown",
   "id": "4daa6fcc",
   "metadata": {},
   "source": [
    "## Combined constructor"
   ]
  },
  {
   "cell_type": "markdown",
   "id": "f74428cd",
   "metadata": {},
   "source": [
    "The `Dur` constructor can be used as a single entry point for constructing `Dur` instances, where a numerical input leads to creation of a `YearDur` instance, while kwargs are used to produce a `DateDur` instance:"
   ]
  },
  {
   "cell_type": "code",
   "execution_count": 29,
   "id": "c696f88c",
   "metadata": {
    "ExecuteTime": {
     "end_time": "2025-03-20T03:32:03.236403Z",
     "start_time": "2025-03-20T03:32:03.231881Z"
    }
   },
   "outputs": [
    {
     "data": {
      "text/plain": [
       "<YearDur: 1 years>"
      ]
     },
     "execution_count": 29,
     "metadata": {},
     "output_type": "execute_result"
    }
   ],
   "source": [
    "Dur(1)"
   ]
  },
  {
   "cell_type": "code",
   "execution_count": 30,
   "id": "6e804619",
   "metadata": {
    "ExecuteTime": {
     "end_time": "2025-03-20T03:32:03.243377Z",
     "start_time": "2025-03-20T03:32:03.236403Z"
    }
   },
   "outputs": [
    {
     "data": {
      "text/plain": [
       "<DateDur: years=1>"
      ]
     },
     "execution_count": 30,
     "metadata": {},
     "output_type": "execute_result"
    }
   ],
   "source": [
    "Dur(years=1)"
   ]
  },
  {
   "cell_type": "markdown",
   "id": "224eb0a2",
   "metadata": {
    "ExecuteTime": {
     "end_time": "2025-02-25T20:15:56.978253Z",
     "start_time": "2025-02-25T20:15:56.972745Z"
    }
   },
   "source": [
    "## Scaling factors\n",
    "\n",
    "Quantities are absolute so scaling factors can be calculated on demand"
   ]
  },
  {
   "cell_type": "code",
   "execution_count": 31,
   "id": "2e4521f8",
   "metadata": {
    "ExecuteTime": {
     "end_time": "2025-03-20T03:32:03.249438Z",
     "start_time": "2025-03-20T03:32:03.244395Z"
    }
   },
   "outputs": [
    {
     "data": {
      "text/plain": [
       "2.0"
      ]
     },
     "execution_count": 31,
     "metadata": {},
     "output_type": "execute_result"
    }
   ],
   "source": [
    "Dur(2)/Dur(1)"
   ]
  },
  {
   "cell_type": "code",
   "execution_count": 32,
   "id": "771ba5ea",
   "metadata": {
    "ExecuteTime": {
     "end_time": "2025-03-20T03:32:03.256481Z",
     "start_time": "2025-03-20T03:32:03.250446Z"
    }
   },
   "outputs": [
    {
     "data": {
      "text/plain": [
       "7.0"
      ]
     },
     "execution_count": 32,
     "metadata": {},
     "output_type": "execute_result"
    }
   ],
   "source": [
    "Dur(weeks=1)/Dur(days=1)"
   ]
  },
  {
   "cell_type": "code",
   "execution_count": 33,
   "id": "4ba22592",
   "metadata": {
    "ExecuteTime": {
     "end_time": "2025-03-20T03:32:03.262681Z",
     "start_time": "2025-03-20T03:32:03.257635Z"
    }
   },
   "outputs": [
    {
     "data": {
      "text/plain": [
       "0.019164955509924708"
      ]
     },
     "execution_count": 33,
     "metadata": {},
     "output_type": "execute_result"
    }
   ],
   "source": [
    "Dur(weeks=1)/Dur(1)"
   ]
  },
  {
   "cell_type": "code",
   "execution_count": 34,
   "id": "1e60b9cc",
   "metadata": {
    "ExecuteTime": {
     "end_time": "2025-03-20T03:32:03.270038Z",
     "start_time": "2025-03-20T03:32:03.265017Z"
    }
   },
   "outputs": [
    {
     "data": {
      "text/plain": [
       "6.995208761122518"
      ]
     },
     "execution_count": 34,
     "metadata": {},
     "output_type": "execute_result"
    }
   ],
   "source": [
    "Dur(weeks=1)/Dur(1/365)"
   ]
  },
  {
   "cell_type": "code",
   "execution_count": 35,
   "id": "81c2d07f",
   "metadata": {
    "ExecuteTime": {
     "end_time": "2025-03-20T03:32:03.275866Z",
     "start_time": "2025-03-20T03:32:03.272043Z"
    }
   },
   "outputs": [
    {
     "data": {
      "text/plain": [
       "7.019230769230769"
      ]
     },
     "execution_count": 35,
     "metadata": {},
     "output_type": "execute_result"
    }
   ],
   "source": [
    "Dur(1/52)/Dur(1/365)"
   ]
  },
  {
   "cell_type": "markdown",
   "id": "c425158e",
   "metadata": {},
   "source": [
    "## Helper functions\n",
    "\n",
    "To facilitate constructing common durations, helper functions are available:"
   ]
  },
  {
   "cell_type": "code",
   "execution_count": 36,
   "id": "081c3ad1",
   "metadata": {
    "ExecuteTime": {
     "end_time": "2025-03-20T03:32:03.282227Z",
     "start_time": "2025-03-20T03:32:03.277877Z"
    }
   },
   "outputs": [
    {
     "data": {
      "text/plain": [
       "<YearDur: 1 years>"
      ]
     },
     "execution_count": 36,
     "metadata": {},
     "output_type": "execute_result"
    }
   ],
   "source": [
    "years(1)"
   ]
  },
  {
   "cell_type": "code",
   "execution_count": 37,
   "id": "844d4929",
   "metadata": {
    "ExecuteTime": {
     "end_time": "2025-03-20T03:32:03.364063Z",
     "start_time": "2025-03-20T03:32:03.284253Z"
    }
   },
   "outputs": [
    {
     "data": {
      "text/plain": [
       "<DateDur: months=1>"
      ]
     },
     "execution_count": 37,
     "metadata": {},
     "output_type": "execute_result"
    }
   ],
   "source": [
    "months(1)"
   ]
  },
  {
   "cell_type": "code",
   "execution_count": 38,
   "id": "10fdbfe5",
   "metadata": {
    "ExecuteTime": {
     "end_time": "2025-03-20T03:32:03.369724Z",
     "start_time": "2025-03-20T03:32:03.365070Z"
    }
   },
   "outputs": [
    {
     "data": {
      "text/plain": [
       "<DateDur: weeks=1>"
      ]
     },
     "execution_count": 38,
     "metadata": {},
     "output_type": "execute_result"
    }
   ],
   "source": [
    "weeks(1)"
   ]
  },
  {
   "cell_type": "code",
   "execution_count": 39,
   "id": "fb50baae",
   "metadata": {
    "ExecuteTime": {
     "end_time": "2025-03-20T03:32:03.375801Z",
     "start_time": "2025-03-20T03:32:03.370732Z"
    }
   },
   "outputs": [
    {
     "data": {
      "text/plain": [
       "<DateDur: days=1>"
      ]
     },
     "execution_count": 39,
     "metadata": {},
     "output_type": "execute_result"
    }
   ],
   "source": [
    "days(1)"
   ]
  },
  {
   "cell_type": "markdown",
   "id": "f5c2f064",
   "metadata": {},
   "source": [
    "# Numerical interoperability\n",
    "\n",
    "A common use case is working with calendar dates, and therefore years as a natural unit of time. Although we would recommend using date and duration objects everywhere these quantities are used, it would make and migration easier for a significant proportion of users if bare numbers could be interpreted as years. This mainly applies to comparison operators, so for example:"
   ]
  },
  {
   "cell_type": "code",
   "execution_count": 40,
   "id": "885470a4",
   "metadata": {
    "ExecuteTime": {
     "end_time": "2025-03-20T03:32:03.381225Z",
     "start_time": "2025-03-20T03:32:03.376306Z"
    }
   },
   "outputs": [
    {
     "data": {
      "text/plain": [
       "True"
      ]
     },
     "execution_count": 40,
     "metadata": {},
     "output_type": "execute_result"
    }
   ],
   "source": [
    "Date(2005)>2000"
   ]
  },
  {
   "cell_type": "code",
   "execution_count": 41,
   "id": "ddb4dd87",
   "metadata": {
    "ExecuteTime": {
     "end_time": "2025-03-20T03:32:03.387259Z",
     "start_time": "2025-03-20T03:32:03.382235Z"
    }
   },
   "outputs": [
    {
     "data": {
      "text/plain": [
       "True"
      ]
     },
     "execution_count": 41,
     "metadata": {},
     "output_type": "execute_result"
    }
   ],
   "source": [
    "YearDur(1) < 2"
   ]
  },
  {
   "cell_type": "code",
   "execution_count": 42,
   "id": "bc79b500",
   "metadata": {
    "ExecuteTime": {
     "end_time": "2025-03-20T03:32:03.393456Z",
     "start_time": "2025-03-20T03:32:03.389029Z"
    }
   },
   "outputs": [
    {
     "data": {
      "text/plain": [
       "True"
      ]
     },
     "execution_count": 42,
     "metadata": {},
     "output_type": "execute_result"
    }
   ],
   "source": [
    "DateDur(days=1)<2"
   ]
  },
  {
   "cell_type": "markdown",
   "id": "8dd6f3f4",
   "metadata": {},
   "source": [
    "This functionality is mainly aimed at easing the migration workload for users that have written code like `years = np.arange(2000,2020)`. However, we would recommend migration to `years = ss.Date.arange(2000,2020)` instead."
   ]
  },
  {
   "cell_type": "markdown",
   "id": "3648ab16",
   "metadata": {
    "ExecuteTime": {
     "end_time": "2025-02-25T20:09:07.764831Z",
     "start_time": "2025-02-25T20:09:07.761564Z"
    }
   },
   "source": [
    "# Rates"
   ]
  },
  {
   "cell_type": "markdown",
   "id": "c67863f6",
   "metadata": {},
   "source": [
    "Rates represent a value per unit time. They can be constructed either by taking the inverse of a duration, or by passing the value and associated period directly:"
   ]
  },
  {
   "cell_type": "markdown",
   "id": "ec610b64",
   "metadata": {},
   "source": [
    "In short, we facilitate compatibility with `years = np.arange(2000,2020)` to decrease migration workload, but strongly recommend migration to `years = ss.Date.arange(2000,2020)`."
   ]
  },
  {
   "cell_type": "markdown",
   "id": "f826914c",
   "metadata": {},
   "source": [
    "## Creating rates"
   ]
  },
  {
   "cell_type": "code",
   "execution_count": 43,
   "id": "fac0eff9",
   "metadata": {
    "ExecuteTime": {
     "end_time": "2025-03-20T03:32:03.399272Z",
     "start_time": "2025-03-20T03:32:03.394975Z"
    }
   },
   "outputs": [
    {
     "data": {
      "text/plain": [
       "<Rate: 1 per day>"
      ]
     },
     "execution_count": 43,
     "metadata": {},
     "output_type": "execute_result"
    }
   ],
   "source": [
    "1/DateDur(days=1)"
   ]
  },
  {
   "cell_type": "code",
   "execution_count": 44,
   "id": "ae2a979a",
   "metadata": {
    "ExecuteTime": {
     "end_time": "2025-03-20T03:32:03.405510Z",
     "start_time": "2025-03-20T03:32:03.400280Z"
    }
   },
   "outputs": [
    {
     "data": {
      "text/plain": [
       "<Rate: 1 per year>"
      ]
     },
     "execution_count": 44,
     "metadata": {},
     "output_type": "execute_result"
    }
   ],
   "source": [
    "Rate(1, Dur(1))"
   ]
  },
  {
   "cell_type": "code",
   "execution_count": 45,
   "id": "7941cd92",
   "metadata": {
    "ExecuteTime": {
     "end_time": "2025-03-20T03:32:03.411589Z",
     "start_time": "2025-03-20T03:32:03.406549Z"
    }
   },
   "outputs": [
    {
     "data": {
      "text/plain": [
       "<Rate: 1 per month>"
      ]
     },
     "execution_count": 45,
     "metadata": {},
     "output_type": "execute_result"
    }
   ],
   "source": [
    "Rate(1, Dur(months=1))"
   ]
  },
  {
   "cell_type": "markdown",
   "id": "5690fd00",
   "metadata": {
    "ExecuteTime": {
     "end_time": "2025-03-19T00:45:17.944561Z",
     "start_time": "2025-03-19T00:45:17.939521Z"
    }
   },
   "source": [
    "If no period is provided, 1 year is assumed:"
   ]
  },
  {
   "cell_type": "code",
   "execution_count": 46,
   "id": "3990be51",
   "metadata": {
    "ExecuteTime": {
     "end_time": "2025-03-20T03:32:03.417189Z",
     "start_time": "2025-03-20T03:32:03.413109Z"
    }
   },
   "outputs": [
    {
     "data": {
      "text/plain": [
       "<Rate: 2 per year>"
      ]
     },
     "execution_count": 46,
     "metadata": {},
     "output_type": "execute_result"
    }
   ],
   "source": [
    "Rate(2)"
   ]
  },
  {
   "cell_type": "markdown",
   "id": "a755bb1e",
   "metadata": {
    "ExecuteTime": {
     "end_time": "2025-03-19T00:46:03.552005Z",
     "start_time": "2025-03-19T00:46:03.547147Z"
    }
   },
   "source": [
    "## Scaling and adding rates\n",
    "\n",
    "Rates can be scaled up or down multiplicatively. This operation does not affect the time period associated with the rate, so the action of scaling can be directly matched with the displayed value:"
   ]
  },
  {
   "cell_type": "code",
   "execution_count": 47,
   "id": "146e0630",
   "metadata": {
    "ExecuteTime": {
     "end_time": "2025-03-20T03:32:03.422700Z",
     "start_time": "2025-03-20T03:32:03.418198Z"
    }
   },
   "outputs": [
    {
     "data": {
      "text/plain": [
       "<Rate: 4 per year>"
      ]
     },
     "execution_count": 47,
     "metadata": {},
     "output_type": "execute_result"
    }
   ],
   "source": [
    "2*Rate(2)"
   ]
  },
  {
   "cell_type": "code",
   "execution_count": 48,
   "id": "c274304e",
   "metadata": {
    "ExecuteTime": {
     "end_time": "2025-03-20T03:32:03.428717Z",
     "start_time": "2025-03-20T03:32:03.423709Z"
    }
   },
   "outputs": [
    {
     "data": {
      "text/plain": [
       "<Rate: 4.5 per month>"
      ]
     },
     "execution_count": 48,
     "metadata": {},
     "output_type": "execute_result"
    }
   ],
   "source": [
    "4.5*Rate(1, Dur(months=1))"
   ]
  },
  {
   "cell_type": "markdown",
   "id": "1d06fa8e",
   "metadata": {},
   "source": [
    "Rates can also be combined. When adding or subtracting rates, the reference time period will be drawn from the left hand side e.g."
   ]
  },
  {
   "cell_type": "code",
   "execution_count": 49,
   "id": "a626fb1e",
   "metadata": {
    "ExecuteTime": {
     "end_time": "2025-03-20T03:32:03.436164Z",
     "start_time": "2025-03-20T03:32:03.430724Z"
    }
   },
   "outputs": [
    {
     "data": {
      "text/plain": [
       "<Rate: 8.0 per week>"
      ]
     },
     "execution_count": 49,
     "metadata": {},
     "output_type": "execute_result"
    }
   ],
   "source": [
    "Rate(1,Dur(weeks=1))+Rate(1,Dur(days=1))"
   ]
  },
  {
   "cell_type": "code",
   "execution_count": 50,
   "id": "75edb102",
   "metadata": {
    "ExecuteTime": {
     "end_time": "2025-03-20T03:32:03.443658Z",
     "start_time": "2025-03-20T03:32:03.438228Z"
    }
   },
   "outputs": [
    {
     "data": {
      "text/plain": [
       "<Rate: 1.1428571428571428 per day>"
      ]
     },
     "execution_count": 50,
     "metadata": {},
     "output_type": "execute_result"
    }
   ],
   "source": [
    "Rate(1,Dur(days=1))+Rate(1,Dur(weeks=1))"
   ]
  },
  {
   "cell_type": "markdown",
   "id": "661696c1",
   "metadata": {},
   "source": [
    "This is intended to ease working with rates where the user has a natural reference time period (e.g., weeks, days) and wants to manipulate the rate using the same time period. So again, the action of the addition can be evaluated on the same time period as the original rate, with conversions of the other rate automatically applied as required. "
   ]
  },
  {
   "cell_type": "markdown",
   "id": "48535437",
   "metadata": {},
   "source": [
    "## Multiplication by durations"
   ]
  },
  {
   "cell_type": "markdown",
   "id": "efdd87da",
   "metadata": {},
   "source": [
    "Crucially, rates can be multiplied by a duration to get the a dimensionless number per time period (usually per timestep). For example, if we have a rate of 1 per year, and multiply it by 2 years, we would get a value of 2"
   ]
  },
  {
   "cell_type": "code",
   "execution_count": 51,
   "id": "5cf808fa",
   "metadata": {
    "ExecuteTime": {
     "end_time": "2025-03-20T03:32:03.449155Z",
     "start_time": "2025-03-20T03:32:03.444669Z"
    }
   },
   "outputs": [
    {
     "data": {
      "text/plain": [
       "2.0"
      ]
     },
     "execution_count": 51,
     "metadata": {},
     "output_type": "execute_result"
    }
   ],
   "source": [
    "Rate(1) * Dur(2)"
   ]
  },
  {
   "cell_type": "markdown",
   "id": "44669971",
   "metadata": {
    "ExecuteTime": {
     "end_time": "2025-03-19T00:49:40.790767Z",
     "start_time": "2025-03-19T00:49:40.785736Z"
    }
   },
   "source": [
    "Similarly, if we could have a rate of 1 per year, and multiply it by 1 week:"
   ]
  },
  {
   "cell_type": "code",
   "execution_count": 52,
   "id": "98fde84d",
   "metadata": {
    "ExecuteTime": {
     "end_time": "2025-03-20T03:32:03.456184Z",
     "start_time": "2025-03-20T03:32:03.451164Z"
    }
   },
   "outputs": [
    {
     "data": {
      "text/plain": [
       "0.019164955509924708"
      ]
     },
     "execution_count": 52,
     "metadata": {},
     "output_type": "execute_result"
    }
   ],
   "source": [
    "Rate(1) * Dur(weeks=1)"
   ]
  },
  {
   "cell_type": "markdown",
   "id": "12334e1f",
   "metadata": {},
   "source": [
    "In the example above, we two rates were added together, and the output rate depended on the order of the addition. However, these rates are equivalent and behave the same way (to within numerical precision) when multiplied by a duration e.g.,"
   ]
  },
  {
   "cell_type": "code",
   "execution_count": 53,
   "id": "9cb9aa91",
   "metadata": {
    "ExecuteTime": {
     "end_time": "2025-03-20T03:32:03.464872Z",
     "start_time": "2025-03-20T03:32:03.457192Z"
    }
   },
   "outputs": [
    {
     "data": {
      "text/plain": [
       "8.0"
      ]
     },
     "execution_count": 53,
     "metadata": {},
     "output_type": "execute_result"
    }
   ],
   "source": [
    "(Rate(1,Dur(weeks=1))+Rate(1,Dur(days=1)))*Dur(weeks=1) # <Rate: 8.0 per week> * 1 week = 8"
   ]
  },
  {
   "cell_type": "code",
   "execution_count": 54,
   "id": "7853fdcc",
   "metadata": {
    "ExecuteTime": {
     "end_time": "2025-03-20T03:32:03.473986Z",
     "start_time": "2025-03-20T03:32:03.466924Z"
    }
   },
   "outputs": [
    {
     "data": {
      "text/plain": [
       "7.999999999999989"
      ]
     },
     "execution_count": 54,
     "metadata": {},
     "output_type": "execute_result"
    }
   ],
   "source": [
    "(Rate(1,Dur(days=1))+Rate(1,Dur(weeks=1)))*Dur(weeks=1) # <Rate: 1.142857...  per day> * 1 week = 8"
   ]
  },
  {
   "cell_type": "markdown",
   "id": "1a2c7f1e",
   "metadata": {},
   "source": [
    "## Division\n",
    "\n",
    "Just as the inverse of a duration is a rate, the inverse of a rate is a duration:"
   ]
  },
  {
   "cell_type": "code",
   "execution_count": 55,
   "id": "ccc7c824",
   "metadata": {
    "ExecuteTime": {
     "end_time": "2025-03-20T03:32:03.481392Z",
     "start_time": "2025-03-20T03:32:03.474996Z"
    }
   },
   "outputs": [
    {
     "data": {
      "text/plain": [
       "<DateDur: days=1>"
      ]
     },
     "execution_count": 55,
     "metadata": {},
     "output_type": "execute_result"
    }
   ],
   "source": [
    "1/Rate(1,Dur(days=1))"
   ]
  },
  {
   "cell_type": "markdown",
   "id": "6608c2c0",
   "metadata": {},
   "source": [
    "If a rate is divided by another rate, the result is a dimensionless fraction e.g."
   ]
  },
  {
   "cell_type": "code",
   "execution_count": 56,
   "id": "5eb6f0b3",
   "metadata": {
    "ExecuteTime": {
     "end_time": "2025-03-20T03:32:03.488432Z",
     "start_time": "2025-03-20T03:32:03.482400Z"
    }
   },
   "outputs": [
    {
     "data": {
      "text/plain": [
       "2.0"
      ]
     },
     "execution_count": 56,
     "metadata": {},
     "output_type": "execute_result"
    }
   ],
   "source": [
    "Rate(14,weeks(1))/Rate(1,days(1))  # 14 per week, divided by 1 per day (=7 per week), gives 14/7=2"
   ]
  },
  {
   "cell_type": "markdown",
   "id": "788a6f52",
   "metadata": {
    "ExecuteTime": {
     "end_time": "2025-03-19T01:10:27.986250Z",
     "start_time": "2025-03-19T01:10:27.980591Z"
    }
   },
   "source": [
    "## Helper functions\n",
    "\n",
    "To faciliate constructing rates, helper methods for common reference time periods are provided:"
   ]
  },
  {
   "cell_type": "code",
   "execution_count": 57,
   "id": "28e01cb9",
   "metadata": {
    "ExecuteTime": {
     "end_time": "2025-03-20T03:32:03.494223Z",
     "start_time": "2025-03-20T03:32:03.489946Z"
    }
   },
   "outputs": [
    {
     "data": {
      "text/plain": [
       "<Rate: 1 per year>"
      ]
     },
     "execution_count": 57,
     "metadata": {},
     "output_type": "execute_result"
    }
   ],
   "source": [
    "peryear(1)"
   ]
  },
  {
   "cell_type": "code",
   "execution_count": 58,
   "id": "2468d887",
   "metadata": {
    "ExecuteTime": {
     "end_time": "2025-03-20T03:32:03.500770Z",
     "start_time": "2025-03-20T03:32:03.495736Z"
    }
   },
   "outputs": [
    {
     "data": {
      "text/plain": [
       "<Rate: 1 per month>"
      ]
     },
     "execution_count": 58,
     "metadata": {},
     "output_type": "execute_result"
    }
   ],
   "source": [
    "permonth(1)"
   ]
  },
  {
   "cell_type": "code",
   "execution_count": 59,
   "id": "e35c020d",
   "metadata": {
    "ExecuteTime": {
     "end_time": "2025-03-20T03:32:03.506793Z",
     "start_time": "2025-03-20T03:32:03.501779Z"
    }
   },
   "outputs": [
    {
     "data": {
      "text/plain": [
       "<Rate: 1 per week>"
      ]
     },
     "execution_count": 59,
     "metadata": {},
     "output_type": "execute_result"
    }
   ],
   "source": [
    "perweek(1)"
   ]
  },
  {
   "cell_type": "code",
   "execution_count": 60,
   "id": "c39ca65c",
   "metadata": {
    "ExecuteTime": {
     "end_time": "2025-03-20T03:32:03.513212Z",
     "start_time": "2025-03-20T03:32:03.508316Z"
    }
   },
   "outputs": [
    {
     "data": {
      "text/plain": [
       "<Rate: 1 per day>"
      ]
     },
     "execution_count": 60,
     "metadata": {},
     "output_type": "execute_result"
    }
   ],
   "source": [
    "perday(1)"
   ]
  },
  {
   "cell_type": "markdown",
   "id": "04f18c3c",
   "metadata": {},
   "source": [
    "# Probability rates"
   ]
  },
  {
   "cell_type": "markdown",
   "id": "87537e55",
   "metadata": {},
   "source": [
    "There are two other quantities closely related to rates\n",
    "\n",
    "- A probability per unit time\n",
    "- A rate that should be converted to a probability \n",
    "\n",
    "These are implemented with the `TimeProb` and `RateProb` classes, respectively. They are essentially identical to `Rate` instances, except that multiplication by a duration results in a probability being returned, which involves conversion to a cumulative hazard rate rather than just direct linear multiplication of the rate. For example, suppose we had a process where the probability per year was 0.1. This can be captured with:"
   ]
  },
  {
   "cell_type": "code",
   "execution_count": 61,
   "id": "c892bc3b",
   "metadata": {
    "ExecuteTime": {
     "end_time": "2025-03-20T03:32:03.517282Z",
     "start_time": "2025-03-20T03:32:03.514222Z"
    }
   },
   "outputs": [],
   "source": [
    "p = TimeProb(0.1, Dur(1))"
   ]
  },
  {
   "cell_type": "markdown",
   "id": "393c2b95",
   "metadata": {},
   "source": [
    "If we multiply this by 1 year, we will get back the same probability"
   ]
  },
  {
   "cell_type": "code",
   "execution_count": 62,
   "id": "c94e67f1",
   "metadata": {
    "ExecuteTime": {
     "end_time": "2025-03-20T03:32:03.522983Z",
     "start_time": "2025-03-20T03:32:03.518290Z"
    }
   },
   "outputs": [
    {
     "data": {
      "text/plain": [
       "0.09999999999999998"
      ]
     },
     "execution_count": 62,
     "metadata": {},
     "output_type": "execute_result"
    }
   ],
   "source": [
    "p*Dur(1)"
   ]
  },
  {
   "cell_type": "markdown",
   "id": "30a596ba",
   "metadata": {},
   "source": [
    "However, if we multiply it by 2 years to get the probability per 2 year period, we get less than double the value:"
   ]
  },
  {
   "cell_type": "code",
   "execution_count": 63,
   "id": "3239b052",
   "metadata": {
    "ExecuteTime": {
     "end_time": "2025-03-20T03:32:03.528388Z",
     "start_time": "2025-03-20T03:32:03.524508Z"
    }
   },
   "outputs": [
    {
     "data": {
      "text/plain": [
       "0.18999999999999995"
      ]
     },
     "execution_count": 63,
     "metadata": {},
     "output_type": "execute_result"
    }
   ],
   "source": [
    "p*Dur(2)"
   ]
  },
  {
   "cell_type": "markdown",
   "id": "b987aa09",
   "metadata": {
    "ExecuteTime": {
     "end_time": "2025-03-19T01:26:15.450733Z",
     "start_time": "2025-03-19T01:26:15.446108Z"
    }
   },
   "source": [
    "Similarly, if we multiply by half a year, to get the probability per 6 month period, we get more than half the value:"
   ]
  },
  {
   "cell_type": "code",
   "execution_count": 64,
   "id": "f909b438",
   "metadata": {
    "ExecuteTime": {
     "end_time": "2025-03-20T03:32:03.533959Z",
     "start_time": "2025-03-20T03:32:03.529909Z"
    },
    "scrolled": false
   },
   "outputs": [
    {
     "data": {
      "text/plain": [
       "0.05131670194948623"
      ]
     },
     "execution_count": 64,
     "metadata": {},
     "output_type": "execute_result"
    }
   ],
   "source": [
    "p*Dur(0.5)"
   ]
  },
  {
   "cell_type": "markdown",
   "id": "63212c64",
   "metadata": {},
   "source": [
    "# Time vectors"
   ]
  },
  {
   "cell_type": "markdown",
   "id": "71770fb7",
   "metadata": {},
   "source": [
    "Creation of time vectors is based around the `Date.arange` function but goes beyond that, because the `Time` object stored in Starsim modules has both date/dur and year-based representations, as well as explicitly tracks the timestep. After creating a `Time` object, it is necessary to initialise it. This is because initialisation accepts a `Sim` object, which is used to populate unspecified values based on the `Sim`. If no `Sim` is provided during initialisation, standard default values will be used. \n",
    "\n",
    "If all that is needed is an array of dates, use `Date.arange` e.g."
   ]
  },
  {
   "cell_type": "code",
   "execution_count": 65,
   "id": "480487fe",
   "metadata": {
    "ExecuteTime": {
     "end_time": "2025-03-20T03:32:03.758528Z",
     "start_time": "2025-03-20T03:32:03.535232Z"
    }
   },
   "outputs": [
    {
     "data": {
      "text/plain": [
       "array([<2020.01.01>, <2020.01.02>, <2020.01.03>, ..., <2030.01.30>,\n",
       "       <2030.01.31>, <2030.02.01>], dtype=object)"
      ]
     },
     "execution_count": 65,
     "metadata": {},
     "output_type": "execute_result"
    }
   ],
   "source": [
    "Date.arange(Date('2020-01-01'), Date('2030-02-01'), Dur(days=1))"
   ]
  },
  {
   "cell_type": "markdown",
   "id": "860fdf3a",
   "metadata": {},
   "source": [
    "Alternatively, a full `Time` instance can be constructed, in which case `Time.tvec` corresponds to the dates:"
   ]
  },
  {
   "cell_type": "code",
   "execution_count": 66,
   "id": "41b10684",
   "metadata": {
    "ExecuteTime": {
     "end_time": "2025-03-20T03:32:04.022563Z",
     "start_time": "2025-03-20T03:32:03.759680Z"
    }
   },
   "outputs": [
    {
     "data": {
      "text/plain": [
       "array([<2020.01.01>, <2020.01.02>, <2020.01.03>, ..., <2030.01.30>,\n",
       "       <2030.01.31>, <2030.02.01>], dtype=object)"
      ]
     },
     "execution_count": 66,
     "metadata": {},
     "output_type": "execute_result"
    }
   ],
   "source": [
    "t = Time(Date('2020-01-01'), Date('2030-02-01'), Dur(days=1)).init()\n",
    "t.tvec"
   ]
  },
  {
   "cell_type": "markdown",
   "id": "fd25d5cd",
   "metadata": {},
   "source": [
    "In the same way that durations can be added to a single date, they can be added to an array of dates:"
   ]
  },
  {
   "cell_type": "code",
   "execution_count": 67,
   "id": "6889ed3b",
   "metadata": {
    "ExecuteTime": {
     "end_time": "2025-03-20T03:32:04.223215Z",
     "start_time": "2025-03-20T03:32:04.023572Z"
    }
   },
   "outputs": [
    {
     "data": {
      "text/plain": [
       "array([<2020.01.02>, <2020.01.03>, <2020.01.04>, ..., <2030.01.31>,\n",
       "       <2030.02.01>, <2030.02.02>], dtype=object)"
      ]
     },
     "execution_count": 67,
     "metadata": {},
     "output_type": "execute_result"
    }
   ],
   "source": [
    "t.tvec + Dur(days=1)"
   ]
  },
  {
   "cell_type": "code",
   "execution_count": 68,
   "id": "78438b8e",
   "metadata": {
    "ExecuteTime": {
     "end_time": "2025-03-20T03:32:04.362976Z",
     "start_time": "2025-03-20T03:32:04.224223Z"
    }
   },
   "outputs": [
    {
     "data": {
      "text/plain": [
       "array([<2020.01.31 11:59:59>, <2020.02.01 11:59:59>,\n",
       "       <2020.02.02 11:59:59>, ..., <2030.03.01 09:59:59>,\n",
       "       <2030.03.02 09:59:59>, <2030.03.03 09:59:59>], dtype=object)"
      ]
     },
     "execution_count": 68,
     "metadata": {},
     "output_type": "execute_result"
    }
   ],
   "source": [
    "t.tvec + Dur(1/12)"
   ]
  },
  {
   "cell_type": "code",
   "execution_count": 69,
   "id": "2ded626d",
   "metadata": {
    "ExecuteTime": {
     "end_time": "2025-03-20T03:32:04.566599Z",
     "start_time": "2025-03-20T03:32:04.364493Z"
    }
   },
   "outputs": [
    {
     "data": {
      "text/plain": [
       "array([<2020.02.01>, <2020.02.02>, <2020.02.03>, ..., <2030.02.28>,\n",
       "       <2030.02.28>, <2030.03.01>], dtype=object)"
      ]
     },
     "execution_count": 69,
     "metadata": {},
     "output_type": "execute_result"
    }
   ],
   "source": [
    "t.tvec + Dur(months=1)"
   ]
  },
  {
   "cell_type": "markdown",
   "id": "0f8c46c4",
   "metadata": {},
   "source": [
    "Plots can be made using dates on the x-axis e.g.,"
   ]
  },
  {
   "cell_type": "code",
   "execution_count": 70,
   "id": "793ae55f",
   "metadata": {
    "ExecuteTime": {
     "end_time": "2025-03-20T03:32:04.765036Z",
     "start_time": "2025-03-20T03:32:04.567608Z"
    }
   },
   "outputs": [
    {
     "data": {
      "image/png": "[encoded data removed]",
      "text/plain": [
       "<Figure size 640x480 with 1 Axes>"
      ]
     },
     "metadata": {},
     "output_type": "display_data"
    }
   ],
   "source": [
    "plt.plot(t.tvec, np.random.randn(len(t.tvec)));"
   ]
  },
  {
   "cell_type": "markdown",
   "id": "eba4ea43",
   "metadata": {},
   "source": [
    "Outbreak simulations would be run using a time vector based on durations"
   ]
  },
  {
   "cell_type": "code",
   "execution_count": 71,
   "id": "c9417b99",
   "metadata": {
    "ExecuteTime": {
     "end_time": "2025-03-20T03:32:04.771131Z",
     "start_time": "2025-03-20T03:32:04.767044Z"
    },
    "scrolled": true
   },
   "outputs": [
    {
     "data": {
      "text/plain": [
       "array([<YearDur: 0.0 years>, <YearDur: 0.083333333333 years>,\n",
       "       <YearDur: 0.166666666667 years>, <YearDur: 0.25 years>,\n",
       "       <YearDur: 0.333333333333 years>, <YearDur: 0.416666666667 years>,\n",
       "       <YearDur: 0.5 years>, <YearDur: 0.583333333333 years>,\n",
       "       <YearDur: 0.666666666667 years>, <YearDur: 0.75 years>,\n",
       "       <YearDur: 0.833333333333 years>, <YearDur: 0.916666666667 years>,\n",
       "       <YearDur: 1.0 years>], dtype=object)"
      ]
     },
     "execution_count": 71,
     "metadata": {},
     "output_type": "execute_result"
    }
   ],
   "source": [
    "t = Time(Dur(0), Dur(1), Dur(1/12)).init()\n",
    "t.tvec"
   ]
  },
  {
   "cell_type": "markdown",
   "id": "7f9ac9ef",
   "metadata": {},
   "source": [
    "These can be plotted directly"
   ]
  },
  {
   "cell_type": "code",
   "execution_count": 72,
   "id": "a727424b",
   "metadata": {
    "ExecuteTime": {
     "end_time": "2025-03-20T03:32:04.869203Z",
     "start_time": "2025-03-20T03:32:04.772139Z"
    }
   },
   "outputs": [
    {
     "data": {
      "image/png": "[encoded data removed]",
      "text/plain": [
       "<Figure size 640x480 with 1 Axes>"
      ]
     },
     "metadata": {},
     "output_type": "display_data"
    }
   ],
   "source": [
    "plt.plot(t.tvec, np.random.randn(len(t.tvec)));"
   ]
  },
  {
   "cell_type": "code",
   "execution_count": 73,
   "id": "58e5c30e",
   "metadata": {
    "ExecuteTime": {
     "end_time": "2025-03-20T03:32:04.899470Z",
     "start_time": "2025-03-20T03:32:04.870725Z"
    }
   },
   "outputs": [
    {
     "data": {
      "text/plain": [
       "array([<DateDur: 0>, <DateDur: days=1>, <DateDur: days=2>,\n",
       "       <DateDur: days=3>, <DateDur: days=4>, <DateDur: days=5>,\n",
       "       <DateDur: days=6>, <DateDur: days=7>, <DateDur: days=8>,\n",
       "       <DateDur: days=9>, <DateDur: days=10>, <DateDur: days=11>,\n",
       "       <DateDur: days=12>, <DateDur: days=13>, <DateDur: days=14>,\n",
       "       <DateDur: days=15>, <DateDur: days=16>, <DateDur: days=17>,\n",
       "       <DateDur: days=18>, <DateDur: days=19>, <DateDur: days=20>,\n",
       "       <DateDur: days=21>, <DateDur: days=22>, <DateDur: days=23>,\n",
       "       <DateDur: days=24>, <DateDur: days=25>, <DateDur: days=26>,\n",
       "       <DateDur: days=27>, <DateDur: days=28>, <DateDur: days=29>,\n",
       "       <DateDur: days=30>], dtype=object)"
      ]
     },
     "execution_count": 73,
     "metadata": {},
     "output_type": "execute_result"
    }
   ],
   "source": [
    "t = Time(Dur(days=0), Dur(days=30), Dur(days=1)).init()\n",
    "t.tvec"
   ]
  },
  {
   "cell_type": "markdown",
   "id": "56246fd3",
   "metadata": {},
   "source": [
    "These can be plotted directly as well - however, at the moment these are still in units of years elapsed - a todo item is to improve the default labelling (but at this stage does not appear to be worth delaying the release for). "
   ]
  },
  {
   "cell_type": "code",
   "execution_count": 74,
   "id": "beb842c9",
   "metadata": {
    "ExecuteTime": {
     "end_time": "2025-03-20T03:32:04.999820Z",
     "start_time": "2025-03-20T03:32:04.902122Z"
    }
   },
   "outputs": [
    {
     "data": {
      "image/png": "[encoded data removed]",
      "text/plain": [
       "<Figure size 640x480 with 1 Axes>"
      ]
     },
     "metadata": {},
     "output_type": "display_data"
    }
   ],
   "source": [
    "plt.plot(t.tvec, np.random.randn(len(t.tvec)));"
   ]
  },
  {
   "cell_type": "markdown",
   "id": "35322feb",
   "metadata": {},
   "source": [
    "A date could then be added to these to align the outbreak with calendar dates for comparison to data"
   ]
  },
  {
   "cell_type": "code",
   "execution_count": 75,
   "id": "815a9dfa",
   "metadata": {
    "ExecuteTime": {
     "end_time": "2025-03-20T03:32:05.009507Z",
     "start_time": "2025-03-20T03:32:05.002359Z"
    }
   },
   "outputs": [
    {
     "data": {
      "text/plain": [
       "array([<2020.01.01>, <2020.01.02>, <2020.01.03>, <2020.01.04>,\n",
       "       <2020.01.05>, <2020.01.06>, <2020.01.07>, <2020.01.08>,\n",
       "       <2020.01.09>, <2020.01.10>, <2020.01.11>, <2020.01.12>,\n",
       "       <2020.01.13>, <2020.01.14>, <2020.01.15>, <2020.01.16>,\n",
       "       <2020.01.17>, <2020.01.18>, <2020.01.19>, <2020.01.20>,\n",
       "       <2020.01.21>, <2020.01.22>, <2020.01.23>, <2020.01.24>,\n",
       "       <2020.01.25>, <2020.01.26>, <2020.01.27>, <2020.01.28>,\n",
       "       <2020.01.29>, <2020.01.30>, <2020.01.31>], dtype=object)"
      ]
     },
     "execution_count": 75,
     "metadata": {},
     "output_type": "execute_result"
    }
   ],
   "source": [
    "t.tvec+Date('2020-01-01')"
   ]
  },
  {
   "cell_type": "code",
   "execution_count": 76,
   "id": "9d440079",
   "metadata": {
    "ExecuteTime": {
     "end_time": "2025-03-20T03:32:05.019477Z",
     "start_time": "2025-03-20T03:32:05.010515Z"
    }
   },
   "outputs": [
    {
     "data": {
      "text/plain": [
       "array([<2020.03.01>, <2020.03.02>, <2020.03.03>, <2020.03.04>,\n",
       "       <2020.03.05>, <2020.03.06>, <2020.03.07>, <2020.03.08>,\n",
       "       <2020.03.09>, <2020.03.10>, <2020.03.11>, <2020.03.12>,\n",
       "       <2020.03.13>, <2020.03.14>, <2020.03.15>, <2020.03.16>,\n",
       "       <2020.03.17>, <2020.03.18>, <2020.03.19>, <2020.03.20>,\n",
       "       <2020.03.21>, <2020.03.22>, <2020.03.23>, <2020.03.24>,\n",
       "       <2020.03.25>, <2020.03.26>, <2020.03.27>, <2020.03.28>,\n",
       "       <2020.03.29>, <2020.03.30>, <2020.03.31>], dtype=object)"
      ]
     },
     "execution_count": 76,
     "metadata": {},
     "output_type": "execute_result"
    }
   ],
   "source": [
    "t.tvec+Date('2020-03-01')"
   ]
  },
  {
   "cell_type": "markdown",
   "id": "0fd68faa",
   "metadata": {},
   "source": [
    "The yearvec is available as well"
   ]
  },
  {
   "cell_type": "code",
   "execution_count": 77,
   "id": "5ade25b3",
   "metadata": {
    "ExecuteTime": {
     "end_time": "2025-03-20T03:32:05.318924Z",
     "start_time": "2025-03-20T03:32:05.021485Z"
    }
   },
   "outputs": [
    {
     "data": {
      "text/plain": [
       "array([2020.        , 2020.00273224, 2020.00546448, ..., 2030.07945205,\n",
       "       2030.08219178, 2030.08493151])"
      ]
     },
     "execution_count": 77,
     "metadata": {},
     "output_type": "execute_result"
    }
   ],
   "source": [
    "t = Time(Date('2020-01-01'), Date('2030-02-01'), Dur(days=1)).init()\n",
    "t.yearvec"
   ]
  },
  {
   "cell_type": "code",
   "execution_count": 78,
   "id": "17225e2e",
   "metadata": {
    "ExecuteTime": {
     "end_time": "2025-03-20T03:32:05.325512Z",
     "start_time": "2025-03-20T03:32:05.320591Z"
    }
   },
   "outputs": [
    {
     "data": {
      "text/plain": [
       "array([0.        , 0.08333333, 0.16666667, 0.25      , 0.33333333,\n",
       "       0.41666667, 0.5       , 0.58333333, 0.66666667, 0.75      ,\n",
       "       0.83333333, 0.91666667, 1.        ])"
      ]
     },
     "execution_count": 78,
     "metadata": {},
     "output_type": "execute_result"
    }
   ],
   "source": [
    "t = Time(Dur(0), Dur(1), Dur(1/12)).init()\n",
    "t.yearvec"
   ]
  },
  {
   "cell_type": "markdown",
   "id": "3cc7a796",
   "metadata": {},
   "source": [
    "# Distributions"
   ]
  },
  {
   "cell_type": "markdown",
   "id": "b967a3e3",
   "metadata": {},
   "source": [
    "Distributions can be used without any changes, with dimensionless numbers interpreted as required by parent modules. In many cases, the distribution should be parametrized by a duration e.g., distribution of duration of infection. This is typically sampled per-agent, but for performance reasons, we need `Dist.rvs()` to return a bare numpy array that can be operated on natively. To achieve this, the distribution automatically converts any time parameters onto its parent timestep before calling `rvs`. Thus, the output of `rvs()` is specific to the timestep. Conversion is handled automatically. \n",
    "\n",
    "In order to demonstrate this functionality, it's necessary to also construct a mock module so that the `Dur` instance can carry out this conversion - normally of course, the `module` argument would correspond to the actual parent module for the distribution. In this case, we can see how a mean duration of 6 days maps to 6 timesteps, so the mean of the output from `d.rvs()` is 6:"
   ]
  },
  {
   "cell_type": "code",
   "execution_count": 79,
   "id": "bcb3d393",
   "metadata": {
    "ExecuteTime": {
     "end_time": "2025-03-20T03:32:05.336698Z",
     "start_time": "2025-03-20T03:32:05.327517Z"
    }
   },
   "outputs": [
    {
     "data": {
      "text/plain": [
       "array([6.12573022, 5.86789514, 6.64042265, 6.10490012, 5.46433063])"
      ]
     },
     "execution_count": 79,
     "metadata": {},
     "output_type": "execute_result"
    }
   ],
   "source": [
    "module = sc.objdict(t=sc.objdict(dt=Dur(days=1)))\n",
    "d = ss.normal(Dur(days=6), Dur(days=1), module=module, strict=False)\n",
    "d.init()\n",
    "d.rvs(5)"
   ]
  },
  {
   "cell_type": "markdown",
   "id": "f6ab212a",
   "metadata": {},
   "source": [
    "Alternatively, consider exactly the same distribution, but in a case where the timestep is 1 week. Now, a mean duration of 6 days corresponds to a duration of 6/7 weeks. The output of `d.rvs()` now has a mean value of 6/7, even though the input parameters to `ss.normal` are unchanged. "
   ]
  },
  {
   "cell_type": "code",
   "execution_count": 80,
   "id": "bfa3eb61",
   "metadata": {
    "ExecuteTime": {
     "end_time": "2025-03-20T03:32:05.347679Z",
     "start_time": "2025-03-20T03:32:05.338743Z"
    }
   },
   "outputs": [
    {
     "data": {
      "text/plain": [
       "array([0.87510432, 0.83827073, 0.94863181, 0.87212859, 0.78061866])"
      ]
     },
     "execution_count": 80,
     "metadata": {},
     "output_type": "execute_result"
    }
   ],
   "source": [
    "module = sc.objdict(t=sc.objdict(dt=Dur(weeks=1)))\n",
    "d = ss.normal(Dur(days=6), Dur(days=1), module=module, strict=False)\n",
    "d.init()\n",
    "d.rvs(5)"
   ]
  },
  {
   "cell_type": "markdown",
   "id": "bd4b2096",
   "metadata": {},
   "source": [
    "This conversion also works with function parameters, which can return time parameter instances. For instance\n"
   ]
  },
  {
   "cell_type": "code",
   "execution_count": 81,
   "id": "12b69051",
   "metadata": {
    "ExecuteTime": {
     "end_time": "2025-03-20T03:32:05.359603Z",
     "start_time": "2025-03-20T03:32:05.349689Z"
    }
   },
   "outputs": [
    {
     "data": {
      "text/plain": [
       "array([5.12573022, 4.86789514, 5.64042265, 5.10490012, 4.46433063])"
      ]
     },
     "execution_count": 81,
     "metadata": {},
     "output_type": "execute_result"
    }
   ],
   "source": [
    "def loc(module, sim, uids):\n",
    "    return Dur(days=5)\n",
    "\n",
    "module = sc.objdict(t=sc.objdict(dt=Dur(days=1)))\n",
    "d = ss.normal(loc, Dur(days=1), module=module, strict=False)\n",
    "d.init()\n",
    "d.rvs(5)"
   ]
  },
  {
   "cell_type": "code",
   "execution_count": 82,
   "id": "8003bae1",
   "metadata": {
    "ExecuteTime": {
     "end_time": "2025-03-20T03:32:05.384407Z",
     "start_time": "2025-03-20T03:32:05.366624Z"
    }
   },
   "outputs": [
    {
     "data": {
      "text/plain": [
       "array([ 0.12573022,  0.86789514,  2.64042265,  3.10490012,  3.46433063,\n",
       "        5.36159505,  7.30400005,  7.94708096,  7.29626476,  7.73457853,\n",
       "        9.37672554, 11.04132598,  9.67496923, 12.78120834, 12.75408905,\n",
       "       14.26773265, 15.45574102, 16.68369984, 18.41163054, 20.04251337])"
      ]
     },
     "execution_count": 82,
     "metadata": {},
     "output_type": "execute_result"
    }
   ],
   "source": [
    "def loc(module, sim, uids):\n",
    "    return np.array([Dur(days=x) for x in range(uids)])\n",
    "\n",
    "module = sc.objdict(t=sc.objdict(dt=Dur(days=1)))\n",
    "d = ss.normal(loc, Dur(days=1), module=module, strict=False)\n",
    "d.init()\n",
    "d.rvs(20)"
   ]
  }
 ],
 "metadata": {
  "kernelspec": {
   "display_name": "Python [conda env:atomica312]",
   "language": "python",
   "name": "conda-env-atomica312-py"
  },
  "language_info": {
   "codemirror_mode": {
    "name": "ipython",
    "version": 3
   },
   "file_extension": ".py",
   "mimetype": "text/x-python",
   "name": "python",
   "nbconvert_exporter": "python",
   "pygments_lexer": "ipython3",
   "version": "3.12.2"
  },
  "toc": {
   "base_numbering": 1,
   "nav_menu": {},
   "number_sections": true,
   "sideBar": true,
   "skip_h1_title": false,
   "title_cell": "Table of Contents",
   "title_sidebar": "Contents",
   "toc_cell": false,
   "toc_position": {
    "height": "calc(100% - 180px)",
    "left": "10px",
    "top": "150px",
    "width": "367.4px"
   },
   "toc_section_display": true,
   "toc_window_display": true
  }
 },
 "nbformat": 4,
 "nbformat_minor": 5
}
