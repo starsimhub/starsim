{
 "cells": [
  {
   "cell_type": "markdown",
   "metadata": {},
   "source": [
    "# HIV Testing Intervention\n",
    "\n",
    "Tests and code for the creation of a new HIV testing intervention. "
   ]
  },
  {
   "cell_type": "code",
   "execution_count": 1,
   "metadata": {},
   "outputs": [
    {
     "name": "stdout",
     "output_type": "stream",
     "text": [
      "STIsim 0.0.8 (2023-10-04) — © 2023 by IDM\n"
     ]
    }
   ],
   "source": [
    "import matplotlib.pyplot as plt\n",
    "\n",
    "import stisim as ss"
   ]
  },
  {
   "cell_type": "markdown",
   "metadata": {},
   "source": [
    "## Runing an basic simulation"
   ]
  },
  {
   "cell_type": "code",
   "execution_count": 2,
   "metadata": {},
   "outputs": [
    {
     "name": "stdout",
     "output_type": "stream",
     "text": [
      "Initializing sim (warning: not resetting sim.people) with 10000 agents\n",
      "... initializing SimpleDiagnosticTest: \n",
      "  Running 1985.0 ( 0/66) (0.00 s)  ———————————————————— 2%\n",
      "  Running 1995.0 (10/66) (1.41 s)  •••————————————————— 17%\n",
      "  Running 2005.0 (20/66) (1.48 s)  ••••••—————————————— 32%\n",
      "  Running 2015.0 (30/66) (1.55 s)  •••••••••——————————— 47%\n",
      "  Running 2025.0 (40/66) (1.64 s)  ••••••••••••———————— 62%\n",
      "  Running 2035.0 (50/66) (1.72 s)  •••••••••••••••————— 77%\n",
      "  Running 2045.0 (60/66) (1.84 s)  ••••••••••••••••••—— 92%\n"
     ]
    },
    {
     "data": {
      "text/plain": [
       "<stisim.sim.Sim at 0x1e7acf933a0>\n",
       "[<class 'stisim.sim.Sim'>, <class 'sciris.sc_utils.prettyobj'>, <class 'object'>]\n",
       "————————————————————————————————————————————————————————————\n",
       "Methods:\n",
       "  finalize()          init_people()       shrink()            \n",
       "  init_analyzers()    init_time_vecs()    step()              \n",
       "  init_demographi...  initialize()        validate_dt()       \n",
       "  init_diseases()     load()              validate_pars()     \n",
       "  init_interventi...  run()               validate_post_i...  \n",
       "  init_networks()     save()              \n",
       "————————————————————————————————————————————————————————————\n",
       "Properties:\n",
       "  dt                  year                \n",
       "————————————————————————————————————————————————————————————\n",
       "    analyzers: objdict()\n",
       "     complete: True\n",
       "   connectors: None\n",
       "      created: None\n",
       " demographics: #0. 'pregnancy':\n",
       "               <stisim.demographics.Pregnancy at 0x1e7acf91480>\n",
       "               [ [...]\n",
       "     diseases: #0. 'hiv':\n",
       "               <stisim.hiv.HIV at 0x1e7acf91c00>\n",
       "               [<class 'stisim.hiv.HI [...]\n",
       "     filename: None\n",
       "  initialized: True\n",
       "interventions: #0. 'simplediagnostictest':\n",
       "               <stisim.hiv.SimpleDiagnosticTest at 0x1 [...]\n",
       "        label: None\n",
       "         npts: 66\n",
       "         pars: #0. 'n_agents':      10000\n",
       "               ———————————————————————————————————————— [...]\n",
       "       people: <stisim.people.People at 0x1e7acf91450>\n",
       "               [<class 'stisim.people.Peop [...]\n",
       "      results: #0. 'n_alive':\n",
       "               Result(n_alive):\n",
       "               array([10136, 10293, 10437, 10604,  [...]\n",
       "results_ready: True\n",
       "      summary: None\n",
       "           ti: 65\n",
       "        tivec: array([ 0,  1,  2,  3,  4,  5,  6,  7,  8,  9, 10, 11,\n",
       "               12, 13, 14,  [...]\n",
       "      yearvec: array([1985., 1986., 1987., 1988., 1989., 1990., 1991.,\n",
       "               1992., 1993 [...]\n",
       "————————————————————————————————————————————————————————————"
      ]
     },
     "execution_count": 2,
     "metadata": {},
     "output_type": "execute_result"
    }
   ],
   "source": [
    "# Network\n",
    "ppl = ss.People( 10_000 )\n",
    "ppl.networks = ss.ndict( ss.simple_sexual(), ss.maternal() )\n",
    "\n",
    "\n",
    "# HIV settings and interventions\n",
    "hiv_params = { 'beta'      : { 'simple_sexual': [ 0.0008, 0.0004], \n",
    "                               'maternal'     : [ 0.2   , 0     ]\n",
    "                              },\n",
    "               'initial' : 50   # Is this working with init_states?\n",
    "              }\n",
    "hiv = ss.HIV( pars=hiv_params )\n",
    "\n",
    "hiv_simple_diagnostic = ss.hiv.SimpleDiagnosticTest( start=1995 )\n",
    "\n",
    "\n",
    "# Simulation parameters\n",
    "sim_params = { 'start': 1985,\n",
    "               'end'  : 2050\n",
    "              }\n",
    "\n",
    "\n",
    "# Create and run simulation\n",
    "sim = ss.Sim( pars          = sim_params,\n",
    "              people        = ppl, \n",
    "              demographics  = [ ss.Pregnancy() ],   # Isn't people also demographics?\n",
    "              diseases      = [ hiv, ss.Gonorrhea() ],\n",
    "              interventions = [ hiv_simple_diagnostic ]\n",
    "             )\n",
    "sim.initialize()\n",
    "sim.run()"
   ]
  },
  {
   "cell_type": "code",
   "execution_count": 12,
   "metadata": {},
   "outputs": [
    {
     "data": {
      "image/png": "[encoded data removed]",
      "text/plain": [
       "<Figure size 640x480 with 2 Axes>"
      ]
     },
     "metadata": {},
     "output_type": "display_data"
    }
   ],
   "source": [
    "fig, axs = plt.subplots( 2, 1, sharex=True )\n",
    "\n",
    "axs[0].plot( sim.yearvec, sim.results.hiv.n_infected )\n",
    "axs[0].set_title( 'HIV: number of infections' )\n",
    "\n",
    "axs[1].plot( sim.yearvec, sim.results.hiv.n_diagnosed )\n",
    "axs[1].set_title( 'HIV: number of diagnoses' )\n",
    "\n",
    "fig.tight_layout()"
   ]
  },
  {
   "cell_type": "markdown",
   "metadata": {},
   "source": [
    "## Testing intervention"
   ]
  },
  {
   "cell_type": "code",
   "execution_count": 5,
   "metadata": {},
   "outputs": [
    {
     "data": {
      "text/plain": [
       "['age',\n",
       " 'female',\n",
       " 'debut',\n",
       " 'alive',\n",
       " 'ti_dead',\n",
       " 'scale',\n",
       " 'hiv.rel_sus',\n",
       " 'hiv.rel_sev',\n",
       " 'hiv.rel_trans',\n",
       " 'hiv.susceptible',\n",
       " 'hiv.infected',\n",
       " 'hiv.ti_infected',\n",
       " 'hiv.on_art',\n",
       " 'hiv.cd4',\n",
       " 'hiv.diagnosed',\n",
       " 'hiv.ti_diagnosed',\n",
       " 'gonorrhea.rel_sus',\n",
       " 'gonorrhea.rel_sev',\n",
       " 'gonorrhea.rel_trans',\n",
       " 'gonorrhea.susceptible',\n",
       " 'gonorrhea.infected',\n",
       " 'gonorrhea.ti_infected',\n",
       " 'gonorrhea.ti_recovered',\n",
       " 'gonorrhea.ti_dead']"
      ]
     },
     "execution_count": 5,
     "metadata": {},
     "output_type": "execute_result"
    }
   ],
   "source": [
    "ppl.states.keys()"
   ]
  },
  {
   "cell_type": "code",
   "execution_count": 6,
   "metadata": {
    "tags": []
   },
   "outputs": [
    {
     "data": {
      "text/plain": [
       "['n_alive', 'new_deaths', 'pregnancy', 'hiv', 'gonorrhea']"
      ]
     },
     "execution_count": 6,
     "metadata": {},
     "output_type": "execute_result"
    }
   ],
   "source": [
    "sim.results.keys()"
   ]
  },
  {
   "cell_type": "code",
   "execution_count": 7,
   "metadata": {
    "tags": []
   },
   "outputs": [
    {
     "data": {
      "text/plain": [
       "#0. 'n_susceptible':\n",
       "Result(hiv.n_susceptible):\n",
       "array([10086, 10243, 10387, 10554, 10708, 10888, 11048, 11206, 11361,\n",
       "        11511, 11697, 11878, 12056, 12249, 12426, 12633, 12796, 12959,\n",
       "        13143, 13315, 13508, 13711, 13892, 14076, 14286, 14494, 14714,\n",
       "        14950, 15159, 15390, 15636, 15873, 16087, 16313, 16587, 16834,\n",
       "        17133, 17381, 17639, 17895, 18183, 18441, 18724, 19007, 19299,\n",
       "        19601, 19905, 20232, 20550, 20854, 21166, 21471, 21816, 22136,\n",
       "        22488, 22860, 23178, 23563, 23916, 24240, 24580, 24958, 25333,\n",
       "        25711, 26105, 26480])\n",
       "————————————————————————————————————————\n",
       "#1. 'n_infected':\n",
       "Result(hiv.n_infected):\n",
       "array([50, 50, 50, 50, 50, 50, 50, 50, 50, 50, 50, 51, 51, 51, 51, 51,\n",
       "        51, 51, 51, 51, 51, 51, 52, 52, 52, 52, 52, 52, 53, 53, 53, 54,\n",
       "        54, 55, 55, 55, 55, 55, 55, 55, 56, 57, 57, 57, 57, 57, 57, 57,\n",
       "        57, 58, 58, 58, 58, 58, 58, 58, 58, 58, 58, 58, 60, 60, 61, 61,\n",
       "        61, 61])\n",
       "————————————————————————————————————————\n",
       "#2. 'prevalence':\n",
       "Result(hiv.prevalence):\n",
       "array([0.00493291, 0.00485767, 0.00479065, 0.0047152 , 0.0046477 ,\n",
       "        0.00457122, 0.00450532, 0.00444208, 0.00438174, 0.00432489,\n",
       "        0.00425641, 0.0042753 , 0.00421244, 0.00414634, 0.00408752,\n",
       "        0.00402081, 0.0039698 , 0.00392006, 0.00386539, 0.00381565,\n",
       "        0.00376134, 0.00370586, 0.0037292 , 0.00368063, 0.00362673,\n",
       "        0.00357487, 0.0035216 , 0.0034662 , 0.00348409, 0.00343198,\n",
       "        0.00337816, 0.00339047, 0.00334552, 0.00336022, 0.00330489,\n",
       "        0.00325656, 0.00319991, 0.00315439, 0.0031084 , 0.00306407,\n",
       "        0.00307034, 0.00308141, 0.00303498, 0.00298993, 0.00294482,\n",
       "        0.00289958, 0.00285543, 0.0028094 , 0.00276605, 0.00277353,\n",
       "        0.00273276, 0.00269404, 0.00265155, 0.00261332, 0.00257252,\n",
       "        0.00253076, 0.00249613, 0.00245544, 0.00241929, 0.00238703,\n",
       "        0.00243506, 0.00239827, 0.00240214, 0.00236691, 0.00233127,\n",
       "        0.00229833])\n",
       "————————————————————————————————————————\n",
       "#3. 'new_infections':\n",
       "Result(hiv.new_infections):\n",
       "array([10136,     0,     0,     0,     0,     0,     0,     0,     0,\n",
       "            0,     0,     1,     0,     0,     0,     0,     0,     0,\n",
       "            0,     0,     0,     0,     1,     0,     0,     0,     0,\n",
       "            0,     1,     0,     0,     1,     0,     1,     0,     0,\n",
       "            0,     0,     0,     0,     1,     1,     0,     0,     0,\n",
       "            0,     0,     0,     0,     1,     0,     0,     0,     0,\n",
       "            0,     0,     0,     0,     0,     0,     2,     0,     1,\n",
       "            0,     0,     0])\n",
       "————————————————————————————————————————\n",
       "#4. 'n_diagnosed':\n",
       "Result(hiv.n_diagnosed):\n",
       "array([ 0,  0,  0,  0,  0,  0,  0,  0,  0,  0, 39, 47, 50, 50, 50, 50,\n",
       "        50, 50, 50, 50, 50, 50, 50, 51, 51, 51, 51, 51, 51, 52, 52, 52,\n",
       "        53, 53, 54, 54, 54, 54, 54, 54, 54, 55, 56, 56, 56, 56, 56, 56,\n",
       "        56, 56, 57, 57, 57, 57, 57, 57, 57, 57, 57, 57, 57, 59, 59, 60,\n",
       "        60, 60])"
      ]
     },
     "execution_count": 7,
     "metadata": {},
     "output_type": "execute_result"
    }
   ],
   "source": [
    "sim.results.hiv"
   ]
  }
 ],
 "metadata": {
  "kernelspec": {
   "display_name": "Python 3 (ipykernel)",
   "language": "python",
   "name": "python3"
  },
  "language_info": {
   "codemirror_mode": {
    "name": "ipython",
    "version": 3
   },
   "file_extension": ".py",
   "mimetype": "text/x-python",
   "name": "python",
   "nbconvert_exporter": "python",
   "pygments_lexer": "ipython3",
   "version": "3.10.13"
  }
 },
 "nbformat": 4,
 "nbformat_minor": 4
}
