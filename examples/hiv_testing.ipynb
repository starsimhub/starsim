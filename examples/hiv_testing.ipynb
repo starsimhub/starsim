{
 "cells": [
  {
   "cell_type": "markdown",
   "metadata": {},
   "source": [
    "# HIV Testing Intervention\n",
    "\n",
    "Tests and code for the creation of a new HIV testing intervention. "
   ]
  },
  {
   "cell_type": "code",
   "execution_count": 1,
   "metadata": {},
   "outputs": [
    {
     "name": "stdout",
     "output_type": "stream",
     "text": [
      "STIsim 0.0.8 (2023-10-04) — © 2023 by IDM\n"
     ]
    }
   ],
   "source": [
    "import matplotlib.pyplot as plt\n",
    "\n",
    "import stisim as ss"
   ]
  },
  {
   "cell_type": "markdown",
   "metadata": {},
   "source": [
    "## Runing an basic simulation"
   ]
  },
  {
   "cell_type": "code",
   "execution_count": 2,
   "metadata": {},
   "outputs": [
    {
     "name": "stdout",
     "output_type": "stream",
     "text": [
      "... creating SimpleDiagnosticTest intervention\n",
      "Initializing sim (warning: not resetting sim.people) with 10000 agents\n",
      "... initializing SimpleDiagnosticTest: \n",
      "  Running 1985.0 ( 0/66) (0.00 s)  ———————————————————— 2%\n",
      "... applying intervention in step  0 / 66\n",
      "  Running 1995.0 (10/66) (1.51 s)  •••————————————————— 17%\n",
      "  Running 2005.0 (20/66) (1.59 s)  ••••••—————————————— 32%\n",
      "  Running 2015.0 (30/66) (1.67 s)  •••••••••——————————— 47%\n",
      "  Running 2025.0 (40/66) (1.76 s)  ••••••••••••———————— 62%\n",
      "  Running 2035.0 (50/66) (1.85 s)  •••••••••••••••————— 77%\n",
      "  Running 2045.0 (60/66) (1.97 s)  ••••••••••••••••••—— 92%\n"
     ]
    },
    {
     "data": {
      "text/plain": [
       "<stisim.sim.Sim at 0x260e090f550>\n",
       "[<class 'stisim.sim.Sim'>, <class 'sciris.sc_utils.prettyobj'>, <class 'object'>]\n",
       "————————————————————————————————————————————————————————————\n",
       "Methods:\n",
       "  finalize()          init_people()       shrink()            \n",
       "  init_analyzers()    init_time_vecs()    step()              \n",
       "  init_demographi...  initialize()        validate_dt()       \n",
       "  init_diseases()     load()              validate_pars()     \n",
       "  init_interventi...  run()               validate_post_i...  \n",
       "  init_networks()     save()              \n",
       "————————————————————————————————————————————————————————————\n",
       "Properties:\n",
       "  dt                  year                \n",
       "————————————————————————————————————————————————————————————\n",
       "    analyzers: objdict()\n",
       "     complete: True\n",
       "   connectors: None\n",
       "      created: None\n",
       " demographics: #0. 'pregnancy':\n",
       "               <stisim.demographics.Pregnancy at 0x260e090e890>\n",
       "               [ [...]\n",
       "     diseases: #0. 'hiv':\n",
       "               <stisim.hiv.HIV at 0x260e090d870>\n",
       "               [<class 'stisim.hiv.HI [...]\n",
       "     filename: None\n",
       "  initialized: True\n",
       "interventions: #0. 'simplediagnostictest':\n",
       "               <stisim.hiv.SimpleDiagnosticTest at 0x2 [...]\n",
       "        label: None\n",
       "         npts: 66\n",
       "         pars: #0. 'n_agents':      10000\n",
       "               ———————————————————————————————————————— [...]\n",
       "       people: <stisim.people.People at 0x260e090d0f0>\n",
       "               [<class 'stisim.people.Peop [...]\n",
       "      results: #0. 'n_alive':\n",
       "               Result(n_alive):\n",
       "               array([10138, 10299, 10443, 10610,  [...]\n",
       "results_ready: True\n",
       "      summary: None\n",
       "           ti: 65\n",
       "        tivec: array([ 0,  1,  2,  3,  4,  5,  6,  7,  8,  9, 10, 11,\n",
       "               12, 13, 14,  [...]\n",
       "      yearvec: array([1985., 1986., 1987., 1988., 1989., 1990., 1991.,\n",
       "               1992., 1993 [...]\n",
       "————————————————————————————————————————————————————————————"
      ]
     },
     "execution_count": 2,
     "metadata": {},
     "output_type": "execute_result"
    }
   ],
   "source": [
    "# Network\n",
    "ppl = ss.People( 10_000 )\n",
    "ppl.networks = ss.ndict( ss.simple_sexual(), ss.maternal() )\n",
    "\n",
    "\n",
    "# HIV settings and interventions\n",
    "hiv_params = { 'beta'      : { 'simple_sexual': [ 0.0008, 0.0004], \n",
    "                               'maternal'     : [ 0.2   , 0     ]\n",
    "                              },\n",
    "               'initial' : 50   # Is this working with init_states?\n",
    "              }\n",
    "hiv = ss.HIV( pars=hiv_params )\n",
    "\n",
    "hiv_simple_diagnostic = ss.hiv.SimpleDiagnosticTest()\n",
    "\n",
    "\n",
    "# Simulation parameters\n",
    "sim_params = { 'start': 1985,\n",
    "               'end'  : 2050\n",
    "              }\n",
    "\n",
    "\n",
    "# Create and run simulation\n",
    "sim = ss.Sim( pars          = sim_params,\n",
    "              people        = ppl, \n",
    "              demographics  = [ ss.Pregnancy() ],   # Isn't people also demographics?\n",
    "              diseases      = [ hiv, ss.Gonorrhea() ],\n",
    "              interventions = [ hiv_simple_diagnostic ]\n",
    "             )\n",
    "sim.initialize()\n",
    "sim.run()"
   ]
  },
  {
   "cell_type": "code",
   "execution_count": 3,
   "metadata": {},
   "outputs": [
    {
     "data": {
      "text/plain": [
       "Text(0.5, 1.0, 'HIV: number of infections')"
      ]
     },
     "execution_count": 3,
     "metadata": {},
     "output_type": "execute_result"
    },
    {
     "data": {
      "image/png": "[encoded data removed]",
      "text/plain": [
       "<Figure size 640x480 with 1 Axes>"
      ]
     },
     "metadata": {},
     "output_type": "display_data"
    }
   ],
   "source": [
    "plt.figure()\n",
    "plt.plot( sim.yearvec, sim.results.hiv.n_infected )\n",
    "plt.title( 'HIV: number of infections' )"
   ]
  },
  {
   "cell_type": "markdown",
   "metadata": {},
   "source": [
    "## Testing intervention"
   ]
  },
  {
   "cell_type": "code",
   "execution_count": 4,
   "metadata": {},
   "outputs": [
    {
     "data": {
      "text/plain": [
       "['age',\n",
       " 'female',\n",
       " 'debut',\n",
       " 'alive',\n",
       " 'ti_dead',\n",
       " 'scale',\n",
       " 'hiv.rel_sus',\n",
       " 'hiv.rel_sev',\n",
       " 'hiv.rel_trans',\n",
       " 'hiv.susceptible',\n",
       " 'hiv.infected',\n",
       " 'hiv.ti_infected',\n",
       " 'hiv.on_art',\n",
       " 'hiv.cd4',\n",
       " 'hiv.diagnosed',\n",
       " 'hiv.ti_diagnosed',\n",
       " 'gonorrhea.rel_sus',\n",
       " 'gonorrhea.rel_sev',\n",
       " 'gonorrhea.rel_trans',\n",
       " 'gonorrhea.susceptible',\n",
       " 'gonorrhea.infected',\n",
       " 'gonorrhea.ti_infected',\n",
       " 'gonorrhea.ti_recovered',\n",
       " 'gonorrhea.ti_dead']"
      ]
     },
     "execution_count": 4,
     "metadata": {},
     "output_type": "execute_result"
    }
   ],
   "source": [
    "ppl.states.keys()"
   ]
  },
  {
   "cell_type": "code",
   "execution_count": 5,
   "metadata": {
    "tags": []
   },
   "outputs": [
    {
     "data": {
      "text/plain": [
       "['n_alive', 'new_deaths', 'pregnancy', 'hiv', 'gonorrhea']"
      ]
     },
     "execution_count": 5,
     "metadata": {},
     "output_type": "execute_result"
    }
   ],
   "source": [
    "sim.results.keys()"
   ]
  },
  {
   "cell_type": "code",
   "execution_count": 6,
   "metadata": {
    "tags": []
   },
   "outputs": [
    {
     "data": {
      "text/plain": [
       "#0. 'n_susceptible':\n",
       "Result(hiv.n_susceptible):\n",
       "array([10088, 10249, 10393, 10560, 10723, 10908, 11053, 11212, 11390,\n",
       "        11564, 11726, 11910, 12089, 12279, 12485, 12687, 12901, 13094,\n",
       "        13296, 13504, 13718, 13944, 14130, 14334, 14557, 14780, 15025,\n",
       "        15237, 15461, 15696, 15914, 16157, 16393, 16616, 16857, 17120,\n",
       "        17403, 17669, 17931, 18187, 18494, 18770, 19055, 19316, 19623,\n",
       "        19902, 20173, 20484, 20806, 21133, 21430, 21729, 22075, 22413,\n",
       "        22730, 23073, 23412, 23773, 24083, 24433, 24793, 25195, 25574,\n",
       "        25979, 26372, 26769])\n",
       "————————————————————————————————————————\n",
       "#1. 'n_infected':\n",
       "Result(hiv.n_infected):\n",
       "array([50, 50, 50, 50, 50, 50, 50, 50, 50, 50, 51, 51, 51, 51, 51, 51,\n",
       "        51, 51, 51, 52, 52, 52, 52, 52, 53, 53, 53, 55, 55, 55, 55, 55,\n",
       "        56, 56, 56, 56, 56, 56, 56, 56, 56, 56, 56, 56, 57, 57, 57, 57,\n",
       "        57, 57, 57, 57, 57, 57, 57, 58, 58, 58, 58, 58, 58, 59, 59, 59,\n",
       "        59, 59])\n",
       "————————————————————————————————————————\n",
       "#2. 'prevalence':\n",
       "Result(hiv.prevalence):\n",
       "array([0.00493194, 0.00485484, 0.0047879 , 0.00471254, 0.00464123,\n",
       "        0.00456288, 0.00450329, 0.00443971, 0.00437063, 0.00430515,\n",
       "        0.00433047, 0.00426386, 0.00420099, 0.00413625, 0.00406828,\n",
       "        0.00400377, 0.00393762, 0.0038798 , 0.00382108, 0.00383594,\n",
       "        0.00377633, 0.00371535, 0.00366662, 0.00361463, 0.00362765,\n",
       "        0.00357311, 0.00351506, 0.00359665, 0.00354473, 0.00349184,\n",
       "        0.00344417, 0.00339255, 0.00340446, 0.00335893, 0.00331106,\n",
       "        0.00326036, 0.00320751, 0.00315938, 0.00311336, 0.00306967,\n",
       "        0.00301887, 0.00297461, 0.00293025, 0.00289077, 0.00289634,\n",
       "        0.00285585, 0.0028176 , 0.00277494, 0.00273211, 0.00268995,\n",
       "        0.00265277, 0.00261636, 0.00257546, 0.00253672, 0.00250143,\n",
       "        0.00250746, 0.00247124, 0.0024338 , 0.00240255, 0.00236822,\n",
       "        0.00233391, 0.00233626, 0.00230172, 0.00226592, 0.00223223,\n",
       "        0.00219919])\n",
       "————————————————————————————————————————\n",
       "#3. 'new_infections':\n",
       "Result(hiv.new_infections):\n",
       "array([10138,     0,     0,     0,     0,     0,     0,     0,     0,\n",
       "            0,     1,     0,     0,     0,     0,     0,     0,     0,\n",
       "            0,     1,     0,     0,     0,     0,     1,     0,     0,\n",
       "            2,     0,     0,     0,     0,     1,     0,     0,     0,\n",
       "            0,     0,     0,     0,     0,     0,     0,     0,     1,\n",
       "            0,     0,     0,     0,     0,     0,     0,     0,     0,\n",
       "            0,     1,     0,     0,     0,     0,     0,     1,     0,\n",
       "            0,     0,     0])\n",
       "————————————————————————————————————————\n",
       "#4. 'n_diagnosed':\n",
       "Result(hiv.n_diagnosed):\n",
       "array([0, 0, 0, 0, 0, 0, 0, 0, 0, 0, 0, 0, 0, 0, 0, 0, 0, 0, 0, 0, 0, 0,\n",
       "        0, 0, 0, 0, 0, 0, 0, 0, 0, 0, 0, 0, 0, 0, 0, 0, 0, 0, 0, 0, 0, 0,\n",
       "        0, 0, 0, 0, 0, 0, 0, 0, 0, 0, 0, 0, 0, 0, 0, 0, 0, 0, 0, 0, 0, 0])"
      ]
     },
     "execution_count": 6,
     "metadata": {},
     "output_type": "execute_result"
    }
   ],
   "source": [
    "sim.results.hiv"
   ]
  }
 ],
 "metadata": {
  "kernelspec": {
   "display_name": "Python 3 (ipykernel)",
   "language": "python",
   "name": "python3"
  },
  "language_info": {
   "codemirror_mode": {
    "name": "ipython",
    "version": 3
   },
   "file_extension": ".py",
   "mimetype": "text/x-python",
   "name": "python",
   "nbconvert_exporter": "python",
   "pygments_lexer": "ipython3",
   "version": "3.10.13"
  }
 },
 "nbformat": 4,
 "nbformat_minor": 4
}
