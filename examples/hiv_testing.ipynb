{
 "cells": [
  {
   "cell_type": "markdown",
   "metadata": {},
   "source": [
    "# HIV Testing Intervention\n",
    "\n",
    "Tests and code for the creation of a new HIV testing intervention. "
   ]
  },
  {
   "cell_type": "code",
   "execution_count": 1,
   "metadata": {},
   "outputs": [
    {
     "name": "stdout",
     "output_type": "stream",
     "text": [
      "STIsim 0.0.8 (2023-10-04) — © 2023 by IDM\n"
     ]
    }
   ],
   "source": [
    "import pandas as pd\n",
    "import matplotlib.pyplot as plt\n",
    "\n",
    "import stisim as ss"
   ]
  },
  {
   "cell_type": "markdown",
   "metadata": {},
   "source": [
    "## Runing an basic simulation"
   ]
  },
  {
   "cell_type": "code",
   "execution_count": 2,
   "metadata": {},
   "outputs": [
    {
     "name": "stdout",
     "output_type": "stream",
     "text": [
      "Initializing sim (warning: not resetting sim.people) with 10000 agents\n",
      "  Running 1985.0 ( 0/66) (0.00 s)  ———————————————————— 2%\n",
      "  Running 1995.0 (10/66) (2.11 s)  •••————————————————— 17%\n",
      "  Running 2005.0 (20/66) (2.27 s)  ••••••—————————————— 32%\n",
      "  Running 2015.0 (30/66) (2.48 s)  •••••••••——————————— 47%\n",
      "  Running 2025.0 (40/66) (2.73 s)  ••••••••••••———————— 62%\n",
      "  Running 2035.0 (50/66) (3.01 s)  •••••••••••••••————— 77%\n",
      "  Running 2045.0 (60/66) (3.29 s)  ••••••••••••••••••—— 92%\n"
     ]
    },
    {
     "data": {
      "text/plain": [
       "<stisim.sim.Sim at 0x2af66bb14b0>\n",
       "[<class 'stisim.sim.Sim'>, <class 'sciris.sc_utils.prettyobj'>, <class 'object'>]\n",
       "————————————————————————————————————————————————————————————\n",
       "Methods:\n",
       "  finalize()          init_people()       shrink()            \n",
       "  init_analyzers()    init_time_vecs()    step()              \n",
       "  init_demographi...  initialize()        validate_dt()       \n",
       "  init_diseases()     load()              validate_pars()     \n",
       "  init_interventi...  run()               validate_post_i...  \n",
       "  init_networks()     save()              \n",
       "————————————————————————————————————————————————————————————\n",
       "Properties:\n",
       "  dt                  year                \n",
       "————————————————————————————————————————————————————————————\n",
       "    analyzers: objdict()\n",
       "     complete: True\n",
       "   connectors: None\n",
       "      created: None\n",
       " demographics: #0. 'pregnancy':\n",
       "               <stisim.demographics.Pregnancy at 0x2af66bb3fd0>\n",
       "               [ [...]\n",
       "     diseases: #0. 'hiv':\n",
       "               <stisim.hiv.HIV at 0x2af66bb3a30>\n",
       "               [<class 'stisim.hiv.HI [...]\n",
       "     filename: None\n",
       "  initialized: True\n",
       "interventions: #0. 'simplediagnostictest':\n",
       "               <stisim.hiv.SimpleDiagnosticTest at 0x2 [...]\n",
       "        label: None\n",
       "         npts: 66\n",
       "         pars: #0. 'n_agents':      10000\n",
       "               ———————————————————————————————————————— [...]\n",
       "       people: <stisim.people.People at 0x2af66bb3340>\n",
       "               [<class 'stisim.people.Peop [...]\n",
       "      results: #0. 'n_alive':\n",
       "               Result(n_alive):\n",
       "               array([10136, 10291, 10434, 10570,  [...]\n",
       "results_ready: True\n",
       "      summary: None\n",
       "           ti: 65\n",
       "        tivec: array([ 0,  1,  2,  3,  4,  5,  6,  7,  8,  9, 10, 11,\n",
       "               12, 13, 14,  [...]\n",
       "      yearvec: array([1985., 1986., 1987., 1988., 1989., 1990., 1991.,\n",
       "               1992., 1993 [...]\n",
       "————————————————————————————————————————————————————————————"
      ]
     },
     "execution_count": 2,
     "metadata": {},
     "output_type": "execute_result"
    }
   ],
   "source": [
    "# Network\n",
    "ppl = ss.People( 10_000 )\n",
    "ppl.networks = ss.ndict( ss.simple_sexual(), ss.maternal() )\n",
    "\n",
    "\n",
    "# HIV settings and interventions\n",
    "hiv_params = { 'beta'      : { 'simple_sexual': [ 0.0008, 0.0004], \n",
    "                               'maternal'     : [ 0.2   , 0     ]\n",
    "                              },\n",
    "               'initial' : 50   # Is this working with init_states?\n",
    "              }\n",
    "hiv = ss.HIV( pars=hiv_params )\n",
    "\n",
    "hiv_simple_diagnostic = ss.hiv.SimpleDiagnosticTest( start=1995 )\n",
    "\n",
    "\n",
    "# Simulation parameters\n",
    "sim_params = { 'start': 1985,\n",
    "               'end'  : 2050\n",
    "              }\n",
    "\n",
    "\n",
    "# Create and run simulation\n",
    "sim = ss.Sim( pars          = sim_params,\n",
    "              people        = ppl, \n",
    "              demographics  = [ ss.Pregnancy() ],   # Isn't people also demographics?\n",
    "              diseases      = [ hiv, ss.Gonorrhea() ],\n",
    "              interventions = [ hiv_simple_diagnostic ]\n",
    "             )\n",
    "sim.initialize()\n",
    "sim.run()"
   ]
  },
  {
   "cell_type": "code",
   "execution_count": 3,
   "metadata": {},
   "outputs": [
    {
     "data": {
      "image/png": "[encoded data removed]",
      "text/plain": [
       "<Figure size 640x480 with 2 Axes>"
      ]
     },
     "metadata": {},
     "output_type": "display_data"
    }
   ],
   "source": [
    "fig, axs = plt.subplots( 2, 1, sharex=True )\n",
    "\n",
    "axs[0].plot( sim.yearvec, sim.results.hiv.n_infected )\n",
    "axs[0].set_title( 'HIV: number of infections' )\n",
    "\n",
    "axs[1].plot( sim.yearvec, sim.results.hiv.n_diagnosed )\n",
    "axs[1].set_title( 'HIV: number of diagnoses' )\n",
    "\n",
    "fig.tight_layout()"
   ]
  },
  {
   "cell_type": "markdown",
   "metadata": {},
   "source": [
    "## Testing intervention using different parameters"
   ]
  },
  {
   "cell_type": "code",
   "execution_count": 4,
   "metadata": {},
   "outputs": [],
   "source": [
    "testing_params = pd.DataFrame( [ [ 'low-coverage/low-sensitivity'  , 2000, 2040, 0.5, 0.50, 500 ],\n",
    "                                 [ 'low-coverage/high-sensitivity' , 2000, 2040, 0.5, 0.99, 500 ],\n",
    "                                 [ 'high-coverage/low-sensitivity' , 2000, 2040, 0.9, 0.50, 500 ],\n",
    "                                 [ 'high-coverage/high-sensitivity', 2000, 2040, 0.9, 0.99, 500 ] ],\n",
    "                               columns = ['label', 'start', 'end', 'coverage', 'sensitivity', 'cd4_threshold' ]\n",
    "                              )                                                   "
   ]
  },
  {
   "cell_type": "code",
   "execution_count": null,
   "metadata": {
    "tags": []
   },
   "outputs": [
    {
     "name": "stdout",
     "output_type": "stream",
     "text": [
      "... running scenario:  low-coverage/low-sensitivity\n",
      "Initializing sim (warning: not resetting sim.people) with 10000 agents\n",
      "  Running 1985.0 ( 0/66) (0.00 s)  ———————————————————— 2%\n",
      "  Running 1995.0 (10/66) (0.18 s)  •••————————————————— 17%\n",
      "  Running 2005.0 (20/66) (0.40 s)  ••••••—————————————— 32%\n",
      "  Running 2015.0 (30/66) (0.60 s)  •••••••••——————————— 47%\n",
      "  Running 2025.0 (40/66) (0.84 s)  ••••••••••••———————— 62%\n",
      "  Running 2035.0 (50/66) (1.11 s)  •••••••••••••••————— 77%\n",
      "  Running 2045.0 (60/66) (1.40 s)  ••••••••••••••••••—— 92%\n",
      "... running scenario:  low-coverage/high-sensitivity\n",
      "Initializing sim (warning: not resetting sim.people) with 10000 agents\n",
      "  Running 1985.0 ( 0/66) (0.00 s)  ———————————————————— 2%\n",
      "  Running 1995.0 (10/66) (0.15 s)  •••————————————————— 17%\n",
      "  Running 2005.0 (20/66) (0.33 s)  ••••••—————————————— 32%\n",
      "  Running 2015.0 (30/66) (0.51 s)  •••••••••——————————— 47%\n",
      "  Running 2025.0 (40/66) (0.74 s)  ••••••••••••———————— 62%\n",
      "  Running 2035.0 (50/66) (0.98 s)  •••••••••••••••————— 77%\n",
      "  Running 2045.0 (60/66) (1.28 s)  ••••••••••••••••••—— 92%\n",
      "... running scenario:  high-coverage/low-sensitivity\n",
      "Initializing sim (warning: not resetting sim.people) with 10000 agents\n",
      "  Running 1985.0 ( 0/66) (0.00 s)  ———————————————————— 2%\n",
      "  Running 1995.0 (10/66) (0.18 s)  •••————————————————— 17%\n",
      "  Running 2005.0 (20/66) (0.37 s)  ••••••—————————————— 32%\n",
      "  Running 2015.0 (30/66) (0.56 s)  •••••••••——————————— 47%\n",
      "  Running 2025.0 (40/66) (0.80 s)  ••••••••••••———————— 62%\n",
      "  Running 2035.0 (50/66) (1.02 s)  •••••••••••••••————— 77%\n",
      "  Running 2045.0 (60/66) (1.36 s)  ••••••••••••••••••—— 92%\n",
      "... running scenario:  high-coverage/high-sensitivity\n",
      "Initializing sim (warning: not resetting sim.people) with 10000 agents\n",
      "  Running 1985.0 ( 0/66) (0.00 s)  ———————————————————— 2%\n",
      "  Running 1995.0 (10/66) (0.15 s)  •••————————————————— 17%\n",
      "  Running 2005.0 (20/66) (0.33 s)  ••••••—————————————— 32%\n",
      "  Running 2015.0 (30/66) (0.52 s)  •••••••••——————————— 47%\n",
      "  Running 2025.0 (40/66) (0.75 s)  ••••••••••••———————— 62%\n"
     ]
    }
   ],
   "source": [
    "results = {}\n",
    "results['infections'] = pd.DataFrame()\n",
    "results['n_diagnosed'] = pd.DataFrame()\n",
    "results['new_diagnoses'] = pd.DataFrame()\n",
    "\n",
    "\n",
    "for index, row in testing_params.iterrows():\n",
    "\n",
    "    print( '... running scenario: ', row['label'] )\n",
    "    \n",
    "    #Configure scenario\n",
    "    this_ppl = ss.People( 10_000 )\n",
    "    this_ppl.networks = ss.ndict( ss.simple_sexual(), ss.maternal() )\n",
    "    hiv_scenario = ss.HIV( pars=hiv_params )\n",
    "    hiv_diagnostic = ss.hiv.SimpleDiagnosticTest( **row.drop('label').to_dict() )\n",
    "    sim_params = { 'start': 1985, 'end'  : 2050 }\n",
    "\n",
    "    # Run scenario\n",
    "    this_sim = ss.Sim( pars          = sim_params,\n",
    "                       people        = this_ppl, \n",
    "                       demographics  = [ ss.Pregnancy() ],   # Isn't people also demographics?\n",
    "                       diseases      = [ hiv_scenario, ss.Gonorrhea() ],\n",
    "                       interventions = [ hiv_diagnostic ]\n",
    "                      )\n",
    "    this_sim.initialize()\n",
    "    this_sim.run()\n",
    "    \n",
    "    results['infections']['t'] = this_sim.yearvec\n",
    "    results['infections'][row['label']] = this_sim.results.hiv.n_infected\n",
    "\n",
    "    results['n_diagnosed']['t'] = this_sim.yearvec\n",
    "    results['n_diagnosed'][row['label']] = this_sim.results.hiv.n_diagnosed\n",
    "    \n",
    "    results['new_diagnoses']['t'] = this_sim.yearvec\n",
    "    results['new_diagnoses'][row['label']] = this_sim.results.hiv.new_diagnoses"
   ]
  },
  {
   "cell_type": "code",
   "execution_count": null,
   "metadata": {
    "tags": []
   },
   "outputs": [],
   "source": [
    "fig_scenarios, axs_scenarios = plt.subplots( 3, 1, figsize=(10,8),sharex=True )\n",
    "\n",
    "results['infections'   ].plot( x='t', ylabel='infections'   , ax=axs_scenarios[0] )\n",
    "results['n_diagnosed'  ].plot( x='t', ylabel='n_diagnosed'  , ax=axs_scenarios[1] )\n",
    "results['new_diagnoses'].plot( x='t', ylabel='new_diagnoses', ax=axs_scenarios[2] )\n",
    "\n",
    "fig_scenarios.tight_layout()"
   ]
  }
 ],
 "metadata": {
  "kernelspec": {
   "display_name": "Python 3 (ipykernel)",
   "language": "python",
   "name": "python3"
  },
  "language_info": {
   "codemirror_mode": {
    "name": "ipython",
    "version": 3
   },
   "file_extension": ".py",
   "mimetype": "text/x-python",
   "name": "python",
   "nbconvert_exporter": "python",
   "pygments_lexer": "ipython3",
   "version": "3.10.13"
  }
 },
 "nbformat": 4,
 "nbformat_minor": 4
}
