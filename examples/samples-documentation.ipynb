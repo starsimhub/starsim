{
 "cells": [
  {
   "cell_type": "code",
   "execution_count": 1,
   "id": "0",
   "metadata": {},
   "outputs": [],
   "source": [
    "%load_ext autoreload\n",
    "%autoreload 2"
   ]
  },
  {
   "cell_type": "markdown",
   "id": "1",
   "metadata": {},
   "source": [
    "# Managing samples"
   ]
  },
  {
   "cell_type": "markdown",
   "id": "2",
   "metadata": {},
   "source": [
    "As STIsim models are usually stochastic, for a single scenario it is often desirable to run the model multiple times with different random seeds. The role of the `Samples` class is to facilitate working with large numbers of simulations and scenarios, to ease:\n",
    "\n",
    "- Loading large result sets\n",
    "- Filtering/selecting simulation runs\n",
    "- Plotting individual simulations and aggregate results\n",
    "- Slicing result sets to compare scenarios\n",
    "\n",
    "Essentially, if we think of the processed results of a model run as being\n",
    "\n",
    "- A collection of scalar outputs (e.g., cumulative infections, total deaths)\n",
    "- A dataframe of time-varying outputs (e.g., new diagnoses per day, number of people on treatment each day)\n",
    "\n",
    "then the classes `Dataset` and `Samples` manage collections of these results. In particular, the `Samples` class manages different random samples of the same parameters, and the `Dataset` class manages a collection of `Samples`. \n",
    "\n",
    "<div class=\"alert alert-block alert-info\">    \n",
    "These classes are particularly designed to facilitate working with tens of thousands of simulation runs, where other approaches such as those based on the `MultiSim` class may not be feasible.\n",
    "</div>\n"
   ]
  },
  {
   "cell_type": "code",
   "execution_count": 2,
   "id": "3",
   "metadata": {},
   "outputs": [
    {
     "name": "stdout",
     "output_type": "stream",
     "text": [
      "Starsim 0.2.1 (2024-02-22) — © 2023-2024 by IDM\n"
     ]
    }
   ],
   "source": [
    "import starsim as ss\n",
    "import numpy as np\n",
    "import pandas as pd\n",
    "from pathlib import Path\n",
    "import matplotlib.pyplot as plt\n",
    "import sciris as sc"
   ]
  },
  {
   "cell_type": "markdown",
   "id": "4",
   "metadata": {},
   "source": [
    "## Obtaining simulation output"
   ]
  },
  {
   "cell_type": "markdown",
   "id": "5",
   "metadata": {},
   "source": [
    "To demonstrate usage of this class, we will first consider constructing the kinds of output that the `Samples` class stores. We begin by running a basic simulation using the SIR model:"
   ]
  },
  {
   "cell_type": "code",
   "execution_count": 3,
   "id": "6",
   "metadata": {},
   "outputs": [
    {
     "name": "stdout",
     "output_type": "stream",
     "text": [
      "Initializing sim with 10000 agents\n",
      "  Running 1995.0 ( 0/36) (0.16 s)  ———————————————————— 3%\n",
      "  Running 2005.0 (10/36) (0.20 s)  ••••••—————————————— 31%\n",
      "  Running 2015.0 (20/36) (0.23 s)  •••••••••••————————— 58%\n",
      "  Running 2025.0 (30/36) (0.25 s)  •••••••••••••••••——— 86%\n"
     ]
    }
   ],
   "source": [
    "ppl = ss.People(10000)\n",
    "net = ss.ndict(ss.RandomNet(n_contacts=ss.poisson(5)))\n",
    "sir = ss.SIR()\n",
    "sim = ss.Sim(people=ppl, networks=net, diseases=sir, rand_seed=0)\n",
    "sim.run();"
   ]
  },
  {
   "cell_type": "markdown",
   "id": "7",
   "metadata": {},
   "source": [
    "### Dataframe output\n",
    "\n",
    "A `Sim` instance is (in general) too large and complex to efficiently store on disk - the file size and loading time make it prohibitive to work with tens of thousands of simulations. Therefore, rather than storing entire `Sim` instances, we instead store dataframes containing just the simulation results and any other pre-processed calculated quantities. There are broadly speaking two types of outputs\n",
    "\n",
    "- Scalar outputs at each timepoint (e.g., daily new cases)\n",
    "- Scalar outputs for each simulation (e.g., total number of deaths)\n",
    "\n",
    "These outputs can each be produced from a `Sim` - the former has a tabular structure, and the latter has a dictionary structure (which can later be assembled into a table where the rows correspond to each simulation). The `export_df` method is a quick way to obtain a dataframe with the appropriate structure retaining all results from the `Sim`.\n",
    "\n",
    "\n",
    "<div class=\"alert alert-block alert-info\">    \n",
    "In real-world use, it is often helpful to write your own function to extract a dataframe of simulation outputs, because typically some of the outputs need to be extracted from custom Analyzers.\n",
    "</div>\n"
   ]
  },
  {
   "cell_type": "code",
   "execution_count": 4,
   "id": "8",
   "metadata": {},
   "outputs": [
    {
     "data": {
      "text/html": [
       "<div>\n",
       "<style scoped>\n",
       "    .dataframe tbody tr th:only-of-type {\n",
       "        vertical-align: middle;\n",
       "    }\n",
       "\n",
       "    .dataframe tbody tr th {\n",
       "        vertical-align: top;\n",
       "    }\n",
       "\n",
       "    .dataframe thead th {\n",
       "        text-align: right;\n",
       "    }\n",
       "</style>\n",
       "<table border=\"1\" class=\"dataframe\">\n",
       "  <thead>\n",
       "    <tr style=\"text-align: right;\">\n",
       "      <th></th>\n",
       "      <th>n_alive</th>\n",
       "      <th>new_deaths</th>\n",
       "      <th>sir.n_susceptible</th>\n",
       "      <th>sir.n_infected</th>\n",
       "      <th>sir.n_recovered</th>\n",
       "      <th>sir.prevalence</th>\n",
       "      <th>sir.new_infections</th>\n",
       "      <th>sir.cum_infections</th>\n",
       "    </tr>\n",
       "    <tr>\n",
       "      <th>t</th>\n",
       "      <th></th>\n",
       "      <th></th>\n",
       "      <th></th>\n",
       "      <th></th>\n",
       "      <th></th>\n",
       "      <th></th>\n",
       "      <th></th>\n",
       "      <th></th>\n",
       "    </tr>\n",
       "  </thead>\n",
       "  <tbody>\n",
       "    <tr>\n",
       "      <th>1995.0</th>\n",
       "      <td>9813.0</td>\n",
       "      <td>187.0</td>\n",
       "      <td>6638.0</td>\n",
       "      <td>2358.0</td>\n",
       "      <td>817.0</td>\n",
       "      <td>0.240293</td>\n",
       "      <td>3362.0</td>\n",
       "      <td>0.0</td>\n",
       "    </tr>\n",
       "    <tr>\n",
       "      <th>1996.0</th>\n",
       "      <td>9329.0</td>\n",
       "      <td>484.0</td>\n",
       "      <td>3023.0</td>\n",
       "      <td>3615.0</td>\n",
       "      <td>2691.0</td>\n",
       "      <td>0.387501</td>\n",
       "      <td>3615.0</td>\n",
       "      <td>3362.0</td>\n",
       "    </tr>\n",
       "    <tr>\n",
       "      <th>1997.0</th>\n",
       "      <td>8389.0</td>\n",
       "      <td>940.0</td>\n",
       "      <td>609.0</td>\n",
       "      <td>2414.0</td>\n",
       "      <td>5366.0</td>\n",
       "      <td>0.287758</td>\n",
       "      <td>2414.0</td>\n",
       "      <td>6977.0</td>\n",
       "    </tr>\n",
       "    <tr>\n",
       "      <th>1998.0</th>\n",
       "      <td>7572.0</td>\n",
       "      <td>817.0</td>\n",
       "      <td>131.0</td>\n",
       "      <td>478.0</td>\n",
       "      <td>6963.0</td>\n",
       "      <td>0.063127</td>\n",
       "      <td>478.0</td>\n",
       "      <td>9391.0</td>\n",
       "    </tr>\n",
       "    <tr>\n",
       "      <th>1999.0</th>\n",
       "      <td>7422.0</td>\n",
       "      <td>150.0</td>\n",
       "      <td>110.0</td>\n",
       "      <td>21.0</td>\n",
       "      <td>7291.0</td>\n",
       "      <td>0.002829</td>\n",
       "      <td>21.0</td>\n",
       "      <td>9869.0</td>\n",
       "    </tr>\n",
       "    <tr>\n",
       "      <th>2000.0</th>\n",
       "      <td>7420.0</td>\n",
       "      <td>2.0</td>\n",
       "      <td>110.0</td>\n",
       "      <td>0.0</td>\n",
       "      <td>7310.0</td>\n",
       "      <td>0.000000</td>\n",
       "      <td>0.0</td>\n",
       "      <td>9890.0</td>\n",
       "    </tr>\n",
       "    <tr>\n",
       "      <th>2001.0</th>\n",
       "      <td>7420.0</td>\n",
       "      <td>0.0</td>\n",
       "      <td>110.0</td>\n",
       "      <td>0.0</td>\n",
       "      <td>7310.0</td>\n",
       "      <td>0.000000</td>\n",
       "      <td>0.0</td>\n",
       "      <td>9890.0</td>\n",
       "    </tr>\n",
       "    <tr>\n",
       "      <th>2002.0</th>\n",
       "      <td>7420.0</td>\n",
       "      <td>0.0</td>\n",
       "      <td>110.0</td>\n",
       "      <td>0.0</td>\n",
       "      <td>7310.0</td>\n",
       "      <td>0.000000</td>\n",
       "      <td>0.0</td>\n",
       "      <td>9890.0</td>\n",
       "    </tr>\n",
       "    <tr>\n",
       "      <th>2003.0</th>\n",
       "      <td>7420.0</td>\n",
       "      <td>0.0</td>\n",
       "      <td>110.0</td>\n",
       "      <td>0.0</td>\n",
       "      <td>7310.0</td>\n",
       "      <td>0.000000</td>\n",
       "      <td>0.0</td>\n",
       "      <td>9890.0</td>\n",
       "    </tr>\n",
       "    <tr>\n",
       "      <th>2004.0</th>\n",
       "      <td>7420.0</td>\n",
       "      <td>0.0</td>\n",
       "      <td>110.0</td>\n",
       "      <td>0.0</td>\n",
       "      <td>7310.0</td>\n",
       "      <td>0.000000</td>\n",
       "      <td>0.0</td>\n",
       "      <td>9890.0</td>\n",
       "    </tr>\n",
       "    <tr>\n",
       "      <th>2005.0</th>\n",
       "      <td>7420.0</td>\n",
       "      <td>0.0</td>\n",
       "      <td>110.0</td>\n",
       "      <td>0.0</td>\n",
       "      <td>7310.0</td>\n",
       "      <td>0.000000</td>\n",
       "      <td>0.0</td>\n",
       "      <td>9890.0</td>\n",
       "    </tr>\n",
       "    <tr>\n",
       "      <th>2006.0</th>\n",
       "      <td>7420.0</td>\n",
       "      <td>0.0</td>\n",
       "      <td>110.0</td>\n",
       "      <td>0.0</td>\n",
       "      <td>7310.0</td>\n",
       "      <td>0.000000</td>\n",
       "      <td>0.0</td>\n",
       "      <td>9890.0</td>\n",
       "    </tr>\n",
       "    <tr>\n",
       "      <th>2007.0</th>\n",
       "      <td>7420.0</td>\n",
       "      <td>0.0</td>\n",
       "      <td>110.0</td>\n",
       "      <td>0.0</td>\n",
       "      <td>7310.0</td>\n",
       "      <td>0.000000</td>\n",
       "      <td>0.0</td>\n",
       "      <td>9890.0</td>\n",
       "    </tr>\n",
       "    <tr>\n",
       "      <th>2008.0</th>\n",
       "      <td>7420.0</td>\n",
       "      <td>0.0</td>\n",
       "      <td>110.0</td>\n",
       "      <td>0.0</td>\n",
       "      <td>7310.0</td>\n",
       "      <td>0.000000</td>\n",
       "      <td>0.0</td>\n",
       "      <td>9890.0</td>\n",
       "    </tr>\n",
       "    <tr>\n",
       "      <th>2009.0</th>\n",
       "      <td>7420.0</td>\n",
       "      <td>0.0</td>\n",
       "      <td>110.0</td>\n",
       "      <td>0.0</td>\n",
       "      <td>7310.0</td>\n",
       "      <td>0.000000</td>\n",
       "      <td>0.0</td>\n",
       "      <td>9890.0</td>\n",
       "    </tr>\n",
       "    <tr>\n",
       "      <th>2010.0</th>\n",
       "      <td>7420.0</td>\n",
       "      <td>0.0</td>\n",
       "      <td>110.0</td>\n",
       "      <td>0.0</td>\n",
       "      <td>7310.0</td>\n",
       "      <td>0.000000</td>\n",
       "      <td>0.0</td>\n",
       "      <td>9890.0</td>\n",
       "    </tr>\n",
       "    <tr>\n",
       "      <th>2011.0</th>\n",
       "      <td>7420.0</td>\n",
       "      <td>0.0</td>\n",
       "      <td>110.0</td>\n",
       "      <td>0.0</td>\n",
       "      <td>7310.0</td>\n",
       "      <td>0.000000</td>\n",
       "      <td>0.0</td>\n",
       "      <td>9890.0</td>\n",
       "    </tr>\n",
       "    <tr>\n",
       "      <th>2012.0</th>\n",
       "      <td>7420.0</td>\n",
       "      <td>0.0</td>\n",
       "      <td>110.0</td>\n",
       "      <td>0.0</td>\n",
       "      <td>7310.0</td>\n",
       "      <td>0.000000</td>\n",
       "      <td>0.0</td>\n",
       "      <td>9890.0</td>\n",
       "    </tr>\n",
       "    <tr>\n",
       "      <th>2013.0</th>\n",
       "      <td>7420.0</td>\n",
       "      <td>0.0</td>\n",
       "      <td>110.0</td>\n",
       "      <td>0.0</td>\n",
       "      <td>7310.0</td>\n",
       "      <td>0.000000</td>\n",
       "      <td>0.0</td>\n",
       "      <td>9890.0</td>\n",
       "    </tr>\n",
       "    <tr>\n",
       "      <th>2014.0</th>\n",
       "      <td>7420.0</td>\n",
       "      <td>0.0</td>\n",
       "      <td>110.0</td>\n",
       "      <td>0.0</td>\n",
       "      <td>7310.0</td>\n",
       "      <td>0.000000</td>\n",
       "      <td>0.0</td>\n",
       "      <td>9890.0</td>\n",
       "    </tr>\n",
       "    <tr>\n",
       "      <th>2015.0</th>\n",
       "      <td>7420.0</td>\n",
       "      <td>0.0</td>\n",
       "      <td>110.0</td>\n",
       "      <td>0.0</td>\n",
       "      <td>7310.0</td>\n",
       "      <td>0.000000</td>\n",
       "      <td>0.0</td>\n",
       "      <td>9890.0</td>\n",
       "    </tr>\n",
       "    <tr>\n",
       "      <th>2016.0</th>\n",
       "      <td>7420.0</td>\n",
       "      <td>0.0</td>\n",
       "      <td>110.0</td>\n",
       "      <td>0.0</td>\n",
       "      <td>7310.0</td>\n",
       "      <td>0.000000</td>\n",
       "      <td>0.0</td>\n",
       "      <td>9890.0</td>\n",
       "    </tr>\n",
       "    <tr>\n",
       "      <th>2017.0</th>\n",
       "      <td>7420.0</td>\n",
       "      <td>0.0</td>\n",
       "      <td>110.0</td>\n",
       "      <td>0.0</td>\n",
       "      <td>7310.0</td>\n",
       "      <td>0.000000</td>\n",
       "      <td>0.0</td>\n",
       "      <td>9890.0</td>\n",
       "    </tr>\n",
       "    <tr>\n",
       "      <th>2018.0</th>\n",
       "      <td>7420.0</td>\n",
       "      <td>0.0</td>\n",
       "      <td>110.0</td>\n",
       "      <td>0.0</td>\n",
       "      <td>7310.0</td>\n",
       "      <td>0.000000</td>\n",
       "      <td>0.0</td>\n",
       "      <td>9890.0</td>\n",
       "    </tr>\n",
       "    <tr>\n",
       "      <th>2019.0</th>\n",
       "      <td>7420.0</td>\n",
       "      <td>0.0</td>\n",
       "      <td>110.0</td>\n",
       "      <td>0.0</td>\n",
       "      <td>7310.0</td>\n",
       "      <td>0.000000</td>\n",
       "      <td>0.0</td>\n",
       "      <td>9890.0</td>\n",
       "    </tr>\n",
       "    <tr>\n",
       "      <th>2020.0</th>\n",
       "      <td>7420.0</td>\n",
       "      <td>0.0</td>\n",
       "      <td>110.0</td>\n",
       "      <td>0.0</td>\n",
       "      <td>7310.0</td>\n",
       "      <td>0.000000</td>\n",
       "      <td>0.0</td>\n",
       "      <td>9890.0</td>\n",
       "    </tr>\n",
       "    <tr>\n",
       "      <th>2021.0</th>\n",
       "      <td>7420.0</td>\n",
       "      <td>0.0</td>\n",
       "      <td>110.0</td>\n",
       "      <td>0.0</td>\n",
       "      <td>7310.0</td>\n",
       "      <td>0.000000</td>\n",
       "      <td>0.0</td>\n",
       "      <td>9890.0</td>\n",
       "    </tr>\n",
       "    <tr>\n",
       "      <th>2022.0</th>\n",
       "      <td>7420.0</td>\n",
       "      <td>0.0</td>\n",
       "      <td>110.0</td>\n",
       "      <td>0.0</td>\n",
       "      <td>7310.0</td>\n",
       "      <td>0.000000</td>\n",
       "      <td>0.0</td>\n",
       "      <td>9890.0</td>\n",
       "    </tr>\n",
       "    <tr>\n",
       "      <th>2023.0</th>\n",
       "      <td>7420.0</td>\n",
       "      <td>0.0</td>\n",
       "      <td>110.0</td>\n",
       "      <td>0.0</td>\n",
       "      <td>7310.0</td>\n",
       "      <td>0.000000</td>\n",
       "      <td>0.0</td>\n",
       "      <td>9890.0</td>\n",
       "    </tr>\n",
       "    <tr>\n",
       "      <th>2024.0</th>\n",
       "      <td>7420.0</td>\n",
       "      <td>0.0</td>\n",
       "      <td>110.0</td>\n",
       "      <td>0.0</td>\n",
       "      <td>7310.0</td>\n",
       "      <td>0.000000</td>\n",
       "      <td>0.0</td>\n",
       "      <td>9890.0</td>\n",
       "    </tr>\n",
       "    <tr>\n",
       "      <th>2025.0</th>\n",
       "      <td>7420.0</td>\n",
       "      <td>0.0</td>\n",
       "      <td>110.0</td>\n",
       "      <td>0.0</td>\n",
       "      <td>7310.0</td>\n",
       "      <td>0.000000</td>\n",
       "      <td>0.0</td>\n",
       "      <td>9890.0</td>\n",
       "    </tr>\n",
       "    <tr>\n",
       "      <th>2026.0</th>\n",
       "      <td>7420.0</td>\n",
       "      <td>0.0</td>\n",
       "      <td>110.0</td>\n",
       "      <td>0.0</td>\n",
       "      <td>7310.0</td>\n",
       "      <td>0.000000</td>\n",
       "      <td>0.0</td>\n",
       "      <td>9890.0</td>\n",
       "    </tr>\n",
       "    <tr>\n",
       "      <th>2027.0</th>\n",
       "      <td>7420.0</td>\n",
       "      <td>0.0</td>\n",
       "      <td>110.0</td>\n",
       "      <td>0.0</td>\n",
       "      <td>7310.0</td>\n",
       "      <td>0.000000</td>\n",
       "      <td>0.0</td>\n",
       "      <td>9890.0</td>\n",
       "    </tr>\n",
       "    <tr>\n",
       "      <th>2028.0</th>\n",
       "      <td>7420.0</td>\n",
       "      <td>0.0</td>\n",
       "      <td>110.0</td>\n",
       "      <td>0.0</td>\n",
       "      <td>7310.0</td>\n",
       "      <td>0.000000</td>\n",
       "      <td>0.0</td>\n",
       "      <td>9890.0</td>\n",
       "    </tr>\n",
       "    <tr>\n",
       "      <th>2029.0</th>\n",
       "      <td>7420.0</td>\n",
       "      <td>0.0</td>\n",
       "      <td>110.0</td>\n",
       "      <td>0.0</td>\n",
       "      <td>7310.0</td>\n",
       "      <td>0.000000</td>\n",
       "      <td>0.0</td>\n",
       "      <td>9890.0</td>\n",
       "    </tr>\n",
       "    <tr>\n",
       "      <th>2030.0</th>\n",
       "      <td>7420.0</td>\n",
       "      <td>0.0</td>\n",
       "      <td>110.0</td>\n",
       "      <td>0.0</td>\n",
       "      <td>7310.0</td>\n",
       "      <td>0.000000</td>\n",
       "      <td>0.0</td>\n",
       "      <td>9890.0</td>\n",
       "    </tr>\n",
       "  </tbody>\n",
       "</table>\n",
       "</div>"
      ],
      "text/plain": [
       "        n_alive  new_deaths  sir.n_susceptible  sir.n_infected  \\\n",
       "t                                                                \n",
       "1995.0   9813.0       187.0             6638.0          2358.0   \n",
       "1996.0   9329.0       484.0             3023.0          3615.0   \n",
       "1997.0   8389.0       940.0              609.0          2414.0   \n",
       "1998.0   7572.0       817.0              131.0           478.0   \n",
       "1999.0   7422.0       150.0              110.0            21.0   \n",
       "2000.0   7420.0         2.0              110.0             0.0   \n",
       "2001.0   7420.0         0.0              110.0             0.0   \n",
       "2002.0   7420.0         0.0              110.0             0.0   \n",
       "2003.0   7420.0         0.0              110.0             0.0   \n",
       "2004.0   7420.0         0.0              110.0             0.0   \n",
       "2005.0   7420.0         0.0              110.0             0.0   \n",
       "2006.0   7420.0         0.0              110.0             0.0   \n",
       "2007.0   7420.0         0.0              110.0             0.0   \n",
       "2008.0   7420.0         0.0              110.0             0.0   \n",
       "2009.0   7420.0         0.0              110.0             0.0   \n",
       "2010.0   7420.0         0.0              110.0             0.0   \n",
       "2011.0   7420.0         0.0              110.0             0.0   \n",
       "2012.0   7420.0         0.0              110.0             0.0   \n",
       "2013.0   7420.0         0.0              110.0             0.0   \n",
       "2014.0   7420.0         0.0              110.0             0.0   \n",
       "2015.0   7420.0         0.0              110.0             0.0   \n",
       "2016.0   7420.0         0.0              110.0             0.0   \n",
       "2017.0   7420.0         0.0              110.0             0.0   \n",
       "2018.0   7420.0         0.0              110.0             0.0   \n",
       "2019.0   7420.0         0.0              110.0             0.0   \n",
       "2020.0   7420.0         0.0              110.0             0.0   \n",
       "2021.0   7420.0         0.0              110.0             0.0   \n",
       "2022.0   7420.0         0.0              110.0             0.0   \n",
       "2023.0   7420.0         0.0              110.0             0.0   \n",
       "2024.0   7420.0         0.0              110.0             0.0   \n",
       "2025.0   7420.0         0.0              110.0             0.0   \n",
       "2026.0   7420.0         0.0              110.0             0.0   \n",
       "2027.0   7420.0         0.0              110.0             0.0   \n",
       "2028.0   7420.0         0.0              110.0             0.0   \n",
       "2029.0   7420.0         0.0              110.0             0.0   \n",
       "2030.0   7420.0         0.0              110.0             0.0   \n",
       "\n",
       "        sir.n_recovered  sir.prevalence  sir.new_infections  \\\n",
       "t                                                             \n",
       "1995.0            817.0        0.240293              3362.0   \n",
       "1996.0           2691.0        0.387501              3615.0   \n",
       "1997.0           5366.0        0.287758              2414.0   \n",
       "1998.0           6963.0        0.063127               478.0   \n",
       "1999.0           7291.0        0.002829                21.0   \n",
       "2000.0           7310.0        0.000000                 0.0   \n",
       "2001.0           7310.0        0.000000                 0.0   \n",
       "2002.0           7310.0        0.000000                 0.0   \n",
       "2003.0           7310.0        0.000000                 0.0   \n",
       "2004.0           7310.0        0.000000                 0.0   \n",
       "2005.0           7310.0        0.000000                 0.0   \n",
       "2006.0           7310.0        0.000000                 0.0   \n",
       "2007.0           7310.0        0.000000                 0.0   \n",
       "2008.0           7310.0        0.000000                 0.0   \n",
       "2009.0           7310.0        0.000000                 0.0   \n",
       "2010.0           7310.0        0.000000                 0.0   \n",
       "2011.0           7310.0        0.000000                 0.0   \n",
       "2012.0           7310.0        0.000000                 0.0   \n",
       "2013.0           7310.0        0.000000                 0.0   \n",
       "2014.0           7310.0        0.000000                 0.0   \n",
       "2015.0           7310.0        0.000000                 0.0   \n",
       "2016.0           7310.0        0.000000                 0.0   \n",
       "2017.0           7310.0        0.000000                 0.0   \n",
       "2018.0           7310.0        0.000000                 0.0   \n",
       "2019.0           7310.0        0.000000                 0.0   \n",
       "2020.0           7310.0        0.000000                 0.0   \n",
       "2021.0           7310.0        0.000000                 0.0   \n",
       "2022.0           7310.0        0.000000                 0.0   \n",
       "2023.0           7310.0        0.000000                 0.0   \n",
       "2024.0           7310.0        0.000000                 0.0   \n",
       "2025.0           7310.0        0.000000                 0.0   \n",
       "2026.0           7310.0        0.000000                 0.0   \n",
       "2027.0           7310.0        0.000000                 0.0   \n",
       "2028.0           7310.0        0.000000                 0.0   \n",
       "2029.0           7310.0        0.000000                 0.0   \n",
       "2030.0           7310.0        0.000000                 0.0   \n",
       "\n",
       "        sir.cum_infections  \n",
       "t                           \n",
       "1995.0                 0.0  \n",
       "1996.0              3362.0  \n",
       "1997.0              6977.0  \n",
       "1998.0              9391.0  \n",
       "1999.0              9869.0  \n",
       "2000.0              9890.0  \n",
       "2001.0              9890.0  \n",
       "2002.0              9890.0  \n",
       "2003.0              9890.0  \n",
       "2004.0              9890.0  \n",
       "2005.0              9890.0  \n",
       "2006.0              9890.0  \n",
       "2007.0              9890.0  \n",
       "2008.0              9890.0  \n",
       "2009.0              9890.0  \n",
       "2010.0              9890.0  \n",
       "2011.0              9890.0  \n",
       "2012.0              9890.0  \n",
       "2013.0              9890.0  \n",
       "2014.0              9890.0  \n",
       "2015.0              9890.0  \n",
       "2016.0              9890.0  \n",
       "2017.0              9890.0  \n",
       "2018.0              9890.0  \n",
       "2019.0              9890.0  \n",
       "2020.0              9890.0  \n",
       "2021.0              9890.0  \n",
       "2022.0              9890.0  \n",
       "2023.0              9890.0  \n",
       "2024.0              9890.0  \n",
       "2025.0              9890.0  \n",
       "2026.0              9890.0  \n",
       "2027.0              9890.0  \n",
       "2028.0              9890.0  \n",
       "2029.0              9890.0  \n",
       "2030.0              9890.0  "
      ]
     },
     "execution_count": 4,
     "metadata": {},
     "output_type": "execute_result"
    }
   ],
   "source": [
    "sim.export_df()"
   ]
  },
  {
   "cell_type": "markdown",
   "id": "9",
   "metadata": {},
   "source": [
    "### Scalar/summary outputs\n",
    "\n",
    "We can also consider extracting a summary dictionary of scalar values. For example:"
   ]
  },
  {
   "cell_type": "code",
   "execution_count": 5,
   "id": "10",
   "metadata": {},
   "outputs": [
    {
     "data": {
      "text/plain": [
       "{'seed': 0, 'p_death': 0.2, 'cum_infections': 9890.0, 'cum_deaths': 2580.0}"
      ]
     },
     "execution_count": 5,
     "metadata": {},
     "output_type": "execute_result"
    }
   ],
   "source": [
    "summary = {}\n",
    "summary['seed'] = sim.pars['rand_seed']\n",
    "summary['p_death'] = sim.diseases[0].pars.p_death.mean()\n",
    "summary['cum_infections'] = sum(sim.results.sir.new_infections)\n",
    "summary['cum_deaths'] = sum(sim.results.new_deaths)\n",
    "summary"
   ]
  },
  {
   "cell_type": "markdown",
   "id": "11",
   "metadata": {},
   "source": [
    "<div class=\"alert alert-warning alert-info\">    \n",
    "Notice how in the example above, the summary contains both simulation inputs (seed, probability of death) as well as simulation outputs (total infections, total deaths). The simulation summary should contain sufficient information about the simulation inputs to identify the simulation. The seed should generally be present. The other inputs normally correspond to variables that scenarios are being run over. In this example, we will run scenarios comparing simulations with different probabilities of death. Therefore, we need to include the death probability in the simulation summary. \n",
    "</div>"
   ]
  },
  {
   "cell_type": "markdown",
   "id": "12",
   "metadata": {},
   "source": [
    "### Running the model\n",
    "\n",
    "For usage at scale, the steps of creating a simulation, running it and producing these outputs are usually encapsulated in functions"
   ]
  },
  {
   "cell_type": "code",
   "execution_count": 6,
   "id": "13",
   "metadata": {},
   "outputs": [],
   "source": [
    "def get_sim(seed, p_death):\n",
    "    ppl = ss.People(10000)\n",
    "    net = ss.ndict(ss.RandomNet(n_contacts=ss.poisson(5)))\n",
    "    sir = ss.SIR(pars={'p_death':p_death})\n",
    "    sim = ss.Sim(people=ppl, networks=net, diseases=sir, rand_seed=seed)\n",
    "    sim.initialize(verbose=0)\n",
    "    return sim\n",
    "    \n",
    "def run_sim(seed, p_death):\n",
    "    sim = get_sim(seed, p_death)\n",
    "    sim.run(verbose=0)\n",
    "    df = sim.export_df()\n",
    "    \n",
    "    summary = {}\n",
    "    summary['seed'] = sim.pars['rand_seed']\n",
    "    summary['p_death']= sim.diseases[0].pars.p_death.mean()\n",
    "    summary['cum_infections'] = sum(sim.results.sir.new_infections)\n",
    "    summary['cum_deaths'] = sum(sim.results.new_deaths)\n",
    "    \n",
    "    return df, summary"
   ]
  },
  {
   "cell_type": "markdown",
   "id": "14",
   "metadata": {},
   "source": [
    "<div class=\"alert alert-success\">    \n",
    "The functions above could be combined into a single function. However, in real world usage it is often convenient to be able to construct a simulation independently of running it (e.g., for diagnostic purposes or to allow running the sim in a range of different ways). The suggested structure above, with a <code>get_sim()</code> function and a <code>run_sim()</code> function are recommended as standard practice.\n",
    "</div>"
   ]
  },
  {
   "cell_type": "markdown",
   "id": "15",
   "metadata": {},
   "source": [
    "Now running a simulation for a given beta/seed value and returning the processed outputs can be done in a single step"
   ]
  },
  {
   "cell_type": "code",
   "execution_count": 7,
   "id": "16",
   "metadata": {},
   "outputs": [
    {
     "data": {
      "text/plain": [
       "{'seed': 0, 'p_death': 0.2, 'cum_infections': 9890.0, 'cum_deaths': 2580.0}"
      ]
     },
     "execution_count": 7,
     "metadata": {},
     "output_type": "execute_result"
    }
   ],
   "source": [
    "# Scalar output\n",
    "df, summary = run_sim(0, 0.2);\n",
    "summary"
   ]
  },
  {
   "cell_type": "markdown",
   "id": "17",
   "metadata": {},
   "source": [
    "We can produce all of the samples associated with a scenario by iterating over the input seed values. This is being done in a basic loop here, but could be done in more sophistical ways to leverage parallel computing (e.g., with `sc.parallelize` for single host parallelization, or with `celery` for distributed computation). "
   ]
  },
  {
   "cell_type": "code",
   "execution_count": 8,
   "id": "18",
   "metadata": {},
   "outputs": [],
   "source": [
    "# Run a collection of sims\n",
    "n = 100\n",
    "seeds = np.arange(n)\n",
    "outputs = [run_sim(seed, 0.2) for seed in seeds]"
   ]
  },
  {
   "cell_type": "markdown",
   "id": "19",
   "metadata": {},
   "source": [
    "## Saving and loading the samples"
   ]
  },
  {
   "cell_type": "markdown",
   "id": "20",
   "metadata": {},
   "source": [
    "We have now produced simulation outputs (dataframes and summary statistics) for 100 simulation runs. The `outputs` here are a list of tuples, containing the dataframe and dictionary outputs for each sample. This list can be passed to the `cvv.Samples` class to produce a single compressed file on disk"
   ]
  },
  {
   "cell_type": "code",
   "execution_count": 9,
   "id": "21",
   "metadata": {},
   "outputs": [
    {
     "data": {
      "text/plain": [
       "[PosixPath('results/0.75-1.zip'),\n",
       " PosixPath('results/0.75-3.zip'),\n",
       " PosixPath('results/0.75-2.zip'),\n",
       " PosixPath('results/0.0-2.zip'),\n",
       " PosixPath('results/0.2.zip'),\n",
       " PosixPath('results/0.0-3.zip'),\n",
       " PosixPath('results/0.0-1.zip'),\n",
       " PosixPath('results/0.25-3.zip'),\n",
       " PosixPath('results/0.25-2.zip'),\n",
       " PosixPath('results/0.25-1.zip'),\n",
       " PosixPath('results/0.5-3.zip'),\n",
       " PosixPath('results/0.5-2.zip'),\n",
       " PosixPath('results/0.5-1.zip')]"
      ]
     },
     "execution_count": 9,
     "metadata": {},
     "output_type": "execute_result"
    }
   ],
   "source": [
    "resultsdir = Path('results')\n",
    "resultsdir.mkdir(exist_ok=True, parents=True)\n",
    "ss.Samples.new(resultsdir, outputs, identifiers=[\"p_death\"])\n",
    "list(resultsdir.iterdir())"
   ]
  },
  {
   "cell_type": "markdown",
   "id": "22",
   "metadata": {},
   "source": [
    "Notice that a list of `identifiers` should be passed to the `Samples` constructor. This is a list of keys in the simulation summary dictionaries that identifies the scenario. These would be model inputs rather than model outputs, and they should be the same for all of the outputs passed into the `Samples` object. If no file name is explicitly provided, the file will automatically be assigned a name based on the identifiers.\n",
    "\n",
    "<div class=\"alert alert-success\">    \n",
    "The <code>Samples</code> file internally contains metadata recording the identifiers. When <code>Samples</code> are accessed using the <code>Dataset</code> class, they can be accessed via the internal metadata. Therefore for a typical workflow, the file name largely doesn't matter, and it usually doesn't need to be manually specified.\n",
    "</div>"
   ]
  },
  {
   "cell_type": "markdown",
   "id": "23",
   "metadata": {},
   "source": [
    "The saved file can be loaded and accessed via the `Samples` class. **Importantly, individual files can be extracted from a `.zip` file without decompressing the entire archive**. This means that loading the summary dataframe and using it to selectively load the full outputs for individual runs can be done efficiently. For example, loading retrieving a single result from a `Samples` file would take a similar amount of time regardless of whether the file contained 10 samples or 100000 samples. "
   ]
  },
  {
   "cell_type": "code",
   "execution_count": 10,
   "id": "24",
   "metadata": {},
   "outputs": [
    {
     "data": {
      "text/html": [
       "<div>\n",
       "<style scoped>\n",
       "    .dataframe tbody tr th:only-of-type {\n",
       "        vertical-align: middle;\n",
       "    }\n",
       "\n",
       "    .dataframe tbody tr th {\n",
       "        vertical-align: top;\n",
       "    }\n",
       "\n",
       "    .dataframe thead th {\n",
       "        text-align: right;\n",
       "    }\n",
       "</style>\n",
       "<table border=\"1\" class=\"dataframe\">\n",
       "  <thead>\n",
       "    <tr style=\"text-align: right;\">\n",
       "      <th></th>\n",
       "      <th></th>\n",
       "      <th>cum_infections</th>\n",
       "      <th>cum_deaths</th>\n",
       "    </tr>\n",
       "    <tr>\n",
       "      <th>seed</th>\n",
       "      <th>p_death</th>\n",
       "      <th></th>\n",
       "      <th></th>\n",
       "    </tr>\n",
       "  </thead>\n",
       "  <tbody>\n",
       "    <tr>\n",
       "      <th>0</th>\n",
       "      <th>0.2</th>\n",
       "      <td>9890.0</td>\n",
       "      <td>2580.0</td>\n",
       "    </tr>\n",
       "    <tr>\n",
       "      <th>1</th>\n",
       "      <th>0.2</th>\n",
       "      <td>9902.0</td>\n",
       "      <td>2682.0</td>\n",
       "    </tr>\n",
       "    <tr>\n",
       "      <th>2</th>\n",
       "      <th>0.2</th>\n",
       "      <td>9894.0</td>\n",
       "      <td>2724.0</td>\n",
       "    </tr>\n",
       "    <tr>\n",
       "      <th>3</th>\n",
       "      <th>0.2</th>\n",
       "      <td>9885.0</td>\n",
       "      <td>2662.0</td>\n",
       "    </tr>\n",
       "    <tr>\n",
       "      <th>4</th>\n",
       "      <th>0.2</th>\n",
       "      <td>9895.0</td>\n",
       "      <td>2603.0</td>\n",
       "    </tr>\n",
       "    <tr>\n",
       "      <th>...</th>\n",
       "      <th>...</th>\n",
       "      <td>...</td>\n",
       "      <td>...</td>\n",
       "    </tr>\n",
       "    <tr>\n",
       "      <th>95</th>\n",
       "      <th>0.2</th>\n",
       "      <td>9881.0</td>\n",
       "      <td>2594.0</td>\n",
       "    </tr>\n",
       "    <tr>\n",
       "      <th>96</th>\n",
       "      <th>0.2</th>\n",
       "      <td>9886.0</td>\n",
       "      <td>2655.0</td>\n",
       "    </tr>\n",
       "    <tr>\n",
       "      <th>97</th>\n",
       "      <th>0.2</th>\n",
       "      <td>9898.0</td>\n",
       "      <td>2675.0</td>\n",
       "    </tr>\n",
       "    <tr>\n",
       "      <th>98</th>\n",
       "      <th>0.2</th>\n",
       "      <td>9906.0</td>\n",
       "      <td>2655.0</td>\n",
       "    </tr>\n",
       "    <tr>\n",
       "      <th>99</th>\n",
       "      <th>0.2</th>\n",
       "      <td>9897.0</td>\n",
       "      <td>2665.0</td>\n",
       "    </tr>\n",
       "  </tbody>\n",
       "</table>\n",
       "<p>100 rows × 2 columns</p>\n",
       "</div>"
      ],
      "text/plain": [
       "              cum_infections  cum_deaths\n",
       "seed p_death                            \n",
       "0    0.2              9890.0      2580.0\n",
       "1    0.2              9902.0      2682.0\n",
       "2    0.2              9894.0      2724.0\n",
       "3    0.2              9885.0      2662.0\n",
       "4    0.2              9895.0      2603.0\n",
       "...                      ...         ...\n",
       "95   0.2              9881.0      2594.0\n",
       "96   0.2              9886.0      2655.0\n",
       "97   0.2              9898.0      2675.0\n",
       "98   0.2              9906.0      2655.0\n",
       "99   0.2              9897.0      2665.0\n",
       "\n",
       "[100 rows x 2 columns]"
      ]
     },
     "execution_count": 10,
     "metadata": {},
     "output_type": "execute_result"
    }
   ],
   "source": [
    "# Load the samples\n",
    "res = ss.Samples('results/0.2.zip')\n",
    "res.summary"
   ]
  },
  {
   "cell_type": "markdown",
   "id": "25",
   "metadata": {},
   "source": [
    "When the `Samples` file was created, a dictionary of scalars was provided for each result. These are automatically used to populate a 'summary' dataframe, where each identifier (and the seed) are used as the index, and the remaining keys appear as columns, as shown above. As a shortcut, columns of the summary dataframe can be accessed by indexing the `Samples` object directly, without having to access the `.summary` attribute e.g.,"
   ]
  },
  {
   "cell_type": "code",
   "execution_count": 11,
   "id": "26",
   "metadata": {},
   "outputs": [
    {
     "data": {
      "text/plain": [
       "seed  p_death\n",
       "0     0.2        9890.0\n",
       "1     0.2        9902.0\n",
       "2     0.2        9894.0\n",
       "3     0.2        9885.0\n",
       "4     0.2        9895.0\n",
       "                  ...  \n",
       "95    0.2        9881.0\n",
       "96    0.2        9886.0\n",
       "97    0.2        9898.0\n",
       "98    0.2        9906.0\n",
       "99    0.2        9897.0\n",
       "Name: cum_infections, Length: 100, dtype: float64"
      ]
     },
     "execution_count": 11,
     "metadata": {},
     "output_type": "execute_result"
    }
   ],
   "source": [
    "res['cum_infections']"
   ]
  },
  {
   "cell_type": "markdown",
   "id": "27",
   "metadata": {},
   "source": [
    "Each simulation is uniquely identified by its seed, and the time series dataframe for each simulation can be accessed by indexing the `Samples` object with the seed:"
   ]
  },
  {
   "cell_type": "code",
   "execution_count": 12,
   "id": "28",
   "metadata": {},
   "outputs": [
    {
     "data": {
      "text/html": [
       "<div>\n",
       "<style scoped>\n",
       "    .dataframe tbody tr th:only-of-type {\n",
       "        vertical-align: middle;\n",
       "    }\n",
       "\n",
       "    .dataframe tbody tr th {\n",
       "        vertical-align: top;\n",
       "    }\n",
       "\n",
       "    .dataframe thead th {\n",
       "        text-align: right;\n",
       "    }\n",
       "</style>\n",
       "<table border=\"1\" class=\"dataframe\">\n",
       "  <thead>\n",
       "    <tr style=\"text-align: right;\">\n",
       "      <th></th>\n",
       "      <th>n_alive</th>\n",
       "      <th>new_deaths</th>\n",
       "      <th>sir.n_susceptible</th>\n",
       "      <th>sir.n_infected</th>\n",
       "      <th>sir.n_recovered</th>\n",
       "      <th>sir.prevalence</th>\n",
       "      <th>sir.new_infections</th>\n",
       "      <th>sir.cum_infections</th>\n",
       "    </tr>\n",
       "    <tr>\n",
       "      <th>t</th>\n",
       "      <th></th>\n",
       "      <th></th>\n",
       "      <th></th>\n",
       "      <th></th>\n",
       "      <th></th>\n",
       "      <th></th>\n",
       "      <th></th>\n",
       "      <th></th>\n",
       "    </tr>\n",
       "  </thead>\n",
       "  <tbody>\n",
       "    <tr>\n",
       "      <th>1995.0</th>\n",
       "      <td>9813.0</td>\n",
       "      <td>187.0</td>\n",
       "      <td>6638.0</td>\n",
       "      <td>2358.0</td>\n",
       "      <td>817.0</td>\n",
       "      <td>0.240293</td>\n",
       "      <td>3362.0</td>\n",
       "      <td>0.0</td>\n",
       "    </tr>\n",
       "    <tr>\n",
       "      <th>1996.0</th>\n",
       "      <td>9329.0</td>\n",
       "      <td>484.0</td>\n",
       "      <td>3023.0</td>\n",
       "      <td>3615.0</td>\n",
       "      <td>2691.0</td>\n",
       "      <td>0.387501</td>\n",
       "      <td>3615.0</td>\n",
       "      <td>3362.0</td>\n",
       "    </tr>\n",
       "    <tr>\n",
       "      <th>1997.0</th>\n",
       "      <td>8389.0</td>\n",
       "      <td>940.0</td>\n",
       "      <td>609.0</td>\n",
       "      <td>2414.0</td>\n",
       "      <td>5366.0</td>\n",
       "      <td>0.287758</td>\n",
       "      <td>2414.0</td>\n",
       "      <td>6977.0</td>\n",
       "    </tr>\n",
       "    <tr>\n",
       "      <th>1998.0</th>\n",
       "      <td>7572.0</td>\n",
       "      <td>817.0</td>\n",
       "      <td>131.0</td>\n",
       "      <td>478.0</td>\n",
       "      <td>6963.0</td>\n",
       "      <td>0.063127</td>\n",
       "      <td>478.0</td>\n",
       "      <td>9391.0</td>\n",
       "    </tr>\n",
       "    <tr>\n",
       "      <th>1999.0</th>\n",
       "      <td>7422.0</td>\n",
       "      <td>150.0</td>\n",
       "      <td>110.0</td>\n",
       "      <td>21.0</td>\n",
       "      <td>7291.0</td>\n",
       "      <td>0.002829</td>\n",
       "      <td>21.0</td>\n",
       "      <td>9869.0</td>\n",
       "    </tr>\n",
       "    <tr>\n",
       "      <th>2000.0</th>\n",
       "      <td>7420.0</td>\n",
       "      <td>2.0</td>\n",
       "      <td>110.0</td>\n",
       "      <td>0.0</td>\n",
       "      <td>7310.0</td>\n",
       "      <td>0.000000</td>\n",
       "      <td>0.0</td>\n",
       "      <td>9890.0</td>\n",
       "    </tr>\n",
       "    <tr>\n",
       "      <th>2001.0</th>\n",
       "      <td>7420.0</td>\n",
       "      <td>0.0</td>\n",
       "      <td>110.0</td>\n",
       "      <td>0.0</td>\n",
       "      <td>7310.0</td>\n",
       "      <td>0.000000</td>\n",
       "      <td>0.0</td>\n",
       "      <td>9890.0</td>\n",
       "    </tr>\n",
       "    <tr>\n",
       "      <th>2002.0</th>\n",
       "      <td>7420.0</td>\n",
       "      <td>0.0</td>\n",
       "      <td>110.0</td>\n",
       "      <td>0.0</td>\n",
       "      <td>7310.0</td>\n",
       "      <td>0.000000</td>\n",
       "      <td>0.0</td>\n",
       "      <td>9890.0</td>\n",
       "    </tr>\n",
       "    <tr>\n",
       "      <th>2003.0</th>\n",
       "      <td>7420.0</td>\n",
       "      <td>0.0</td>\n",
       "      <td>110.0</td>\n",
       "      <td>0.0</td>\n",
       "      <td>7310.0</td>\n",
       "      <td>0.000000</td>\n",
       "      <td>0.0</td>\n",
       "      <td>9890.0</td>\n",
       "    </tr>\n",
       "    <tr>\n",
       "      <th>2004.0</th>\n",
       "      <td>7420.0</td>\n",
       "      <td>0.0</td>\n",
       "      <td>110.0</td>\n",
       "      <td>0.0</td>\n",
       "      <td>7310.0</td>\n",
       "      <td>0.000000</td>\n",
       "      <td>0.0</td>\n",
       "      <td>9890.0</td>\n",
       "    </tr>\n",
       "    <tr>\n",
       "      <th>2005.0</th>\n",
       "      <td>7420.0</td>\n",
       "      <td>0.0</td>\n",
       "      <td>110.0</td>\n",
       "      <td>0.0</td>\n",
       "      <td>7310.0</td>\n",
       "      <td>0.000000</td>\n",
       "      <td>0.0</td>\n",
       "      <td>9890.0</td>\n",
       "    </tr>\n",
       "    <tr>\n",
       "      <th>2006.0</th>\n",
       "      <td>7420.0</td>\n",
       "      <td>0.0</td>\n",
       "      <td>110.0</td>\n",
       "      <td>0.0</td>\n",
       "      <td>7310.0</td>\n",
       "      <td>0.000000</td>\n",
       "      <td>0.0</td>\n",
       "      <td>9890.0</td>\n",
       "    </tr>\n",
       "    <tr>\n",
       "      <th>2007.0</th>\n",
       "      <td>7420.0</td>\n",
       "      <td>0.0</td>\n",
       "      <td>110.0</td>\n",
       "      <td>0.0</td>\n",
       "      <td>7310.0</td>\n",
       "      <td>0.000000</td>\n",
       "      <td>0.0</td>\n",
       "      <td>9890.0</td>\n",
       "    </tr>\n",
       "    <tr>\n",
       "      <th>2008.0</th>\n",
       "      <td>7420.0</td>\n",
       "      <td>0.0</td>\n",
       "      <td>110.0</td>\n",
       "      <td>0.0</td>\n",
       "      <td>7310.0</td>\n",
       "      <td>0.000000</td>\n",
       "      <td>0.0</td>\n",
       "      <td>9890.0</td>\n",
       "    </tr>\n",
       "    <tr>\n",
       "      <th>2009.0</th>\n",
       "      <td>7420.0</td>\n",
       "      <td>0.0</td>\n",
       "      <td>110.0</td>\n",
       "      <td>0.0</td>\n",
       "      <td>7310.0</td>\n",
       "      <td>0.000000</td>\n",
       "      <td>0.0</td>\n",
       "      <td>9890.0</td>\n",
       "    </tr>\n",
       "    <tr>\n",
       "      <th>2010.0</th>\n",
       "      <td>7420.0</td>\n",
       "      <td>0.0</td>\n",
       "      <td>110.0</td>\n",
       "      <td>0.0</td>\n",
       "      <td>7310.0</td>\n",
       "      <td>0.000000</td>\n",
       "      <td>0.0</td>\n",
       "      <td>9890.0</td>\n",
       "    </tr>\n",
       "    <tr>\n",
       "      <th>2011.0</th>\n",
       "      <td>7420.0</td>\n",
       "      <td>0.0</td>\n",
       "      <td>110.0</td>\n",
       "      <td>0.0</td>\n",
       "      <td>7310.0</td>\n",
       "      <td>0.000000</td>\n",
       "      <td>0.0</td>\n",
       "      <td>9890.0</td>\n",
       "    </tr>\n",
       "    <tr>\n",
       "      <th>2012.0</th>\n",
       "      <td>7420.0</td>\n",
       "      <td>0.0</td>\n",
       "      <td>110.0</td>\n",
       "      <td>0.0</td>\n",
       "      <td>7310.0</td>\n",
       "      <td>0.000000</td>\n",
       "      <td>0.0</td>\n",
       "      <td>9890.0</td>\n",
       "    </tr>\n",
       "    <tr>\n",
       "      <th>2013.0</th>\n",
       "      <td>7420.0</td>\n",
       "      <td>0.0</td>\n",
       "      <td>110.0</td>\n",
       "      <td>0.0</td>\n",
       "      <td>7310.0</td>\n",
       "      <td>0.000000</td>\n",
       "      <td>0.0</td>\n",
       "      <td>9890.0</td>\n",
       "    </tr>\n",
       "    <tr>\n",
       "      <th>2014.0</th>\n",
       "      <td>7420.0</td>\n",
       "      <td>0.0</td>\n",
       "      <td>110.0</td>\n",
       "      <td>0.0</td>\n",
       "      <td>7310.0</td>\n",
       "      <td>0.000000</td>\n",
       "      <td>0.0</td>\n",
       "      <td>9890.0</td>\n",
       "    </tr>\n",
       "    <tr>\n",
       "      <th>2015.0</th>\n",
       "      <td>7420.0</td>\n",
       "      <td>0.0</td>\n",
       "      <td>110.0</td>\n",
       "      <td>0.0</td>\n",
       "      <td>7310.0</td>\n",
       "      <td>0.000000</td>\n",
       "      <td>0.0</td>\n",
       "      <td>9890.0</td>\n",
       "    </tr>\n",
       "    <tr>\n",
       "      <th>2016.0</th>\n",
       "      <td>7420.0</td>\n",
       "      <td>0.0</td>\n",
       "      <td>110.0</td>\n",
       "      <td>0.0</td>\n",
       "      <td>7310.0</td>\n",
       "      <td>0.000000</td>\n",
       "      <td>0.0</td>\n",
       "      <td>9890.0</td>\n",
       "    </tr>\n",
       "    <tr>\n",
       "      <th>2017.0</th>\n",
       "      <td>7420.0</td>\n",
       "      <td>0.0</td>\n",
       "      <td>110.0</td>\n",
       "      <td>0.0</td>\n",
       "      <td>7310.0</td>\n",
       "      <td>0.000000</td>\n",
       "      <td>0.0</td>\n",
       "      <td>9890.0</td>\n",
       "    </tr>\n",
       "    <tr>\n",
       "      <th>2018.0</th>\n",
       "      <td>7420.0</td>\n",
       "      <td>0.0</td>\n",
       "      <td>110.0</td>\n",
       "      <td>0.0</td>\n",
       "      <td>7310.0</td>\n",
       "      <td>0.000000</td>\n",
       "      <td>0.0</td>\n",
       "      <td>9890.0</td>\n",
       "    </tr>\n",
       "    <tr>\n",
       "      <th>2019.0</th>\n",
       "      <td>7420.0</td>\n",
       "      <td>0.0</td>\n",
       "      <td>110.0</td>\n",
       "      <td>0.0</td>\n",
       "      <td>7310.0</td>\n",
       "      <td>0.000000</td>\n",
       "      <td>0.0</td>\n",
       "      <td>9890.0</td>\n",
       "    </tr>\n",
       "    <tr>\n",
       "      <th>2020.0</th>\n",
       "      <td>7420.0</td>\n",
       "      <td>0.0</td>\n",
       "      <td>110.0</td>\n",
       "      <td>0.0</td>\n",
       "      <td>7310.0</td>\n",
       "      <td>0.000000</td>\n",
       "      <td>0.0</td>\n",
       "      <td>9890.0</td>\n",
       "    </tr>\n",
       "    <tr>\n",
       "      <th>2021.0</th>\n",
       "      <td>7420.0</td>\n",
       "      <td>0.0</td>\n",
       "      <td>110.0</td>\n",
       "      <td>0.0</td>\n",
       "      <td>7310.0</td>\n",
       "      <td>0.000000</td>\n",
       "      <td>0.0</td>\n",
       "      <td>9890.0</td>\n",
       "    </tr>\n",
       "    <tr>\n",
       "      <th>2022.0</th>\n",
       "      <td>7420.0</td>\n",
       "      <td>0.0</td>\n",
       "      <td>110.0</td>\n",
       "      <td>0.0</td>\n",
       "      <td>7310.0</td>\n",
       "      <td>0.000000</td>\n",
       "      <td>0.0</td>\n",
       "      <td>9890.0</td>\n",
       "    </tr>\n",
       "    <tr>\n",
       "      <th>2023.0</th>\n",
       "      <td>7420.0</td>\n",
       "      <td>0.0</td>\n",
       "      <td>110.0</td>\n",
       "      <td>0.0</td>\n",
       "      <td>7310.0</td>\n",
       "      <td>0.000000</td>\n",
       "      <td>0.0</td>\n",
       "      <td>9890.0</td>\n",
       "    </tr>\n",
       "    <tr>\n",
       "      <th>2024.0</th>\n",
       "      <td>7420.0</td>\n",
       "      <td>0.0</td>\n",
       "      <td>110.0</td>\n",
       "      <td>0.0</td>\n",
       "      <td>7310.0</td>\n",
       "      <td>0.000000</td>\n",
       "      <td>0.0</td>\n",
       "      <td>9890.0</td>\n",
       "    </tr>\n",
       "    <tr>\n",
       "      <th>2025.0</th>\n",
       "      <td>7420.0</td>\n",
       "      <td>0.0</td>\n",
       "      <td>110.0</td>\n",
       "      <td>0.0</td>\n",
       "      <td>7310.0</td>\n",
       "      <td>0.000000</td>\n",
       "      <td>0.0</td>\n",
       "      <td>9890.0</td>\n",
       "    </tr>\n",
       "    <tr>\n",
       "      <th>2026.0</th>\n",
       "      <td>7420.0</td>\n",
       "      <td>0.0</td>\n",
       "      <td>110.0</td>\n",
       "      <td>0.0</td>\n",
       "      <td>7310.0</td>\n",
       "      <td>0.000000</td>\n",
       "      <td>0.0</td>\n",
       "      <td>9890.0</td>\n",
       "    </tr>\n",
       "    <tr>\n",
       "      <th>2027.0</th>\n",
       "      <td>7420.0</td>\n",
       "      <td>0.0</td>\n",
       "      <td>110.0</td>\n",
       "      <td>0.0</td>\n",
       "      <td>7310.0</td>\n",
       "      <td>0.000000</td>\n",
       "      <td>0.0</td>\n",
       "      <td>9890.0</td>\n",
       "    </tr>\n",
       "    <tr>\n",
       "      <th>2028.0</th>\n",
       "      <td>7420.0</td>\n",
       "      <td>0.0</td>\n",
       "      <td>110.0</td>\n",
       "      <td>0.0</td>\n",
       "      <td>7310.0</td>\n",
       "      <td>0.000000</td>\n",
       "      <td>0.0</td>\n",
       "      <td>9890.0</td>\n",
       "    </tr>\n",
       "    <tr>\n",
       "      <th>2029.0</th>\n",
       "      <td>7420.0</td>\n",
       "      <td>0.0</td>\n",
       "      <td>110.0</td>\n",
       "      <td>0.0</td>\n",
       "      <td>7310.0</td>\n",
       "      <td>0.000000</td>\n",
       "      <td>0.0</td>\n",
       "      <td>9890.0</td>\n",
       "    </tr>\n",
       "    <tr>\n",
       "      <th>2030.0</th>\n",
       "      <td>7420.0</td>\n",
       "      <td>0.0</td>\n",
       "      <td>110.0</td>\n",
       "      <td>0.0</td>\n",
       "      <td>7310.0</td>\n",
       "      <td>0.000000</td>\n",
       "      <td>0.0</td>\n",
       "      <td>9890.0</td>\n",
       "    </tr>\n",
       "  </tbody>\n",
       "</table>\n",
       "</div>"
      ],
      "text/plain": [
       "        n_alive  new_deaths  sir.n_susceptible  sir.n_infected  \\\n",
       "t                                                                \n",
       "1995.0   9813.0       187.0             6638.0          2358.0   \n",
       "1996.0   9329.0       484.0             3023.0          3615.0   \n",
       "1997.0   8389.0       940.0              609.0          2414.0   \n",
       "1998.0   7572.0       817.0              131.0           478.0   \n",
       "1999.0   7422.0       150.0              110.0            21.0   \n",
       "2000.0   7420.0         2.0              110.0             0.0   \n",
       "2001.0   7420.0         0.0              110.0             0.0   \n",
       "2002.0   7420.0         0.0              110.0             0.0   \n",
       "2003.0   7420.0         0.0              110.0             0.0   \n",
       "2004.0   7420.0         0.0              110.0             0.0   \n",
       "2005.0   7420.0         0.0              110.0             0.0   \n",
       "2006.0   7420.0         0.0              110.0             0.0   \n",
       "2007.0   7420.0         0.0              110.0             0.0   \n",
       "2008.0   7420.0         0.0              110.0             0.0   \n",
       "2009.0   7420.0         0.0              110.0             0.0   \n",
       "2010.0   7420.0         0.0              110.0             0.0   \n",
       "2011.0   7420.0         0.0              110.0             0.0   \n",
       "2012.0   7420.0         0.0              110.0             0.0   \n",
       "2013.0   7420.0         0.0              110.0             0.0   \n",
       "2014.0   7420.0         0.0              110.0             0.0   \n",
       "2015.0   7420.0         0.0              110.0             0.0   \n",
       "2016.0   7420.0         0.0              110.0             0.0   \n",
       "2017.0   7420.0         0.0              110.0             0.0   \n",
       "2018.0   7420.0         0.0              110.0             0.0   \n",
       "2019.0   7420.0         0.0              110.0             0.0   \n",
       "2020.0   7420.0         0.0              110.0             0.0   \n",
       "2021.0   7420.0         0.0              110.0             0.0   \n",
       "2022.0   7420.0         0.0              110.0             0.0   \n",
       "2023.0   7420.0         0.0              110.0             0.0   \n",
       "2024.0   7420.0         0.0              110.0             0.0   \n",
       "2025.0   7420.0         0.0              110.0             0.0   \n",
       "2026.0   7420.0         0.0              110.0             0.0   \n",
       "2027.0   7420.0         0.0              110.0             0.0   \n",
       "2028.0   7420.0         0.0              110.0             0.0   \n",
       "2029.0   7420.0         0.0              110.0             0.0   \n",
       "2030.0   7420.0         0.0              110.0             0.0   \n",
       "\n",
       "        sir.n_recovered  sir.prevalence  sir.new_infections  \\\n",
       "t                                                             \n",
       "1995.0            817.0        0.240293              3362.0   \n",
       "1996.0           2691.0        0.387501              3615.0   \n",
       "1997.0           5366.0        0.287758              2414.0   \n",
       "1998.0           6963.0        0.063127               478.0   \n",
       "1999.0           7291.0        0.002829                21.0   \n",
       "2000.0           7310.0        0.000000                 0.0   \n",
       "2001.0           7310.0        0.000000                 0.0   \n",
       "2002.0           7310.0        0.000000                 0.0   \n",
       "2003.0           7310.0        0.000000                 0.0   \n",
       "2004.0           7310.0        0.000000                 0.0   \n",
       "2005.0           7310.0        0.000000                 0.0   \n",
       "2006.0           7310.0        0.000000                 0.0   \n",
       "2007.0           7310.0        0.000000                 0.0   \n",
       "2008.0           7310.0        0.000000                 0.0   \n",
       "2009.0           7310.0        0.000000                 0.0   \n",
       "2010.0           7310.0        0.000000                 0.0   \n",
       "2011.0           7310.0        0.000000                 0.0   \n",
       "2012.0           7310.0        0.000000                 0.0   \n",
       "2013.0           7310.0        0.000000                 0.0   \n",
       "2014.0           7310.0        0.000000                 0.0   \n",
       "2015.0           7310.0        0.000000                 0.0   \n",
       "2016.0           7310.0        0.000000                 0.0   \n",
       "2017.0           7310.0        0.000000                 0.0   \n",
       "2018.0           7310.0        0.000000                 0.0   \n",
       "2019.0           7310.0        0.000000                 0.0   \n",
       "2020.0           7310.0        0.000000                 0.0   \n",
       "2021.0           7310.0        0.000000                 0.0   \n",
       "2022.0           7310.0        0.000000                 0.0   \n",
       "2023.0           7310.0        0.000000                 0.0   \n",
       "2024.0           7310.0        0.000000                 0.0   \n",
       "2025.0           7310.0        0.000000                 0.0   \n",
       "2026.0           7310.0        0.000000                 0.0   \n",
       "2027.0           7310.0        0.000000                 0.0   \n",
       "2028.0           7310.0        0.000000                 0.0   \n",
       "2029.0           7310.0        0.000000                 0.0   \n",
       "2030.0           7310.0        0.000000                 0.0   \n",
       "\n",
       "        sir.cum_infections  \n",
       "t                           \n",
       "1995.0                 0.0  \n",
       "1996.0              3362.0  \n",
       "1997.0              6977.0  \n",
       "1998.0              9391.0  \n",
       "1999.0              9869.0  \n",
       "2000.0              9890.0  \n",
       "2001.0              9890.0  \n",
       "2002.0              9890.0  \n",
       "2003.0              9890.0  \n",
       "2004.0              9890.0  \n",
       "2005.0              9890.0  \n",
       "2006.0              9890.0  \n",
       "2007.0              9890.0  \n",
       "2008.0              9890.0  \n",
       "2009.0              9890.0  \n",
       "2010.0              9890.0  \n",
       "2011.0              9890.0  \n",
       "2012.0              9890.0  \n",
       "2013.0              9890.0  \n",
       "2014.0              9890.0  \n",
       "2015.0              9890.0  \n",
       "2016.0              9890.0  \n",
       "2017.0              9890.0  \n",
       "2018.0              9890.0  \n",
       "2019.0              9890.0  \n",
       "2020.0              9890.0  \n",
       "2021.0              9890.0  \n",
       "2022.0              9890.0  \n",
       "2023.0              9890.0  \n",
       "2024.0              9890.0  \n",
       "2025.0              9890.0  \n",
       "2026.0              9890.0  \n",
       "2027.0              9890.0  \n",
       "2028.0              9890.0  \n",
       "2029.0              9890.0  \n",
       "2030.0              9890.0  "
      ]
     },
     "execution_count": 12,
     "metadata": {},
     "output_type": "execute_result"
    }
   ],
   "source": [
    "res[0]"
   ]
  },
  {
   "cell_type": "markdown",
   "id": "29",
   "metadata": {},
   "source": [
    "The dataframes in the `Samples` object are cached, so that the dataframes don't all need to be loaded in order to start working with the file. The first time a dataframe is accessed, it will be loaded from disk. Subsequent requests for the dataframe will return a cached version instead. The cached dataframe is copied each time it is retrieved, to prevent accidentally modifying the original data. "
   ]
  },
  {
   "cell_type": "markdown",
   "id": "30",
   "metadata": {},
   "source": [
    "## Common analysis operations\n",
    "\n",
    "Here are some examples of common analyses that can be performed using functionality in the `Samples` class\n",
    "\n",
    "### Plotting summary quantities\n",
    "\n",
    "Often it's useful to be able plot distributions of summary quantities, such as the total infections. This can be performed by directly indexing the `Samples` object and then using the appropriate plotting command:"
   ]
  },
  {
   "cell_type": "code",
   "execution_count": 13,
   "id": "31",
   "metadata": {},
   "outputs": [
    {
     "data": {
      "text/plain": [
       "Text(0, 0.5, 'Probability density')"
      ]
     },
     "execution_count": 13,
     "metadata": {},
     "output_type": "execute_result"
    },
    {
     "data": {
      "image/png": "[encoded data removed]",
      "text/plain": [
       "<Figure size 640x480 with 1 Axes>"
      ]
     },
     "metadata": {},
     "output_type": "display_data"
    }
   ],
   "source": [
    "plt.hist(res['cum_infections'], density=True)\n",
    "\n",
    "plt.xlabel('Total infections')\n",
    "plt.ylabel('Probability density')"
   ]
  },
  {
   "cell_type": "markdown",
   "id": "32",
   "metadata": {},
   "source": [
    "### Plotting time series\n",
    "\n",
    "Time series plots can be obtained by accessing the dataframes associated with each seed, and then plotting quantities from those. For convenience, iterating over the `Samples` object will automatically iterate over all of the dataframes associated with each seed. For example:"
   ]
  },
  {
   "cell_type": "code",
   "execution_count": 14,
   "id": "33",
   "metadata": {},
   "outputs": [
    {
     "data": {
      "image/png": "[encoded data removed]",
      "text/plain": [
       "<Figure size 640x480 with 1 Axes>"
      ]
     },
     "metadata": {},
     "output_type": "display_data"
    }
   ],
   "source": [
    "for df in res:\n",
    "    plt.plot(df['sir.new_infections'], color='b', alpha=0.1)"
   ]
  },
  {
   "cell_type": "markdown",
   "id": "34",
   "metadata": {},
   "source": [
    "### Other ways to access content\n",
    "\n",
    "We have seen so far that we can use\n",
    "\n",
    "- `res.summary` - retrieve dataframe of summary outputs\n",
    "- `res[summary_column]` - retrieve a column of the summary dataframe\n",
    "- `res[seed]` - retrieve the time series dataframe associated with one of the simulations\n",
    "- `for df in res` - iterate over time series dataframes\n",
    "\n",
    "Sometimes it is useful to have access to both the summary dictionary and the time series dataframe associated with a single sample. These can be accessed using the `get` method, which takes in a seed, and returns both outputs for that seed together:"
   ]
  },
  {
   "cell_type": "code",
   "execution_count": 15,
   "id": "35",
   "metadata": {},
   "outputs": [
    {
     "data": {
      "text/plain": [
       "(#0. 'p_death':        0.2\n",
       " #1. 'cum_infections': 9890.0\n",
       " #2. 'cum_deaths':     2580.0,\n",
       "         n_alive  new_deaths  sir.n_susceptible  sir.n_infected  \\\n",
       " t                                                                \n",
       " 1995.0   9813.0       187.0             6638.0          2358.0   \n",
       " 1996.0   9329.0       484.0             3023.0          3615.0   \n",
       " 1997.0   8389.0       940.0              609.0          2414.0   \n",
       " 1998.0   7572.0       817.0              131.0           478.0   \n",
       " 1999.0   7422.0       150.0              110.0            21.0   \n",
       " 2000.0   7420.0         2.0              110.0             0.0   \n",
       " 2001.0   7420.0         0.0              110.0             0.0   \n",
       " 2002.0   7420.0         0.0              110.0             0.0   \n",
       " 2003.0   7420.0         0.0              110.0             0.0   \n",
       " 2004.0   7420.0         0.0              110.0             0.0   \n",
       " 2005.0   7420.0         0.0              110.0             0.0   \n",
       " 2006.0   7420.0         0.0              110.0             0.0   \n",
       " 2007.0   7420.0         0.0              110.0             0.0   \n",
       " 2008.0   7420.0         0.0              110.0             0.0   \n",
       " 2009.0   7420.0         0.0              110.0             0.0   \n",
       " 2010.0   7420.0         0.0              110.0             0.0   \n",
       " 2011.0   7420.0         0.0              110.0             0.0   \n",
       " 2012.0   7420.0         0.0              110.0             0.0   \n",
       " 2013.0   7420.0         0.0              110.0             0.0   \n",
       " 2014.0   7420.0         0.0              110.0             0.0   \n",
       " 2015.0   7420.0         0.0              110.0             0.0   \n",
       " 2016.0   7420.0         0.0              110.0             0.0   \n",
       " 2017.0   7420.0         0.0              110.0             0.0   \n",
       " 2018.0   7420.0         0.0              110.0             0.0   \n",
       " 2019.0   7420.0         0.0              110.0             0.0   \n",
       " 2020.0   7420.0         0.0              110.0             0.0   \n",
       " 2021.0   7420.0         0.0              110.0             0.0   \n",
       " 2022.0   7420.0         0.0              110.0             0.0   \n",
       " 2023.0   7420.0         0.0              110.0             0.0   \n",
       " 2024.0   7420.0         0.0              110.0             0.0   \n",
       " 2025.0   7420.0         0.0              110.0             0.0   \n",
       " 2026.0   7420.0         0.0              110.0             0.0   \n",
       " 2027.0   7420.0         0.0              110.0             0.0   \n",
       " 2028.0   7420.0         0.0              110.0             0.0   \n",
       " 2029.0   7420.0         0.0              110.0             0.0   \n",
       " 2030.0   7420.0         0.0              110.0             0.0   \n",
       " \n",
       "         sir.n_recovered  sir.prevalence  sir.new_infections  \\\n",
       " t                                                             \n",
       " 1995.0            817.0        0.240293              3362.0   \n",
       " 1996.0           2691.0        0.387501              3615.0   \n",
       " 1997.0           5366.0        0.287758              2414.0   \n",
       " 1998.0           6963.0        0.063127               478.0   \n",
       " 1999.0           7291.0        0.002829                21.0   \n",
       " 2000.0           7310.0        0.000000                 0.0   \n",
       " 2001.0           7310.0        0.000000                 0.0   \n",
       " 2002.0           7310.0        0.000000                 0.0   \n",
       " 2003.0           7310.0        0.000000                 0.0   \n",
       " 2004.0           7310.0        0.000000                 0.0   \n",
       " 2005.0           7310.0        0.000000                 0.0   \n",
       " 2006.0           7310.0        0.000000                 0.0   \n",
       " 2007.0           7310.0        0.000000                 0.0   \n",
       " 2008.0           7310.0        0.000000                 0.0   \n",
       " 2009.0           7310.0        0.000000                 0.0   \n",
       " 2010.0           7310.0        0.000000                 0.0   \n",
       " 2011.0           7310.0        0.000000                 0.0   \n",
       " 2012.0           7310.0        0.000000                 0.0   \n",
       " 2013.0           7310.0        0.000000                 0.0   \n",
       " 2014.0           7310.0        0.000000                 0.0   \n",
       " 2015.0           7310.0        0.000000                 0.0   \n",
       " 2016.0           7310.0        0.000000                 0.0   \n",
       " 2017.0           7310.0        0.000000                 0.0   \n",
       " 2018.0           7310.0        0.000000                 0.0   \n",
       " 2019.0           7310.0        0.000000                 0.0   \n",
       " 2020.0           7310.0        0.000000                 0.0   \n",
       " 2021.0           7310.0        0.000000                 0.0   \n",
       " 2022.0           7310.0        0.000000                 0.0   \n",
       " 2023.0           7310.0        0.000000                 0.0   \n",
       " 2024.0           7310.0        0.000000                 0.0   \n",
       " 2025.0           7310.0        0.000000                 0.0   \n",
       " 2026.0           7310.0        0.000000                 0.0   \n",
       " 2027.0           7310.0        0.000000                 0.0   \n",
       " 2028.0           7310.0        0.000000                 0.0   \n",
       " 2029.0           7310.0        0.000000                 0.0   \n",
       " 2030.0           7310.0        0.000000                 0.0   \n",
       " \n",
       "         sir.cum_infections  \n",
       " t                           \n",
       " 1995.0                 0.0  \n",
       " 1996.0              3362.0  \n",
       " 1997.0              6977.0  \n",
       " 1998.0              9391.0  \n",
       " 1999.0              9869.0  \n",
       " 2000.0              9890.0  \n",
       " 2001.0              9890.0  \n",
       " 2002.0              9890.0  \n",
       " 2003.0              9890.0  \n",
       " 2004.0              9890.0  \n",
       " 2005.0              9890.0  \n",
       " 2006.0              9890.0  \n",
       " 2007.0              9890.0  \n",
       " 2008.0              9890.0  \n",
       " 2009.0              9890.0  \n",
       " 2010.0              9890.0  \n",
       " 2011.0              9890.0  \n",
       " 2012.0              9890.0  \n",
       " 2013.0              9890.0  \n",
       " 2014.0              9890.0  \n",
       " 2015.0              9890.0  \n",
       " 2016.0              9890.0  \n",
       " 2017.0              9890.0  \n",
       " 2018.0              9890.0  \n",
       " 2019.0              9890.0  \n",
       " 2020.0              9890.0  \n",
       " 2021.0              9890.0  \n",
       " 2022.0              9890.0  \n",
       " 2023.0              9890.0  \n",
       " 2024.0              9890.0  \n",
       " 2025.0              9890.0  \n",
       " 2026.0              9890.0  \n",
       " 2027.0              9890.0  \n",
       " 2028.0              9890.0  \n",
       " 2029.0              9890.0  \n",
       " 2030.0              9890.0  )"
      ]
     },
     "execution_count": 15,
     "metadata": {},
     "output_type": "execute_result"
    }
   ],
   "source": [
    "res.get(0) # Retrieve both summary quantities and dataframes"
   ]
  },
  {
   "cell_type": "markdown",
   "id": "36",
   "metadata": {},
   "source": [
    "In the same way that it is possible to index the `Samples` object directly in order to retrieve columns from the summary dataframe, it is also possible to directly index the `Samples` object to get a column of the time series dataframe. In this case, pass a tuple of items to the `Samples` object, where the first item is the seed, and the second is a column from the time series dataframe. For example:"
   ]
  },
  {
   "cell_type": "code",
   "execution_count": 16,
   "id": "37",
   "metadata": {},
   "outputs": [
    {
     "data": {
      "text/plain": [
       "t\n",
       "1995.0    2358.0\n",
       "1996.0    3615.0\n",
       "1997.0    2414.0\n",
       "1998.0     478.0\n",
       "1999.0      21.0\n",
       "2000.0       0.0\n",
       "2001.0       0.0\n",
       "2002.0       0.0\n",
       "2003.0       0.0\n",
       "2004.0       0.0\n",
       "2005.0       0.0\n",
       "2006.0       0.0\n",
       "2007.0       0.0\n",
       "2008.0       0.0\n",
       "2009.0       0.0\n",
       "2010.0       0.0\n",
       "2011.0       0.0\n",
       "2012.0       0.0\n",
       "2013.0       0.0\n",
       "2014.0       0.0\n",
       "2015.0       0.0\n",
       "2016.0       0.0\n",
       "2017.0       0.0\n",
       "2018.0       0.0\n",
       "2019.0       0.0\n",
       "2020.0       0.0\n",
       "2021.0       0.0\n",
       "2022.0       0.0\n",
       "2023.0       0.0\n",
       "2024.0       0.0\n",
       "2025.0       0.0\n",
       "2026.0       0.0\n",
       "2027.0       0.0\n",
       "2028.0       0.0\n",
       "2029.0       0.0\n",
       "2030.0       0.0\n",
       "Name: sir.n_infected, dtype: float64"
      ]
     },
     "execution_count": 16,
     "metadata": {},
     "output_type": "execute_result"
    }
   ],
   "source": [
    "res[0,'sir.n_infected'] # Equivalent to `res[0]['sir.n_infected']`"
   ]
  },
  {
   "cell_type": "markdown",
   "id": "38",
   "metadata": {},
   "source": [
    "### Filtering results"
   ]
  },
  {
   "cell_type": "markdown",
   "id": "39",
   "metadata": {},
   "source": [
    "The `.seeds` attribute contains a listing of seeds, which can be helpful for iteration"
   ]
  },
  {
   "cell_type": "code",
   "execution_count": 17,
   "id": "40",
   "metadata": {},
   "outputs": [
    {
     "data": {
      "text/plain": [
       "array([ 0,  1,  2,  3,  4,  5,  6,  7,  8,  9, 10, 11, 12, 13, 14, 15, 16,\n",
       "       17, 18, 19, 20, 21, 22, 23, 24, 25, 26, 27, 28, 29, 30, 31, 32, 33,\n",
       "       34, 35, 36, 37, 38, 39, 40, 41, 42, 43, 44, 45, 46, 47, 48, 49, 50,\n",
       "       51, 52, 53, 54, 55, 56, 57, 58, 59, 60, 61, 62, 63, 64, 65, 66, 67,\n",
       "       68, 69, 70, 71, 72, 73, 74, 75, 76, 77, 78, 79, 80, 81, 82, 83, 84,\n",
       "       85, 86, 87, 88, 89, 90, 91, 92, 93, 94, 95, 96, 97, 98, 99])"
      ]
     },
     "execution_count": 17,
     "metadata": {},
     "output_type": "execute_result"
    }
   ],
   "source": [
    "res.seeds"
   ]
  },
  {
   "cell_type": "markdown",
   "id": "41",
   "metadata": {},
   "source": [
    "The seeds are drawn from the summary dataframe, which defines which seeds are accessible via the `Samples` object. Therefore, you can drop rows from the summary dataframe to filter the results. For example, suppose we only wanted to analyze simulations with over 21000 deaths. We could retrieve a copy of the summary dataframe that only contains matching simulations"
   ]
  },
  {
   "cell_type": "code",
   "execution_count": 18,
   "id": "42",
   "metadata": {},
   "outputs": [
    {
     "data": {
      "text/html": [
       "<div>\n",
       "<style scoped>\n",
       "    .dataframe tbody tr th:only-of-type {\n",
       "        vertical-align: middle;\n",
       "    }\n",
       "\n",
       "    .dataframe tbody tr th {\n",
       "        vertical-align: top;\n",
       "    }\n",
       "\n",
       "    .dataframe thead th {\n",
       "        text-align: right;\n",
       "    }\n",
       "</style>\n",
       "<table border=\"1\" class=\"dataframe\">\n",
       "  <thead>\n",
       "    <tr style=\"text-align: right;\">\n",
       "      <th></th>\n",
       "      <th></th>\n",
       "      <th>cum_infections</th>\n",
       "      <th>cum_deaths</th>\n",
       "    </tr>\n",
       "    <tr>\n",
       "      <th>seed</th>\n",
       "      <th>p_death</th>\n",
       "      <th></th>\n",
       "      <th></th>\n",
       "    </tr>\n",
       "  </thead>\n",
       "  <tbody>\n",
       "    <tr>\n",
       "      <th>1</th>\n",
       "      <th>0.2</th>\n",
       "      <td>9902.0</td>\n",
       "      <td>2682.0</td>\n",
       "    </tr>\n",
       "    <tr>\n",
       "      <th>6</th>\n",
       "      <th>0.2</th>\n",
       "      <td>9908.0</td>\n",
       "      <td>2730.0</td>\n",
       "    </tr>\n",
       "    <tr>\n",
       "      <th>14</th>\n",
       "      <th>0.2</th>\n",
       "      <td>9903.0</td>\n",
       "      <td>2721.0</td>\n",
       "    </tr>\n",
       "    <tr>\n",
       "      <th>19</th>\n",
       "      <th>0.2</th>\n",
       "      <td>9907.0</td>\n",
       "      <td>2712.0</td>\n",
       "    </tr>\n",
       "    <tr>\n",
       "      <th>25</th>\n",
       "      <th>0.2</th>\n",
       "      <td>9916.0</td>\n",
       "      <td>2762.0</td>\n",
       "    </tr>\n",
       "    <tr>\n",
       "      <th>26</th>\n",
       "      <th>0.2</th>\n",
       "      <td>9910.0</td>\n",
       "      <td>2667.0</td>\n",
       "    </tr>\n",
       "    <tr>\n",
       "      <th>27</th>\n",
       "      <th>0.2</th>\n",
       "      <td>9919.0</td>\n",
       "      <td>2735.0</td>\n",
       "    </tr>\n",
       "    <tr>\n",
       "      <th>31</th>\n",
       "      <th>0.2</th>\n",
       "      <td>9901.0</td>\n",
       "      <td>2708.0</td>\n",
       "    </tr>\n",
       "    <tr>\n",
       "      <th>32</th>\n",
       "      <th>0.2</th>\n",
       "      <td>9903.0</td>\n",
       "      <td>2733.0</td>\n",
       "    </tr>\n",
       "    <tr>\n",
       "      <th>33</th>\n",
       "      <th>0.2</th>\n",
       "      <td>9903.0</td>\n",
       "      <td>2733.0</td>\n",
       "    </tr>\n",
       "    <tr>\n",
       "      <th>36</th>\n",
       "      <th>0.2</th>\n",
       "      <td>9908.0</td>\n",
       "      <td>2666.0</td>\n",
       "    </tr>\n",
       "    <tr>\n",
       "      <th>39</th>\n",
       "      <th>0.2</th>\n",
       "      <td>9920.0</td>\n",
       "      <td>2815.0</td>\n",
       "    </tr>\n",
       "    <tr>\n",
       "      <th>41</th>\n",
       "      <th>0.2</th>\n",
       "      <td>9918.0</td>\n",
       "      <td>2753.0</td>\n",
       "    </tr>\n",
       "    <tr>\n",
       "      <th>42</th>\n",
       "      <th>0.2</th>\n",
       "      <td>9901.0</td>\n",
       "      <td>2643.0</td>\n",
       "    </tr>\n",
       "    <tr>\n",
       "      <th>45</th>\n",
       "      <th>0.2</th>\n",
       "      <td>9906.0</td>\n",
       "      <td>2673.0</td>\n",
       "    </tr>\n",
       "    <tr>\n",
       "      <th>46</th>\n",
       "      <th>0.2</th>\n",
       "      <td>9902.0</td>\n",
       "      <td>2667.0</td>\n",
       "    </tr>\n",
       "    <tr>\n",
       "      <th>48</th>\n",
       "      <th>0.2</th>\n",
       "      <td>9921.0</td>\n",
       "      <td>2786.0</td>\n",
       "    </tr>\n",
       "    <tr>\n",
       "      <th>51</th>\n",
       "      <th>0.2</th>\n",
       "      <td>9918.0</td>\n",
       "      <td>2712.0</td>\n",
       "    </tr>\n",
       "    <tr>\n",
       "      <th>52</th>\n",
       "      <th>0.2</th>\n",
       "      <td>9901.0</td>\n",
       "      <td>2679.0</td>\n",
       "    </tr>\n",
       "    <tr>\n",
       "      <th>65</th>\n",
       "      <th>0.2</th>\n",
       "      <td>9919.0</td>\n",
       "      <td>2663.0</td>\n",
       "    </tr>\n",
       "    <tr>\n",
       "      <th>68</th>\n",
       "      <th>0.2</th>\n",
       "      <td>9904.0</td>\n",
       "      <td>2760.0</td>\n",
       "    </tr>\n",
       "    <tr>\n",
       "      <th>71</th>\n",
       "      <th>0.2</th>\n",
       "      <td>9903.0</td>\n",
       "      <td>2721.0</td>\n",
       "    </tr>\n",
       "    <tr>\n",
       "      <th>73</th>\n",
       "      <th>0.2</th>\n",
       "      <td>9901.0</td>\n",
       "      <td>2779.0</td>\n",
       "    </tr>\n",
       "    <tr>\n",
       "      <th>78</th>\n",
       "      <th>0.2</th>\n",
       "      <td>9907.0</td>\n",
       "      <td>2685.0</td>\n",
       "    </tr>\n",
       "    <tr>\n",
       "      <th>80</th>\n",
       "      <th>0.2</th>\n",
       "      <td>9928.0</td>\n",
       "      <td>2844.0</td>\n",
       "    </tr>\n",
       "    <tr>\n",
       "      <th>87</th>\n",
       "      <th>0.2</th>\n",
       "      <td>9933.0</td>\n",
       "      <td>2821.0</td>\n",
       "    </tr>\n",
       "    <tr>\n",
       "      <th>88</th>\n",
       "      <th>0.2</th>\n",
       "      <td>9901.0</td>\n",
       "      <td>2683.0</td>\n",
       "    </tr>\n",
       "    <tr>\n",
       "      <th>89</th>\n",
       "      <th>0.2</th>\n",
       "      <td>9918.0</td>\n",
       "      <td>2766.0</td>\n",
       "    </tr>\n",
       "    <tr>\n",
       "      <th>92</th>\n",
       "      <th>0.2</th>\n",
       "      <td>9909.0</td>\n",
       "      <td>2660.0</td>\n",
       "    </tr>\n",
       "    <tr>\n",
       "      <th>94</th>\n",
       "      <th>0.2</th>\n",
       "      <td>9912.0</td>\n",
       "      <td>2719.0</td>\n",
       "    </tr>\n",
       "    <tr>\n",
       "      <th>98</th>\n",
       "      <th>0.2</th>\n",
       "      <td>9906.0</td>\n",
       "      <td>2655.0</td>\n",
       "    </tr>\n",
       "  </tbody>\n",
       "</table>\n",
       "</div>"
      ],
      "text/plain": [
       "              cum_infections  cum_deaths\n",
       "seed p_death                            \n",
       "1    0.2              9902.0      2682.0\n",
       "6    0.2              9908.0      2730.0\n",
       "14   0.2              9903.0      2721.0\n",
       "19   0.2              9907.0      2712.0\n",
       "25   0.2              9916.0      2762.0\n",
       "26   0.2              9910.0      2667.0\n",
       "27   0.2              9919.0      2735.0\n",
       "31   0.2              9901.0      2708.0\n",
       "32   0.2              9903.0      2733.0\n",
       "33   0.2              9903.0      2733.0\n",
       "36   0.2              9908.0      2666.0\n",
       "39   0.2              9920.0      2815.0\n",
       "41   0.2              9918.0      2753.0\n",
       "42   0.2              9901.0      2643.0\n",
       "45   0.2              9906.0      2673.0\n",
       "46   0.2              9902.0      2667.0\n",
       "48   0.2              9921.0      2786.0\n",
       "51   0.2              9918.0      2712.0\n",
       "52   0.2              9901.0      2679.0\n",
       "65   0.2              9919.0      2663.0\n",
       "68   0.2              9904.0      2760.0\n",
       "71   0.2              9903.0      2721.0\n",
       "73   0.2              9901.0      2779.0\n",
       "78   0.2              9907.0      2685.0\n",
       "80   0.2              9928.0      2844.0\n",
       "87   0.2              9933.0      2821.0\n",
       "88   0.2              9901.0      2683.0\n",
       "89   0.2              9918.0      2766.0\n",
       "92   0.2              9909.0      2660.0\n",
       "94   0.2              9912.0      2719.0\n",
       "98   0.2              9906.0      2655.0"
      ]
     },
     "execution_count": 18,
     "metadata": {},
     "output_type": "execute_result"
    }
   ],
   "source": [
    "res.summary.loc[res['cum_infections']>9900]"
   ]
  },
  {
   "cell_type": "markdown",
   "id": "43",
   "metadata": {},
   "source": [
    "We can then make a copy of the results and write the reduced summary dataframe back to that object"
   ]
  },
  {
   "cell_type": "code",
   "execution_count": 19,
   "id": "44",
   "metadata": {},
   "outputs": [],
   "source": [
    "res2 = res.copy()\n",
    "res2.summary = res.summary.loc[res['cum_infections']>9900]"
   ]
  },
  {
   "cell_type": "markdown",
   "id": "45",
   "metadata": {},
   "source": [
    "<div class=\"alert alert-warning\">    \n",
    "Unlike <code>sc.dcp()</code>, copying using the <code>.copy()</code> method only deep copies the summary dataframe. It does not duplicate the time series dataframes or the cache. For <code>Samples</code> objects, it is therefore generally preferable to use <code>.copy()</code>.\n",
    "</div>\n",
    "\n",
    "\n",
    "Now notice that there are fewer samples, and the seeds have been filtered"
   ]
  },
  {
   "cell_type": "code",
   "execution_count": 20,
   "id": "46",
   "metadata": {},
   "outputs": [
    {
     "data": {
      "text/plain": [
       "100"
      ]
     },
     "execution_count": 20,
     "metadata": {},
     "output_type": "execute_result"
    }
   ],
   "source": [
    "len(res)"
   ]
  },
  {
   "cell_type": "code",
   "execution_count": 21,
   "id": "47",
   "metadata": {},
   "outputs": [
    {
     "data": {
      "text/plain": [
       "31"
      ]
     },
     "execution_count": 21,
     "metadata": {},
     "output_type": "execute_result"
    }
   ],
   "source": [
    "len(res2)"
   ]
  },
  {
   "cell_type": "code",
   "execution_count": 22,
   "id": "48",
   "metadata": {},
   "outputs": [
    {
     "data": {
      "text/plain": [
       "array([ 1,  6, 14, 19, 25, 26, 27, 31, 32, 33, 36, 39, 41, 42, 45, 46, 48,\n",
       "       51, 52, 65, 68, 71, 73, 78, 80, 87, 88, 89, 92, 94, 98])"
      ]
     },
     "execution_count": 22,
     "metadata": {},
     "output_type": "execute_result"
    }
   ],
   "source": [
    "res2.seeds"
   ]
  },
  {
   "cell_type": "code",
   "execution_count": 23,
   "id": "49",
   "metadata": {},
   "outputs": [
    {
     "data": {
      "text/plain": [
       "Text(0, 0.5, 'Probability density')"
      ]
     },
     "execution_count": 23,
     "metadata": {},
     "output_type": "execute_result"
    },
    {
     "data": {
      "image/png": "[encoded data removed]",
      "text/plain": [
       "<Figure size 640x480 with 1 Axes>"
      ]
     },
     "metadata": {},
     "output_type": "display_data"
    }
   ],
   "source": [
    "plt.hist(res2['cum_infections'], density=True)\n",
    "plt.xlabel('Total infections')\n",
    "plt.ylabel('Probability density')"
   ]
  },
  {
   "cell_type": "markdown",
   "id": "50",
   "metadata": {},
   "source": [
    "### Applying functions and transformations"
   ]
  },
  {
   "cell_type": "markdown",
   "id": "51",
   "metadata": {},
   "source": [
    "Sometimes it might be necessary to calculate quantities that are derived from the time series dataframes. These could be simple scalar values, such as totals or averages that had not been computed ahead of time, or extracting values from each simulation at a particular point in time. As an alternative to writing a loop that iterates over the seeds, the `.apply()` method takes in a function and maps it to every dataframe. This makes it quick to construct lists or arrays with scalar values extracted from the time series. For example, suppose we wanted to extract the peak number of people infected from each simulation:"
   ]
  },
  {
   "cell_type": "code",
   "execution_count": 24,
   "id": "52",
   "metadata": {},
   "outputs": [
    {
     "data": {
      "text/plain": [
       "[3615.0,\n",
       " 3965.0,\n",
       " 3955.0,\n",
       " 3922.0,\n",
       " 3898.0,\n",
       " 3785.0,\n",
       " 3905.0,\n",
       " 3886.0,\n",
       " 3719.0,\n",
       " 3982.0,\n",
       " 3891.0,\n",
       " 3768.0,\n",
       " 3931.0,\n",
       " 3814.0,\n",
       " 4059.0,\n",
       " 3879.0,\n",
       " 3780.0,\n",
       " 3869.0,\n",
       " 3780.0,\n",
       " 3945.0,\n",
       " 3714.0,\n",
       " 3862.0,\n",
       " 3924.0,\n",
       " 3829.0,\n",
       " 3895.0,\n",
       " 3959.0,\n",
       " 3740.0,\n",
       " 3940.0,\n",
       " 3999.0,\n",
       " 4028.0,\n",
       " 3855.0,\n",
       " 3800.0,\n",
       " 3974.0,\n",
       " 4179.0,\n",
       " 3870.0,\n",
       " 3735.0,\n",
       " 3987.0,\n",
       " 3866.0,\n",
       " 4016.0,\n",
       " 4041.0,\n",
       " 3958.0,\n",
       " 3953.0,\n",
       " 3912.0,\n",
       " 3884.0,\n",
       " 3843.0,\n",
       " 3921.0,\n",
       " 3891.0,\n",
       " 3861.0,\n",
       " 3974.0,\n",
       " 3879.0,\n",
       " 3913.0,\n",
       " 3810.0,\n",
       " 3842.0,\n",
       " 3801.0,\n",
       " 3638.0,\n",
       " 3783.0,\n",
       " 4027.0,\n",
       " 3763.0,\n",
       " 3579.0,\n",
       " 3906.0,\n",
       " 3740.0,\n",
       " 3846.0,\n",
       " 4038.0,\n",
       " 3730.0,\n",
       " 3905.0,\n",
       " 3901.0,\n",
       " 3795.0,\n",
       " 3929.0,\n",
       " 3957.0,\n",
       " 3789.0,\n",
       " 4095.0,\n",
       " 3976.0,\n",
       " 3962.0,\n",
       " 4046.0,\n",
       " 3824.0,\n",
       " 3952.0,\n",
       " 3986.0,\n",
       " 3863.0,\n",
       " 3881.0,\n",
       " 3832.0,\n",
       " 4009.0,\n",
       " 3945.0,\n",
       " 3778.0,\n",
       " 3861.0,\n",
       " 4036.0,\n",
       " 4067.0,\n",
       " 3873.0,\n",
       " 3968.0,\n",
       " 3828.0,\n",
       " 3856.0,\n",
       " 3921.0,\n",
       " 3644.0,\n",
       " 3941.0,\n",
       " 3952.0,\n",
       " 3970.0,\n",
       " 3766.0,\n",
       " 3792.0,\n",
       " 3849.0,\n",
       " 3854.0,\n",
       " 3909.0]"
      ]
     },
     "execution_count": 24,
     "metadata": {},
     "output_type": "execute_result"
    }
   ],
   "source": [
    "peak_infections = lambda df: df['sir.n_infected'].max()\n",
    "res.apply(peak_infections)"
   ]
  },
  {
   "cell_type": "markdown",
   "id": "53",
   "metadata": {},
   "source": [
    "## Options when loading"
   ]
  },
  {
   "cell_type": "markdown",
   "id": "54",
   "metadata": {},
   "source": [
    "There are two options available when loading that can change how the `Samples` class interacts with the file on disk:\n",
    "\n",
    "- `memory_buffer` - copy the entire file into memory. This prevents the file from being locked on disk and allows scripts to be re-run and results regenerated while still running the analysis notebook. This defaults to `True` for convenience, but loading the entire file into memory can be problematic if the file is large (e.g., >1GB) in which case setting `memory_buffer=False` may be preferable\n",
    "- `preload` - Populate the cache in one step. This facilitates interactive usage of the analysis notebook by making the runtime of analysis functions predictable (since all results will be retrieved from the cache) at the expense of a long initial load time\n",
    "\n"
   ]
  },
  {
   "cell_type": "markdown",
   "id": "55",
   "metadata": {},
   "source": [
    "### Implementation details\n",
    "\n",
    "If the file is loaded from a memory buffer, the `._zipfile` attribute will be populated. A helper property `.zipfile` is used to access the buffer, so if caching is not used, `.zipfile` returns the actual file on disk rather than the buffer"
   ]
  },
  {
   "cell_type": "code",
   "execution_count": 25,
   "id": "56",
   "metadata": {},
   "outputs": [
    {
     "name": "stdout",
     "output_type": "stream",
     "text": [
      "<zipfile.ZipFile file=<_io.BytesIO object at 0x29a631ee0> mode='r'>\n",
      "<zipfile.ZipFile file=<_io.BytesIO object at 0x29a631ee0> mode='r'>\n"
     ]
    }
   ],
   "source": [
    "res = ss.Samples('results/0.2.zip', memory_buffer=True) # Copy the entire file into memory\n",
    "print(res._zipfile)\n",
    "print(res.zipfile)"
   ]
  },
  {
   "cell_type": "code",
   "execution_count": 26,
   "id": "57",
   "metadata": {},
   "outputs": [
    {
     "name": "stdout",
     "output_type": "stream",
     "text": [
      "None\n",
      "<zipfile.ZipFile filename='results/0.2.zip' mode='r'>\n"
     ]
    }
   ],
   "source": [
    "res = ss.Samples('results/0.2.zip', memory_buffer=False) # Copy the entire file into memory\n",
    "print(res._zipfile)\n",
    "print(res.zipfile)"
   ]
  },
  {
   "cell_type": "markdown",
   "id": "58",
   "metadata": {},
   "source": [
    "The dataframes associated with the individual dataframes are cached on access, so `pd.read_csv()` only needs to be called once. The cache starts out empty:"
   ]
  },
  {
   "cell_type": "code",
   "execution_count": 27,
   "id": "59",
   "metadata": {},
   "outputs": [
    {
     "data": {
      "text/plain": [
       "{}"
      ]
     },
     "execution_count": 27,
     "metadata": {},
     "output_type": "execute_result"
    }
   ],
   "source": [
    "res._cache"
   ]
  },
  {
   "cell_type": "markdown",
   "id": "60",
   "metadata": {},
   "source": [
    "When a dataframe is accessed, it is automatically stored in the cache:"
   ]
  },
  {
   "cell_type": "code",
   "execution_count": 28,
   "id": "61",
   "metadata": {},
   "outputs": [
    {
     "data": {
      "text/plain": [
       "dict_keys([0])"
      ]
     },
     "execution_count": 28,
     "metadata": {},
     "output_type": "execute_result"
    }
   ],
   "source": [
    "res[0]\n",
    "res._cache.keys()"
   ]
  },
  {
   "cell_type": "markdown",
   "id": "62",
   "metadata": {},
   "source": [
    "This means that iterating through the dataframes the first time can be slow (but in general, iterating over all dataframes is avoided in favour of either only using summary outputs, or accessing a subset of the runs)"
   ]
  },
  {
   "cell_type": "code",
   "execution_count": 29,
   "id": "63",
   "metadata": {},
   "outputs": [
    {
     "name": "stdout",
     "output_type": "stream",
     "text": [
      "Elapsed time: 67.1 ms\n"
     ]
    }
   ],
   "source": [
    "with sc.Timer():\n",
    "    for df in res:\n",
    "        continue"
   ]
  },
  {
   "cell_type": "code",
   "execution_count": 30,
   "id": "64",
   "metadata": {},
   "outputs": [
    {
     "name": "stdout",
     "output_type": "stream",
     "text": [
      "Elapsed time: 2.24 ms\n"
     ]
    }
   ],
   "source": [
    "with sc.Timer():\n",
    "    for df in res:\n",
    "        continue"
   ]
  },
  {
   "cell_type": "markdown",
   "id": "65",
   "metadata": {},
   "source": [
    "The `preload` option populates the entire cache in advance. This makes creating the `Samples` object slower, but operating on the dataframes afterwards will be consistently fast. This type of usage can be useful when wanting to load large files in the background and then interactively work with them afterwards. "
   ]
  },
  {
   "cell_type": "code",
   "execution_count": 31,
   "id": "66",
   "metadata": {},
   "outputs": [
    {
     "name": "stdout",
     "output_type": "stream",
     "text": [
      "Elapsed time: 78.9 ms\n"
     ]
    }
   ],
   "source": [
    "with sc.Timer():\n",
    "    res = ss.Samples('results/0.2.zip', preload=True)"
   ]
  },
  {
   "cell_type": "code",
   "execution_count": 32,
   "id": "67",
   "metadata": {},
   "outputs": [
    {
     "name": "stdout",
     "output_type": "stream",
     "text": [
      "Elapsed time: 2.62 ms\n"
     ]
    }
   ],
   "source": [
    "with sc.Timer():\n",
    "    for df in res:\n",
    "        continue"
   ]
  },
  {
   "cell_type": "code",
   "execution_count": 33,
   "id": "68",
   "metadata": {},
   "outputs": [
    {
     "name": "stdout",
     "output_type": "stream",
     "text": [
      "Elapsed time: 3.21 ms\n"
     ]
    }
   ],
   "source": [
    "with sc.Timer():\n",
    "    for df in res:\n",
    "        continue"
   ]
  },
  {
   "cell_type": "markdown",
   "id": "69",
   "metadata": {},
   "source": [
    "Together, these options provide some flexibility in terms of memory and time demands to suit analyses at various different scales."
   ]
  },
  {
   "cell_type": "markdown",
   "id": "70",
   "metadata": {},
   "source": [
    "## Running scenarios"
   ]
  },
  {
   "cell_type": "markdown",
   "id": "71",
   "metadata": {},
   "source": [
    "Suppose we wanted to compare a range of different `p_death` values and `initial` values (initial number of infections). We might define these runs as"
   ]
  },
  {
   "cell_type": "code",
   "execution_count": 34,
   "id": "72",
   "metadata": {},
   "outputs": [],
   "source": [
    "initials = np.arange(1,4)\n",
    "p_deaths = np.arange(0,1,0.25)"
   ]
  },
  {
   "cell_type": "markdown",
   "id": "73",
   "metadata": {},
   "source": [
    "Recall that our `run_sim()` function had an argument for `p_death`. We can extend this to include the `initial` parameter too. We can actually generalize this further by passing the parameters as keyword arguments to avoid needing to hard-code all of them. Note that we also need to add the `initial` value to the summary outputs:"
   ]
  },
  {
   "cell_type": "code",
   "execution_count": 35,
   "id": "74",
   "metadata": {},
   "outputs": [],
   "source": [
    "def get_sim(seed, **kwargs):\n",
    "    ppl = ss.People(10000)\n",
    "    net = ss.ndict(ss.RandomNet(n_contacts=ss.poisson(5)))\n",
    "    sir = ss.SIR(pars=kwargs)\n",
    "    sim = ss.Sim(people=ppl, networks=net, diseases=sir, rand_seed=seed)\n",
    "    sim.initialize(verbose=0)\n",
    "    return sim\n",
    "    \n",
    "def run_sim(seed, **kwargs):\n",
    "    sim = get_sim(seed, **kwargs)\n",
    "    sim.run(verbose=0)\n",
    "    df = sim.export_df()\n",
    "    \n",
    "    summary = {}\n",
    "    summary['seed'] = sim.pars['rand_seed']\n",
    "    summary['p_death']= sim.diseases[0].pars.p_death.mean()\n",
    "    summary['initial']= sim.diseases[0].pars.initial\n",
    "    summary['cum_infections'] = sum(sim.results.sir.new_infections)\n",
    "    summary['cum_deaths'] = sum(sim.results.new_deaths)\n",
    "    \n",
    "    return df, summary"
   ]
  },
  {
   "cell_type": "markdown",
   "id": "75",
   "metadata": {},
   "source": [
    "We can now easily run a set of scenarios with different values of `p_death` and save each one to a separate `Samples` object. Note that when we create the `Samples` objects now, we also want to specify that `'initial'` is one of the identifiers for the scenarios:"
   ]
  },
  {
   "cell_type": "code",
   "execution_count": 36,
   "id": "76",
   "metadata": {},
   "outputs": [],
   "source": [
    "# Clear the existing results\n",
    "for file_path in resultsdir.glob('*'):\n",
    "    file_path.unlink()"
   ]
  },
  {
   "cell_type": "code",
   "execution_count": 37,
   "id": "77",
   "metadata": {},
   "outputs": [],
   "source": [
    "# Run the sweep over initial and p_death\n",
    "n = 100\n",
    "seeds = np.arange(n)\n",
    "for initial in initials:\n",
    "    for p_death in p_deaths:\n",
    "        outputs = [run_sim(seed, initial=initial, p_death=p_death) for seed in seeds]\n",
    "        ss.Samples.new(resultsdir, outputs, [\"p_death\",\"initial\"])"
   ]
  },
  {
   "cell_type": "markdown",
   "id": "78",
   "metadata": {},
   "source": [
    "The results folder now contains a collection of saved `Samples` objects. Notice how the automatically selected file names now contain both the `p_death` value and the `initial` value, because they were both specified as identifiers. We can load one of these objects in to see how these identifiers are stored and accessed inside the `Samples` class:"
   ]
  },
  {
   "cell_type": "code",
   "execution_count": 38,
   "id": "79",
   "metadata": {},
   "outputs": [
    {
     "data": {
      "text/plain": [
       "[PosixPath('results/0.75-1.zip'),\n",
       " PosixPath('results/0.75-3.zip'),\n",
       " PosixPath('results/0.75-2.zip'),\n",
       " PosixPath('results/0.0-2.zip'),\n",
       " PosixPath('results/0.0-3.zip'),\n",
       " PosixPath('results/0.0-1.zip'),\n",
       " PosixPath('results/0.25-3.zip'),\n",
       " PosixPath('results/0.25-2.zip'),\n",
       " PosixPath('results/0.25-1.zip'),\n",
       " PosixPath('results/0.5-3.zip'),\n",
       " PosixPath('results/0.5-2.zip'),\n",
       " PosixPath('results/0.5-1.zip')]"
      ]
     },
     "execution_count": 38,
     "metadata": {},
     "output_type": "execute_result"
    }
   ],
   "source": [
    "list(resultsdir.iterdir())"
   ]
  },
  {
   "cell_type": "code",
   "execution_count": 39,
   "id": "80",
   "metadata": {},
   "outputs": [],
   "source": [
    "res = ss.Samples('results/0.25-2.zip')"
   ]
  },
  {
   "cell_type": "markdown",
   "id": "81",
   "metadata": {},
   "source": [
    "The 'id' of a `Samples` object is a dictionary of the identifiers, which makes it easy to access the input parameters associated with a set of scenario runs:"
   ]
  },
  {
   "cell_type": "code",
   "execution_count": 40,
   "id": "82",
   "metadata": {},
   "outputs": [
    {
     "data": {
      "text/plain": [
       "{'p_death': 0.25, 'initial': 2}"
      ]
     },
     "execution_count": 40,
     "metadata": {},
     "output_type": "execute_result"
    }
   ],
   "source": [
    "res.id"
   ]
  },
  {
   "cell_type": "markdown",
   "id": "83",
   "metadata": {},
   "source": [
    "The 'identifier' is a tuple of these values, which is suitable for use as a dictionary key. This can be useful for accumulating and comparing variables across scenarios"
   ]
  },
  {
   "cell_type": "code",
   "execution_count": 41,
   "id": "84",
   "metadata": {},
   "outputs": [
    {
     "data": {
      "text/plain": [
       "(0.25, 2)"
      ]
     },
     "execution_count": 41,
     "metadata": {},
     "output_type": "execute_result"
    }
   ],
   "source": [
    "res.identifier"
   ]
  },
  {
   "cell_type": "markdown",
   "id": "85",
   "metadata": {},
   "source": [
    "### Loading multiple scenarios\n",
    "\n",
    "We saw above that we now have a directory full of `.zip` files corresponding to the various scenario runs. These can be accessed using the `Dataset` class, which facilitates accessing multiple instances of `Samples`. We can pass the folder containing the results to the `Dataset` constructor to load them all:"
   ]
  },
  {
   "cell_type": "code",
   "execution_count": 42,
   "id": "86",
   "metadata": {},
   "outputs": [
    {
     "data": {
      "text/plain": [
       "<Dataset:\n",
       "\t'p_death':[0.0, 0.25, 0.5, 0.75]\n",
       "\t'initial':[1, 2, 3]\n",
       ">"
      ]
     },
     "execution_count": 42,
     "metadata": {},
     "output_type": "execute_result"
    }
   ],
   "source": [
    "results = ss.Dataset(resultsdir)\n",
    "results"
   ]
  },
  {
   "cell_type": "markdown",
   "id": "87",
   "metadata": {},
   "source": [
    "The `.ids` attribute lists all of the values available across scenarios in the results folder:"
   ]
  },
  {
   "cell_type": "code",
   "execution_count": 43,
   "id": "88",
   "metadata": {},
   "outputs": [
    {
     "data": {
      "text/plain": [
       "{'p_death': [0.0, 0.25, 0.5, 0.75], 'initial': [1, 2, 3]}"
      ]
     },
     "execution_count": 43,
     "metadata": {},
     "output_type": "execute_result"
    }
   ],
   "source": [
    "results.ids"
   ]
  },
  {
   "cell_type": "markdown",
   "id": "89",
   "metadata": {},
   "source": [
    "The individual results can be accessed by indexing the `Dataset` instance using the values of the identifiers. For example:"
   ]
  },
  {
   "cell_type": "code",
   "execution_count": 44,
   "id": "90",
   "metadata": {},
   "outputs": [
    {
     "data": {
      "text/plain": [
       "<Samples 0.25-2, 100 seeds>"
      ]
     },
     "execution_count": 44,
     "metadata": {},
     "output_type": "execute_result"
    }
   ],
   "source": [
    "results[0.25,2]"
   ]
  },
  {
   "cell_type": "markdown",
   "id": "91",
   "metadata": {},
   "source": [
    "This indexing operation is sensitive to the order in which the identifiers are specified. The `.get()` method allows you to specify them as key-value pairs"
   ]
  },
  {
   "cell_type": "code",
   "execution_count": 45,
   "id": "92",
   "metadata": {},
   "outputs": [
    {
     "data": {
      "text/plain": [
       "<Samples 0.25-2, 100 seeds>"
      ]
     },
     "execution_count": 45,
     "metadata": {},
     "output_type": "execute_result"
    }
   ],
   "source": [
    "results.get(initial=2, p_death=0.25)"
   ]
  },
  {
   "cell_type": "markdown",
   "id": "93",
   "metadata": {},
   "source": [
    "Iterating over the `Dataset` will iterate over the `Samples` instances contained within it"
   ]
  },
  {
   "cell_type": "code",
   "execution_count": 46,
   "id": "94",
   "metadata": {},
   "outputs": [
    {
     "name": "stdout",
     "output_type": "stream",
     "text": [
      "<Samples 0.0-1, 100 seeds>\n",
      "<Samples 0.0-2, 100 seeds>\n",
      "<Samples 0.0-3, 100 seeds>\n",
      "<Samples 0.25-1, 100 seeds>\n",
      "<Samples 0.25-2, 100 seeds>\n",
      "<Samples 0.25-3, 100 seeds>\n",
      "<Samples 0.5-1, 100 seeds>\n",
      "<Samples 0.5-2, 100 seeds>\n",
      "<Samples 0.5-3, 100 seeds>\n",
      "<Samples 0.75-1, 100 seeds>\n",
      "<Samples 0.75-2, 100 seeds>\n",
      "<Samples 0.75-3, 100 seeds>\n"
     ]
    }
   ],
   "source": [
    "for res in results:\n",
    "    print(res)"
   ]
  },
  {
   "cell_type": "markdown",
   "id": "95",
   "metadata": {},
   "source": [
    "This can be used to extract and compare values across scenarios. For example, we could consider the use case of making a plot that compares total deaths across scenarios:"
   ]
  },
  {
   "cell_type": "code",
   "execution_count": 47,
   "id": "96",
   "metadata": {},
   "outputs": [
    {
     "data": {
      "text/plain": [
       "Text(0, 0.5, 'Scenario')"
      ]
     },
     "execution_count": 47,
     "metadata": {},
     "output_type": "execute_result"
    },
    {
     "data": {
      "image/png": "[encoded data removed]",
      "text/plain": [
       "<Figure size 640x480 with 1 Axes>"
      ]
     },
     "metadata": {},
     "output_type": "display_data"
    }
   ],
   "source": [
    "labels = []\n",
    "y = []\n",
    "yerr = []\n",
    "\n",
    "for res in results:\n",
    "    labels.append(res.id)\n",
    "    y.append(res['cum_deaths'].median())\n",
    "\n",
    "plt.barh(np.arange(len(results)),y, tick_label=labels)\n",
    "plt.xlabel('Median total deaths');\n",
    "plt.ylabel('Scenario')"
   ]
  },
  {
   "cell_type": "markdown",
   "id": "97",
   "metadata": {},
   "source": [
    "### Filtering scenarios\n",
    "\n",
    "Often plots need to be generated for a subset of scenarios e.g., for sensitivity analysis or to otherwise compare specific scenarios. `Dataset.filter` returns a new `Dataset` containing a subset of the results:"
   ]
  },
  {
   "cell_type": "code",
   "execution_count": 48,
   "id": "98",
   "metadata": {},
   "outputs": [
    {
     "name": "stdout",
     "output_type": "stream",
     "text": [
      "<Samples 0.0-2, 100 seeds>\n",
      "<Samples 0.25-2, 100 seeds>\n",
      "<Samples 0.5-2, 100 seeds>\n",
      "<Samples 0.75-2, 100 seeds>\n"
     ]
    }
   ],
   "source": [
    "for res in results.filter(initial=2):\n",
    "    print(res)"
   ]
  },
  {
   "cell_type": "code",
   "execution_count": 49,
   "id": "99",
   "metadata": {},
   "outputs": [
    {
     "name": "stdout",
     "output_type": "stream",
     "text": [
      "<Samples 0.25-1, 100 seeds>\n",
      "<Samples 0.25-2, 100 seeds>\n",
      "<Samples 0.25-3, 100 seeds>\n"
     ]
    }
   ],
   "source": [
    "for res in results.filter(p_death=0.25):\n",
    "    print(res)"
   ]
  },
  {
   "cell_type": "markdown",
   "id": "100",
   "metadata": {},
   "source": [
    "This is also a quick and efficient operation, so you can easily embed filtering commands inside the analysis to select subsets of the scenarios for plotting and other output generation. For instance:"
   ]
  },
  {
   "cell_type": "code",
   "execution_count": 50,
   "id": "101",
   "metadata": {},
   "outputs": [
    {
     "data": {
      "text/plain": [
       "Text(0, 0.5, 'New deaths')"
      ]
     },
     "execution_count": 50,
     "metadata": {},
     "output_type": "execute_result"
    },
    {
     "data": {
      "image/png": "[encoded data removed]",
      "text/plain": [
       "<Figure size 640x480 with 1 Axes>"
      ]
     },
     "metadata": {},
     "output_type": "display_data"
    }
   ],
   "source": [
    "for res, color in zip(results.filter(initial=2), sc.gridcolors(4)):\n",
    "    plt.plot(res[0].index, np.median([df['new_deaths'] for df in res], axis=0), color=color, label=f'p_death = {res.id[\"p_death\"]}')\n",
    "plt.legend()\n",
    "plt.title('Sensitivity to p_death (initial = 2)')\n",
    "plt.xlabel('Year')\n",
    "plt.ylabel('New deaths')"
   ]
  },
  {
   "cell_type": "code",
   "execution_count": 51,
   "id": "102",
   "metadata": {},
   "outputs": [
    {
     "data": {
      "text/plain": [
       "Text(0, 0.5, 'New deaths')"
      ]
     },
     "execution_count": 51,
     "metadata": {},
     "output_type": "execute_result"
    },
    {
     "data": {
      "image/png": "[encoded data removed]",
      "text/plain": [
       "<Figure size 640x480 with 1 Axes>"
      ]
     },
     "metadata": {},
     "output_type": "display_data"
    }
   ],
   "source": [
    "for res, color in zip(results.filter(p_death=0.25), sc.gridcolors(3)):\n",
    "    plt.plot(res[0].index, np.median([df['new_deaths'] for df in res], axis=0), color=color, label=f'initial = {res.id[\"initial\"]}')\n",
    "plt.legend()\n",
    "plt.title('Sensitivity to initial infections (p_death = 0.25)')\n",
    "plt.xlabel('Year')\n",
    "plt.ylabel('New deaths')"
   ]
  },
  {
   "cell_type": "code",
   "execution_count": null,
   "id": "103",
   "metadata": {},
   "outputs": [],
   "source": []
  }
 ],
 "metadata": {
  "kernelspec": {
   "display_name": "Python [conda env:atomica311]",
   "language": "python",
   "name": "conda-env-atomica311-py"
  },
  "language_info": {
   "codemirror_mode": {
    "name": "ipython",
    "version": 3
   },
   "file_extension": ".py",
   "mimetype": "text/x-python",
   "name": "python",
   "nbconvert_exporter": "python",
   "pygments_lexer": "ipython3",
   "version": "3.11.7"
  },
  "toc": {
   "base_numbering": 1,
   "nav_menu": {},
   "number_sections": true,
   "sideBar": true,
   "skip_h1_title": false,
   "title_cell": "Table of Contents",
   "title_sidebar": "Contents",
   "toc_cell": false,
   "toc_position": {
    "height": "calc(100% - 180px)",
    "left": "10px",
    "top": "150px",
    "width": "401.8px"
   },
   "toc_section_display": true,
   "toc_window_display": true
  }
 },
 "nbformat": 4,
 "nbformat_minor": 5
}
