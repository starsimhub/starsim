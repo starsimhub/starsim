{
 "cells": [
  {
   "cell_type": "code",
   "execution_count": null,
   "metadata": {},
   "outputs": [],
   "source": []
  },
  {
   "cell_type": "code",
   "execution_count": 17,
   "metadata": {},
   "outputs": [],
   "source": [
    "#Install the stisim library if not already installed\n",
    "\n",
    "#  !pip install stisim\n"
   ]
  },
  {
   "cell_type": "code",
   "execution_count": 18,
   "metadata": {},
   "outputs": [],
   "source": [
    "\n",
    " #Import the required module\n",
    "import stisim as ss\n"
   ]
  },
  {
   "cell_type": "markdown",
   "metadata": {},
   "source": [
    "\n",
    "# **Vignette 01: \"Hello world\" single STI**\n",
    " \n",
    " **DECISIONS:**\n",
    " - `sim` cannot be called empty, needs modules\n",
    " - Module parameters can be set via the sim's par dict or via the module\n",
    "\n",
    " **TO RESOLVE:**\n",
    " - What are the default network(s)?\n",
    " - What are the default demographics?\n",
    " - Can the modules be added by string? (see CK.1.1)\n",
    " - How should the people parameters be changed? via the par dict (RS.1.2.3, CK.1.2.3) or via a people constructor (RA.1.2.3)?\n"
   ]
  },
  {
   "cell_type": "code",
   "execution_count": null,
   "metadata": {},
   "outputs": [],
   "source": [
    "\n",
    "#  **@RomeshA**\n",
    " \n",
    "#  - RA.1.1 Simplest\n",
    "\n",
    "sim = ss.Sim(modules=ss.HPV())\n",
    "sim = ss.Sim(modules='hpv')\n",
    "\n",
    "#  - RA.1.2 Par modification\n",
    "   # - RA.1.2.1 Changing module pars via the module\n",
    "sim = ss.Sim(modules=ss.HPV(eff_condoms=0.5))\n",
    "sim = ss.Sim(modules=ss.HPV(pars={'eff_condoms': 0.5}))   # Depends on other module arguments\n",
    "\n",
    "   # - RA.1.2.2 Changing module pars via the sim par dict\n",
    "sim = ss.Sim(modules=ss.HPV(), pars={'hpv': {'eff_condoms': 0.5}})\n"
   ]
  },
  {
   "cell_type": "markdown",
   "metadata": {},
   "source": [
    "\n",
    "   - RA.1.2.3 Changing people\n",
    "     - I am thinking here that we could have a standard people generation function and then\n",
    "     - If `people` is not a `People` instance, then it is instead some kwargs that are passed\n",
    "     - To this function. Structurally then this would be the same mechanism people could use to implement\n",
    "     - Some of the workflows below. It also makes it very clear which parameters are module parameters and\n",
    "     - Which are people parameters\n",
    "     \n"
   ]
  },
  {
   "cell_type": "code",
   "execution_count": 1,
   "metadata": {},
   "outputs": [
    {
     "ename": "NameError",
     "evalue": "name 'ss' is not defined",
     "output_type": "error",
     "traceback": [
      "\u001b[1;31m---------------------------------------------------------------------------\u001b[0m",
      "\u001b[1;31mNameError\u001b[0m                                 Traceback (most recent call last)",
      "Cell \u001b[1;32mIn[1], line 1\u001b[0m\n\u001b[1;32m----> 1\u001b[0m sim \u001b[38;5;241m=\u001b[39m \u001b[43mss\u001b[49m\u001b[38;5;241m.\u001b[39mSim(modules\u001b[38;5;241m=\u001b[39mss\u001b[38;5;241m.\u001b[39mHPV(), people\u001b[38;5;241m=\u001b[39m{\u001b[38;5;124m'\u001b[39m\u001b[38;5;124mn\u001b[39m\u001b[38;5;124m'\u001b[39m: \u001b[38;5;241m10000\u001b[39m})\n\u001b[0;32m      3\u001b[0m    \u001b[38;5;66;03m# - \"Hello world\" single STI (HPV) with a modified number of contacts\u001b[39;00m\n\u001b[0;32m      4\u001b[0m sim \u001b[38;5;241m=\u001b[39m ss\u001b[38;5;241m.\u001b[39mSim(modules\u001b[38;5;241m=\u001b[39mss\u001b[38;5;241m.\u001b[39mHPV(), people\u001b[38;5;241m=\u001b[39m{\u001b[38;5;124m'\u001b[39m\u001b[38;5;124mn\u001b[39m\u001b[38;5;124m'\u001b[39m: \u001b[38;5;241m10000\u001b[39m, \u001b[38;5;124m'\u001b[39m\u001b[38;5;124mn_partners\u001b[39m\u001b[38;5;124m'\u001b[39m: {\u001b[38;5;124m'\u001b[39m\u001b[38;5;124mcasual\u001b[39m\u001b[38;5;124m'\u001b[39m: \u001b[38;5;241m2\u001b[39m}})\n",
      "\u001b[1;31mNameError\u001b[0m: name 'ss' is not defined"
     ]
    }
   ],
   "source": [
    "sim = ss.Sim(modules=ss.HPV(), people={'n': 10000})\n",
    "\n",
    "   # - \"Hello world\" single STI (HPV) with a modified number of contacts\n",
    "sim = ss.Sim(modules=ss.HPV(), people={'n': 10000, 'n_partners': {'casual': 2}})\n",
    "\n",
    "   # - NB. this is specific to STIsim's people generation function i.e.\n",
    "def make_people(n, n_partners):\n",
    "    people = ss.People(n=n)\n",
    "    print(\"...\")\n",
    "    return people\n"
   ]
  },
  {
   "cell_type": "code",
   "execution_count": null,
   "metadata": {},
   "outputs": [],
   "source": [
    "\n",
    "#  **@pausz**\n",
    "#  - PSL.1.1 Simplest\n",
    "sim = ss.Sim(modules=ss.hiv())\n",
    "\n",
    "#  **@cliffckerr**\n",
    "#  - CK.1.1 Simplest\n",
    "sim = ss.Sim(modules='hpv')\n",
    "\n",
    "#  - CK.1.2 Par modification\n",
    "#    - CK.1.2.1 Changing module pars via the module\n",
    "\n",
    "    #  - Create some genotype pars\n",
    "genotype_pars = {\n",
    "    16: {\n",
    "        'sev_fn': dict(form='logf2', k=0.25, x_infl=0, ttc=30)\n",
    "    }\n",
    "}\n"
   ]
  },
  {
   "cell_type": "code",
   "execution_count": null,
   "metadata": {},
   "outputs": [],
   "source": [
    "\n",
    "hpv = ss.HPV(genotype_pars=genotype_pars)\n",
    "sim = ss.Sim(modules=hpv)\n",
    "\n",
    "#    - CK.1.2.2 Changing module pars via the sim par dict\n",
    "#      - See CK.2.2.2\n",
    "\n",
    "#    - CK.1.2.3 Changing people\n",
    "pars = dict(n_agents=5e3)\n",
    "sim = ss.Sim(pars=pars)\n"
   ]
  },
  {
   "cell_type": "code",
   "execution_count": null,
   "metadata": {},
   "outputs": [],
   "source": [
    "\n",
    "#  **@robynstuart**\n",
    "#  - RS.1.1 Simplest\n",
    "sim = ss.Sim(modules=ss.syphylis())\n",
    "\n",
    "#  - RS.1.2 Par modification\n",
    "#    - RS.1.2.1: via the sim's par dict\n",
    "pars = dict(n_agents=100, syphilis=dict(init_prev=0.02))\n",
    "# sim = ss.Sim(pars=pars, modules=ss.syphilis())   Ensure that any module keys in the parameters are added correctly\n"
   ]
  },
  {
   "cell_type": "markdown",
   "metadata": {},
   "source": [
    "\n",
    "   - RS.1.2.2: via the module par dict\n",
    "   \n"
   ]
  },
  {
   "cell_type": "code",
   "execution_count": null,
   "metadata": {},
   "outputs": [],
   "source": [
    "syph_pars = dict(init_prev=0.02)\n",
    "syph = ss.syphilis(pars=syph_pars)\n",
    "sim = ss.Sim(modules=syph)\n",
    "\n",
    "# - RS.1.2.3 Changing people\n",
    "sim = ss.Sim(people=ss.People(100), modules=ss.syphilis())\n",
    "sim = ss.Sim(pars=dict(n_agents=100), modules=ss.syphilis())\n"
   ]
  }
 ],
 "metadata": {
  "kernelspec": {
   "display_name": "venv",
   "language": "python",
   "name": "python3"
  },
  "language_info": {
   "codemirror_mode": {
    "name": "ipython",
    "version": 3
   },
   "file_extension": ".py",
   "mimetype": "text/x-python",
   "name": "python",
   "nbconvert_exporter": "python",
   "pygments_lexer": "ipython3",
   "version": "3.9.13"
  }
 },
 "nbformat": 4,
 "nbformat_minor": 2
}
