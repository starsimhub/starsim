{
 "cells": [
  {
   "cell_type": "code",
   "execution_count": null,
   "metadata": {},
   "outputs": [],
   "source": [
    "# Install the stisim library if not already installed\n",
    "# !pip install stisim\n"
   ]
  },
  {
   "cell_type": "code",
   "execution_count": null,
   "metadata": {},
   "outputs": [],
   "source": [
    "\n",
    "# Import the required module\n",
    "import stisim as ss\n"
   ]
  },
  {
   "cell_type": "markdown",
   "metadata": {},
   "source": [
    "\n",
    "# **Vignette 02: \"Hello world\" multiple STI**\n",
    "\n",
    "**DECISIONS:**\n",
    "- All examples follow similar syntax for specifying more than one disease\n",
    "\n",
    "**TO RESOLVE:**\n",
    "- What are the default connectors?\n"
   ]
  },
  {
   "cell_type": "code",
   "execution_count": null,
   "metadata": {},
   "outputs": [],
   "source": [
    "\n",
    "# **@RomeshA**\n",
    "# \n",
    "# - RA.2.1 Simplest\n",
    "sim = ss.Sim(modules=[ss.HPV(), ss.Gonorrhea()])\n"
   ]
  },
  {
   "cell_type": "code",
   "execution_count": null,
   "metadata": {},
   "outputs": [],
   "source": [
    "\n",
    "# - RA.2.2.1 Changing module pars via the module\n",
    "hpv_pars = {'eff_condoms': 0.5}\n",
    "hpv = ss.HPV(**hpv_pars)\n",
    "gonorrhea_pars = {'eff_condoms': 0.5}\n",
    "gonorrhea = ss.Gonorrhea(**gonorrhea_pars)\n",
    "sim = ss.Sim(modules=[hpv, gonorrhea])\n"
   ]
  },
  {
   "cell_type": "code",
   "execution_count": null,
   "metadata": {},
   "outputs": [],
   "source": [
    "\n",
    "# - RA.2.2.2 Changing module pars via the sim par dict\n",
    "#   - See RA.1.2.2 in v01_single.py\n",
    "\n",
    "# **@cliffckerr**\n",
    "# \n",
    "# - CK.2.1 Simplest\n",
    "sim = ss.Sim(modules=['hiv', 'gonorrhea'])\n",
    "\n",
    "# - CK.2.2.1 Changing module pars via the module\n",
    "sti_pars = dict(\n",
    "    n_agents=10e3,\n",
    "    start=1970,\n",
    "    end=2020,\n",
    ")\n",
    "hiv_pars = dict(\n",
    "    cd4_pars=dict(\n",
    "        initial=500,\n",
    "        rate=50,\n",
    "    ),\n",
    ")"
   ]
  },
  {
   "cell_type": "code",
   "execution_count": null,
   "metadata": {},
   "outputs": [],
   "source": [
    "\n",
    "# Create modules first\n",
    "hiv = ss.HIV(hiv_pars)\n",
    "gon = ss.Gonorrhea(transm2f=4.0)\n"
   ]
  },
  {
   "cell_type": "code",
   "execution_count": null,
   "metadata": {},
   "outputs": [],
   "source": [
    "\n",
    "# Create and run the sim\n",
    "sim = ss.Sim(sti_pars, modules=[hiv, gon])\n",
    "sim.initialize()  # Happens automatically as part of sim.run(), but can call explicitly\n",
    "assert id(sim.pars.hiv) == id(sim.hiv.pars)  # These are the same object after initialization\n"
   ]
  },
  {
   "cell_type": "code",
   "execution_count": null,
   "metadata": {},
   "outputs": [],
   "source": [
    "\n",
    "# - CK.2.2.2 Changing module pars via the sim par dict\n",
    "\n",
    "pars = dict(\n",
    "    n_agents=10e3,\n",
    "    start=1970,\n",
    "    end=2020,\n",
    "    hiv=dict(\n",
    "        cd4_pars=dict(\n",
    "            initial=500,\n",
    "            rate=50,\n",
    "        ),\n",
    "    ),\n",
    "    gonorrhea=dict(\n",
    "        transm2f=4.0,\n",
    "    ),\n",
    ")\n"
   ]
  },
  {
   "cell_type": "code",
   "execution_count": null,
   "metadata": {},
   "outputs": [],
   "source": [
    "\n",
    "sim = ss.Sim(pars, modules=['hiv', 'gonorrhea'])\n",
    "\n",
    "# **@robynstuart**\n",
    "# \n"
   ]
  },
  {
   "cell_type": "markdown",
   "metadata": {},
   "source": [
    "# - RS.2.1 Simplest"
   ]
  },
  {
   "cell_type": "code",
   "execution_count": null,
   "metadata": {},
   "outputs": [],
   "source": [
    "\n",
    "sim = ss.Sim(modules=[ss.syphylis(), ss.hiv()])\n"
   ]
  },
  {
   "cell_type": "markdown",
   "metadata": {},
   "source": [
    "\n",
    "- RS.2.2.1 Changing module pars via the module\n"
   ]
  },
  {
   "cell_type": "code",
   "execution_count": null,
   "metadata": {},
   "outputs": [],
   "source": [
    "\n",
    "syph_pars = dict(init_prev=0.02)\n",
    "hiv_pars = dict(init_prev=0.02)\n",
    "syph = ss.syphilis(pars=syph_pars)\n",
    "hiv = ss.hiv(pars=hiv_pars)\n",
    "sim = ss.Sim(modules=[syph, hiv])\n",
    "sim.initialize()  # Adds modules and parameters\n",
    "# Parameters can be read like a conditional probability, i.e. prob(transmitting hiv | syphilis infection) = 2\n",
    "sim['hiv']['syphilis']['rel_trans'] = 4\n",
    "\n",
    "# - RS.2.2.2 Changing module pars via the sim par dict\n",
    "#   - See RS.1.2.2\n"
   ]
  }
 ],
 "metadata": {
  "language_info": {
   "name": "python"
  }
 },
 "nbformat": 4,
 "nbformat_minor": 2
}
